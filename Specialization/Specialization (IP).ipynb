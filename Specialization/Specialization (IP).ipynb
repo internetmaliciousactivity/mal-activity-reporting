{
 "cells": [
  {
   "cell_type": "markdown",
   "metadata": {},
   "source": [
    "# Raw Extraction of required data "
   ]
  },
  {
   "cell_type": "markdown",
   "metadata": {},
   "source": [
    "Note that the raw extraction of required data takes a very long time, the import of pre-computed values is avaliable at the Plotting Code section.\n",
    "\n",
    "We are performing an evaluation of the specialisation of host within the VT Blacklist, as such during the data extraction process, we do not consider the unlabelled reports."
   ]
  },
  {
   "cell_type": "code",
   "execution_count": 1,
   "metadata": {},
   "outputs": [],
   "source": [
    "import pandas as pd\n",
    "import numpy as np\n",
    "import csv\n",
    "from datetime import datetime"
   ]
  },
  {
   "cell_type": "code",
   "execution_count": 2,
   "metadata": {},
   "outputs": [],
   "source": [
    "# Defining the list indexes\n",
    "indexes = {\n",
    "    'Malware':0,\n",
    "    'Phishing':1,\n",
    "    'Exploits':2,\n",
    "    'Fraudlent Services':3,\n",
    "    'Unwanted Programs':4,\n",
    "    'Spammers':5,\n",
    "    'Unlabelled':6,\n",
    "}\n",
    "\n",
    "# Unlabelled report, IP relabel mapping.\n",
    "with open(\"./../IP_activity_relabel.csv\") as f:\n",
    "    ip_activity_relabel = dict(filter(None, csv.reader(f)))"
   ]
  },
  {
   "cell_type": "code",
   "execution_count": 3,
   "metadata": {},
   "outputs": [],
   "source": [
    "# Convert date fields back into a python date object\n",
    "date_calculation_cache = {}\n",
    "def make_date(day, month, year):\n",
    "    date = '%s-%s-%s' % (day, month, year)\n",
    "    # Check cache before recomputation\n",
    "    if date not in date_calculation_cache:\n",
    "        iso_cal = datetime.strptime(date, \"%d-%m-%Y\").isocalendar()\n",
    "        date_calculation_cache[date] = iso_cal\n",
    "    else:\n",
    "        iso_cal = date_calculation_cache[date]\n",
    "    return iso_cal"
   ]
  },
  {
   "cell_type": "code",
   "execution_count": 4,
   "metadata": {
    "scrolled": false
   },
   "outputs": [
    {
     "name": "stdout",
     "output_type": "stream",
     "text": [
      "Spammers\n",
      "./../Datastore/Spammers_reports.csv\n",
      "Malware\n",
      "./../Datastore/Malware_reports.csv\n",
      "Exploits\n",
      "./../Datastore/Exploits_reports.csv\n",
      "Phishing\n",
      "./../Datastore/Phishing_reports.csv\n",
      "Fraudlent Services\n",
      "./../Datastore/Fraudlent Services_reports.csv\n",
      "Unwanted Programs\n",
      "./../Datastore/Unwanted Programs_reports.csv\n",
      "Unlabelled\n",
      "Finished\n"
     ]
    }
   ],
   "source": [
    "host_attacks = {attk: {} for attk in indexes}\n",
    "host_attacks['Labelled'] = {}\n",
    "\n",
    "for attack in indexes:\n",
    "    print(attack)\n",
    "    files = []\n",
    "    if attack == 'Unlabelled':\n",
    "        continue\n",
    "    else:\n",
    "        files.append('./../Datastore/%s_reports.csv'%attack)\n",
    "    #########################\n",
    "    \n",
    "    # Process the files\n",
    "    for file_name in files:\n",
    "        print(file_name)\n",
    "        with open(file_name) as data_file:\n",
    "            filereader = csv.reader(data_file)\n",
    "            for report in filereader:\n",
    "                try:\n",
    "                    # Unpack Row information\n",
    "                    splits = report[0:9]\n",
    "\n",
    "                    day = splits[5]\n",
    "                    month = splits[6]\n",
    "                    year = splits[7]\n",
    "                    datasource = splits[8]        \n",
    "                    org = splits[3]\n",
    "                    asn = splits[2]\n",
    "                    cc = splits[1]\n",
    "                    ip = splits[0]\n",
    "                    \n",
    "                    # Compute week bins\n",
    "                    iso_cal = make_date(day, month, year)\n",
    "                    year_num, week_num, weekday_num = iso_cal\n",
    "\n",
    "                    # Invalid Timestamp, likely 0.\n",
    "                    if year_num == 1970:\n",
    "                        continue\n",
    "                    week = (year_num-1970)*52 + week_num\n",
    "\n",
    "                except Exception, e: \n",
    "                    print(str(e))\n",
    "\n",
    "                if ip is None or ip == '':\n",
    "                    print(\"Skipping invalid IP: %s\" % ip)\n",
    "                    continue\n",
    "\n",
    "                # No relabelling\n",
    "                attack_label = attack\n",
    "                    \n",
    "                # Selected host for scrutiny\n",
    "                host = ip\n",
    "                # Initialise the host holder\n",
    "                if host not in host_attacks[attack_label]:\n",
    "                    host_attacks[attack_label][host] = 0\n",
    "\n",
    "                # Modify the host value\n",
    "                host_attacks[attack_label][host] += 1\n",
    "\n",
    "print('Finished')"
   ]
  },
  {
   "cell_type": "code",
   "execution_count": 5,
   "metadata": {},
   "outputs": [],
   "source": [
    "# Turn into a pandas array\n",
    "df = pd.DataFrame.from_dict(host_attacks, orient='index')\n",
    "df = df.fillna(0)\n",
    "df = df.transpose()"
   ]
  },
  {
   "cell_type": "code",
   "execution_count": 6,
   "metadata": {},
   "outputs": [],
   "source": [
    "# Save the DataFrame\n",
    "df.to_csv('./data/ip_VTbl_reports.csv')"
   ]
  },
  {
   "cell_type": "markdown",
   "metadata": {},
   "source": [
    "# Specialization Entropies"
   ]
  },
  {
   "cell_type": "markdown",
   "metadata": {},
   "source": [
    "## Remove hosts with no labelled samples"
   ]
  },
  {
   "cell_type": "code",
   "execution_count": 7,
   "metadata": {},
   "outputs": [],
   "source": [
    "import pandas as pd\n",
    "host_attack_frame = pd.read_csv('./data/ip_VTbl_reports.csv', index_col=0)"
   ]
  },
  {
   "cell_type": "code",
   "execution_count": 8,
   "metadata": {},
   "outputs": [],
   "source": [
    "# As the attack frame may contain IPs with only unlabelled entries\n",
    "# We remove them from the dataframe\n",
    "a = host_attack_frame\n",
    "if 'Totals' in a:\n",
    "    a.drop('Totals', axis=1, inplace=True)\n",
    "if 'Unlabelled' in a:\n",
    "    a.drop('Unlabelled', axis=1, inplace=True)\n",
    "\n",
    "a['Totals'] = a.transpose().sum()\n",
    "# Filter IPs with no labelled reports\n",
    "a = a[a['Totals'] > 0]\n",
    "a = a.drop('Totals', axis=1)\n",
    "\n",
    "host_attack_frame = a.transpose()"
   ]
  },
  {
   "cell_type": "markdown",
   "metadata": {},
   "source": [
    "## Entropy computation"
   ]
  },
  {
   "cell_type": "code",
   "execution_count": 9,
   "metadata": {},
   "outputs": [],
   "source": [
    "import math\n",
    "def shannon_entropy(arr):\n",
    "    total = sum(arr)\n",
    "    Pn = [float(c)/total for c in arr]    \n",
    "    e_arr = []\n",
    "    for P in Pn:\n",
    "        if P == 0.0:\n",
    "            #e_arr.append(0)\n",
    "            pass\n",
    "        else:\n",
    "            e_arr.append(P*math.log(P,2))\n",
    "                \n",
    "    shannon_e = sum(e_arr)\n",
    "    \n",
    "    return (-1*shannon_e)/math.log(len(Pn),2)\n",
    "\n",
    "def entropy(arr):\n",
    "    total = sum(arr)\n",
    "    Pn = [float(c)/total for c in arr]    \n",
    "    e_arr = []\n",
    "    for P in Pn:\n",
    "        if P == 0.0:\n",
    "            e_arr.append(0)\n",
    "        else:\n",
    "            e_arr.append(math.log(P,2))\n",
    "                \n",
    "    shannon_e = sum(e_arr)\n",
    "    \n",
    "    return -1*shannon_e"
   ]
  },
  {
   "cell_type": "code",
   "execution_count": 10,
   "metadata": {},
   "outputs": [],
   "source": [
    "# Compute the entropy for all attacks ip_attack_frame\n",
    "host_entropies = {}\n",
    "for host in host_attack_frame:\n",
    "    counts = host_attack_frame[host]\n",
    "    host_entropies[host] = (shannon_entropy(counts), entropy(counts))"
   ]
  },
  {
   "cell_type": "code",
   "execution_count": 11,
   "metadata": {},
   "outputs": [],
   "source": [
    "import pandas as pd\n",
    "entropies = pd.DataFrame.from_dict(host_entropies, orient='index')\n",
    "entropies.columns = ['Shannon Entropy', 'Entropy']"
   ]
  },
  {
   "cell_type": "markdown",
   "metadata": {},
   "source": [
    "## Save Output intermediaries"
   ]
  },
  {
   "cell_type": "code",
   "execution_count": 12,
   "metadata": {},
   "outputs": [],
   "source": [
    "import pandas as pd\n",
    "entropies.to_csv('./entropies/ip_entropies.csv')"
   ]
  },
  {
   "cell_type": "code",
   "execution_count": null,
   "metadata": {},
   "outputs": [],
   "source": []
  }
 ],
 "metadata": {
  "kernelspec": {
   "display_name": "Python [default]",
   "language": "python",
   "name": "python2"
  },
  "language_info": {
   "codemirror_mode": {
    "name": "ipython",
    "version": 2
   },
   "file_extension": ".py",
   "mimetype": "text/x-python",
   "name": "python",
   "nbconvert_exporter": "python",
   "pygments_lexer": "ipython2",
   "version": "2.7.14"
  }
 },
 "nbformat": 4,
 "nbformat_minor": 1
}
