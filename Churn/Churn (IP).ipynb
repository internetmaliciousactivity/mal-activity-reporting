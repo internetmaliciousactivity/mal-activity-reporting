{
 "cells": [
  {
   "cell_type": "markdown",
   "metadata": {},
   "source": [
    "# Raw Extraction of required data "
   ]
  },
  {
   "cell_type": "markdown",
   "metadata": {},
   "source": [
    "Note that the raw extraction of required data takes a very long time, the import of pre-computed values is avaliable at the Plotting Code section."
   ]
  },
  {
   "cell_type": "code",
   "execution_count": 1,
   "metadata": {},
   "outputs": [],
   "source": [
    "import pandas as pd\n",
    "import numpy as np\n",
    "import tqdm\n",
    "import csv\n",
    "from datetime import datetime"
   ]
  },
  {
   "cell_type": "code",
   "execution_count": 2,
   "metadata": {},
   "outputs": [],
   "source": [
    "# Defining the list indexes\n",
    "indexes = {\n",
    "    'Malware':0,\n",
    "    'Phishing':1,\n",
    "    'Exploits':2,\n",
    "    'Fraudlent Services':3,\n",
    "    'Unwanted Programs':4,\n",
    "    'Spammers':5,\n",
    "    'Unlabelled':6,\n",
    "}\n",
    "\n",
    "attack_map = ['Malware', 'Phishing', 'Exploits', 'Fraudlent Services',\n",
    "            'Unwanted Programs', 'Spammers', 'Unlabelled']"
   ]
  },
  {
   "cell_type": "code",
   "execution_count": 3,
   "metadata": {},
   "outputs": [],
   "source": [
    "# Convert date fields back into a python date object\n",
    "date_calculation_cache = {}\n",
    "def make_date(day, month, year):\n",
    "    date = '%s-%s-%s' % (day, month, year)\n",
    "    # Check cache before recomputation\n",
    "    if date not in date_calculation_cache:\n",
    "        iso_cal = datetime.strptime(date, \"%d-%m-%Y\").isocalendar()\n",
    "        date_calculation_cache[date] = iso_cal\n",
    "    else:\n",
    "        iso_cal = date_calculation_cache[date]\n",
    "    return iso_cal"
   ]
  },
  {
   "cell_type": "code",
   "execution_count": 4,
   "metadata": {
    "scrolled": false
   },
   "outputs": [
    {
     "name": "stderr",
     "output_type": "stream",
     "text": [
      "6918it [00:00, 52139.29it/s]\n",
      "0it [00:00, ?it/s]"
     ]
    },
    {
     "name": "stdout",
     "output_type": "stream",
     "text": [
      "Spammers\n",
      "./../Datastore/Spammers_reports.csv\n",
      "Malware\n",
      "./../Datastore/Malware_reports.csv\n"
     ]
    },
    {
     "name": "stderr",
     "output_type": "stream",
     "text": [
      "3190529it [00:26, 122188.26it/s]\n",
      "12710it [00:00, 127025.01it/s]"
     ]
    },
    {
     "name": "stdout",
     "output_type": "stream",
     "text": [
      "Exploits\n",
      "./../Datastore/Exploits_reports.csv\n"
     ]
    },
    {
     "name": "stderr",
     "output_type": "stream",
     "text": [
      "201108it [00:01, 130070.08it/s]\n",
      "12505it [00:00, 125013.76it/s]"
     ]
    },
    {
     "name": "stdout",
     "output_type": "stream",
     "text": [
      "Phishing\n",
      "./../Datastore/Phishing_reports.csv\n"
     ]
    },
    {
     "name": "stderr",
     "output_type": "stream",
     "text": [
      "2382889it [00:18, 127355.06it/s]\n",
      "12264it [00:00, 122598.32it/s]"
     ]
    },
    {
     "name": "stdout",
     "output_type": "stream",
     "text": [
      "Fraudlent Services\n",
      "./../Datastore/Fraudlent Services_reports.csv\n"
     ]
    },
    {
     "name": "stderr",
     "output_type": "stream",
     "text": [
      "829301it [00:06, 124625.43it/s]\n",
      "10978it [00:00, 109728.57it/s]"
     ]
    },
    {
     "name": "stdout",
     "output_type": "stream",
     "text": [
      "Unwanted Programs\n",
      "./../Datastore/Unwanted Programs_reports.csv\n"
     ]
    },
    {
     "name": "stderr",
     "output_type": "stream",
     "text": [
      "698700it [00:07, 98827.73it/s] \n"
     ]
    },
    {
     "name": "stdout",
     "output_type": "stream",
     "text": [
      "Unlabelled\n",
      "./../Datastore/Unlabelled_reports_0.csv\n"
     ]
    },
    {
     "name": "stderr",
     "output_type": "stream",
     "text": [
      "/Users/zha197/.local/lib/python2.7/site-packages/numpy/lib/arraysetops.py:522: FutureWarning: elementwise comparison failed; returning scalar instead, but in the future will perform elementwise comparison\n",
      "  mask |= (ar1 == a)\n",
      "2000138it [00:33, 60177.79it/s]\n"
     ]
    },
    {
     "name": "stdout",
     "output_type": "stream",
     "text": [
      "./../Datastore/Unlabelled_reports_1.csv\n"
     ]
    },
    {
     "name": "stderr",
     "output_type": "stream",
     "text": [
      "2000007it [00:24, 82936.73it/s]\n"
     ]
    },
    {
     "name": "stdout",
     "output_type": "stream",
     "text": [
      "./../Datastore/Unlabelled_reports_2.csv\n"
     ]
    },
    {
     "name": "stderr",
     "output_type": "stream",
     "text": [
      "2000047it [00:15, 126879.06it/s]\n"
     ]
    },
    {
     "name": "stdout",
     "output_type": "stream",
     "text": [
      "./../Datastore/Unlabelled_reports_3.csv\n"
     ]
    },
    {
     "name": "stderr",
     "output_type": "stream",
     "text": [
      "2000022it [00:17, 113654.79it/s]\n"
     ]
    },
    {
     "name": "stdout",
     "output_type": "stream",
     "text": [
      "./../Datastore/Unlabelled_reports_4.csv\n"
     ]
    },
    {
     "name": "stderr",
     "output_type": "stream",
     "text": [
      "2000471it [00:18, 106108.17it/s]\n"
     ]
    },
    {
     "name": "stdout",
     "output_type": "stream",
     "text": [
      "./../Datastore/Unlabelled_reports_5.csv\n"
     ]
    },
    {
     "name": "stderr",
     "output_type": "stream",
     "text": [
      "2000567it [00:18, 109510.44it/s]\n"
     ]
    },
    {
     "name": "stdout",
     "output_type": "stream",
     "text": [
      "./../Datastore/Unlabelled_reports_6.csv\n"
     ]
    },
    {
     "name": "stderr",
     "output_type": "stream",
     "text": [
      "2000130it [00:20, 97282.94it/s]\n"
     ]
    },
    {
     "name": "stdout",
     "output_type": "stream",
     "text": [
      "./../Datastore/Unlabelled_reports_7.csv\n"
     ]
    },
    {
     "name": "stderr",
     "output_type": "stream",
     "text": [
      "2000541it [00:22, 88406.74it/s]\n"
     ]
    },
    {
     "name": "stdout",
     "output_type": "stream",
     "text": [
      "./../Datastore/Unlabelled_reports_8.csv\n"
     ]
    },
    {
     "name": "stderr",
     "output_type": "stream",
     "text": [
      "2000282it [00:18, 110824.66it/s]\n"
     ]
    },
    {
     "name": "stdout",
     "output_type": "stream",
     "text": [
      "./../Datastore/Unlabelled_reports_9.csv\n"
     ]
    },
    {
     "name": "stderr",
     "output_type": "stream",
     "text": [
      "2000016it [00:17, 111658.92it/s]\n"
     ]
    },
    {
     "name": "stdout",
     "output_type": "stream",
     "text": [
      "./../Datastore/Unlabelled_reports_10.csv\n"
     ]
    },
    {
     "name": "stderr",
     "output_type": "stream",
     "text": [
      "2000165it [00:16, 120075.73it/s]\n"
     ]
    },
    {
     "name": "stdout",
     "output_type": "stream",
     "text": [
      "./../Datastore/Unlabelled_reports_11.csv\n"
     ]
    },
    {
     "name": "stderr",
     "output_type": "stream",
     "text": [
      "2000021it [00:17, 115932.60it/s]\n"
     ]
    },
    {
     "name": "stdout",
     "output_type": "stream",
     "text": [
      "./../Datastore/Unlabelled_reports_12.csv\n"
     ]
    },
    {
     "name": "stderr",
     "output_type": "stream",
     "text": [
      "2000114it [00:19, 103667.75it/s]\n"
     ]
    },
    {
     "name": "stdout",
     "output_type": "stream",
     "text": [
      "./../Datastore/Unlabelled_reports_13.csv\n"
     ]
    },
    {
     "name": "stderr",
     "output_type": "stream",
     "text": [
      "2000038it [00:17, 112059.50it/s]\n"
     ]
    },
    {
     "name": "stdout",
     "output_type": "stream",
     "text": [
      "./../Datastore/Unlabelled_reports_14.csv\n"
     ]
    },
    {
     "name": "stderr",
     "output_type": "stream",
     "text": [
      "2000304it [00:19, 101605.78it/s]\n"
     ]
    },
    {
     "name": "stdout",
     "output_type": "stream",
     "text": [
      "./../Datastore/Unlabelled_reports_15.csv\n"
     ]
    },
    {
     "name": "stderr",
     "output_type": "stream",
     "text": [
      "2000019it [00:25, 79116.65it/s]\n"
     ]
    },
    {
     "name": "stdout",
     "output_type": "stream",
     "text": [
      "./../Datastore/Unlabelled_reports_16.csv\n"
     ]
    },
    {
     "name": "stderr",
     "output_type": "stream",
     "text": [
      "2000455it [00:17, 112133.15it/s]\n"
     ]
    },
    {
     "name": "stdout",
     "output_type": "stream",
     "text": [
      "./../Datastore/Unlabelled_reports_17.csv\n"
     ]
    },
    {
     "name": "stderr",
     "output_type": "stream",
     "text": [
      "2000040it [00:17, 115809.28it/s]\n"
     ]
    },
    {
     "name": "stdout",
     "output_type": "stream",
     "text": [
      "./../Datastore/Unlabelled_reports_18.csv\n"
     ]
    },
    {
     "name": "stderr",
     "output_type": "stream",
     "text": [
      "2000023it [00:17, 112469.01it/s]\n"
     ]
    },
    {
     "name": "stdout",
     "output_type": "stream",
     "text": [
      "./../Datastore/Unlabelled_reports_19.csv\n"
     ]
    },
    {
     "name": "stderr",
     "output_type": "stream",
     "text": [
      "2000058it [00:16, 117823.72it/s]\n"
     ]
    },
    {
     "name": "stdout",
     "output_type": "stream",
     "text": [
      "./../Datastore/Unlabelled_reports_20.csv\n"
     ]
    },
    {
     "name": "stderr",
     "output_type": "stream",
     "text": [
      "2000016it [00:16, 120949.49it/s]\n"
     ]
    },
    {
     "name": "stdout",
     "output_type": "stream",
     "text": [
      "./../Datastore/Unlabelled_reports_21.csv\n"
     ]
    },
    {
     "name": "stderr",
     "output_type": "stream",
     "text": [
      "2000294it [00:16, 118780.96it/s]\n",
      "0it [00:00, ?it/s]"
     ]
    },
    {
     "name": "stdout",
     "output_type": "stream",
     "text": [
      "./../Datastore/Unlabelled_reports_22.csv\n"
     ]
    },
    {
     "name": "stderr",
     "output_type": "stream",
     "text": [
      "332782it [00:02, 121982.53it/s]"
     ]
    },
    {
     "name": "stdout",
     "output_type": "stream",
     "text": [
      "Finished\n"
     ]
    },
    {
     "name": "stderr",
     "output_type": "stream",
     "text": [
      "\n"
     ]
    }
   ],
   "source": [
    "ip_attacks = {attk: {} for attk in indexes}\n",
    "ip_attacks['Labelled'] = {}\n",
    "\n",
    "for attack in indexes:\n",
    "    print(attack)\n",
    "    files = []\n",
    "    if attack == 'Unlabelled':\n",
    "        # There are 23 files containing Unlabelled reports\n",
    "        for i in range(23):\n",
    "            files.append(('./../Datastore/%s_reports_%s.csv'%(attack,i), attack, i))\n",
    "    else:\n",
    "        files.append(('./../Datastore/%s_reports.csv'%attack, attack, None))\n",
    "    #########################\n",
    "    \n",
    "    # Process the files\n",
    "    for file_name, a, file_num in files:\n",
    "        print(file_name)\n",
    "        with open(file_name) as data_file:\n",
    "            filereader = csv.reader(data_file)\n",
    "            if attack == 'Unlabelled':\n",
    "                activity_relabel = pd.read_csv('./../Unlabelled_predictions/%s_predictions_%s.csv'%(a, file_num),\n",
    "                                               index_col=[0], header=None)\n",
    "                activity_relabel = activity_relabel.transpose().values[0]\n",
    "            for n, report in enumerate(tqdm.tqdm(filereader)):\n",
    "                try:\n",
    "                    # Unpack Row information\n",
    "                    splits = report[0:9]\n",
    "\n",
    "                    day = splits[5]\n",
    "                    month = splits[6]\n",
    "                    year = splits[7]\n",
    "                    datasource = splits[8]        \n",
    "                    org = splits[3]\n",
    "                    asn = splits[2]\n",
    "                    cc = splits[1]\n",
    "                    ip = splits[0]\n",
    "                    \n",
    "                    # Compute week bins\n",
    "                    iso_cal = make_date(day, month, year)\n",
    "                    year_num, week_num, weekday_num = iso_cal\n",
    "\n",
    "                    # Invalid Timestamp, likely 0.\n",
    "                    if year_num == 1970:\n",
    "                        continue\n",
    "                    week = (year_num-1970)*52 + week_num\n",
    "\n",
    "                except Exception, e: \n",
    "                    print(str(e))\n",
    "\n",
    "                if ip is None or ip == '':\n",
    "                    print(\"Skipping invalid IP: %s\" % ip)\n",
    "                    continue\n",
    "\n",
    "                # Relabelling unlabelled reports\n",
    "                if (attack == 'Unlabelled'):\n",
    "                    attack_label = attack_map[activity_relabel[n]]\n",
    "                else:\n",
    "                    attack_label = attack\n",
    "\n",
    "                # Selected key 'i' for scrutiny\n",
    "                i = week\n",
    "                if i not in ip_attacks[attack_label]:\n",
    "                    ip_attacks[attack_label][i] = {}\n",
    "                # Initialise the ip holder for the key\n",
    "                if ip not in ip_attacks[attack_label][i]:\n",
    "                    ip_attacks[attack_label][i][ip] = 0\n",
    "                # Increment the attack, key, ip value\n",
    "                ip_attacks[attack_label][i][ip] += 1\n",
    "\n",
    "                # We maintain a distinct class for Labelled Data\n",
    "                if attack_label != 'Unlabelled':\n",
    "                    if i not in ip_attacks['Labelled']:\n",
    "                        ip_attacks['Labelled'][i] = {}\n",
    "                    # Initialise the ip holder for the key\n",
    "                    if ip not in ip_attacks['Labelled'][i]:\n",
    "                        ip_attacks['Labelled'][i][ip] = 0\n",
    "                    # Increment the attack, key, ip value\n",
    "                    ip_attacks['Labelled'][i][ip] += 1\n",
    "\n",
    "print('Finished')"
   ]
  },
  {
   "cell_type": "code",
   "execution_count": 6,
   "metadata": {},
   "outputs": [],
   "source": [
    "df = {}\n",
    "# Turn the dictionary of dictionaries into dictionaries of DataFrames\n",
    "for attack in ip_attacks:\n",
    "    df[attack] = pd.DataFrame(ip_attacks[attack])\n",
    "    df[attack].fillna(0, inplace=True)"
   ]
  },
  {
   "cell_type": "code",
   "execution_count": 7,
   "metadata": {},
   "outputs": [],
   "source": [
    "# Transpose the dataframe, such that the weeks are on the index.\n",
    "for attack in ip_attacks:\n",
    "    df[attack] = df[attack].transpose()"
   ]
  },
  {
   "cell_type": "code",
   "execution_count": 8,
   "metadata": {},
   "outputs": [],
   "source": [
    "# Our temporal analysis does not consider the remaining Unlabelled reports\n",
    "del df['Unlabelled']"
   ]
  },
  {
   "cell_type": "markdown",
   "metadata": {},
   "source": [
    "# Churn Model Fitting"
   ]
  },
  {
   "cell_type": "code",
   "execution_count": 9,
   "metadata": {},
   "outputs": [],
   "source": [
    "new_df = df\n",
    "\n",
    "# The array should be a sparse array, with sequentially increasing\n",
    "# time bins, each containing the number of reports for a host.\n",
    "def compute_lifetimes(arr):\n",
    "    # To maintain time of each mal-activity campaign\n",
    "    results = {'Death': [],'Life': []}\n",
    "    # To maintain number of reports of each mal-activity campaign\n",
    "    s_results = {'Death': [],'Life': []}\n",
    "    # Start all hosts in a death state\n",
    "    curr_track = 'Death'\n",
    "    # Current life or death week tracking\n",
    "    track_time = 0\n",
    "    track_severity = 0\n",
    "    for time_dur in arr:\n",
    "        if time_dur > 0:\n",
    "            if curr_track == 'Life':\n",
    "                track_time += 1\n",
    "                track_severity += time_dur\n",
    "            else:\n",
    "                results[curr_track].append(track_time)\n",
    "                s_results[curr_track].append(track_severity)\n",
    "                track_time = 1\n",
    "                track_severity = time_dur\n",
    "                curr_track = 'Life'\n",
    "\n",
    "        else:\n",
    "            if curr_track == 'Death':\n",
    "                track_time += 1\n",
    "                track_severity += time_dur\n",
    "            else:\n",
    "                results[curr_track].append(track_time)\n",
    "                s_results[curr_track].append(track_severity)\n",
    "                track_time = 1\n",
    "                track_severity= time_dur\n",
    "                curr_track = 'Death'\n",
    "                \n",
    "    results[curr_track].append(track_time)\n",
    "    s_results[curr_track].append(track_severity)\n",
    "                \n",
    "    if len(results['Life']) == 0:\n",
    "        return None\n",
    "    \n",
    "    assert len(results['Life']) == len(s_results['Life'])\n",
    "    \n",
    "    return (np.mean(results['Life']), np.mean(results['Death']),\n",
    "            np.mean(s_results['Life']), np.mean(s_results['Death']),\n",
    "            np.mean(np.divide(s_results['Life'], results['Life'])),\n",
    "            len(results['Life']), len(results['Death'])\n",
    "           )\n",
    "res_arr = {}"
   ]
  },
  {
   "cell_type": "code",
   "execution_count": 10,
   "metadata": {},
   "outputs": [
    {
     "name": "stdout",
     "output_type": "stream",
     "text": [
      "Spammers\n",
      "Malware\n",
      "Exploits\n",
      "Phishing\n",
      "Fraudlent Services\n",
      "Unwanted Programs\n",
      "Labelled\n",
      "Finished\n"
     ]
    }
   ],
   "source": [
    "# Compute lifetime statistice for every host\n",
    "res_arr = {}\n",
    "for attack in new_df:\n",
    "    print(attack)\n",
    "    res_arr[attack] = {}\n",
    "    for col in new_df[attack]:\n",
    "\n",
    "        res = compute_lifetimes(new_df[attack][col])\n",
    "\n",
    "        if res is not None:\n",
    "            res_arr[attack][col] = res\n",
    "\n",
    "print('Finished')"
   ]
  },
  {
   "cell_type": "code",
   "execution_count": 13,
   "metadata": {},
   "outputs": [],
   "source": [
    "life_death_recipr_df_holder = {}\n",
    "for attack in new_df:\n",
    "    life_death_df = pd.DataFrame(res_arr[attack])\n",
    "\n",
    "    life_death_df.index = ['Life', 'Death', 'Life_S', 'Death_S',\n",
    "                           'Severity', 'n_Life', 'n_Death']\n",
    "    \n",
    "    recipricol_mean_duration = {}\n",
    "    for ip in life_death_df:\n",
    "        l, d, l_s, d_s, s, n_l, n_d = life_death_df[ip]\n",
    "        recipricol_mean_duration[ip] = 1/(l+d)\n",
    "        \n",
    "    life_death_recipr_df = life_death_df.append(\n",
    "                pd.DataFrame(recipricol_mean_duration, index=[0]))\n",
    "\n",
    "    life_death_recipr_df.index = ['Life', 'Death', 'Life_S', 'Death_S',\n",
    "                                  'Severity', 'Number of Lives',\n",
    "                                  'Number of Deaths',\n",
    "                                  'Reciprocal Mean Duration']\n",
    "\n",
    "    life_death_recipr_df_holder[attack] = life_death_recipr_df"
   ]
  },
  {
   "cell_type": "code",
   "execution_count": 14,
   "metadata": {},
   "outputs": [
    {
     "data": {
      "text/plain": [
       "'Finished'"
      ]
     },
     "execution_count": 14,
     "metadata": {},
     "output_type": "execute_result"
    }
   ],
   "source": [
    "\"Finished\""
   ]
  },
  {
   "cell_type": "code",
   "execution_count": 15,
   "metadata": {},
   "outputs": [],
   "source": [
    "# Drop Invalid entries\n",
    "for attk in life_death_recipr_df_holder:\n",
    "    life_death_recipr_df_holder[attk].drop('', axis=1, inplace=True,\n",
    "                                           errors='ignore')\n",
    "    life_death_recipr_df_holder[attk].drop('-1', axis=1, inplace=True,\n",
    "                                           errors='ignore')\n",
    "    life_death_recipr_df_holder[attk].drop('unknown', axis=1, inplace=True,\n",
    "                                           errors='ignore')"
   ]
  },
  {
   "cell_type": "code",
   "execution_count": 16,
   "metadata": {},
   "outputs": [],
   "source": [
    "# If carrying through to next section\n",
    "# weekly_life_death_severity_reciprical\n",
    "week_l_d_s_r = life_death_recipr_df_holder"
   ]
  },
  {
   "cell_type": "code",
   "execution_count": 17,
   "metadata": {},
   "outputs": [
    {
     "name": "stdout",
     "output_type": "stream",
     "text": [
      "Saving Statistics in:\n",
      "./ip_churn_stats/Spammers_weekly_churn_IP.csv\n",
      "./ip_churn_stats/Malware_weekly_churn_IP.csv\n",
      "./ip_churn_stats/Exploits_weekly_churn_IP.csv\n",
      "./ip_churn_stats/Phishing_weekly_churn_IP.csv\n",
      "./ip_churn_stats/Fraudlent Services_weekly_churn_IP.csv\n",
      "./ip_churn_stats/Unwanted Programs_weekly_churn_IP.csv\n",
      "./ip_churn_stats/Labelled_weekly_churn_IP.csv\n",
      "Finished\n"
     ]
    }
   ],
   "source": [
    "print(\"Saving Statistics in:\")\n",
    "for attack, values in life_death_recipr_df_holder.items():\n",
    "    out_file_name = \"./ip_churn_stats/%s_weekly_churn_IP.csv\" % attack\n",
    "    print(out_file_name)\n",
    "    values.to_csv(out_file_name, header=True, index=True, encoding='utf-8')\n",
    "print(\"Finished\")"
   ]
  },
  {
   "cell_type": "markdown",
   "metadata": {},
   "source": [
    "# Plotting Code"
   ]
  },
  {
   "cell_type": "markdown",
   "metadata": {},
   "source": [
    "## Import previously computed statistics"
   ]
  },
  {
   "cell_type": "code",
   "execution_count": null,
   "metadata": {},
   "outputs": [],
   "source": [
    "print(\"Loading Statistics from:\")\n",
    "week_l_d_s_r = {}\n",
    "for attack in ['Spammers', 'Malware', 'Exploits', 'Phishing',\n",
    "               'Fraudlent Services', 'Unwanted Programs', 'Labelled']:\n",
    "    in_file_name = \"./ip_churn_stats/%s_weekly_churn_IP.csv\" % attack\n",
    "    print(in_file_name)\n",
    "    week_l_d_s_r[attack] = pd.read_csv(in_file_name, index_col=[0])\n",
    "print(\"Finished\")"
   ]
  },
  {
   "cell_type": "markdown",
   "metadata": {},
   "source": [
    "## CDF graphing function"
   ]
  },
  {
   "cell_type": "code",
   "execution_count": 18,
   "metadata": {},
   "outputs": [],
   "source": [
    "import matplotlib.pyplot as plt\n",
    "import pandas as pd\n",
    "import numpy as np\n",
    "\n",
    "def cdf(data, m, n, s, lstring, ax=None):\n",
    "    data_size=len(data)\n",
    "\n",
    "    # Set bins edges\n",
    "    data_set=sorted(set(data))\n",
    "    bins=np.append(data_set, data_set[-1]+1)\n",
    "\n",
    "    # Use the histogram function to bin the data\n",
    "    counts, bin_edges = np.histogram(data, bins=bins,\n",
    "                                     density=False)\n",
    "    counts = counts.astype(float)/data_size\n",
    "\n",
    "    # Find the cdf\n",
    "    cdf = np.cumsum(counts)\n",
    "    \n",
    "    if ax is None:\n",
    "        ax = plt.gca()\n",
    "    \n",
    "    # Plot the cdf\n",
    "    lines = ax.plot(bin_edges[0:-1], cdf, linestyle='%s'%n,\n",
    "                    color='%s'%m, marker='%s'%s,\n",
    "                    markevery=0.1, label=lstring)    \n",
    "    plt.ylim((0, 1))\n",
    "\n",
    "    return lines\n"
   ]
  },
  {
   "cell_type": "markdown",
   "metadata": {},
   "source": [
    "## Lifetime Plot"
   ]
  },
  {
   "cell_type": "code",
   "execution_count": 43,
   "metadata": {},
   "outputs": [
    {
     "data": {
      "image/png": "[encoded data removed]",
      "text/plain": [
       "<matplotlib.figure.Figure at 0x33155f710>"
      ]
     },
     "metadata": {},
     "output_type": "display_data"
    }
   ],
   "source": [
    "plt.figure(figsize=(4, 2.6))\n",
    "\n",
    "stat = 'Life'\n",
    "cdf(week_l_d_s_r['Labelled'].transpose()[stat].values.tolist(),\n",
    "    'k', '-', 'o', \"Total\")\n",
    "cdf(week_l_d_s_r['Unwanted Programs'].transpose()[stat].values.tolist(),\n",
    "    'b', '-', 's', \"PUP\")\n",
    "cdf(week_l_d_s_r['Fraudlent Services'].transpose()[stat].values.tolist(),\n",
    "    'y', '-', '*', \"Fruad. Serv.\")\n",
    "cdf(week_l_d_s_r['Malware'].transpose()[stat].values.tolist(),\n",
    "    'r', '-', 'x', \"Malware\")\n",
    "cdf(week_l_d_s_r['Exploits'].transpose()[stat].values.tolist(),\n",
    "    'm', '--', '+', \"Exploits\")\n",
    "cdf(week_l_d_s_r['Phishing'].transpose()[stat].values.tolist(),\n",
    "    'g', '--', '^', \"Phishing\")\n",
    "cdf(week_l_d_s_r['Spammers'].transpose()[stat].values.tolist(),\n",
    "    'c', '--', 'D', \"Spammers\")\n",
    "\n",
    "plt.ylabel(\"CDF\", fontsize=14)\n",
    "plt.xlabel(\"Life Mean Duration (Weeks)\", fontsize=14)\n",
    "#plt.legend(loc='lower right', fontsize=10, frameon=False)\n",
    "plt.ylim(0.8, 1)\n",
    "plt.xlim(1, 3)\n",
    "\n",
    "\n",
    "import matplotlib.pyplot as plt\n",
    "from matplotlib import rcParams\n",
    "rcParams.update({'figure.autolayout': True})\n",
    "\n",
    "plt.savefig(\"./figures/churn_attk_life_weekly.pdf\")\n",
    "plt.show()"
   ]
  },
  {
   "cell_type": "markdown",
   "metadata": {},
   "source": [
    "## Deathtime Plot"
   ]
  },
  {
   "cell_type": "code",
   "execution_count": 36,
   "metadata": {
    "scrolled": false
   },
   "outputs": [
    {
     "data": {
      "image/png": "[encoded data removed]",
      "text/plain": [
       "<matplotlib.figure.Figure at 0x33795e490>"
      ]
     },
     "metadata": {},
     "output_type": "display_data"
    }
   ],
   "source": [
    "plt.figure(figsize=(4,2.6))\n",
    "\n",
    "stat = 'Death'\n",
    "cdf(week_l_d_s_r['Labelled'].transpose()[stat].values.tolist(),\n",
    "    'k', '-', 'o', \"Total\")\n",
    "cdf(week_l_d_s_r['Spammers'].transpose()[stat].values.tolist(),\n",
    "    'c', '--', 'D', \"Spammers\")\n",
    "cdf(week_l_d_s_r['Fraudlent Services'].transpose()[stat].values.tolist(),\n",
    "    'y', '-', '*', \"Fruad. Serv.\")\n",
    "cdf(week_l_d_s_r['Malware'].transpose()[stat].values.tolist(),\n",
    "    'r', '-', 'x', \"Malware\")\n",
    "cdf(week_l_d_s_r['Phishing'].transpose()[stat].values.tolist(),\n",
    "    'g', '--', '^', \"Phishing\")\n",
    "cdf(week_l_d_s_r['Exploits'].transpose()[stat].values.tolist(),\n",
    "    'm', '--', '+', \"Exploits\")\n",
    "cdf(week_l_d_s_r['Unwanted Programs'].transpose()[stat].values.tolist(),\n",
    "    'b', '-', 's', \"PUP\")\n",
    "\n",
    "plt.ylabel(\"CDF\", fontsize=14)\n",
    "plt.xlabel(\"Death Mean Duration (Weeks)\", fontsize=14)\n",
    "plt.legend(loc='upper left', fontsize=10, frameon=False)\n",
    "plt.xscale('log')\n",
    "plt.xlim(40, 300)\n",
    "\n",
    "import matplotlib.pyplot as plt\n",
    "from matplotlib import rcParams\n",
    "rcParams.update({'figure.autolayout': True})\n",
    "\n",
    "plt.savefig(\"./figures/churn_attk_death_weekly.pdf\")\n",
    "plt.show()\n"
   ]
  },
  {
   "cell_type": "markdown",
   "metadata": {},
   "source": [
    "## Rate of Arrival Plot"
   ]
  },
  {
   "cell_type": "code",
   "execution_count": 37,
   "metadata": {},
   "outputs": [
    {
     "data": {
      "image/png": "[encoded data removed]",
      "text/plain": [
       "<matplotlib.figure.Figure at 0x3478d6d50>"
      ]
     },
     "metadata": {},
     "output_type": "display_data"
    }
   ],
   "source": [
    "plt.figure(figsize=(4, 2.6))\n",
    "\n",
    "stat = 'Reciprocal Mean Duration'\n",
    "cdf(week_l_d_s_r['Labelled'].transpose()[stat].values.tolist(),\n",
    "    'k', '-', 'o', \"Total\")\n",
    "cdf(week_l_d_s_r['Unwanted Programs'].transpose()[stat].values.tolist(),\n",
    "    'b', '-', 's', \"PUP\")\n",
    "cdf(week_l_d_s_r['Fraudlent Services'].transpose()[stat].values.tolist(),\n",
    "    'y', '-', '*', \"Fruad. Serv.\")\n",
    "cdf(week_l_d_s_r['Malware'].transpose()[stat].values.tolist(),\n",
    "    'r', '-', 'x', \"Malware\")\n",
    "cdf(week_l_d_s_r['Exploits'].transpose()[stat].values.tolist(),\n",
    "    'm', '--', '+', \"Exploits\")\n",
    "cdf(week_l_d_s_r['Phishing'].transpose()[stat].values.tolist(),\n",
    "    'g', '--', '^', \"Phishing\")\n",
    "cdf(week_l_d_s_r['Spammers'].transpose()[stat].values.tolist(),\n",
    "    'c', '--', 'D', \"Spammers\")\n",
    "\n",
    "plt.ylabel(\"CDF\", fontsize=14)\n",
    "plt.xlabel(\"Mean Rate of Arrival\", fontsize=14)\n",
    "#plt.legend(loc='lower right', fontsize=10, frameon=False)\n",
    "plt.xscale('log')\n",
    "plt.xlim(0.002, 0.03)\n",
    "\n",
    "import matplotlib.pyplot as plt\n",
    "from matplotlib import rcParams\n",
    "rcParams.update({'figure.autolayout': True})\n",
    "\n",
    "plt.savefig(\"./figures/churn_attk_roa_weekly.pdf\")\n",
    "plt.show()\n"
   ]
  },
  {
   "cell_type": "markdown",
   "metadata": {},
   "source": [
    "## Severity Plot"
   ]
  },
  {
   "cell_type": "code",
   "execution_count": 38,
   "metadata": {},
   "outputs": [
    {
     "data": {
      "image/png": "[encoded data removed]",
      "text/plain": [
       "<matplotlib.figure.Figure at 0x331581f90>"
      ]
     },
     "metadata": {},
     "output_type": "display_data"
    }
   ],
   "source": [
    "plt.figure(figsize=(6, 2.6))\n",
    "\n",
    "stat = 'Severity'\n",
    "cdf(week_l_d_s_r['Labelled'].transpose()[stat].values.tolist(),\n",
    "    'k', '-', 'o', \"Total\")\n",
    "cdf(week_l_d_s_r['Unwanted Programs'].transpose()[stat].values.tolist(),\n",
    "    'b', '-', 's', \"PUP\")\n",
    "cdf(week_l_d_s_r['Fraudlent Services'].transpose()[stat].values.tolist(),\n",
    "    'y', '-', '*', \"Fruad. Serv.\")\n",
    "cdf(week_l_d_s_r['Malware'].transpose()[stat].values.tolist(),\n",
    "    'r', '-', 'x', \"Malware\")\n",
    "cdf(week_l_d_s_r['Exploits'].transpose()[stat].values.tolist(),\n",
    "    'm', '--', '+', \"Exploits\")\n",
    "cdf(week_l_d_s_r['Phishing'].transpose()[stat].values.tolist(),\n",
    "    'g', '--', '^', \"Phishing\")\n",
    "cdf(week_l_d_s_r['Spammers'].transpose()[stat].values.tolist(),\n",
    "    'c', '--', 'D', \"Spammers\")\n",
    "\n",
    "plt.ylabel(\"CDF\", fontsize=14)\n",
    "plt.xlabel(\"Mean Severity (Reports/Week)\", fontsize=14)\n",
    "plt.legend(loc='lower right', fontsize=10, frameon=False)\n",
    "plt.xscale('log')\n",
    "plt.xlim(1, 100)\n",
    "\n",
    "import matplotlib.pyplot as plt\n",
    "from matplotlib import rcParams\n",
    "rcParams.update({'figure.autolayout': True})\n",
    "\n",
    "plt.savefig(\"./figures/churn_attk_severity_weekly.pdf\")\n",
    "plt.show()"
   ]
  },
  {
   "cell_type": "markdown",
   "metadata": {},
   "source": [
    "# Top IPs"
   ]
  },
  {
   "cell_type": "markdown",
   "metadata": {},
   "source": [
    "## Top Lifetime (Persistent)"
   ]
  },
  {
   "cell_type": "code",
   "execution_count": 39,
   "metadata": {
    "scrolled": true
   },
   "outputs": [
    {
     "data": {
      "text/html": [
       "<div>\n",
       "<style scoped>\n",
       "    .dataframe tbody tr th:only-of-type {\n",
       "        vertical-align: middle;\n",
       "    }\n",
       "\n",
       "    .dataframe tbody tr th {\n",
       "        vertical-align: top;\n",
       "    }\n",
       "\n",
       "    .dataframe thead th {\n",
       "        text-align: right;\n",
       "    }\n",
       "</style>\n",
       "<table border=\"1\" class=\"dataframe\">\n",
       "  <thead>\n",
       "    <tr style=\"text-align: right;\">\n",
       "      <th></th>\n",
       "      <th>Life</th>\n",
       "      <th>Death</th>\n",
       "      <th>Life_S</th>\n",
       "      <th>Death_S</th>\n",
       "      <th>Severity</th>\n",
       "      <th>Number of Lives</th>\n",
       "      <th>Number of Deaths</th>\n",
       "      <th>Reciprocal Mean Duration</th>\n",
       "    </tr>\n",
       "  </thead>\n",
       "  <tbody>\n",
       "    <tr>\n",
       "      <th>209.85.200.132</th>\n",
       "      <td>62.000000</td>\n",
       "      <td>224.500000</td>\n",
       "      <td>4426.000000</td>\n",
       "      <td>0.0</td>\n",
       "      <td>71.387097</td>\n",
       "      <td>1.0</td>\n",
       "      <td>2.0</td>\n",
       "      <td>0.003490</td>\n",
       "    </tr>\n",
       "    <tr>\n",
       "      <th>74.125.201.132</th>\n",
       "      <td>51.666667</td>\n",
       "      <td>89.000000</td>\n",
       "      <td>1673.333333</td>\n",
       "      <td>0.0</td>\n",
       "      <td>28.941931</td>\n",
       "      <td>3.0</td>\n",
       "      <td>4.0</td>\n",
       "      <td>0.007109</td>\n",
       "    </tr>\n",
       "    <tr>\n",
       "      <th>209.85.234.132</th>\n",
       "      <td>48.000000</td>\n",
       "      <td>231.500000</td>\n",
       "      <td>4040.000000</td>\n",
       "      <td>0.0</td>\n",
       "      <td>84.166667</td>\n",
       "      <td>1.0</td>\n",
       "      <td>2.0</td>\n",
       "      <td>0.003578</td>\n",
       "    </tr>\n",
       "    <tr>\n",
       "      <th>74.125.70.132</th>\n",
       "      <td>38.000000</td>\n",
       "      <td>71.800000</td>\n",
       "      <td>1284.750000</td>\n",
       "      <td>0.0</td>\n",
       "      <td>28.085795</td>\n",
       "      <td>4.0</td>\n",
       "      <td>5.0</td>\n",
       "      <td>0.009107</td>\n",
       "    </tr>\n",
       "    <tr>\n",
       "      <th>74.125.202.132</th>\n",
       "      <td>37.333333</td>\n",
       "      <td>99.750000</td>\n",
       "      <td>1715.000000</td>\n",
       "      <td>0.0</td>\n",
       "      <td>29.696312</td>\n",
       "      <td>3.0</td>\n",
       "      <td>4.0</td>\n",
       "      <td>0.007295</td>\n",
       "    </tr>\n",
       "    <tr>\n",
       "      <th>141.8.225.244</th>\n",
       "      <td>37.000000</td>\n",
       "      <td>145.666667</td>\n",
       "      <td>2900.500000</td>\n",
       "      <td>0.0</td>\n",
       "      <td>40.226027</td>\n",
       "      <td>2.0</td>\n",
       "      <td>3.0</td>\n",
       "      <td>0.005474</td>\n",
       "    </tr>\n",
       "    <tr>\n",
       "      <th>74.125.129.132</th>\n",
       "      <td>32.000000</td>\n",
       "      <td>149.000000</td>\n",
       "      <td>2208.500000</td>\n",
       "      <td>0.0</td>\n",
       "      <td>36.531746</td>\n",
       "      <td>2.0</td>\n",
       "      <td>3.0</td>\n",
       "      <td>0.005525</td>\n",
       "    </tr>\n",
       "    <tr>\n",
       "      <th>209.85.145.132</th>\n",
       "      <td>30.500000</td>\n",
       "      <td>150.000000</td>\n",
       "      <td>1808.000000</td>\n",
       "      <td>0.0</td>\n",
       "      <td>37.983333</td>\n",
       "      <td>2.0</td>\n",
       "      <td>3.0</td>\n",
       "      <td>0.005540</td>\n",
       "    </tr>\n",
       "    <tr>\n",
       "      <th>74.125.207.132</th>\n",
       "      <td>28.500000</td>\n",
       "      <td>79.400000</td>\n",
       "      <td>1053.000000</td>\n",
       "      <td>0.0</td>\n",
       "      <td>33.305791</td>\n",
       "      <td>4.0</td>\n",
       "      <td>5.0</td>\n",
       "      <td>0.009268</td>\n",
       "    </tr>\n",
       "    <tr>\n",
       "      <th>209.85.146.132</th>\n",
       "      <td>27.000000</td>\n",
       "      <td>242.000000</td>\n",
       "      <td>3109.000000</td>\n",
       "      <td>0.0</td>\n",
       "      <td>115.148148</td>\n",
       "      <td>1.0</td>\n",
       "      <td>2.0</td>\n",
       "      <td>0.003717</td>\n",
       "    </tr>\n",
       "  </tbody>\n",
       "</table>\n",
       "</div>"
      ],
      "text/plain": [
       "                     Life       Death       Life_S  Death_S    Severity  \\\n",
       "209.85.200.132  62.000000  224.500000  4426.000000      0.0   71.387097   \n",
       "74.125.201.132  51.666667   89.000000  1673.333333      0.0   28.941931   \n",
       "209.85.234.132  48.000000  231.500000  4040.000000      0.0   84.166667   \n",
       "74.125.70.132   38.000000   71.800000  1284.750000      0.0   28.085795   \n",
       "74.125.202.132  37.333333   99.750000  1715.000000      0.0   29.696312   \n",
       "141.8.225.244   37.000000  145.666667  2900.500000      0.0   40.226027   \n",
       "74.125.129.132  32.000000  149.000000  2208.500000      0.0   36.531746   \n",
       "209.85.145.132  30.500000  150.000000  1808.000000      0.0   37.983333   \n",
       "74.125.207.132  28.500000   79.400000  1053.000000      0.0   33.305791   \n",
       "209.85.146.132  27.000000  242.000000  3109.000000      0.0  115.148148   \n",
       "\n",
       "                Number of Lives  Number of Deaths  Reciprocal Mean Duration  \n",
       "209.85.200.132              1.0               2.0                  0.003490  \n",
       "74.125.201.132              3.0               4.0                  0.007109  \n",
       "209.85.234.132              1.0               2.0                  0.003578  \n",
       "74.125.70.132               4.0               5.0                  0.009107  \n",
       "74.125.202.132              3.0               4.0                  0.007295  \n",
       "141.8.225.244               2.0               3.0                  0.005474  \n",
       "74.125.129.132              2.0               3.0                  0.005525  \n",
       "209.85.145.132              2.0               3.0                  0.005540  \n",
       "74.125.207.132              4.0               5.0                  0.009268  \n",
       "209.85.146.132              1.0               2.0                  0.003717  "
      ]
     },
     "execution_count": 39,
     "metadata": {},
     "output_type": "execute_result"
    }
   ],
   "source": [
    "temp = week_l_d_s_r['Labelled'].transpose()\n",
    "temp.sort_values('Life', ascending=False).head(10)"
   ]
  },
  {
   "cell_type": "markdown",
   "metadata": {
    "collapsed": true
   },
   "source": [
    "## Lowest Deathtime (Resilient)"
   ]
  },
  {
   "cell_type": "code",
   "execution_count": 41,
   "metadata": {
    "scrolled": true
   },
   "outputs": [
    {
     "data": {
      "text/html": [
       "<div>\n",
       "<style scoped>\n",
       "    .dataframe tbody tr th:only-of-type {\n",
       "        vertical-align: middle;\n",
       "    }\n",
       "\n",
       "    .dataframe tbody tr th {\n",
       "        vertical-align: top;\n",
       "    }\n",
       "\n",
       "    .dataframe thead th {\n",
       "        text-align: right;\n",
       "    }\n",
       "</style>\n",
       "<table border=\"1\" class=\"dataframe\">\n",
       "  <thead>\n",
       "    <tr style=\"text-align: right;\">\n",
       "      <th></th>\n",
       "      <th>Life</th>\n",
       "      <th>Death</th>\n",
       "      <th>Life_S</th>\n",
       "      <th>Death_S</th>\n",
       "      <th>Severity</th>\n",
       "      <th>Number of Lives</th>\n",
       "      <th>Number of Deaths</th>\n",
       "      <th>Reciprocal Mean Duration</th>\n",
       "    </tr>\n",
       "  </thead>\n",
       "  <tbody>\n",
       "    <tr>\n",
       "      <th>103.224.212.222</th>\n",
       "      <td>2.711111</td>\n",
       "      <td>2.966667</td>\n",
       "      <td>109.911111</td>\n",
       "      <td>0.0</td>\n",
       "      <td>4.576658</td>\n",
       "      <td>90.0</td>\n",
       "      <td>90.0</td>\n",
       "      <td>0.176125</td>\n",
       "    </tr>\n",
       "    <tr>\n",
       "      <th>69.172.201.153</th>\n",
       "      <td>2.365591</td>\n",
       "      <td>3.095745</td>\n",
       "      <td>82.150538</td>\n",
       "      <td>0.0</td>\n",
       "      <td>4.639107</td>\n",
       "      <td>93.0</td>\n",
       "      <td>94.0</td>\n",
       "      <td>0.183105</td>\n",
       "    </tr>\n",
       "    <tr>\n",
       "      <th>204.11.56.48</th>\n",
       "      <td>3.521127</td>\n",
       "      <td>3.676056</td>\n",
       "      <td>299.323944</td>\n",
       "      <td>0.0</td>\n",
       "      <td>4.524940</td>\n",
       "      <td>71.0</td>\n",
       "      <td>71.0</td>\n",
       "      <td>0.138943</td>\n",
       "    </tr>\n",
       "    <tr>\n",
       "      <th>213.186.33.19</th>\n",
       "      <td>2.776316</td>\n",
       "      <td>3.896104</td>\n",
       "      <td>19.723684</td>\n",
       "      <td>0.0</td>\n",
       "      <td>5.460777</td>\n",
       "      <td>76.0</td>\n",
       "      <td>77.0</td>\n",
       "      <td>0.149871</td>\n",
       "    </tr>\n",
       "    <tr>\n",
       "      <th>208.73.211.70</th>\n",
       "      <td>1.939759</td>\n",
       "      <td>4.166667</td>\n",
       "      <td>59.096386</td>\n",
       "      <td>0.0</td>\n",
       "      <td>5.426148</td>\n",
       "      <td>83.0</td>\n",
       "      <td>84.0</td>\n",
       "      <td>0.163762</td>\n",
       "    </tr>\n",
       "    <tr>\n",
       "      <th>72.52.4.119</th>\n",
       "      <td>3.531250</td>\n",
       "      <td>4.384615</td>\n",
       "      <td>122.921875</td>\n",
       "      <td>0.0</td>\n",
       "      <td>8.754809</td>\n",
       "      <td>64.0</td>\n",
       "      <td>65.0</td>\n",
       "      <td>0.126329</td>\n",
       "    </tr>\n",
       "    <tr>\n",
       "      <th>72.52.4.120</th>\n",
       "      <td>3.125000</td>\n",
       "      <td>4.859375</td>\n",
       "      <td>33.093750</td>\n",
       "      <td>0.0</td>\n",
       "      <td>4.956702</td>\n",
       "      <td>64.0</td>\n",
       "      <td>64.0</td>\n",
       "      <td>0.125245</td>\n",
       "    </tr>\n",
       "    <tr>\n",
       "      <th>213.186.33.87</th>\n",
       "      <td>2.041096</td>\n",
       "      <td>4.891892</td>\n",
       "      <td>12.136986</td>\n",
       "      <td>0.0</td>\n",
       "      <td>4.001533</td>\n",
       "      <td>73.0</td>\n",
       "      <td>74.0</td>\n",
       "      <td>0.144238</td>\n",
       "    </tr>\n",
       "    <tr>\n",
       "      <th>185.53.179.8</th>\n",
       "      <td>2.656716</td>\n",
       "      <td>4.897059</td>\n",
       "      <td>89.671642</td>\n",
       "      <td>0.0</td>\n",
       "      <td>4.996464</td>\n",
       "      <td>67.0</td>\n",
       "      <td>68.0</td>\n",
       "      <td>0.132384</td>\n",
       "    </tr>\n",
       "    <tr>\n",
       "      <th>213.186.33.2</th>\n",
       "      <td>1.891892</td>\n",
       "      <td>4.946667</td>\n",
       "      <td>9.905405</td>\n",
       "      <td>0.0</td>\n",
       "      <td>4.683559</td>\n",
       "      <td>74.0</td>\n",
       "      <td>75.0</td>\n",
       "      <td>0.146230</td>\n",
       "    </tr>\n",
       "  </tbody>\n",
       "</table>\n",
       "</div>"
      ],
      "text/plain": [
       "                     Life     Death      Life_S  Death_S  Severity  \\\n",
       "103.224.212.222  2.711111  2.966667  109.911111      0.0  4.576658   \n",
       "69.172.201.153   2.365591  3.095745   82.150538      0.0  4.639107   \n",
       "204.11.56.48     3.521127  3.676056  299.323944      0.0  4.524940   \n",
       "213.186.33.19    2.776316  3.896104   19.723684      0.0  5.460777   \n",
       "208.73.211.70    1.939759  4.166667   59.096386      0.0  5.426148   \n",
       "72.52.4.119      3.531250  4.384615  122.921875      0.0  8.754809   \n",
       "72.52.4.120      3.125000  4.859375   33.093750      0.0  4.956702   \n",
       "213.186.33.87    2.041096  4.891892   12.136986      0.0  4.001533   \n",
       "185.53.179.8     2.656716  4.897059   89.671642      0.0  4.996464   \n",
       "213.186.33.2     1.891892  4.946667    9.905405      0.0  4.683559   \n",
       "\n",
       "                 Number of Lives  Number of Deaths  Reciprocal Mean Duration  \n",
       "103.224.212.222             90.0              90.0                  0.176125  \n",
       "69.172.201.153              93.0              94.0                  0.183105  \n",
       "204.11.56.48                71.0              71.0                  0.138943  \n",
       "213.186.33.19               76.0              77.0                  0.149871  \n",
       "208.73.211.70               83.0              84.0                  0.163762  \n",
       "72.52.4.119                 64.0              65.0                  0.126329  \n",
       "72.52.4.120                 64.0              64.0                  0.125245  \n",
       "213.186.33.87               73.0              74.0                  0.144238  \n",
       "185.53.179.8                67.0              68.0                  0.132384  \n",
       "213.186.33.2                74.0              75.0                  0.146230  "
      ]
     },
     "execution_count": 41,
     "metadata": {},
     "output_type": "execute_result"
    }
   ],
   "source": [
    "temp = week_l_d_s_r['Labelled'].transpose()\n",
    "temp.sort_values('Death', ascending=True).head(10)"
   ]
  },
  {
   "cell_type": "markdown",
   "metadata": {},
   "source": [
    "## Top Rate of Arrival (Recurrent)"
   ]
  },
  {
   "cell_type": "code",
   "execution_count": 42,
   "metadata": {
    "scrolled": true
   },
   "outputs": [
    {
     "data": {
      "text/html": [
       "<div>\n",
       "<style scoped>\n",
       "    .dataframe tbody tr th:only-of-type {\n",
       "        vertical-align: middle;\n",
       "    }\n",
       "\n",
       "    .dataframe tbody tr th {\n",
       "        vertical-align: top;\n",
       "    }\n",
       "\n",
       "    .dataframe thead th {\n",
       "        text-align: right;\n",
       "    }\n",
       "</style>\n",
       "<table border=\"1\" class=\"dataframe\">\n",
       "  <thead>\n",
       "    <tr style=\"text-align: right;\">\n",
       "      <th></th>\n",
       "      <th>Life</th>\n",
       "      <th>Death</th>\n",
       "      <th>Life_S</th>\n",
       "      <th>Death_S</th>\n",
       "      <th>Severity</th>\n",
       "      <th>Number of Lives</th>\n",
       "      <th>Number of Deaths</th>\n",
       "      <th>Reciprocal Mean Duration</th>\n",
       "    </tr>\n",
       "  </thead>\n",
       "  <tbody>\n",
       "    <tr>\n",
       "      <th>69.172.201.153</th>\n",
       "      <td>2.365591</td>\n",
       "      <td>3.095745</td>\n",
       "      <td>82.150538</td>\n",
       "      <td>0.0</td>\n",
       "      <td>4.639107</td>\n",
       "      <td>93.0</td>\n",
       "      <td>94.0</td>\n",
       "      <td>0.183105</td>\n",
       "    </tr>\n",
       "    <tr>\n",
       "      <th>103.224.212.222</th>\n",
       "      <td>2.711111</td>\n",
       "      <td>2.966667</td>\n",
       "      <td>109.911111</td>\n",
       "      <td>0.0</td>\n",
       "      <td>4.576658</td>\n",
       "      <td>90.0</td>\n",
       "      <td>90.0</td>\n",
       "      <td>0.176125</td>\n",
       "    </tr>\n",
       "    <tr>\n",
       "      <th>208.73.211.70</th>\n",
       "      <td>1.939759</td>\n",
       "      <td>4.166667</td>\n",
       "      <td>59.096386</td>\n",
       "      <td>0.0</td>\n",
       "      <td>5.426148</td>\n",
       "      <td>83.0</td>\n",
       "      <td>84.0</td>\n",
       "      <td>0.163762</td>\n",
       "    </tr>\n",
       "    <tr>\n",
       "      <th>213.186.33.19</th>\n",
       "      <td>2.776316</td>\n",
       "      <td>3.896104</td>\n",
       "      <td>19.723684</td>\n",
       "      <td>0.0</td>\n",
       "      <td>5.460777</td>\n",
       "      <td>76.0</td>\n",
       "      <td>77.0</td>\n",
       "      <td>0.149871</td>\n",
       "    </tr>\n",
       "    <tr>\n",
       "      <th>213.186.33.2</th>\n",
       "      <td>1.891892</td>\n",
       "      <td>4.946667</td>\n",
       "      <td>9.905405</td>\n",
       "      <td>0.0</td>\n",
       "      <td>4.683559</td>\n",
       "      <td>74.0</td>\n",
       "      <td>75.0</td>\n",
       "      <td>0.146230</td>\n",
       "    </tr>\n",
       "    <tr>\n",
       "      <th>213.186.33.87</th>\n",
       "      <td>2.041096</td>\n",
       "      <td>4.891892</td>\n",
       "      <td>12.136986</td>\n",
       "      <td>0.0</td>\n",
       "      <td>4.001533</td>\n",
       "      <td>73.0</td>\n",
       "      <td>74.0</td>\n",
       "      <td>0.144238</td>\n",
       "    </tr>\n",
       "    <tr>\n",
       "      <th>8.5.1.51</th>\n",
       "      <td>1.750000</td>\n",
       "      <td>5.273973</td>\n",
       "      <td>11.430556</td>\n",
       "      <td>0.0</td>\n",
       "      <td>6.433796</td>\n",
       "      <td>72.0</td>\n",
       "      <td>73.0</td>\n",
       "      <td>0.142370</td>\n",
       "    </tr>\n",
       "    <tr>\n",
       "      <th>195.110.124.133</th>\n",
       "      <td>1.873239</td>\n",
       "      <td>5.250000</td>\n",
       "      <td>12.380282</td>\n",
       "      <td>0.0</td>\n",
       "      <td>4.482003</td>\n",
       "      <td>71.0</td>\n",
       "      <td>72.0</td>\n",
       "      <td>0.140386</td>\n",
       "    </tr>\n",
       "    <tr>\n",
       "      <th>204.11.56.48</th>\n",
       "      <td>3.521127</td>\n",
       "      <td>3.676056</td>\n",
       "      <td>299.323944</td>\n",
       "      <td>0.0</td>\n",
       "      <td>4.524940</td>\n",
       "      <td>71.0</td>\n",
       "      <td>71.0</td>\n",
       "      <td>0.138943</td>\n",
       "    </tr>\n",
       "    <tr>\n",
       "      <th>54.85.127.70</th>\n",
       "      <td>1.794118</td>\n",
       "      <td>5.637681</td>\n",
       "      <td>43.220588</td>\n",
       "      <td>0.0</td>\n",
       "      <td>8.778042</td>\n",
       "      <td>68.0</td>\n",
       "      <td>69.0</td>\n",
       "      <td>0.134557</td>\n",
       "    </tr>\n",
       "  </tbody>\n",
       "</table>\n",
       "</div>"
      ],
      "text/plain": [
       "                     Life     Death      Life_S  Death_S  Severity  \\\n",
       "69.172.201.153   2.365591  3.095745   82.150538      0.0  4.639107   \n",
       "103.224.212.222  2.711111  2.966667  109.911111      0.0  4.576658   \n",
       "208.73.211.70    1.939759  4.166667   59.096386      0.0  5.426148   \n",
       "213.186.33.19    2.776316  3.896104   19.723684      0.0  5.460777   \n",
       "213.186.33.2     1.891892  4.946667    9.905405      0.0  4.683559   \n",
       "213.186.33.87    2.041096  4.891892   12.136986      0.0  4.001533   \n",
       "8.5.1.51         1.750000  5.273973   11.430556      0.0  6.433796   \n",
       "195.110.124.133  1.873239  5.250000   12.380282      0.0  4.482003   \n",
       "204.11.56.48     3.521127  3.676056  299.323944      0.0  4.524940   \n",
       "54.85.127.70     1.794118  5.637681   43.220588      0.0  8.778042   \n",
       "\n",
       "                 Number of Lives  Number of Deaths  Reciprocal Mean Duration  \n",
       "69.172.201.153              93.0              94.0                  0.183105  \n",
       "103.224.212.222             90.0              90.0                  0.176125  \n",
       "208.73.211.70               83.0              84.0                  0.163762  \n",
       "213.186.33.19               76.0              77.0                  0.149871  \n",
       "213.186.33.2                74.0              75.0                  0.146230  \n",
       "213.186.33.87               73.0              74.0                  0.144238  \n",
       "8.5.1.51                    72.0              73.0                  0.142370  \n",
       "195.110.124.133             71.0              72.0                  0.140386  \n",
       "204.11.56.48                71.0              71.0                  0.138943  \n",
       "54.85.127.70                68.0              69.0                  0.134557  "
      ]
     },
     "execution_count": 42,
     "metadata": {},
     "output_type": "execute_result"
    }
   ],
   "source": [
    "temp = week_l_d_s_r['Labelled'].transpose()\n",
    "temp.sort_values('Reciprocal Mean Duration', ascending=False).head(10)"
   ]
  },
  {
   "cell_type": "markdown",
   "metadata": {},
   "source": [
    "## Highest Severity (reports per week)"
   ]
  },
  {
   "cell_type": "code",
   "execution_count": 76,
   "metadata": {
    "scrolled": true
   },
   "outputs": [
    {
     "data": {
      "text/html": [
       "<div>\n",
       "<style scoped>\n",
       "    .dataframe tbody tr th:only-of-type {\n",
       "        vertical-align: middle;\n",
       "    }\n",
       "\n",
       "    .dataframe tbody tr th {\n",
       "        vertical-align: top;\n",
       "    }\n",
       "\n",
       "    .dataframe thead th {\n",
       "        text-align: right;\n",
       "    }\n",
       "</style>\n",
       "<table border=\"1\" class=\"dataframe\">\n",
       "  <thead>\n",
       "    <tr style=\"text-align: right;\">\n",
       "      <th></th>\n",
       "      <th>Life</th>\n",
       "      <th>Death</th>\n",
       "      <th>Life_S</th>\n",
       "      <th>Death_S</th>\n",
       "      <th>Severity</th>\n",
       "      <th>Number of Lives</th>\n",
       "      <th>Number of Deaths</th>\n",
       "      <th>Reciprocal Mean Duration</th>\n",
       "    </tr>\n",
       "  </thead>\n",
       "  <tbody>\n",
       "    <tr>\n",
       "      <th>52.85.131.44</th>\n",
       "      <td>1.0</td>\n",
       "      <td>255.0</td>\n",
       "      <td>34721.0</td>\n",
       "      <td>0.0</td>\n",
       "      <td>34721.0</td>\n",
       "      <td>1.0</td>\n",
       "      <td>2.0</td>\n",
       "      <td>0.003906</td>\n",
       "    </tr>\n",
       "    <tr>\n",
       "      <th>52.85.131.61</th>\n",
       "      <td>1.0</td>\n",
       "      <td>255.0</td>\n",
       "      <td>34544.0</td>\n",
       "      <td>0.0</td>\n",
       "      <td>34544.0</td>\n",
       "      <td>1.0</td>\n",
       "      <td>2.0</td>\n",
       "      <td>0.003906</td>\n",
       "    </tr>\n",
       "    <tr>\n",
       "      <th>54.192.195.113</th>\n",
       "      <td>1.0</td>\n",
       "      <td>255.0</td>\n",
       "      <td>34363.0</td>\n",
       "      <td>0.0</td>\n",
       "      <td>34363.0</td>\n",
       "      <td>1.0</td>\n",
       "      <td>2.0</td>\n",
       "      <td>0.003906</td>\n",
       "    </tr>\n",
       "    <tr>\n",
       "      <th>52.85.131.57</th>\n",
       "      <td>1.0</td>\n",
       "      <td>255.0</td>\n",
       "      <td>34325.0</td>\n",
       "      <td>0.0</td>\n",
       "      <td>34325.0</td>\n",
       "      <td>1.0</td>\n",
       "      <td>2.0</td>\n",
       "      <td>0.003906</td>\n",
       "    </tr>\n",
       "    <tr>\n",
       "      <th>52.84.125.57</th>\n",
       "      <td>1.0</td>\n",
       "      <td>255.0</td>\n",
       "      <td>34319.0</td>\n",
       "      <td>0.0</td>\n",
       "      <td>34319.0</td>\n",
       "      <td>1.0</td>\n",
       "      <td>2.0</td>\n",
       "      <td>0.003906</td>\n",
       "    </tr>\n",
       "    <tr>\n",
       "      <th>52.85.131.191</th>\n",
       "      <td>1.0</td>\n",
       "      <td>255.0</td>\n",
       "      <td>34305.0</td>\n",
       "      <td>0.0</td>\n",
       "      <td>34305.0</td>\n",
       "      <td>1.0</td>\n",
       "      <td>2.0</td>\n",
       "      <td>0.003906</td>\n",
       "    </tr>\n",
       "    <tr>\n",
       "      <th>52.85.131.219</th>\n",
       "      <td>1.0</td>\n",
       "      <td>255.0</td>\n",
       "      <td>34305.0</td>\n",
       "      <td>0.0</td>\n",
       "      <td>34305.0</td>\n",
       "      <td>1.0</td>\n",
       "      <td>2.0</td>\n",
       "      <td>0.003906</td>\n",
       "    </tr>\n",
       "    <tr>\n",
       "      <th>52.85.131.60</th>\n",
       "      <td>1.0</td>\n",
       "      <td>255.0</td>\n",
       "      <td>34282.0</td>\n",
       "      <td>0.0</td>\n",
       "      <td>34282.0</td>\n",
       "      <td>1.0</td>\n",
       "      <td>2.0</td>\n",
       "      <td>0.003906</td>\n",
       "    </tr>\n",
       "    <tr>\n",
       "      <th>52.85.131.198</th>\n",
       "      <td>1.0</td>\n",
       "      <td>255.0</td>\n",
       "      <td>34275.0</td>\n",
       "      <td>0.0</td>\n",
       "      <td>34275.0</td>\n",
       "      <td>1.0</td>\n",
       "      <td>2.0</td>\n",
       "      <td>0.003906</td>\n",
       "    </tr>\n",
       "    <tr>\n",
       "      <th>54.192.195.52</th>\n",
       "      <td>1.0</td>\n",
       "      <td>255.0</td>\n",
       "      <td>34262.0</td>\n",
       "      <td>0.0</td>\n",
       "      <td>34262.0</td>\n",
       "      <td>1.0</td>\n",
       "      <td>2.0</td>\n",
       "      <td>0.003906</td>\n",
       "    </tr>\n",
       "  </tbody>\n",
       "</table>\n",
       "</div>"
      ],
      "text/plain": [
       "                Life  Death   Life_S  Death_S  Severity  Number of Lives  \\\n",
       "52.85.131.44     1.0  255.0  34721.0      0.0   34721.0              1.0   \n",
       "52.85.131.61     1.0  255.0  34544.0      0.0   34544.0              1.0   \n",
       "54.192.195.113   1.0  255.0  34363.0      0.0   34363.0              1.0   \n",
       "52.85.131.57     1.0  255.0  34325.0      0.0   34325.0              1.0   \n",
       "52.84.125.57     1.0  255.0  34319.0      0.0   34319.0              1.0   \n",
       "52.85.131.191    1.0  255.0  34305.0      0.0   34305.0              1.0   \n",
       "52.85.131.219    1.0  255.0  34305.0      0.0   34305.0              1.0   \n",
       "52.85.131.60     1.0  255.0  34282.0      0.0   34282.0              1.0   \n",
       "52.85.131.198    1.0  255.0  34275.0      0.0   34275.0              1.0   \n",
       "54.192.195.52    1.0  255.0  34262.0      0.0   34262.0              1.0   \n",
       "\n",
       "                Number of Deaths  Reciprocal Mean Duration  \n",
       "52.85.131.44                 2.0                  0.003906  \n",
       "52.85.131.61                 2.0                  0.003906  \n",
       "54.192.195.113               2.0                  0.003906  \n",
       "52.85.131.57                 2.0                  0.003906  \n",
       "52.84.125.57                 2.0                  0.003906  \n",
       "52.85.131.191                2.0                  0.003906  \n",
       "52.85.131.219                2.0                  0.003906  \n",
       "52.85.131.60                 2.0                  0.003906  \n",
       "52.85.131.198                2.0                  0.003906  \n",
       "54.192.195.52                2.0                  0.003906  "
      ]
     },
     "execution_count": 76,
     "metadata": {},
     "output_type": "execute_result"
    }
   ],
   "source": [
    "temp = week_l_d_s_r['Labelled'].transpose()\n",
    "temp.sort_values('Severity', ascending=False).head(10)"
   ]
  },
  {
   "cell_type": "markdown",
   "metadata": {},
   "source": [
    "# Additional Analysis"
   ]
  },
  {
   "cell_type": "markdown",
   "metadata": {},
   "source": [
    "## Average Severity between types of mal-activity"
   ]
  },
  {
   "cell_type": "code",
   "execution_count": 62,
   "metadata": {},
   "outputs": [
    {
     "name": "stdout",
     "output_type": "stream",
     "text": [
      "Spammers\n",
      "1.88772263189\n",
      "Malware\n",
      "30.8419471574\n",
      "Exploits\n",
      "2.70350029585\n",
      "Phishing\n",
      "9.32978466214\n",
      "Fraudlent Services\n",
      "5.63429493051\n",
      "Unwanted Programs\n",
      "2.07942498514\n",
      "Labelled\n",
      "19.0578201237\n"
     ]
    }
   ],
   "source": [
    "for attack in week_l_d_s_r:\n",
    "    print(attack)\n",
    "    print(week_l_d_s_r[attack].transpose()['Severity'].mean())"
   ]
  },
  {
   "cell_type": "code",
   "execution_count": 72,
   "metadata": {
    "scrolled": true
   },
   "outputs": [
    {
     "name": "stdout",
     "output_type": "stream",
     "text": [
      "Spammers\n",
      "188.772263189\n",
      "Malware\n",
      "0.339295348266\n",
      "Exploits\n",
      "6.4369054663\n",
      "Phishing\n",
      "1.96830900045\n",
      "Fraudlent Services\n",
      "2.54945471969\n",
      "Unwanted Programs\n",
      "1.20197976019\n",
      "Labelled\n",
      "0.190578201237\n"
     ]
    }
   ],
   "source": [
    "proportions = {\n",
    "    'Malware':90.9,\n",
    "    'Phishing':4.74,\n",
    "    'Exploits':0.42,\n",
    "    'Fraudlent Services':2.21,\n",
    "    'Unwanted Programs':1.73,\n",
    "    'Spammers':0.01,\n",
    "    'Unlabelled':6,\n",
    "    'Labelled':100\n",
    "}\n",
    "for attack in week_l_d_s_r:\n",
    "    print(attack)\n",
    "    print(week_l_d_s_r[attack].transpose()['Severity'].mean()/proportions[attack])"
   ]
  },
  {
   "cell_type": "markdown",
   "metadata": {},
   "source": [
    "## Proportion of (average) 1 Week offenders"
   ]
  },
  {
   "cell_type": "code",
   "execution_count": 65,
   "metadata": {},
   "outputs": [
    {
     "name": "stdout",
     "output_type": "stream",
     "text": [
      "0.864268353437\n"
     ]
    }
   ],
   "source": [
    "# Ips with an average lifetime of 1\n",
    "temp = week_l_d_s_r['Labelled'].transpose()['Life']\n",
    "\n",
    "onewk = len(temp[temp==1])\n",
    "all_hosts = len(temp)\n",
    "\n",
    "print(1.0*onewk/all_hosts)"
   ]
  },
  {
   "cell_type": "code",
   "execution_count": 48,
   "metadata": {},
   "outputs": [
    {
     "name": "stdout",
     "output_type": "stream",
     "text": [
      "0.976819492459\n"
     ]
    }
   ],
   "source": [
    "# IPs with lifetimes greater than 2 weeks\n",
    "temp = week_l_d_s_r['Labelled'].transpose()['Life']\n",
    "\n",
    "onewk = len(temp[temp>2])\n",
    "all_hosts = len(temp)\n",
    "\n",
    "print(1.0 - 1.0*onewk/all_hosts)"
   ]
  },
  {
   "cell_type": "code",
   "execution_count": 73,
   "metadata": {},
   "outputs": [
    {
     "name": "stdout",
     "output_type": "stream",
     "text": [
      "185.330345723\n"
     ]
    }
   ],
   "source": [
    "# IP average activity cycle\n",
    "temp = week_l_d_s_r['Labelled'].transpose()['Reciprocal Mean Duration']\n",
    "\n",
    "print(1/temp.mean())"
   ]
  },
  {
   "cell_type": "code",
   "execution_count": 74,
   "metadata": {},
   "outputs": [
    {
     "name": "stdout",
     "output_type": "stream",
     "text": [
      "5.461336078700526\n"
     ]
    }
   ],
   "source": [
    "# Shortest mal-activity cycle\n",
    "temp = week_l_d_s_r['Labelled'].transpose()['Reciprocal Mean Duration']\n",
    "\n",
    "print(1/temp.max())"
   ]
  },
  {
   "cell_type": "code",
   "execution_count": 61,
   "metadata": {},
   "outputs": [
    {
     "name": "stdout",
     "output_type": "stream",
     "text": [
      "200\n",
      "662410\n",
      "0.000301927809061\n"
     ]
    }
   ],
   "source": [
    "# Number of hosts with >10K severity (reports per week)\n",
    "temp = week_l_d_s_r['Labelled'].transpose()['Severity']\n",
    "\n",
    "found_hosts = len(temp[temp > 10000])\n",
    "all_hosts = len(temp)\n",
    "\n",
    "print(found_hosts)\n",
    "print(all_hosts)\n",
    "print(1.0*found_hosts/all_hosts)"
   ]
  },
  {
   "cell_type": "code",
   "execution_count": null,
   "metadata": {},
   "outputs": [],
   "source": []
  }
 ],
 "metadata": {
  "kernelspec": {
   "display_name": "Python [default]",
   "language": "python",
   "name": "python2"
  },
  "language_info": {
   "codemirror_mode": {
    "name": "ipython",
    "version": 2
   },
   "file_extension": ".py",
   "mimetype": "text/x-python",
   "name": "python",
   "nbconvert_exporter": "python",
   "pygments_lexer": "ipython2",
   "version": "2.7.14"
  }
 },
 "nbformat": 4,
 "nbformat_minor": 1
}
