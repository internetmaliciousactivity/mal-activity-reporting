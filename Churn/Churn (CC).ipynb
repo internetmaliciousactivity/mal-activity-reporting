{
 "cells": [
  {
   "cell_type": "markdown",
   "metadata": {},
   "source": [
    "# Raw Extraction of required data "
   ]
  },
  {
   "cell_type": "markdown",
   "metadata": {},
   "source": [
    "Note that the raw extraction of required data takes a very long time, the import of pre-computed values is avaliable at the Analysis section."
   ]
  },
  {
   "cell_type": "code",
   "execution_count": 1,
   "metadata": {},
   "outputs": [],
   "source": [
    "import pandas as pd\n",
    "import numpy as np\n",
    "import tqdm\n",
    "import csv\n",
    "from datetime import datetime"
   ]
  },
  {
   "cell_type": "code",
   "execution_count": 2,
   "metadata": {},
   "outputs": [],
   "source": [
    "# Defining the list indexes\n",
    "indexes = {\n",
    "    'Malware':0,\n",
    "    'Phishing':1,\n",
    "    'Exploits':2,\n",
    "    'Fraudlent Services':3,\n",
    "    'Unwanted Programs':4,\n",
    "    'Spammers':5,\n",
    "    'Unlabelled':6,\n",
    "}\n",
    "\n",
    "attack_map = ['Malware', 'Phishing', 'Exploits', 'Fraudlent Services',\n",
    "            'Unwanted Programs', 'Spammers', 'Unlabelled']"
   ]
  },
  {
   "cell_type": "code",
   "execution_count": 3,
   "metadata": {},
   "outputs": [],
   "source": [
    "# Convert date fields back into a python date object\n",
    "date_calculation_cache = {}\n",
    "def make_date(day, month, year):\n",
    "    date = '%s-%s-%s' % (day, month, year)\n",
    "    # Check cache before recomputation\n",
    "    if date not in date_calculation_cache:\n",
    "        iso_cal = datetime.strptime(date, \"%d-%m-%Y\").isocalendar()\n",
    "        date_calculation_cache[date] = iso_cal\n",
    "    else:\n",
    "        iso_cal = date_calculation_cache[date]\n",
    "    return iso_cal"
   ]
  },
  {
   "cell_type": "code",
   "execution_count": 4,
   "metadata": {
    "scrolled": false
   },
   "outputs": [
    {
     "name": "stderr",
     "output_type": "stream",
     "text": [
      "6918it [00:00, 58817.49it/s]\n",
      "0it [00:00, ?it/s]"
     ]
    },
    {
     "name": "stdout",
     "output_type": "stream",
     "text": [
      "Spammers\n",
      "./../Datastore/Spammers_reports.csv\n",
      "Malware\n",
      "./../Datastore/Malware_reports.csv\n"
     ]
    },
    {
     "name": "stderr",
     "output_type": "stream",
     "text": [
      "3190529it [00:36, 87249.48it/s]\n",
      "9547it [00:00, 95443.24it/s]"
     ]
    },
    {
     "name": "stdout",
     "output_type": "stream",
     "text": [
      "Exploits\n",
      "./../Datastore/Exploits_reports.csv\n"
     ]
    },
    {
     "name": "stderr",
     "output_type": "stream",
     "text": [
      "201108it [00:02, 92887.57it/s]\n",
      "10112it [00:00, 101090.69it/s]"
     ]
    },
    {
     "name": "stdout",
     "output_type": "stream",
     "text": [
      "Phishing\n",
      "./../Datastore/Phishing_reports.csv\n"
     ]
    },
    {
     "name": "stderr",
     "output_type": "stream",
     "text": [
      "2382889it [00:32, 73424.97it/s]\n",
      "9478it [00:00, 94754.34it/s]"
     ]
    },
    {
     "name": "stdout",
     "output_type": "stream",
     "text": [
      "Fraudlent Services\n",
      "./../Datastore/Fraudlent Services_reports.csv\n"
     ]
    },
    {
     "name": "stderr",
     "output_type": "stream",
     "text": [
      "829301it [00:08, 99992.20it/s] \n",
      "9373it [00:00, 93705.51it/s]"
     ]
    },
    {
     "name": "stdout",
     "output_type": "stream",
     "text": [
      "Unwanted Programs\n",
      "./../Datastore/Unwanted Programs_reports.csv\n"
     ]
    },
    {
     "name": "stderr",
     "output_type": "stream",
     "text": [
      "698700it [00:16, 42920.60it/s]\n"
     ]
    },
    {
     "name": "stdout",
     "output_type": "stream",
     "text": [
      "Unlabelled\n",
      "./../Datastore/Unlabelled_reports_0.csv\n"
     ]
    },
    {
     "name": "stderr",
     "output_type": "stream",
     "text": [
      "/Users/zha197/.local/lib/python2.7/site-packages/numpy/lib/arraysetops.py:522: FutureWarning: elementwise comparison failed; returning scalar instead, but in the future will perform elementwise comparison\n",
      "  mask |= (ar1 == a)\n",
      "2000138it [00:26, 75155.74it/s]\n"
     ]
    },
    {
     "name": "stdout",
     "output_type": "stream",
     "text": [
      "./../Datastore/Unlabelled_reports_1.csv\n"
     ]
    },
    {
     "name": "stderr",
     "output_type": "stream",
     "text": [
      "2000007it [00:21, 93480.70it/s]\n"
     ]
    },
    {
     "name": "stdout",
     "output_type": "stream",
     "text": [
      "./../Datastore/Unlabelled_reports_2.csv\n"
     ]
    },
    {
     "name": "stderr",
     "output_type": "stream",
     "text": [
      "2000047it [00:33, 60253.07it/s]\n"
     ]
    },
    {
     "name": "stdout",
     "output_type": "stream",
     "text": [
      "./../Datastore/Unlabelled_reports_3.csv\n"
     ]
    },
    {
     "name": "stderr",
     "output_type": "stream",
     "text": [
      "2000022it [00:24, 80903.43it/s]\n"
     ]
    },
    {
     "name": "stdout",
     "output_type": "stream",
     "text": [
      "./../Datastore/Unlabelled_reports_4.csv\n"
     ]
    },
    {
     "name": "stderr",
     "output_type": "stream",
     "text": [
      "2000471it [00:25, 78177.01it/s]\n"
     ]
    },
    {
     "name": "stdout",
     "output_type": "stream",
     "text": [
      "./../Datastore/Unlabelled_reports_5.csv\n"
     ]
    },
    {
     "name": "stderr",
     "output_type": "stream",
     "text": [
      "2000567it [00:24, 81363.71it/s]\n"
     ]
    },
    {
     "name": "stdout",
     "output_type": "stream",
     "text": [
      "./../Datastore/Unlabelled_reports_6.csv\n"
     ]
    },
    {
     "name": "stderr",
     "output_type": "stream",
     "text": [
      "2000130it [00:23, 85091.09it/s]\n"
     ]
    },
    {
     "name": "stdout",
     "output_type": "stream",
     "text": [
      "./../Datastore/Unlabelled_reports_7.csv\n"
     ]
    },
    {
     "name": "stderr",
     "output_type": "stream",
     "text": [
      "2000541it [00:19, 102067.72it/s]\n"
     ]
    },
    {
     "name": "stdout",
     "output_type": "stream",
     "text": [
      "./../Datastore/Unlabelled_reports_8.csv\n"
     ]
    },
    {
     "name": "stderr",
     "output_type": "stream",
     "text": [
      "2000282it [00:26, 76861.63it/s]\n"
     ]
    },
    {
     "name": "stdout",
     "output_type": "stream",
     "text": [
      "./../Datastore/Unlabelled_reports_9.csv\n"
     ]
    },
    {
     "name": "stderr",
     "output_type": "stream",
     "text": [
      "2000016it [00:22, 89398.30it/s]\n"
     ]
    },
    {
     "name": "stdout",
     "output_type": "stream",
     "text": [
      "./../Datastore/Unlabelled_reports_10.csv\n"
     ]
    },
    {
     "name": "stderr",
     "output_type": "stream",
     "text": [
      "2000165it [00:19, 100967.71it/s]\n"
     ]
    },
    {
     "name": "stdout",
     "output_type": "stream",
     "text": [
      "./../Datastore/Unlabelled_reports_11.csv\n"
     ]
    },
    {
     "name": "stderr",
     "output_type": "stream",
     "text": [
      "2000021it [00:20, 99644.28it/s] \n"
     ]
    },
    {
     "name": "stdout",
     "output_type": "stream",
     "text": [
      "./../Datastore/Unlabelled_reports_12.csv\n"
     ]
    },
    {
     "name": "stderr",
     "output_type": "stream",
     "text": [
      "2000114it [00:34, 58652.94it/s]\n"
     ]
    },
    {
     "name": "stdout",
     "output_type": "stream",
     "text": [
      "./../Datastore/Unlabelled_reports_13.csv\n"
     ]
    },
    {
     "name": "stderr",
     "output_type": "stream",
     "text": [
      "2000038it [00:24, 81822.29it/s]\n"
     ]
    },
    {
     "name": "stdout",
     "output_type": "stream",
     "text": [
      "./../Datastore/Unlabelled_reports_14.csv\n"
     ]
    },
    {
     "name": "stderr",
     "output_type": "stream",
     "text": [
      "2000304it [00:20, 99157.40it/s] \n"
     ]
    },
    {
     "name": "stdout",
     "output_type": "stream",
     "text": [
      "./../Datastore/Unlabelled_reports_15.csv\n"
     ]
    },
    {
     "name": "stderr",
     "output_type": "stream",
     "text": [
      "2000019it [00:18, 110092.70it/s]\n"
     ]
    },
    {
     "name": "stdout",
     "output_type": "stream",
     "text": [
      "./../Datastore/Unlabelled_reports_16.csv\n"
     ]
    },
    {
     "name": "stderr",
     "output_type": "stream",
     "text": [
      "2000455it [00:26, 74930.11it/s]\n"
     ]
    },
    {
     "name": "stdout",
     "output_type": "stream",
     "text": [
      "./../Datastore/Unlabelled_reports_17.csv\n"
     ]
    },
    {
     "name": "stderr",
     "output_type": "stream",
     "text": [
      "2000040it [00:23, 84238.70it/s]\n"
     ]
    },
    {
     "name": "stdout",
     "output_type": "stream",
     "text": [
      "./../Datastore/Unlabelled_reports_18.csv\n"
     ]
    },
    {
     "name": "stderr",
     "output_type": "stream",
     "text": [
      "2000023it [00:17, 114153.31it/s]\n"
     ]
    },
    {
     "name": "stdout",
     "output_type": "stream",
     "text": [
      "./../Datastore/Unlabelled_reports_19.csv\n"
     ]
    },
    {
     "name": "stderr",
     "output_type": "stream",
     "text": [
      "2000058it [00:16, 123284.38it/s]\n"
     ]
    },
    {
     "name": "stdout",
     "output_type": "stream",
     "text": [
      "./../Datastore/Unlabelled_reports_20.csv\n"
     ]
    },
    {
     "name": "stderr",
     "output_type": "stream",
     "text": [
      "2000016it [00:18, 106725.48it/s]\n"
     ]
    },
    {
     "name": "stdout",
     "output_type": "stream",
     "text": [
      "./../Datastore/Unlabelled_reports_21.csv\n"
     ]
    },
    {
     "name": "stderr",
     "output_type": "stream",
     "text": [
      "2000294it [00:19, 102035.49it/s]\n",
      "0it [00:00, ?it/s]"
     ]
    },
    {
     "name": "stdout",
     "output_type": "stream",
     "text": [
      "./../Datastore/Unlabelled_reports_22.csv\n"
     ]
    },
    {
     "name": "stderr",
     "output_type": "stream",
     "text": [
      "332782it [00:05, 55915.15it/s] "
     ]
    },
    {
     "name": "stdout",
     "output_type": "stream",
     "text": [
      "Finished\n"
     ]
    },
    {
     "name": "stderr",
     "output_type": "stream",
     "text": [
      "\n"
     ]
    }
   ],
   "source": [
    "host_attacks = {attk: {} for attk in indexes}\n",
    "host_attacks['Labelled'] = {}\n",
    "\n",
    "for attack in indexes:\n",
    "    print(attack)\n",
    "    files = []\n",
    "    if attack == 'Unlabelled':\n",
    "        # There are 23 files containing Unlabelled reports\n",
    "        for i in range(23):\n",
    "            files.append(('./../Datastore/%s_reports_%s.csv'%(attack,i), attack, i))\n",
    "    else:\n",
    "        files.append(('./../Datastore/%s_reports.csv'%attack, attack, None))\n",
    "    #########################\n",
    "    \n",
    "    # Process the files\n",
    "    for file_name, a, file_num in files:\n",
    "        print(file_name)\n",
    "        with open(file_name) as data_file:\n",
    "            filereader = csv.reader(data_file)\n",
    "            if attack == 'Unlabelled':\n",
    "                activity_relabel = pd.read_csv('./../Unlabelled_predictions/%s_predictions_%s.csv'%(a, file_num),\n",
    "                                               index_col=[0], header=None)\n",
    "                activity_relabel = activity_relabel.transpose().values[0]\n",
    "            for n, report in enumerate(tqdm.tqdm(filereader)):\n",
    "                try:\n",
    "                    # Unpack Row information\n",
    "                    splits = report[0:9]\n",
    "\n",
    "                    day = splits[5]\n",
    "                    month = splits[6]\n",
    "                    year = splits[7]\n",
    "                    datasource = splits[8]        \n",
    "                    org = splits[3]\n",
    "                    asn = splits[2]\n",
    "                    cc = splits[1]\n",
    "                    ip = splits[0]\n",
    "                    \n",
    "                    # Compute week bins\n",
    "                    iso_cal = make_date(day, month, year)\n",
    "                    year_num, week_num, weekday_num = iso_cal\n",
    "\n",
    "                    # Invalid Timestamp, likely 0.\n",
    "                    if year_num == 1970:\n",
    "                        continue\n",
    "                    week = (year_num-1970)*52 + week_num\n",
    "\n",
    "                except Exception, e: \n",
    "                    print(str(e))\n",
    "\n",
    "                if ip is None or ip == '':\n",
    "                    print(\"Skipping invalid IP: %s\" % ip)\n",
    "                    continue\n",
    "\n",
    "                # Relabelling unlabelled reports\n",
    "                if (attack == 'Unlabelled'):\n",
    "                    attack_label = attack_map[activity_relabel[n]]\n",
    "                else:\n",
    "                    attack_label = attack\n",
    "\n",
    "                # Selected key 'i' for scrutiny\n",
    "                i = week\n",
    "                host = cc\n",
    "                if i not in host_attacks[attack_label]:\n",
    "                    host_attacks[attack_label][i] = {}\n",
    "                # Initialise the host holder for the key\n",
    "                if host not in host_attacks[attack_label][i]:\n",
    "                    host_attacks[attack_label][i][host] = 0\n",
    "                # Increment the attack, key, host value\n",
    "                host_attacks[attack_label][i][host] += 1\n",
    "\n",
    "                # We maintain a distinct class for Labelled Data\n",
    "                if attack_label != 'Unlabelled':\n",
    "                    if i not in host_attacks['Labelled']:\n",
    "                        host_attacks['Labelled'][i] = {}\n",
    "                    # Initialise the host holder for the key\n",
    "                    if host not in host_attacks['Labelled'][i]:\n",
    "                        host_attacks['Labelled'][i][host] = 0\n",
    "                    # Increment the attack, key, host value\n",
    "                    host_attacks['Labelled'][i][host] += 1\n",
    "\n",
    "print('Finished')"
   ]
  },
  {
   "cell_type": "code",
   "execution_count": 5,
   "metadata": {},
   "outputs": [],
   "source": [
    "df = {}\n",
    "# Turn the dictionary of dictionaries into dictionaries of DataFrames\n",
    "for attack in host_attacks:\n",
    "    df[attack] = pd.DataFrame(host_attacks[attack])\n",
    "    df[attack].fillna(0, inplace=True)"
   ]
  },
  {
   "cell_type": "code",
   "execution_count": 6,
   "metadata": {},
   "outputs": [],
   "source": [
    "# Transpose the dataframe, such that the weeks are on the index.\n",
    "for attack in host_attacks:\n",
    "    df[attack] = df[attack].transpose()"
   ]
  },
  {
   "cell_type": "code",
   "execution_count": 7,
   "metadata": {},
   "outputs": [],
   "source": [
    "# Our temporal analysis does not consider the remaining Unlabelled reports\n",
    "del df['Unlabelled']"
   ]
  },
  {
   "cell_type": "markdown",
   "metadata": {},
   "source": [
    "# Churn Model Fitting"
   ]
  },
  {
   "cell_type": "code",
   "execution_count": 8,
   "metadata": {},
   "outputs": [],
   "source": [
    "new_df = df\n",
    "\n",
    "# The array should be a sparse array, with sequentially increasing\n",
    "# time bins, each containing the number of reports for a host.\n",
    "def compute_lifetimes(arr):\n",
    "    # To maintain time of each mal-activity campaign\n",
    "    results = {'Death': [],'Life': []}\n",
    "    # To maintain number of reports of each mal-activity campaign\n",
    "    s_results = {'Death': [],'Life': []}\n",
    "    # Start all hosts in a death state\n",
    "    curr_track = 'Death'\n",
    "    # Current life or death week tracking\n",
    "    track_time = 0\n",
    "    track_severity = 0\n",
    "    for time_dur in arr:\n",
    "        if time_dur > 0:\n",
    "            if curr_track == 'Life':\n",
    "                track_time += 1\n",
    "                track_severity += time_dur\n",
    "            else:\n",
    "                results[curr_track].append(track_time)\n",
    "                s_results[curr_track].append(track_severity)\n",
    "                track_time = 1\n",
    "                track_severity = time_dur\n",
    "                curr_track = 'Life'\n",
    "\n",
    "        else:\n",
    "            if curr_track == 'Death':\n",
    "                track_time += 1\n",
    "                track_severity += time_dur\n",
    "            else:\n",
    "                results[curr_track].append(track_time)\n",
    "                s_results[curr_track].append(track_severity)\n",
    "                track_time = 1\n",
    "                track_severity= time_dur\n",
    "                curr_track = 'Death'\n",
    "                \n",
    "    results[curr_track].append(track_time)\n",
    "    s_results[curr_track].append(track_severity)\n",
    "                \n",
    "    if len(results['Life']) == 0:\n",
    "        return None\n",
    "    \n",
    "    assert len(results['Life']) == len(s_results['Life'])\n",
    "    \n",
    "    return (np.mean(results['Life']), np.mean(results['Death']),\n",
    "            np.mean(s_results['Life']), np.mean(s_results['Death']),\n",
    "            np.mean(np.divide(s_results['Life'], results['Life'])),\n",
    "            len(results['Life']), len(results['Death'])\n",
    "           )\n",
    "res_arr = {}"
   ]
  },
  {
   "cell_type": "code",
   "execution_count": 9,
   "metadata": {},
   "outputs": [
    {
     "name": "stdout",
     "output_type": "stream",
     "text": [
      "Spammers\n",
      "Malware\n",
      "Exploits\n",
      "Phishing\n",
      "Fraudlent Services\n",
      "Unwanted Programs\n",
      "Labelled\n",
      "Finished\n"
     ]
    }
   ],
   "source": [
    "# Compute lifetime statistice for every host\n",
    "res_arr = {}\n",
    "for attack in new_df:\n",
    "    print(attack)\n",
    "    res_arr[attack] = {}\n",
    "    for col in new_df[attack]:\n",
    "\n",
    "        res = compute_lifetimes(new_df[attack][col])\n",
    "\n",
    "        if res is not None:\n",
    "            res_arr[attack][col] = res\n",
    "\n",
    "print('Finished')"
   ]
  },
  {
   "cell_type": "code",
   "execution_count": 10,
   "metadata": {},
   "outputs": [],
   "source": [
    "life_death_recipr_df_holder = {}\n",
    "for attack in new_df:\n",
    "    life_death_df = pd.DataFrame(res_arr[attack])\n",
    "\n",
    "    life_death_df.index = ['Life', 'Death', 'Life_S', 'Death_S',\n",
    "                           'Severity', 'n_Life', 'n_Death']\n",
    "    \n",
    "    recipricol_mean_duration = {}\n",
    "    for host in life_death_df:\n",
    "        l, d, l_s, d_s, s, n_l, n_d = life_death_df[host]\n",
    "        recipricol_mean_duration[host] = 1/(l+d)\n",
    "        \n",
    "    life_death_recipr_df = life_death_df.append(\n",
    "                pd.DataFrame(recipricol_mean_duration, index=[0]))\n",
    "\n",
    "    life_death_recipr_df.index = ['Life', 'Death', 'Life_S', 'Death_S',\n",
    "                                  'Severity', 'Number of Lives',\n",
    "                                  'Number of Deaths',\n",
    "                                  'Reciprocal Mean Duration']\n",
    "\n",
    "    life_death_recipr_df_holder[attack] = life_death_recipr_df"
   ]
  },
  {
   "cell_type": "code",
   "execution_count": 11,
   "metadata": {},
   "outputs": [],
   "source": [
    "# Drop Invalid entries\n",
    "for attk in life_death_recipr_df_holder:\n",
    "    life_death_recipr_df_holder[attk].drop('', axis=1, inplace=True,\n",
    "                                           errors='ignore')\n",
    "    life_death_recipr_df_holder[attk].drop('-1', axis=1, inplace=True,\n",
    "                                           errors='ignore')\n",
    "    life_death_recipr_df_holder[attk].drop('unknown', axis=1, inplace=True,\n",
    "                                           errors='ignore')"
   ]
  },
  {
   "cell_type": "code",
   "execution_count": 12,
   "metadata": {},
   "outputs": [],
   "source": [
    "# If carrying through to next section\n",
    "# weekly_life_death_severity_reciprical\n",
    "week_l_d_s_r = life_death_recipr_df_holder"
   ]
  },
  {
   "cell_type": "code",
   "execution_count": 13,
   "metadata": {},
   "outputs": [
    {
     "name": "stdout",
     "output_type": "stream",
     "text": [
      "Saving Statistics in:\n",
      "./cc_churn_stats/Spammers_weekly_churn_CC.csv\n",
      "./cc_churn_stats/Malware_weekly_churn_CC.csv\n",
      "./cc_churn_stats/Exploits_weekly_churn_CC.csv\n",
      "./cc_churn_stats/Phishing_weekly_churn_CC.csv\n",
      "./cc_churn_stats/Fraudlent Services_weekly_churn_CC.csv\n",
      "./cc_churn_stats/Unwanted Programs_weekly_churn_CC.csv\n",
      "./cc_churn_stats/Labelled_weekly_churn_CC.csv\n",
      "Finished\n"
     ]
    }
   ],
   "source": [
    "print(\"Saving Statistics in:\")\n",
    "for attack, values in life_death_recipr_df_holder.items():\n",
    "    out_file_name = \"./cc_churn_stats/%s_weekly_churn_CC.csv\" % attack\n",
    "    print(out_file_name)\n",
    "    values.to_csv(out_file_name, header=True, index=True, encoding='utf-8')\n",
    "print(\"Finished\")"
   ]
  },
  {
   "cell_type": "markdown",
   "metadata": {},
   "source": [
    "# Analysis Code"
   ]
  },
  {
   "cell_type": "markdown",
   "metadata": {},
   "source": [
    "## Import previously computed statistics"
   ]
  },
  {
   "cell_type": "code",
   "execution_count": 14,
   "metadata": {},
   "outputs": [
    {
     "name": "stdout",
     "output_type": "stream",
     "text": [
      "Loading Statistics from:\n",
      "./cc_churn_stats/Spammers_weekly_churn_CC.csv\n",
      "./cc_churn_stats/Malware_weekly_churn_CC.csv\n",
      "./cc_churn_stats/Exploits_weekly_churn_CC.csv\n",
      "./cc_churn_stats/Phishing_weekly_churn_CC.csv\n",
      "./cc_churn_stats/Fraudlent Services_weekly_churn_CC.csv\n",
      "./cc_churn_stats/Unwanted Programs_weekly_churn_CC.csv\n",
      "./cc_churn_stats/Labelled_weekly_churn_CC.csv\n",
      "Finished\n"
     ]
    }
   ],
   "source": [
    "print(\"Loading Statistics from:\")\n",
    "week_l_d_s_r = {}\n",
    "for attack in ['Spammers', 'Malware', 'Exploits', 'Phishing',\n",
    "               'Fraudlent Services', 'Unwanted Programs', 'Labelled']:\n",
    "    in_file_name = \"./cc_churn_stats/%s_weekly_churn_CC.csv\" % attack\n",
    "    print(in_file_name)\n",
    "    week_l_d_s_r[attack] = pd.read_csv(in_file_name, index_col=[0])\n",
    "print(\"Finished\")"
   ]
  },
  {
   "cell_type": "markdown",
   "metadata": {},
   "source": [
    "## Top Lifetime (Persistent)"
   ]
  },
  {
   "cell_type": "code",
   "execution_count": 15,
   "metadata": {
    "scrolled": true
   },
   "outputs": [
    {
     "data": {
      "text/html": [
       "<div>\n",
       "<style scoped>\n",
       "    .dataframe tbody tr th:only-of-type {\n",
       "        vertical-align: middle;\n",
       "    }\n",
       "\n",
       "    .dataframe tbody tr th {\n",
       "        vertical-align: top;\n",
       "    }\n",
       "\n",
       "    .dataframe thead th {\n",
       "        text-align: right;\n",
       "    }\n",
       "</style>\n",
       "<table border=\"1\" class=\"dataframe\">\n",
       "  <thead>\n",
       "    <tr style=\"text-align: right;\">\n",
       "      <th></th>\n",
       "      <th>Life</th>\n",
       "      <th>Death</th>\n",
       "      <th>Life_S</th>\n",
       "      <th>Death_S</th>\n",
       "      <th>Severity</th>\n",
       "      <th>Number of Lives</th>\n",
       "      <th>Number of Deaths</th>\n",
       "      <th>Reciprocal Mean Duration</th>\n",
       "    </tr>\n",
       "  </thead>\n",
       "  <tbody>\n",
       "    <tr>\n",
       "      <th>US</th>\n",
       "      <td>511.000000</td>\n",
       "      <td>0.000000</td>\n",
       "      <td>4.218727e+07</td>\n",
       "      <td>0.0</td>\n",
       "      <td>82558.252446</td>\n",
       "      <td>1.0</td>\n",
       "      <td>1.0</td>\n",
       "      <td>0.001957</td>\n",
       "    </tr>\n",
       "    <tr>\n",
       "      <th>CN</th>\n",
       "      <td>55.750000</td>\n",
       "      <td>8.125000</td>\n",
       "      <td>1.646168e+05</td>\n",
       "      <td>0.0</td>\n",
       "      <td>377.600228</td>\n",
       "      <td>8.0</td>\n",
       "      <td>8.0</td>\n",
       "      <td>0.015656</td>\n",
       "    </tr>\n",
       "    <tr>\n",
       "      <th>BR</th>\n",
       "      <td>54.750000</td>\n",
       "      <td>9.125000</td>\n",
       "      <td>7.062375e+03</td>\n",
       "      <td>0.0</td>\n",
       "      <td>19.637648</td>\n",
       "      <td>8.0</td>\n",
       "      <td>8.0</td>\n",
       "      <td>0.015656</td>\n",
       "    </tr>\n",
       "    <tr>\n",
       "      <th>CA</th>\n",
       "      <td>37.833333</td>\n",
       "      <td>4.384615</td>\n",
       "      <td>4.288500e+03</td>\n",
       "      <td>0.0</td>\n",
       "      <td>21.789258</td>\n",
       "      <td>12.0</td>\n",
       "      <td>13.0</td>\n",
       "      <td>0.023687</td>\n",
       "    </tr>\n",
       "    <tr>\n",
       "      <th>GB</th>\n",
       "      <td>37.666667</td>\n",
       "      <td>4.538462</td>\n",
       "      <td>1.086583e+04</td>\n",
       "      <td>0.0</td>\n",
       "      <td>26.538813</td>\n",
       "      <td>12.0</td>\n",
       "      <td>13.0</td>\n",
       "      <td>0.023694</td>\n",
       "    </tr>\n",
       "    <tr>\n",
       "      <th>RU</th>\n",
       "      <td>33.142857</td>\n",
       "      <td>3.357143</td>\n",
       "      <td>2.383757e+04</td>\n",
       "      <td>0.0</td>\n",
       "      <td>57.471188</td>\n",
       "      <td>14.0</td>\n",
       "      <td>14.0</td>\n",
       "      <td>0.027397</td>\n",
       "    </tr>\n",
       "    <tr>\n",
       "      <th>UA</th>\n",
       "      <td>32.142857</td>\n",
       "      <td>4.357143</td>\n",
       "      <td>1.732421e+04</td>\n",
       "      <td>0.0</td>\n",
       "      <td>79.850993</td>\n",
       "      <td>14.0</td>\n",
       "      <td>14.0</td>\n",
       "      <td>0.027397</td>\n",
       "    </tr>\n",
       "    <tr>\n",
       "      <th>DE</th>\n",
       "      <td>30.437500</td>\n",
       "      <td>1.500000</td>\n",
       "      <td>9.208344e+04</td>\n",
       "      <td>0.0</td>\n",
       "      <td>212.420467</td>\n",
       "      <td>16.0</td>\n",
       "      <td>16.0</td>\n",
       "      <td>0.031311</td>\n",
       "    </tr>\n",
       "    <tr>\n",
       "      <th>TR</th>\n",
       "      <td>30.214286</td>\n",
       "      <td>5.866667</td>\n",
       "      <td>3.338500e+03</td>\n",
       "      <td>0.0</td>\n",
       "      <td>22.135215</td>\n",
       "      <td>14.0</td>\n",
       "      <td>15.0</td>\n",
       "      <td>0.027715</td>\n",
       "    </tr>\n",
       "    <tr>\n",
       "      <th>NL</th>\n",
       "      <td>27.235294</td>\n",
       "      <td>2.823529</td>\n",
       "      <td>2.384224e+04</td>\n",
       "      <td>0.0</td>\n",
       "      <td>57.942177</td>\n",
       "      <td>17.0</td>\n",
       "      <td>17.0</td>\n",
       "      <td>0.033268</td>\n",
       "    </tr>\n",
       "  </tbody>\n",
       "</table>\n",
       "</div>"
      ],
      "text/plain": [
       "          Life     Death        Life_S  Death_S      Severity  \\\n",
       "US  511.000000  0.000000  4.218727e+07      0.0  82558.252446   \n",
       "CN   55.750000  8.125000  1.646168e+05      0.0    377.600228   \n",
       "BR   54.750000  9.125000  7.062375e+03      0.0     19.637648   \n",
       "CA   37.833333  4.384615  4.288500e+03      0.0     21.789258   \n",
       "GB   37.666667  4.538462  1.086583e+04      0.0     26.538813   \n",
       "RU   33.142857  3.357143  2.383757e+04      0.0     57.471188   \n",
       "UA   32.142857  4.357143  1.732421e+04      0.0     79.850993   \n",
       "DE   30.437500  1.500000  9.208344e+04      0.0    212.420467   \n",
       "TR   30.214286  5.866667  3.338500e+03      0.0     22.135215   \n",
       "NL   27.235294  2.823529  2.384224e+04      0.0     57.942177   \n",
       "\n",
       "    Number of Lives  Number of Deaths  Reciprocal Mean Duration  \n",
       "US              1.0               1.0                  0.001957  \n",
       "CN              8.0               8.0                  0.015656  \n",
       "BR              8.0               8.0                  0.015656  \n",
       "CA             12.0              13.0                  0.023687  \n",
       "GB             12.0              13.0                  0.023694  \n",
       "RU             14.0              14.0                  0.027397  \n",
       "UA             14.0              14.0                  0.027397  \n",
       "DE             16.0              16.0                  0.031311  \n",
       "TR             14.0              15.0                  0.027715  \n",
       "NL             17.0              17.0                  0.033268  "
      ]
     },
     "execution_count": 15,
     "metadata": {},
     "output_type": "execute_result"
    }
   ],
   "source": [
    "temp = week_l_d_s_r['Labelled'].transpose()\n",
    "temp.sort_values('Life', ascending=False).head(10)"
   ]
  },
  {
   "cell_type": "markdown",
   "metadata": {
    "collapsed": true
   },
   "source": [
    "## Lowest Deathtime (Resilient)"
   ]
  },
  {
   "cell_type": "code",
   "execution_count": 16,
   "metadata": {
    "scrolled": true
   },
   "outputs": [
    {
     "data": {
      "text/html": [
       "<div>\n",
       "<style scoped>\n",
       "    .dataframe tbody tr th:only-of-type {\n",
       "        vertical-align: middle;\n",
       "    }\n",
       "\n",
       "    .dataframe tbody tr th {\n",
       "        vertical-align: top;\n",
       "    }\n",
       "\n",
       "    .dataframe thead th {\n",
       "        text-align: right;\n",
       "    }\n",
       "</style>\n",
       "<table border=\"1\" class=\"dataframe\">\n",
       "  <thead>\n",
       "    <tr style=\"text-align: right;\">\n",
       "      <th></th>\n",
       "      <th>Life</th>\n",
       "      <th>Death</th>\n",
       "      <th>Life_S</th>\n",
       "      <th>Death_S</th>\n",
       "      <th>Severity</th>\n",
       "      <th>Number of Lives</th>\n",
       "      <th>Number of Deaths</th>\n",
       "      <th>Reciprocal Mean Duration</th>\n",
       "    </tr>\n",
       "  </thead>\n",
       "  <tbody>\n",
       "    <tr>\n",
       "      <th>US</th>\n",
       "      <td>511.000000</td>\n",
       "      <td>0.000000</td>\n",
       "      <td>4.218727e+07</td>\n",
       "      <td>0.0</td>\n",
       "      <td>82558.252446</td>\n",
       "      <td>1.0</td>\n",
       "      <td>1.0</td>\n",
       "      <td>0.001957</td>\n",
       "    </tr>\n",
       "    <tr>\n",
       "      <th>DE</th>\n",
       "      <td>30.437500</td>\n",
       "      <td>1.500000</td>\n",
       "      <td>9.208344e+04</td>\n",
       "      <td>0.0</td>\n",
       "      <td>212.420467</td>\n",
       "      <td>16.0</td>\n",
       "      <td>16.0</td>\n",
       "      <td>0.031311</td>\n",
       "    </tr>\n",
       "    <tr>\n",
       "      <th>VG</th>\n",
       "      <td>9.041667</td>\n",
       "      <td>1.604167</td>\n",
       "      <td>4.315104e+03</td>\n",
       "      <td>0.0</td>\n",
       "      <td>22.614989</td>\n",
       "      <td>48.0</td>\n",
       "      <td>48.0</td>\n",
       "      <td>0.093933</td>\n",
       "    </tr>\n",
       "    <tr>\n",
       "      <th>FR</th>\n",
       "      <td>23.750000</td>\n",
       "      <td>1.800000</td>\n",
       "      <td>6.371640e+04</td>\n",
       "      <td>0.0</td>\n",
       "      <td>148.543893</td>\n",
       "      <td>20.0</td>\n",
       "      <td>20.0</td>\n",
       "      <td>0.039139</td>\n",
       "    </tr>\n",
       "    <tr>\n",
       "      <th>NA</th>\n",
       "      <td>9.333333</td>\n",
       "      <td>1.978261</td>\n",
       "      <td>1.401111e+03</td>\n",
       "      <td>0.0</td>\n",
       "      <td>27.087830</td>\n",
       "      <td>45.0</td>\n",
       "      <td>46.0</td>\n",
       "      <td>0.088405</td>\n",
       "    </tr>\n",
       "    <tr>\n",
       "      <th>--</th>\n",
       "      <td>7.803922</td>\n",
       "      <td>2.215686</td>\n",
       "      <td>4.627629e+04</td>\n",
       "      <td>0.0</td>\n",
       "      <td>216.887902</td>\n",
       "      <td>51.0</td>\n",
       "      <td>51.0</td>\n",
       "      <td>0.099804</td>\n",
       "    </tr>\n",
       "    <tr>\n",
       "      <th>AU</th>\n",
       "      <td>13.625000</td>\n",
       "      <td>2.343750</td>\n",
       "      <td>1.903531e+03</td>\n",
       "      <td>0.0</td>\n",
       "      <td>12.819946</td>\n",
       "      <td>32.0</td>\n",
       "      <td>32.0</td>\n",
       "      <td>0.062622</td>\n",
       "    </tr>\n",
       "    <tr>\n",
       "      <th>SG</th>\n",
       "      <td>7.094340</td>\n",
       "      <td>2.547170</td>\n",
       "      <td>6.307358e+02</td>\n",
       "      <td>0.0</td>\n",
       "      <td>6.385917</td>\n",
       "      <td>53.0</td>\n",
       "      <td>53.0</td>\n",
       "      <td>0.103718</td>\n",
       "    </tr>\n",
       "    <tr>\n",
       "      <th>NL</th>\n",
       "      <td>27.235294</td>\n",
       "      <td>2.823529</td>\n",
       "      <td>2.384224e+04</td>\n",
       "      <td>0.0</td>\n",
       "      <td>57.942177</td>\n",
       "      <td>17.0</td>\n",
       "      <td>17.0</td>\n",
       "      <td>0.033268</td>\n",
       "    </tr>\n",
       "    <tr>\n",
       "      <th>HK</th>\n",
       "      <td>11.628571</td>\n",
       "      <td>2.888889</td>\n",
       "      <td>1.287286e+03</td>\n",
       "      <td>0.0</td>\n",
       "      <td>10.608218</td>\n",
       "      <td>35.0</td>\n",
       "      <td>36.0</td>\n",
       "      <td>0.068883</td>\n",
       "    </tr>\n",
       "  </tbody>\n",
       "</table>\n",
       "</div>"
      ],
      "text/plain": [
       "          Life     Death        Life_S  Death_S      Severity  \\\n",
       "US  511.000000  0.000000  4.218727e+07      0.0  82558.252446   \n",
       "DE   30.437500  1.500000  9.208344e+04      0.0    212.420467   \n",
       "VG    9.041667  1.604167  4.315104e+03      0.0     22.614989   \n",
       "FR   23.750000  1.800000  6.371640e+04      0.0    148.543893   \n",
       "NA    9.333333  1.978261  1.401111e+03      0.0     27.087830   \n",
       "--    7.803922  2.215686  4.627629e+04      0.0    216.887902   \n",
       "AU   13.625000  2.343750  1.903531e+03      0.0     12.819946   \n",
       "SG    7.094340  2.547170  6.307358e+02      0.0      6.385917   \n",
       "NL   27.235294  2.823529  2.384224e+04      0.0     57.942177   \n",
       "HK   11.628571  2.888889  1.287286e+03      0.0     10.608218   \n",
       "\n",
       "    Number of Lives  Number of Deaths  Reciprocal Mean Duration  \n",
       "US              1.0               1.0                  0.001957  \n",
       "DE             16.0              16.0                  0.031311  \n",
       "VG             48.0              48.0                  0.093933  \n",
       "FR             20.0              20.0                  0.039139  \n",
       "NA             45.0              46.0                  0.088405  \n",
       "--             51.0              51.0                  0.099804  \n",
       "AU             32.0              32.0                  0.062622  \n",
       "SG             53.0              53.0                  0.103718  \n",
       "NL             17.0              17.0                  0.033268  \n",
       "HK             35.0              36.0                  0.068883  "
      ]
     },
     "execution_count": 16,
     "metadata": {},
     "output_type": "execute_result"
    }
   ],
   "source": [
    "temp = week_l_d_s_r['Labelled'].transpose()\n",
    "temp.sort_values('Death', ascending=True).head(10)"
   ]
  },
  {
   "cell_type": "markdown",
   "metadata": {},
   "source": [
    "## Top Rate of Arrival (Recurrent)"
   ]
  },
  {
   "cell_type": "code",
   "execution_count": 17,
   "metadata": {
    "scrolled": true
   },
   "outputs": [
    {
     "data": {
      "text/html": [
       "<div>\n",
       "<style scoped>\n",
       "    .dataframe tbody tr th:only-of-type {\n",
       "        vertical-align: middle;\n",
       "    }\n",
       "\n",
       "    .dataframe tbody tr th {\n",
       "        vertical-align: top;\n",
       "    }\n",
       "\n",
       "    .dataframe thead th {\n",
       "        text-align: right;\n",
       "    }\n",
       "</style>\n",
       "<table border=\"1\" class=\"dataframe\">\n",
       "  <thead>\n",
       "    <tr style=\"text-align: right;\">\n",
       "      <th></th>\n",
       "      <th>Life</th>\n",
       "      <th>Death</th>\n",
       "      <th>Life_S</th>\n",
       "      <th>Death_S</th>\n",
       "      <th>Severity</th>\n",
       "      <th>Number of Lives</th>\n",
       "      <th>Number of Deaths</th>\n",
       "      <th>Reciprocal Mean Duration</th>\n",
       "    </tr>\n",
       "  </thead>\n",
       "  <tbody>\n",
       "    <tr>\n",
       "      <th>CO</th>\n",
       "      <td>2.708861</td>\n",
       "      <td>3.712500</td>\n",
       "      <td>46.367089</td>\n",
       "      <td>0.0</td>\n",
       "      <td>7.923564</td>\n",
       "      <td>79.0</td>\n",
       "      <td>80.0</td>\n",
       "      <td>0.155730</td>\n",
       "    </tr>\n",
       "    <tr>\n",
       "      <th>PA</th>\n",
       "      <td>3.373333</td>\n",
       "      <td>3.394737</td>\n",
       "      <td>62.640000</td>\n",
       "      <td>0.0</td>\n",
       "      <td>10.880900</td>\n",
       "      <td>75.0</td>\n",
       "      <td>76.0</td>\n",
       "      <td>0.147753</td>\n",
       "    </tr>\n",
       "    <tr>\n",
       "      <th>BS</th>\n",
       "      <td>2.111111</td>\n",
       "      <td>4.917808</td>\n",
       "      <td>121.236111</td>\n",
       "      <td>0.0</td>\n",
       "      <td>19.561890</td>\n",
       "      <td>72.0</td>\n",
       "      <td>73.0</td>\n",
       "      <td>0.142269</td>\n",
       "    </tr>\n",
       "    <tr>\n",
       "      <th>NO</th>\n",
       "      <td>3.528571</td>\n",
       "      <td>3.718310</td>\n",
       "      <td>48.928571</td>\n",
       "      <td>0.0</td>\n",
       "      <td>6.759195</td>\n",
       "      <td>70.0</td>\n",
       "      <td>71.0</td>\n",
       "      <td>0.137990</td>\n",
       "    </tr>\n",
       "    <tr>\n",
       "      <th>MX</th>\n",
       "      <td>3.685714</td>\n",
       "      <td>3.563380</td>\n",
       "      <td>85.557143</td>\n",
       "      <td>0.0</td>\n",
       "      <td>11.777853</td>\n",
       "      <td>70.0</td>\n",
       "      <td>71.0</td>\n",
       "      <td>0.137948</td>\n",
       "    </tr>\n",
       "    <tr>\n",
       "      <th>GE</th>\n",
       "      <td>3.086957</td>\n",
       "      <td>4.257143</td>\n",
       "      <td>55.115942</td>\n",
       "      <td>0.0</td>\n",
       "      <td>6.935507</td>\n",
       "      <td>69.0</td>\n",
       "      <td>70.0</td>\n",
       "      <td>0.136164</td>\n",
       "    </tr>\n",
       "    <tr>\n",
       "      <th>PH</th>\n",
       "      <td>1.705882</td>\n",
       "      <td>5.724638</td>\n",
       "      <td>9.205882</td>\n",
       "      <td>0.0</td>\n",
       "      <td>3.617647</td>\n",
       "      <td>68.0</td>\n",
       "      <td>69.0</td>\n",
       "      <td>0.134580</td>\n",
       "    </tr>\n",
       "    <tr>\n",
       "      <th>NZ</th>\n",
       "      <td>2.546875</td>\n",
       "      <td>5.353846</td>\n",
       "      <td>19.796875</td>\n",
       "      <td>0.0</td>\n",
       "      <td>6.453950</td>\n",
       "      <td>64.0</td>\n",
       "      <td>65.0</td>\n",
       "      <td>0.126571</td>\n",
       "    </tr>\n",
       "    <tr>\n",
       "      <th>ID</th>\n",
       "      <td>4.734375</td>\n",
       "      <td>3.200000</td>\n",
       "      <td>140.656250</td>\n",
       "      <td>0.0</td>\n",
       "      <td>10.632659</td>\n",
       "      <td>64.0</td>\n",
       "      <td>65.0</td>\n",
       "      <td>0.126034</td>\n",
       "    </tr>\n",
       "    <tr>\n",
       "      <th>KZ</th>\n",
       "      <td>4.500000</td>\n",
       "      <td>3.950820</td>\n",
       "      <td>85.150000</td>\n",
       "      <td>0.0</td>\n",
       "      <td>7.347385</td>\n",
       "      <td>60.0</td>\n",
       "      <td>61.0</td>\n",
       "      <td>0.118332</td>\n",
       "    </tr>\n",
       "  </tbody>\n",
       "</table>\n",
       "</div>"
      ],
      "text/plain": [
       "        Life     Death      Life_S  Death_S   Severity  Number of Lives  \\\n",
       "CO  2.708861  3.712500   46.367089      0.0   7.923564             79.0   \n",
       "PA  3.373333  3.394737   62.640000      0.0  10.880900             75.0   \n",
       "BS  2.111111  4.917808  121.236111      0.0  19.561890             72.0   \n",
       "NO  3.528571  3.718310   48.928571      0.0   6.759195             70.0   \n",
       "MX  3.685714  3.563380   85.557143      0.0  11.777853             70.0   \n",
       "GE  3.086957  4.257143   55.115942      0.0   6.935507             69.0   \n",
       "PH  1.705882  5.724638    9.205882      0.0   3.617647             68.0   \n",
       "NZ  2.546875  5.353846   19.796875      0.0   6.453950             64.0   \n",
       "ID  4.734375  3.200000  140.656250      0.0  10.632659             64.0   \n",
       "KZ  4.500000  3.950820   85.150000      0.0   7.347385             60.0   \n",
       "\n",
       "    Number of Deaths  Reciprocal Mean Duration  \n",
       "CO              80.0                  0.155730  \n",
       "PA              76.0                  0.147753  \n",
       "BS              73.0                  0.142269  \n",
       "NO              71.0                  0.137990  \n",
       "MX              71.0                  0.137948  \n",
       "GE              70.0                  0.136164  \n",
       "PH              69.0                  0.134580  \n",
       "NZ              65.0                  0.126571  \n",
       "ID              65.0                  0.126034  \n",
       "KZ              61.0                  0.118332  "
      ]
     },
     "execution_count": 17,
     "metadata": {},
     "output_type": "execute_result"
    }
   ],
   "source": [
    "temp = week_l_d_s_r['Labelled'].transpose()\n",
    "temp.sort_values('Reciprocal Mean Duration', ascending=False).head(10)"
   ]
  },
  {
   "cell_type": "markdown",
   "metadata": {},
   "source": [
    "## Highest Severity (reports per week)"
   ]
  },
  {
   "cell_type": "code",
   "execution_count": 22,
   "metadata": {
    "scrolled": true
   },
   "outputs": [
    {
     "data": {
      "text/html": [
       "<div>\n",
       "<style scoped>\n",
       "    .dataframe tbody tr th:only-of-type {\n",
       "        vertical-align: middle;\n",
       "    }\n",
       "\n",
       "    .dataframe tbody tr th {\n",
       "        vertical-align: top;\n",
       "    }\n",
       "\n",
       "    .dataframe thead th {\n",
       "        text-align: right;\n",
       "    }\n",
       "</style>\n",
       "<table border=\"1\" class=\"dataframe\">\n",
       "  <thead>\n",
       "    <tr style=\"text-align: right;\">\n",
       "      <th></th>\n",
       "      <th>Life</th>\n",
       "      <th>Death</th>\n",
       "      <th>Life_S</th>\n",
       "      <th>Death_S</th>\n",
       "      <th>Severity</th>\n",
       "      <th>Number of Lives</th>\n",
       "      <th>Number of Deaths</th>\n",
       "      <th>Reciprocal Mean Duration</th>\n",
       "    </tr>\n",
       "  </thead>\n",
       "  <tbody>\n",
       "    <tr>\n",
       "      <th>US</th>\n",
       "      <td>511.000000</td>\n",
       "      <td>0.000000</td>\n",
       "      <td>4.218727e+07</td>\n",
       "      <td>0.0</td>\n",
       "      <td>82558.252446</td>\n",
       "      <td>1.0</td>\n",
       "      <td>1.0</td>\n",
       "      <td>0.001957</td>\n",
       "    </tr>\n",
       "    <tr>\n",
       "      <th>CN</th>\n",
       "      <td>55.750000</td>\n",
       "      <td>8.125000</td>\n",
       "      <td>1.646168e+05</td>\n",
       "      <td>0.0</td>\n",
       "      <td>377.600228</td>\n",
       "      <td>8.0</td>\n",
       "      <td>8.0</td>\n",
       "      <td>0.015656</td>\n",
       "    </tr>\n",
       "    <tr>\n",
       "      <th>--</th>\n",
       "      <td>7.803922</td>\n",
       "      <td>2.215686</td>\n",
       "      <td>4.627629e+04</td>\n",
       "      <td>0.0</td>\n",
       "      <td>216.887902</td>\n",
       "      <td>51.0</td>\n",
       "      <td>51.0</td>\n",
       "      <td>0.099804</td>\n",
       "    </tr>\n",
       "    <tr>\n",
       "      <th>DE</th>\n",
       "      <td>30.437500</td>\n",
       "      <td>1.500000</td>\n",
       "      <td>9.208344e+04</td>\n",
       "      <td>0.0</td>\n",
       "      <td>212.420467</td>\n",
       "      <td>16.0</td>\n",
       "      <td>16.0</td>\n",
       "      <td>0.031311</td>\n",
       "    </tr>\n",
       "    <tr>\n",
       "      <th>FR</th>\n",
       "      <td>23.750000</td>\n",
       "      <td>1.800000</td>\n",
       "      <td>6.371640e+04</td>\n",
       "      <td>0.0</td>\n",
       "      <td>148.543893</td>\n",
       "      <td>20.0</td>\n",
       "      <td>20.0</td>\n",
       "      <td>0.039139</td>\n",
       "    </tr>\n",
       "    <tr>\n",
       "      <th>UA</th>\n",
       "      <td>32.142857</td>\n",
       "      <td>4.357143</td>\n",
       "      <td>1.732421e+04</td>\n",
       "      <td>0.0</td>\n",
       "      <td>79.850993</td>\n",
       "      <td>14.0</td>\n",
       "      <td>14.0</td>\n",
       "      <td>0.027397</td>\n",
       "    </tr>\n",
       "    <tr>\n",
       "      <th>EU</th>\n",
       "      <td>11.176471</td>\n",
       "      <td>3.742857</td>\n",
       "      <td>8.068235e+02</td>\n",
       "      <td>0.0</td>\n",
       "      <td>73.239067</td>\n",
       "      <td>34.0</td>\n",
       "      <td>35.0</td>\n",
       "      <td>0.067027</td>\n",
       "    </tr>\n",
       "    <tr>\n",
       "      <th>NL</th>\n",
       "      <td>27.235294</td>\n",
       "      <td>2.823529</td>\n",
       "      <td>2.384224e+04</td>\n",
       "      <td>0.0</td>\n",
       "      <td>57.942177</td>\n",
       "      <td>17.0</td>\n",
       "      <td>17.0</td>\n",
       "      <td>0.033268</td>\n",
       "    </tr>\n",
       "    <tr>\n",
       "      <th>RU</th>\n",
       "      <td>33.142857</td>\n",
       "      <td>3.357143</td>\n",
       "      <td>2.383757e+04</td>\n",
       "      <td>0.0</td>\n",
       "      <td>57.471188</td>\n",
       "      <td>14.0</td>\n",
       "      <td>14.0</td>\n",
       "      <td>0.027397</td>\n",
       "    </tr>\n",
       "    <tr>\n",
       "      <th>BO</th>\n",
       "      <td>1.500000</td>\n",
       "      <td>14.030303</td>\n",
       "      <td>8.431250e+01</td>\n",
       "      <td>0.0</td>\n",
       "      <td>55.880208</td>\n",
       "      <td>32.0</td>\n",
       "      <td>33.0</td>\n",
       "      <td>0.064390</td>\n",
       "    </tr>\n",
       "  </tbody>\n",
       "</table>\n",
       "</div>"
      ],
      "text/plain": [
       "          Life      Death        Life_S  Death_S      Severity  \\\n",
       "US  511.000000   0.000000  4.218727e+07      0.0  82558.252446   \n",
       "CN   55.750000   8.125000  1.646168e+05      0.0    377.600228   \n",
       "--    7.803922   2.215686  4.627629e+04      0.0    216.887902   \n",
       "DE   30.437500   1.500000  9.208344e+04      0.0    212.420467   \n",
       "FR   23.750000   1.800000  6.371640e+04      0.0    148.543893   \n",
       "UA   32.142857   4.357143  1.732421e+04      0.0     79.850993   \n",
       "EU   11.176471   3.742857  8.068235e+02      0.0     73.239067   \n",
       "NL   27.235294   2.823529  2.384224e+04      0.0     57.942177   \n",
       "RU   33.142857   3.357143  2.383757e+04      0.0     57.471188   \n",
       "BO    1.500000  14.030303  8.431250e+01      0.0     55.880208   \n",
       "\n",
       "    Number of Lives  Number of Deaths  Reciprocal Mean Duration  \n",
       "US              1.0               1.0                  0.001957  \n",
       "CN              8.0               8.0                  0.015656  \n",
       "--             51.0              51.0                  0.099804  \n",
       "DE             16.0              16.0                  0.031311  \n",
       "FR             20.0              20.0                  0.039139  \n",
       "UA             14.0              14.0                  0.027397  \n",
       "EU             34.0              35.0                  0.067027  \n",
       "NL             17.0              17.0                  0.033268  \n",
       "RU             14.0              14.0                  0.027397  \n",
       "BO             32.0              33.0                  0.064390  "
      ]
     },
     "execution_count": 22,
     "metadata": {},
     "output_type": "execute_result"
    }
   ],
   "source": [
    "temp = week_l_d_s_r['Labelled'].transpose()\n",
    "temp.sort_values('Severity', ascending=False).head(10)"
   ]
  },
  {
   "cell_type": "markdown",
   "metadata": {},
   "source": [
    "# Additional Analysis"
   ]
  },
  {
   "cell_type": "markdown",
   "metadata": {},
   "source": [
    "## Average Severity between types of mal-activity"
   ]
  },
  {
   "cell_type": "code",
   "execution_count": 19,
   "metadata": {},
   "outputs": [
    {
     "name": "stdout",
     "output_type": "stream",
     "text": [
      "Spammers\n",
      "1.93917364459\n",
      "Malware\n",
      "101.466734584\n",
      "Exploits\n",
      "8.42484051842\n",
      "Phishing\n",
      "56.61024681\n",
      "Fraudlent Services\n",
      "9.02474139794\n",
      "Unwanted Programs\n",
      "5.15943519268\n",
      "Labelled\n",
      "424.396367791\n"
     ]
    }
   ],
   "source": [
    "for attack in week_l_d_s_r:\n",
    "    print(attack)\n",
    "    print(week_l_d_s_r[attack].transpose()['Severity'].mean())"
   ]
  },
  {
   "cell_type": "markdown",
   "metadata": {},
   "source": [
    "## Proportion of (average) 1 Week offenders"
   ]
  },
  {
   "cell_type": "code",
   "execution_count": 21,
   "metadata": {},
   "outputs": [
    {
     "name": "stdout",
     "output_type": "stream",
     "text": [
      "0.174129353234\n"
     ]
    }
   ],
   "source": [
    "temp = week_l_d_s_r['Labelled'].transpose()['Life']\n",
    "\n",
    "onewk = len(temp[temp==1])\n",
    "all_hosts = len(temp)\n",
    "\n",
    "print(1.0*onewk/all_hosts)"
   ]
  },
  {
   "cell_type": "code",
   "execution_count": 23,
   "metadata": {},
   "outputs": [
    {
     "name": "stdout",
     "output_type": "stream",
     "text": [
      "0.0945273631841\n"
     ]
    }
   ],
   "source": [
    "# Proportion with 1 severity (one report per week)\n",
    "temp = week_l_d_s_r['Labelled'].transpose()['Severity']\n",
    "\n",
    "onewk = len(temp[temp==1])\n",
    "all_hosts = len(temp)\n",
    "\n",
    "print(1.0*onewk/all_hosts)"
   ]
  },
  {
   "cell_type": "code",
   "execution_count": 25,
   "metadata": {},
   "outputs": [
    {
     "name": "stdout",
     "output_type": "stream",
     "text": [
      "1\n",
      "201\n",
      "0.00497512437811\n"
     ]
    }
   ],
   "source": [
    "# Number of hosts with >10K severity (reports per week)\n",
    "temp = week_l_d_s_r['Labelled'].transpose()['Severity']\n",
    "\n",
    "found_hosts = len(temp[temp > 10000])\n",
    "all_hosts = len(temp)\n",
    "\n",
    "print(found_hosts)\n",
    "print(all_hosts)\n",
    "print(1.0*found_hosts/all_hosts)"
   ]
  },
  {
   "cell_type": "code",
   "execution_count": null,
   "metadata": {},
   "outputs": [],
   "source": []
  },
  {
   "cell_type": "code",
   "execution_count": null,
   "metadata": {},
   "outputs": [],
   "source": []
  }
 ],
 "metadata": {
  "kernelspec": {
   "display_name": "Python [default]",
   "language": "python",
   "name": "python2"
  },
  "language_info": {
   "codemirror_mode": {
    "name": "ipython",
    "version": 2
   },
   "file_extension": ".py",
   "mimetype": "text/x-python",
   "name": "python",
   "nbconvert_exporter": "python",
   "pygments_lexer": "ipython2",
   "version": "2.7.14"
  }
 },
 "nbformat": 4,
 "nbformat_minor": 1
}
