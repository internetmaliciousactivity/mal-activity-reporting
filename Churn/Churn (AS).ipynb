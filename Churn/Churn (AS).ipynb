{
 "cells": [
  {
   "cell_type": "markdown",
   "metadata": {},
   "source": [
    "# Raw Extraction of required data "
   ]
  },
  {
   "cell_type": "markdown",
   "metadata": {},
   "source": [
    "Note that the raw extraction of required data takes a very long time, the import of pre-computed values is avaliable at the Analysis section."
   ]
  },
  {
   "cell_type": "code",
   "execution_count": 1,
   "metadata": {},
   "outputs": [],
   "source": [
    "import pandas as pd\n",
    "import numpy as np\n",
    "import tqdm\n",
    "import csv\n",
    "from datetime import datetime"
   ]
  },
  {
   "cell_type": "code",
   "execution_count": 2,
   "metadata": {},
   "outputs": [],
   "source": [
    "# Defining the list indexes\n",
    "indexes = {\n",
    "    'Malware':0,\n",
    "    'Phishing':1,\n",
    "    'Exploits':2,\n",
    "    'Fraudlent Services':3,\n",
    "    'Unwanted Programs':4,\n",
    "    'Spammers':5,\n",
    "    'Unlabelled':6,\n",
    "}\n",
    "\n",
    "attack_map = ['Malware', 'Phishing', 'Exploits', 'Fraudlent Services',\n",
    "            'Unwanted Programs', 'Spammers', 'Unlabelled']"
   ]
  },
  {
   "cell_type": "code",
   "execution_count": 3,
   "metadata": {},
   "outputs": [],
   "source": [
    "# Convert date fields back into a python date object\n",
    "date_calculation_cache = {}\n",
    "def make_date(day, month, year):\n",
    "    date = '%s-%s-%s' % (day, month, year)\n",
    "    # Check cache before recomputation\n",
    "    if date not in date_calculation_cache:\n",
    "        iso_cal = datetime.strptime(date, \"%d-%m-%Y\").isocalendar()\n",
    "        date_calculation_cache[date] = iso_cal\n",
    "    else:\n",
    "        iso_cal = date_calculation_cache[date]\n",
    "    return iso_cal"
   ]
  },
  {
   "cell_type": "code",
   "execution_count": 4,
   "metadata": {
    "scrolled": false
   },
   "outputs": [
    {
     "name": "stderr",
     "output_type": "stream",
     "text": [
      "6918it [00:00, 52317.54it/s]\n",
      "0it [00:00, ?it/s]"
     ]
    },
    {
     "name": "stdout",
     "output_type": "stream",
     "text": [
      "Spammers\n",
      "./../Datastore/Spammers_reports.csv\n",
      "Malware\n",
      "./../Datastore/Malware_reports.csv\n"
     ]
    },
    {
     "name": "stderr",
     "output_type": "stream",
     "text": [
      "3190529it [00:25, 123196.75it/s]\n",
      "11750it [00:00, 117463.42it/s]"
     ]
    },
    {
     "name": "stdout",
     "output_type": "stream",
     "text": [
      "Exploits\n",
      "./../Datastore/Exploits_reports.csv\n"
     ]
    },
    {
     "name": "stderr",
     "output_type": "stream",
     "text": [
      "201108it [00:01, 121376.14it/s]\n",
      "8601it [00:00, 85980.77it/s]"
     ]
    },
    {
     "name": "stdout",
     "output_type": "stream",
     "text": [
      "Phishing\n",
      "./../Datastore/Phishing_reports.csv\n"
     ]
    },
    {
     "name": "stderr",
     "output_type": "stream",
     "text": [
      "2382889it [00:27, 87473.31it/s]\n",
      "9742it [00:00, 97388.75it/s]"
     ]
    },
    {
     "name": "stdout",
     "output_type": "stream",
     "text": [
      "Fraudlent Services\n",
      "./../Datastore/Fraudlent Services_reports.csv\n"
     ]
    },
    {
     "name": "stderr",
     "output_type": "stream",
     "text": [
      "829301it [00:07, 113371.10it/s]\n",
      "8006it [00:00, 80032.03it/s]"
     ]
    },
    {
     "name": "stdout",
     "output_type": "stream",
     "text": [
      "Unwanted Programs\n",
      "./../Datastore/Unwanted Programs_reports.csv\n"
     ]
    },
    {
     "name": "stderr",
     "output_type": "stream",
     "text": [
      "698700it [00:09, 69953.22it/s]\n"
     ]
    },
    {
     "name": "stdout",
     "output_type": "stream",
     "text": [
      "Unlabelled\n",
      "./../Datastore/Unlabelled_reports_0.csv\n"
     ]
    },
    {
     "name": "stderr",
     "output_type": "stream",
     "text": [
      "/Users/zha197/.local/lib/python2.7/site-packages/numpy/lib/arraysetops.py:522: FutureWarning: elementwise comparison failed; returning scalar instead, but in the future will perform elementwise comparison\n",
      "  mask |= (ar1 == a)\n",
      "2000138it [00:22, 90371.78it/s]\n"
     ]
    },
    {
     "name": "stdout",
     "output_type": "stream",
     "text": [
      "./../Datastore/Unlabelled_reports_1.csv\n"
     ]
    },
    {
     "name": "stderr",
     "output_type": "stream",
     "text": [
      "2000007it [00:21, 95130.93it/s]\n"
     ]
    },
    {
     "name": "stdout",
     "output_type": "stream",
     "text": [
      "./../Datastore/Unlabelled_reports_2.csv\n"
     ]
    },
    {
     "name": "stderr",
     "output_type": "stream",
     "text": [
      "2000047it [00:21, 93057.30it/s]\n"
     ]
    },
    {
     "name": "stdout",
     "output_type": "stream",
     "text": [
      "./../Datastore/Unlabelled_reports_3.csv\n"
     ]
    },
    {
     "name": "stderr",
     "output_type": "stream",
     "text": [
      "2000022it [00:18, 107886.41it/s]\n"
     ]
    },
    {
     "name": "stdout",
     "output_type": "stream",
     "text": [
      "./../Datastore/Unlabelled_reports_4.csv\n"
     ]
    },
    {
     "name": "stderr",
     "output_type": "stream",
     "text": [
      "2000471it [00:23, 86526.97it/s]\n"
     ]
    },
    {
     "name": "stdout",
     "output_type": "stream",
     "text": [
      "./../Datastore/Unlabelled_reports_5.csv\n"
     ]
    },
    {
     "name": "stderr",
     "output_type": "stream",
     "text": [
      "2000567it [00:31, 63379.57it/s]\n"
     ]
    },
    {
     "name": "stdout",
     "output_type": "stream",
     "text": [
      "./../Datastore/Unlabelled_reports_6.csv\n"
     ]
    },
    {
     "name": "stderr",
     "output_type": "stream",
     "text": [
      "2000130it [00:21, 94260.54it/s]\n"
     ]
    },
    {
     "name": "stdout",
     "output_type": "stream",
     "text": [
      "./../Datastore/Unlabelled_reports_7.csv\n"
     ]
    },
    {
     "name": "stderr",
     "output_type": "stream",
     "text": [
      "2000541it [00:21, 95142.57it/s] \n"
     ]
    },
    {
     "name": "stdout",
     "output_type": "stream",
     "text": [
      "./../Datastore/Unlabelled_reports_8.csv\n"
     ]
    },
    {
     "name": "stderr",
     "output_type": "stream",
     "text": [
      "2000282it [00:18, 106890.38it/s]\n"
     ]
    },
    {
     "name": "stdout",
     "output_type": "stream",
     "text": [
      "./../Datastore/Unlabelled_reports_9.csv\n"
     ]
    },
    {
     "name": "stderr",
     "output_type": "stream",
     "text": [
      "2000016it [00:17, 112952.71it/s]\n"
     ]
    },
    {
     "name": "stdout",
     "output_type": "stream",
     "text": [
      "./../Datastore/Unlabelled_reports_10.csv\n"
     ]
    },
    {
     "name": "stderr",
     "output_type": "stream",
     "text": [
      "2000165it [00:19, 100539.43it/s]\n"
     ]
    },
    {
     "name": "stdout",
     "output_type": "stream",
     "text": [
      "./../Datastore/Unlabelled_reports_11.csv\n"
     ]
    },
    {
     "name": "stderr",
     "output_type": "stream",
     "text": [
      "2000021it [00:18, 109050.65it/s]\n"
     ]
    },
    {
     "name": "stdout",
     "output_type": "stream",
     "text": [
      "./../Datastore/Unlabelled_reports_12.csv\n"
     ]
    },
    {
     "name": "stderr",
     "output_type": "stream",
     "text": [
      "2000114it [00:19, 100111.94it/s]\n"
     ]
    },
    {
     "name": "stdout",
     "output_type": "stream",
     "text": [
      "./../Datastore/Unlabelled_reports_13.csv\n"
     ]
    },
    {
     "name": "stderr",
     "output_type": "stream",
     "text": [
      "2000038it [00:17, 111243.67it/s]\n"
     ]
    },
    {
     "name": "stdout",
     "output_type": "stream",
     "text": [
      "./../Datastore/Unlabelled_reports_14.csv\n"
     ]
    },
    {
     "name": "stderr",
     "output_type": "stream",
     "text": [
      "2000304it [00:20, 96168.77it/s]\n"
     ]
    },
    {
     "name": "stdout",
     "output_type": "stream",
     "text": [
      "./../Datastore/Unlabelled_reports_15.csv\n"
     ]
    },
    {
     "name": "stderr",
     "output_type": "stream",
     "text": [
      "2000019it [00:19, 102045.94it/s]\n"
     ]
    },
    {
     "name": "stdout",
     "output_type": "stream",
     "text": [
      "./../Datastore/Unlabelled_reports_16.csv\n"
     ]
    },
    {
     "name": "stderr",
     "output_type": "stream",
     "text": [
      "2000455it [00:19, 100620.39it/s]\n"
     ]
    },
    {
     "name": "stdout",
     "output_type": "stream",
     "text": [
      "./../Datastore/Unlabelled_reports_17.csv\n"
     ]
    },
    {
     "name": "stderr",
     "output_type": "stream",
     "text": [
      "2000040it [00:17, 111157.46it/s]\n"
     ]
    },
    {
     "name": "stdout",
     "output_type": "stream",
     "text": [
      "./../Datastore/Unlabelled_reports_18.csv\n"
     ]
    },
    {
     "name": "stderr",
     "output_type": "stream",
     "text": [
      "2000023it [00:18, 109771.76it/s]\n"
     ]
    },
    {
     "name": "stdout",
     "output_type": "stream",
     "text": [
      "./../Datastore/Unlabelled_reports_19.csv\n"
     ]
    },
    {
     "name": "stderr",
     "output_type": "stream",
     "text": [
      "2000058it [00:18, 107627.36it/s]\n"
     ]
    },
    {
     "name": "stdout",
     "output_type": "stream",
     "text": [
      "./../Datastore/Unlabelled_reports_20.csv\n"
     ]
    },
    {
     "name": "stderr",
     "output_type": "stream",
     "text": [
      "2000016it [00:16, 124703.87it/s]\n"
     ]
    },
    {
     "name": "stdout",
     "output_type": "stream",
     "text": [
      "./../Datastore/Unlabelled_reports_21.csv\n"
     ]
    },
    {
     "name": "stderr",
     "output_type": "stream",
     "text": [
      "2000294it [00:19, 102401.47it/s]\n"
     ]
    },
    {
     "name": "stdout",
     "output_type": "stream",
     "text": [
      "./../Datastore/Unlabelled_reports_22.csv\n"
     ]
    },
    {
     "name": "stderr",
     "output_type": "stream",
     "text": [
      "332782it [00:02, 116526.84it/s]"
     ]
    },
    {
     "name": "stdout",
     "output_type": "stream",
     "text": [
      "Finished\n"
     ]
    },
    {
     "name": "stderr",
     "output_type": "stream",
     "text": [
      "\n"
     ]
    }
   ],
   "source": [
    "host_attacks = {attk: {} for attk in indexes}\n",
    "host_attacks['Labelled'] = {}\n",
    "\n",
    "for attack in indexes:\n",
    "    print(attack)\n",
    "    files = []\n",
    "    if attack == 'Unlabelled':\n",
    "        # There are 23 files containing Unlabelled reports\n",
    "        for i in range(23):\n",
    "            files.append(('./../Datastore/%s_reports_%s.csv'%(attack,i), attack, i))\n",
    "    else:\n",
    "        files.append(('./../Datastore/%s_reports.csv'%attack, attack, None))\n",
    "    #########################\n",
    "    \n",
    "    # Process the files\n",
    "    for file_name, a, file_num in files:\n",
    "        print(file_name)\n",
    "        with open(file_name) as data_file:\n",
    "            filereader = csv.reader(data_file)\n",
    "            if attack == 'Unlabelled':\n",
    "                activity_relabel = pd.read_csv('./../Unlabelled_predictions/%s_predictions_%s.csv'%(a, file_num),\n",
    "                                               index_col=[0], header=None)\n",
    "                activity_relabel = activity_relabel.transpose().values[0]\n",
    "            for n, report in enumerate(tqdm.tqdm(filereader)):\n",
    "                try:\n",
    "                    # Unpack Row information\n",
    "                    splits = report[0:9]\n",
    "\n",
    "                    day = splits[5]\n",
    "                    month = splits[6]\n",
    "                    year = splits[7]\n",
    "                    datasource = splits[8]        \n",
    "                    org = splits[3]\n",
    "                    asn = splits[2]\n",
    "                    cc = splits[1]\n",
    "                    ip = splits[0]\n",
    "                    \n",
    "                    # Compute week bins\n",
    "                    iso_cal = make_date(day, month, year)\n",
    "                    year_num, week_num, weekday_num = iso_cal\n",
    "\n",
    "                    # Invalid Timestamp, likely 0.\n",
    "                    if year_num == 1970:\n",
    "                        continue\n",
    "                    week = (year_num-1970)*52 + week_num\n",
    "\n",
    "                except Exception, e: \n",
    "                    print(str(e))\n",
    "\n",
    "                if ip is None or ip == '':\n",
    "                    print(\"Skipping invalid IP: %s\" % ip)\n",
    "                    continue\n",
    "\n",
    "                # Relabelling unlabelled reports\n",
    "                if (attack == 'Unlabelled'):\n",
    "                    attack_label = attack_map[activity_relabel[n]]\n",
    "                else:\n",
    "                    attack_label = attack\n",
    "\n",
    "                # Selected key 'i' for scrutiny\n",
    "                i = week\n",
    "                host = asn\n",
    "                if i not in host_attacks[attack_label]:\n",
    "                    host_attacks[attack_label][i] = {}\n",
    "                # Initialise the host holder for the key\n",
    "                if host not in host_attacks[attack_label][i]:\n",
    "                    host_attacks[attack_label][i][host] = 0\n",
    "                # Increment the attack, key, host value\n",
    "                host_attacks[attack_label][i][host] += 1\n",
    "\n",
    "                # We maintain a distinct class for Labelled Data\n",
    "                if attack_label != 'Unlabelled':\n",
    "                    if i not in host_attacks['Labelled']:\n",
    "                        host_attacks['Labelled'][i] = {}\n",
    "                    # Initialise the host holder for the key\n",
    "                    if host not in host_attacks['Labelled'][i]:\n",
    "                        host_attacks['Labelled'][i][host] = 0\n",
    "                    # Increment the attack, key, host value\n",
    "                    host_attacks['Labelled'][i][host] += 1\n",
    "\n",
    "print('Finished')"
   ]
  },
  {
   "cell_type": "code",
   "execution_count": 5,
   "metadata": {},
   "outputs": [],
   "source": [
    "df = {}\n",
    "# Turn the dictionary of dictionaries into dictionaries of DataFrames\n",
    "for attack in host_attacks:\n",
    "    df[attack] = pd.DataFrame(host_attacks[attack])\n",
    "    df[attack].fillna(0, inplace=True)"
   ]
  },
  {
   "cell_type": "code",
   "execution_count": 6,
   "metadata": {},
   "outputs": [],
   "source": [
    "# Transpose the dataframe, such that the weeks are on the index.\n",
    "for attack in host_attacks:\n",
    "    df[attack] = df[attack].transpose()"
   ]
  },
  {
   "cell_type": "code",
   "execution_count": 7,
   "metadata": {},
   "outputs": [],
   "source": [
    "# Our temporal analysis does not consider the remaining Unlabelled reports\n",
    "del df['Unlabelled']"
   ]
  },
  {
   "cell_type": "markdown",
   "metadata": {},
   "source": [
    "# Churn Model Fitting"
   ]
  },
  {
   "cell_type": "code",
   "execution_count": 8,
   "metadata": {},
   "outputs": [],
   "source": [
    "new_df = df\n",
    "\n",
    "# The array should be a sparse array, with sequentially increasing\n",
    "# time bins, each containing the number of reports for a host.\n",
    "def compute_lifetimes(arr):\n",
    "    # To maintain time of each mal-activity campaign\n",
    "    results = {'Death': [],'Life': []}\n",
    "    # To maintain number of reports of each mal-activity campaign\n",
    "    s_results = {'Death': [],'Life': []}\n",
    "    # Start all hosts in a death state\n",
    "    curr_track = 'Death'\n",
    "    # Current life or death week tracking\n",
    "    track_time = 0\n",
    "    track_severity = 0\n",
    "    for time_dur in arr:\n",
    "        if time_dur > 0:\n",
    "            if curr_track == 'Life':\n",
    "                track_time += 1\n",
    "                track_severity += time_dur\n",
    "            else:\n",
    "                results[curr_track].append(track_time)\n",
    "                s_results[curr_track].append(track_severity)\n",
    "                track_time = 1\n",
    "                track_severity = time_dur\n",
    "                curr_track = 'Life'\n",
    "\n",
    "        else:\n",
    "            if curr_track == 'Death':\n",
    "                track_time += 1\n",
    "                track_severity += time_dur\n",
    "            else:\n",
    "                results[curr_track].append(track_time)\n",
    "                s_results[curr_track].append(track_severity)\n",
    "                track_time = 1\n",
    "                track_severity= time_dur\n",
    "                curr_track = 'Death'\n",
    "                \n",
    "    results[curr_track].append(track_time)\n",
    "    s_results[curr_track].append(track_severity)\n",
    "                \n",
    "    if len(results['Life']) == 0:\n",
    "        return None\n",
    "    \n",
    "    assert len(results['Life']) == len(s_results['Life'])\n",
    "    \n",
    "    return (np.mean(results['Life']), np.mean(results['Death']),\n",
    "            np.mean(s_results['Life']), np.mean(s_results['Death']),\n",
    "            np.mean(np.divide(s_results['Life'], results['Life'])),\n",
    "            len(results['Life']), len(results['Death'])\n",
    "           )\n",
    "res_arr = {}"
   ]
  },
  {
   "cell_type": "code",
   "execution_count": 9,
   "metadata": {},
   "outputs": [
    {
     "name": "stdout",
     "output_type": "stream",
     "text": [
      "Spammers\n",
      "Malware\n",
      "Exploits\n",
      "Phishing\n",
      "Fraudlent Services\n",
      "Unwanted Programs\n",
      "Labelled\n",
      "Finished\n"
     ]
    }
   ],
   "source": [
    "# Compute lifetime statistice for every host\n",
    "res_arr = {}\n",
    "for attack in new_df:\n",
    "    print(attack)\n",
    "    res_arr[attack] = {}\n",
    "    for col in new_df[attack]:\n",
    "\n",
    "        res = compute_lifetimes(new_df[attack][col])\n",
    "\n",
    "        if res is not None:\n",
    "            res_arr[attack][col] = res\n",
    "\n",
    "print('Finished')"
   ]
  },
  {
   "cell_type": "code",
   "execution_count": 10,
   "metadata": {},
   "outputs": [],
   "source": [
    "life_death_recipr_df_holder = {}\n",
    "for attack in new_df:\n",
    "    life_death_df = pd.DataFrame(res_arr[attack])\n",
    "\n",
    "    life_death_df.index = ['Life', 'Death', 'Life_S', 'Death_S',\n",
    "                           'Severity', 'n_Life', 'n_Death']\n",
    "    \n",
    "    recipricol_mean_duration = {}\n",
    "    for host in life_death_df:\n",
    "        l, d, l_s, d_s, s, n_l, n_d = life_death_df[host]\n",
    "        recipricol_mean_duration[host] = 1/(l+d)\n",
    "        \n",
    "    life_death_recipr_df = life_death_df.append(\n",
    "                pd.DataFrame(recipricol_mean_duration, index=[0]))\n",
    "\n",
    "    life_death_recipr_df.index = ['Life', 'Death', 'Life_S', 'Death_S',\n",
    "                                  'Severity', 'Number of Lives',\n",
    "                                  'Number of Deaths',\n",
    "                                  'Reciprocal Mean Duration']\n",
    "\n",
    "    life_death_recipr_df_holder[attack] = life_death_recipr_df"
   ]
  },
  {
   "cell_type": "code",
   "execution_count": 11,
   "metadata": {},
   "outputs": [],
   "source": [
    "# Drop Invalid entries\n",
    "for attk in life_death_recipr_df_holder:\n",
    "    life_death_recipr_df_holder[attk].drop('', axis=1, inplace=True,\n",
    "                                           errors='ignore')\n",
    "    life_death_recipr_df_holder[attk].drop('-1', axis=1, inplace=True,\n",
    "                                           errors='ignore')\n",
    "    life_death_recipr_df_holder[attk].drop('unknown', axis=1, inplace=True,\n",
    "                                           errors='ignore')"
   ]
  },
  {
   "cell_type": "code",
   "execution_count": 12,
   "metadata": {},
   "outputs": [],
   "source": [
    "# If carrying through to next section\n",
    "# weekly_life_death_severity_reciprical\n",
    "week_l_d_s_r = life_death_recipr_df_holder"
   ]
  },
  {
   "cell_type": "code",
   "execution_count": 13,
   "metadata": {},
   "outputs": [
    {
     "name": "stdout",
     "output_type": "stream",
     "text": [
      "Saving Statistics in:\n",
      "./as_churn_stats/Spammers_weekly_churn_AS.csv\n",
      "./as_churn_stats/Malware_weekly_churn_AS.csv\n",
      "./as_churn_stats/Exploits_weekly_churn_AS.csv\n",
      "./as_churn_stats/Phishing_weekly_churn_AS.csv\n",
      "./as_churn_stats/Fraudlent Services_weekly_churn_AS.csv\n",
      "./as_churn_stats/Unwanted Programs_weekly_churn_AS.csv\n",
      "./as_churn_stats/Labelled_weekly_churn_AS.csv\n",
      "Finished\n"
     ]
    }
   ],
   "source": [
    "print(\"Saving Statistics in:\")\n",
    "for attack, values in life_death_recipr_df_holder.items():\n",
    "    out_file_name = \"./as_churn_stats/%s_weekly_churn_AS.csv\" % attack\n",
    "    print(out_file_name)\n",
    "    values.to_csv(out_file_name, header=True, index=True, encoding='utf-8')\n",
    "print(\"Finished\")"
   ]
  },
  {
   "cell_type": "markdown",
   "metadata": {},
   "source": [
    "# Analysis Code"
   ]
  },
  {
   "cell_type": "markdown",
   "metadata": {},
   "source": [
    "## Import previously computed statistics"
   ]
  },
  {
   "cell_type": "code",
   "execution_count": 14,
   "metadata": {},
   "outputs": [
    {
     "name": "stdout",
     "output_type": "stream",
     "text": [
      "Loading Statistics from:\n",
      "./as_churn_stats/Spammers_weekly_churn_AS.csv\n",
      "./as_churn_stats/Malware_weekly_churn_AS.csv\n",
      "./as_churn_stats/Exploits_weekly_churn_AS.csv\n",
      "./as_churn_stats/Phishing_weekly_churn_AS.csv\n",
      "./as_churn_stats/Fraudlent Services_weekly_churn_AS.csv\n",
      "./as_churn_stats/Unwanted Programs_weekly_churn_AS.csv\n",
      "./as_churn_stats/Labelled_weekly_churn_AS.csv\n",
      "Finished\n"
     ]
    }
   ],
   "source": [
    "print(\"Loading Statistics from:\")\n",
    "week_l_d_s_r = {}\n",
    "for attack in ['Spammers', 'Malware', 'Exploits', 'Phishing',\n",
    "               'Fraudlent Services', 'Unwanted Programs', 'Labelled']:\n",
    "    in_file_name = \"./as_churn_stats/%s_weekly_churn_AS.csv\" % attack\n",
    "    print(in_file_name)\n",
    "    week_l_d_s_r[attack] = pd.read_csv(in_file_name, index_col=[0])\n",
    "print(\"Finished\")"
   ]
  },
  {
   "cell_type": "markdown",
   "metadata": {},
   "source": [
    "## Top Lifetime (Persistent)"
   ]
  },
  {
   "cell_type": "code",
   "execution_count": 26,
   "metadata": {
    "scrolled": true
   },
   "outputs": [
    {
     "data": {
      "text/html": [
       "<div>\n",
       "<style scoped>\n",
       "    .dataframe tbody tr th:only-of-type {\n",
       "        vertical-align: middle;\n",
       "    }\n",
       "\n",
       "    .dataframe tbody tr th {\n",
       "        vertical-align: top;\n",
       "    }\n",
       "\n",
       "    .dataframe thead th {\n",
       "        text-align: right;\n",
       "    }\n",
       "</style>\n",
       "<table border=\"1\" class=\"dataframe\">\n",
       "  <thead>\n",
       "    <tr style=\"text-align: right;\">\n",
       "      <th></th>\n",
       "      <th>Life</th>\n",
       "      <th>Death</th>\n",
       "      <th>Life_S</th>\n",
       "      <th>Death_S</th>\n",
       "      <th>Severity</th>\n",
       "      <th>Number of Lives</th>\n",
       "      <th>Number of Deaths</th>\n",
       "      <th>Reciprocal Mean Duration</th>\n",
       "    </tr>\n",
       "  </thead>\n",
       "  <tbody>\n",
       "    <tr>\n",
       "      <th>4134</th>\n",
       "      <td>147.000000</td>\n",
       "      <td>23.333333</td>\n",
       "      <td>208362.333333</td>\n",
       "      <td>0.0</td>\n",
       "      <td>476.624905</td>\n",
       "      <td>3.0</td>\n",
       "      <td>3.0</td>\n",
       "      <td>0.005871</td>\n",
       "    </tr>\n",
       "    <tr>\n",
       "      <th>4837</th>\n",
       "      <td>38.909091</td>\n",
       "      <td>6.916667</td>\n",
       "      <td>33749.636364</td>\n",
       "      <td>0.0</td>\n",
       "      <td>157.383452</td>\n",
       "      <td>11.0</td>\n",
       "      <td>12.0</td>\n",
       "      <td>0.021822</td>\n",
       "    </tr>\n",
       "    <tr>\n",
       "      <th>9800</th>\n",
       "      <td>38.000000</td>\n",
       "      <td>236.500000</td>\n",
       "      <td>521.000000</td>\n",
       "      <td>0.0</td>\n",
       "      <td>13.710526</td>\n",
       "      <td>1.0</td>\n",
       "      <td>2.0</td>\n",
       "      <td>0.003643</td>\n",
       "    </tr>\n",
       "    <tr>\n",
       "      <th>32613</th>\n",
       "      <td>28.133333</td>\n",
       "      <td>5.562500</td>\n",
       "      <td>1080.933333</td>\n",
       "      <td>0.0</td>\n",
       "      <td>11.367625</td>\n",
       "      <td>15.0</td>\n",
       "      <td>16.0</td>\n",
       "      <td>0.029677</td>\n",
       "    </tr>\n",
       "    <tr>\n",
       "      <th>28753</th>\n",
       "      <td>26.187500</td>\n",
       "      <td>5.411765</td>\n",
       "      <td>1243.812500</td>\n",
       "      <td>0.0</td>\n",
       "      <td>39.717811</td>\n",
       "      <td>16.0</td>\n",
       "      <td>17.0</td>\n",
       "      <td>0.031646</td>\n",
       "    </tr>\n",
       "    <tr>\n",
       "      <th>24940</th>\n",
       "      <td>25.611111</td>\n",
       "      <td>2.777778</td>\n",
       "      <td>3832.888889</td>\n",
       "      <td>0.0</td>\n",
       "      <td>21.727808</td>\n",
       "      <td>18.0</td>\n",
       "      <td>18.0</td>\n",
       "      <td>0.035225</td>\n",
       "    </tr>\n",
       "    <tr>\n",
       "      <th>16276</th>\n",
       "      <td>23.250000</td>\n",
       "      <td>2.300000</td>\n",
       "      <td>52089.750000</td>\n",
       "      <td>0.0</td>\n",
       "      <td>135.970418</td>\n",
       "      <td>20.0</td>\n",
       "      <td>20.0</td>\n",
       "      <td>0.039139</td>\n",
       "    </tr>\n",
       "    <tr>\n",
       "      <th>46514</th>\n",
       "      <td>23.000000</td>\n",
       "      <td>244.000000</td>\n",
       "      <td>2714.000000</td>\n",
       "      <td>0.0</td>\n",
       "      <td>118.000000</td>\n",
       "      <td>1.0</td>\n",
       "      <td>2.0</td>\n",
       "      <td>0.003745</td>\n",
       "    </tr>\n",
       "    <tr>\n",
       "      <th>34040</th>\n",
       "      <td>22.000000</td>\n",
       "      <td>244.500000</td>\n",
       "      <td>4543.000000</td>\n",
       "      <td>0.0</td>\n",
       "      <td>206.500000</td>\n",
       "      <td>1.0</td>\n",
       "      <td>2.0</td>\n",
       "      <td>0.003752</td>\n",
       "    </tr>\n",
       "    <tr>\n",
       "      <th>35994</th>\n",
       "      <td>21.300000</td>\n",
       "      <td>27.090909</td>\n",
       "      <td>166678.200000</td>\n",
       "      <td>0.0</td>\n",
       "      <td>1707.235979</td>\n",
       "      <td>10.0</td>\n",
       "      <td>11.0</td>\n",
       "      <td>0.020665</td>\n",
       "    </tr>\n",
       "  </tbody>\n",
       "</table>\n",
       "</div>"
      ],
      "text/plain": [
       "             Life       Death         Life_S  Death_S     Severity  \\\n",
       "4134   147.000000   23.333333  208362.333333      0.0   476.624905   \n",
       "4837    38.909091    6.916667   33749.636364      0.0   157.383452   \n",
       "9800    38.000000  236.500000     521.000000      0.0    13.710526   \n",
       "32613   28.133333    5.562500    1080.933333      0.0    11.367625   \n",
       "28753   26.187500    5.411765    1243.812500      0.0    39.717811   \n",
       "24940   25.611111    2.777778    3832.888889      0.0    21.727808   \n",
       "16276   23.250000    2.300000   52089.750000      0.0   135.970418   \n",
       "46514   23.000000  244.000000    2714.000000      0.0   118.000000   \n",
       "34040   22.000000  244.500000    4543.000000      0.0   206.500000   \n",
       "35994   21.300000   27.090909  166678.200000      0.0  1707.235979   \n",
       "\n",
       "       Number of Lives  Number of Deaths  Reciprocal Mean Duration  \n",
       "4134               3.0               3.0                  0.005871  \n",
       "4837              11.0              12.0                  0.021822  \n",
       "9800               1.0               2.0                  0.003643  \n",
       "32613             15.0              16.0                  0.029677  \n",
       "28753             16.0              17.0                  0.031646  \n",
       "24940             18.0              18.0                  0.035225  \n",
       "16276             20.0              20.0                  0.039139  \n",
       "46514              1.0               2.0                  0.003745  \n",
       "34040              1.0               2.0                  0.003752  \n",
       "35994             10.0              11.0                  0.020665  "
      ]
     },
     "execution_count": 26,
     "metadata": {},
     "output_type": "execute_result"
    }
   ],
   "source": [
    "temp = week_l_d_s_r['Labelled'].transpose()\n",
    "temp.sort_values('Life', ascending=False).head(10)"
   ]
  },
  {
   "cell_type": "markdown",
   "metadata": {
    "collapsed": true
   },
   "source": [
    "## Lowest Deathtime (Resilient)"
   ]
  },
  {
   "cell_type": "code",
   "execution_count": 22,
   "metadata": {},
   "outputs": [
    {
     "data": {
      "text/html": [
       "<div>\n",
       "<style scoped>\n",
       "    .dataframe tbody tr th:only-of-type {\n",
       "        vertical-align: middle;\n",
       "    }\n",
       "\n",
       "    .dataframe tbody tr th {\n",
       "        vertical-align: top;\n",
       "    }\n",
       "\n",
       "    .dataframe thead th {\n",
       "        text-align: right;\n",
       "    }\n",
       "</style>\n",
       "<table border=\"1\" class=\"dataframe\">\n",
       "  <thead>\n",
       "    <tr style=\"text-align: right;\">\n",
       "      <th></th>\n",
       "      <th>Life</th>\n",
       "      <th>Death</th>\n",
       "      <th>Life_S</th>\n",
       "      <th>Death_S</th>\n",
       "      <th>Severity</th>\n",
       "      <th>Number of Lives</th>\n",
       "      <th>Number of Deaths</th>\n",
       "      <th>Reciprocal Mean Duration</th>\n",
       "    </tr>\n",
       "  </thead>\n",
       "  <tbody>\n",
       "    <tr>\n",
       "      <th>36351</th>\n",
       "      <td>18.800000</td>\n",
       "      <td>1.576923</td>\n",
       "      <td>3021.040000</td>\n",
       "      <td>0.0</td>\n",
       "      <td>16.288273</td>\n",
       "      <td>25.0</td>\n",
       "      <td>26.0</td>\n",
       "      <td>0.049075</td>\n",
       "    </tr>\n",
       "    <tr>\n",
       "      <th>26496</th>\n",
       "      <td>20.608696</td>\n",
       "      <td>1.608696</td>\n",
       "      <td>19390.608696</td>\n",
       "      <td>0.0</td>\n",
       "      <td>77.321736</td>\n",
       "      <td>23.0</td>\n",
       "      <td>23.0</td>\n",
       "      <td>0.045010</td>\n",
       "    </tr>\n",
       "    <tr>\n",
       "      <th>40034</th>\n",
       "      <td>8.816327</td>\n",
       "      <td>1.612245</td>\n",
       "      <td>4181.591837</td>\n",
       "      <td>0.0</td>\n",
       "      <td>22.066605</td>\n",
       "      <td>49.0</td>\n",
       "      <td>49.0</td>\n",
       "      <td>0.095890</td>\n",
       "    </tr>\n",
       "    <tr>\n",
       "      <th>13335</th>\n",
       "      <td>7.103448</td>\n",
       "      <td>1.677966</td>\n",
       "      <td>4207.862069</td>\n",
       "      <td>0.0</td>\n",
       "      <td>21.891005</td>\n",
       "      <td>58.0</td>\n",
       "      <td>59.0</td>\n",
       "      <td>0.113877</td>\n",
       "    </tr>\n",
       "    <tr>\n",
       "      <th>14618</th>\n",
       "      <td>9.042553</td>\n",
       "      <td>1.829787</td>\n",
       "      <td>22422.893617</td>\n",
       "      <td>0.0</td>\n",
       "      <td>85.142362</td>\n",
       "      <td>47.0</td>\n",
       "      <td>47.0</td>\n",
       "      <td>0.091977</td>\n",
       "    </tr>\n",
       "    <tr>\n",
       "      <th>21740</th>\n",
       "      <td>6.238095</td>\n",
       "      <td>1.873016</td>\n",
       "      <td>667.539683</td>\n",
       "      <td>0.0</td>\n",
       "      <td>5.545725</td>\n",
       "      <td>63.0</td>\n",
       "      <td>63.0</td>\n",
       "      <td>0.123288</td>\n",
       "    </tr>\n",
       "    <tr>\n",
       "      <th>13768</th>\n",
       "      <td>6.047619</td>\n",
       "      <td>2.063492</td>\n",
       "      <td>517.841270</td>\n",
       "      <td>0.0</td>\n",
       "      <td>6.865311</td>\n",
       "      <td>63.0</td>\n",
       "      <td>63.0</td>\n",
       "      <td>0.123288</td>\n",
       "    </tr>\n",
       "    <tr>\n",
       "      <th>16509</th>\n",
       "      <td>6.433333</td>\n",
       "      <td>2.083333</td>\n",
       "      <td>429667.833333</td>\n",
       "      <td>0.0</td>\n",
       "      <td>1816.671340</td>\n",
       "      <td>60.0</td>\n",
       "      <td>60.0</td>\n",
       "      <td>0.117417</td>\n",
       "    </tr>\n",
       "    <tr>\n",
       "      <th>133618</th>\n",
       "      <td>4.185185</td>\n",
       "      <td>2.123457</td>\n",
       "      <td>449.901235</td>\n",
       "      <td>0.0</td>\n",
       "      <td>6.919654</td>\n",
       "      <td>81.0</td>\n",
       "      <td>81.0</td>\n",
       "      <td>0.158513</td>\n",
       "    </tr>\n",
       "    <tr>\n",
       "      <th>46606</th>\n",
       "      <td>6.389831</td>\n",
       "      <td>2.233333</td>\n",
       "      <td>1020.542373</td>\n",
       "      <td>0.0</td>\n",
       "      <td>7.643284</td>\n",
       "      <td>59.0</td>\n",
       "      <td>60.0</td>\n",
       "      <td>0.115967</td>\n",
       "    </tr>\n",
       "  </tbody>\n",
       "</table>\n",
       "</div>"
      ],
      "text/plain": [
       "             Life     Death         Life_S  Death_S     Severity  \\\n",
       "36351   18.800000  1.576923    3021.040000      0.0    16.288273   \n",
       "26496   20.608696  1.608696   19390.608696      0.0    77.321736   \n",
       "40034    8.816327  1.612245    4181.591837      0.0    22.066605   \n",
       "13335    7.103448  1.677966    4207.862069      0.0    21.891005   \n",
       "14618    9.042553  1.829787   22422.893617      0.0    85.142362   \n",
       "21740    6.238095  1.873016     667.539683      0.0     5.545725   \n",
       "13768    6.047619  2.063492     517.841270      0.0     6.865311   \n",
       "16509    6.433333  2.083333  429667.833333      0.0  1816.671340   \n",
       "133618   4.185185  2.123457     449.901235      0.0     6.919654   \n",
       "46606    6.389831  2.233333    1020.542373      0.0     7.643284   \n",
       "\n",
       "        Number of Lives  Number of Deaths  Reciprocal Mean Duration  \n",
       "36351              25.0              26.0                  0.049075  \n",
       "26496              23.0              23.0                  0.045010  \n",
       "40034              49.0              49.0                  0.095890  \n",
       "13335              58.0              59.0                  0.113877  \n",
       "14618              47.0              47.0                  0.091977  \n",
       "21740              63.0              63.0                  0.123288  \n",
       "13768              63.0              63.0                  0.123288  \n",
       "16509              60.0              60.0                  0.117417  \n",
       "133618             81.0              81.0                  0.158513  \n",
       "46606              59.0              60.0                  0.115967  "
      ]
     },
     "execution_count": 22,
     "metadata": {},
     "output_type": "execute_result"
    }
   ],
   "source": [
    "temp = week_l_d_s_r['Labelled'].transpose()\n",
    "temp.sort_values('Death', ascending=True).head(10)"
   ]
  },
  {
   "cell_type": "markdown",
   "metadata": {},
   "source": [
    "## Top Rate of Arrival (Recurrent)"
   ]
  },
  {
   "cell_type": "code",
   "execution_count": 23,
   "metadata": {
    "scrolled": true
   },
   "outputs": [
    {
     "data": {
      "text/html": [
       "<div>\n",
       "<style scoped>\n",
       "    .dataframe tbody tr th:only-of-type {\n",
       "        vertical-align: middle;\n",
       "    }\n",
       "\n",
       "    .dataframe tbody tr th {\n",
       "        vertical-align: top;\n",
       "    }\n",
       "\n",
       "    .dataframe thead th {\n",
       "        text-align: right;\n",
       "    }\n",
       "</style>\n",
       "<table border=\"1\" class=\"dataframe\">\n",
       "  <thead>\n",
       "    <tr style=\"text-align: right;\">\n",
       "      <th></th>\n",
       "      <th>Life</th>\n",
       "      <th>Death</th>\n",
       "      <th>Life_S</th>\n",
       "      <th>Death_S</th>\n",
       "      <th>Severity</th>\n",
       "      <th>Number of Lives</th>\n",
       "      <th>Number of Deaths</th>\n",
       "      <th>Reciprocal Mean Duration</th>\n",
       "    </tr>\n",
       "  </thead>\n",
       "  <tbody>\n",
       "    <tr>\n",
       "      <th>8001</th>\n",
       "      <td>1.771739</td>\n",
       "      <td>3.741935</td>\n",
       "      <td>7.434783</td>\n",
       "      <td>0.0</td>\n",
       "      <td>4.570100</td>\n",
       "      <td>92.0</td>\n",
       "      <td>93.0</td>\n",
       "      <td>0.181367</td>\n",
       "    </tr>\n",
       "    <tr>\n",
       "      <th>9931</th>\n",
       "      <td>2.808989</td>\n",
       "      <td>2.900000</td>\n",
       "      <td>15.494382</td>\n",
       "      <td>0.0</td>\n",
       "      <td>4.167158</td>\n",
       "      <td>89.0</td>\n",
       "      <td>90.0</td>\n",
       "      <td>0.175162</td>\n",
       "    </tr>\n",
       "    <tr>\n",
       "      <th>46636</th>\n",
       "      <td>2.011364</td>\n",
       "      <td>3.752809</td>\n",
       "      <td>10.772727</td>\n",
       "      <td>0.0</td>\n",
       "      <td>4.068479</td>\n",
       "      <td>88.0</td>\n",
       "      <td>89.0</td>\n",
       "      <td>0.173485</td>\n",
       "    </tr>\n",
       "    <tr>\n",
       "      <th>13649</th>\n",
       "      <td>2.272727</td>\n",
       "      <td>3.494382</td>\n",
       "      <td>27.568182</td>\n",
       "      <td>0.0</td>\n",
       "      <td>5.890317</td>\n",
       "      <td>88.0</td>\n",
       "      <td>89.0</td>\n",
       "      <td>0.173397</td>\n",
       "    </tr>\n",
       "    <tr>\n",
       "      <th>31103</th>\n",
       "      <td>2.825581</td>\n",
       "      <td>3.080460</td>\n",
       "      <td>18.895349</td>\n",
       "      <td>0.0</td>\n",
       "      <td>5.160857</td>\n",
       "      <td>86.0</td>\n",
       "      <td>87.0</td>\n",
       "      <td>0.169318</td>\n",
       "    </tr>\n",
       "    <tr>\n",
       "      <th>11403</th>\n",
       "      <td>2.047059</td>\n",
       "      <td>3.918605</td>\n",
       "      <td>26.482353</td>\n",
       "      <td>0.0</td>\n",
       "      <td>8.925098</td>\n",
       "      <td>85.0</td>\n",
       "      <td>86.0</td>\n",
       "      <td>0.167626</td>\n",
       "    </tr>\n",
       "    <tr>\n",
       "      <th>7303</th>\n",
       "      <td>2.235294</td>\n",
       "      <td>3.732558</td>\n",
       "      <td>15.764706</td>\n",
       "      <td>0.0</td>\n",
       "      <td>5.066471</td>\n",
       "      <td>85.0</td>\n",
       "      <td>86.0</td>\n",
       "      <td>0.167564</td>\n",
       "    </tr>\n",
       "    <tr>\n",
       "      <th>20021</th>\n",
       "      <td>1.761905</td>\n",
       "      <td>4.270588</td>\n",
       "      <td>29.702381</td>\n",
       "      <td>0.0</td>\n",
       "      <td>14.297166</td>\n",
       "      <td>84.0</td>\n",
       "      <td>85.0</td>\n",
       "      <td>0.165769</td>\n",
       "    </tr>\n",
       "    <tr>\n",
       "      <th>45753</th>\n",
       "      <td>2.385542</td>\n",
       "      <td>3.726190</td>\n",
       "      <td>16.000000</td>\n",
       "      <td>0.0</td>\n",
       "      <td>5.031928</td>\n",
       "      <td>83.0</td>\n",
       "      <td>84.0</td>\n",
       "      <td>0.163620</td>\n",
       "    </tr>\n",
       "    <tr>\n",
       "      <th>34788</th>\n",
       "      <td>2.614458</td>\n",
       "      <td>3.542169</td>\n",
       "      <td>17.771084</td>\n",
       "      <td>0.0</td>\n",
       "      <td>4.174377</td>\n",
       "      <td>83.0</td>\n",
       "      <td>83.0</td>\n",
       "      <td>0.162427</td>\n",
       "    </tr>\n",
       "  </tbody>\n",
       "</table>\n",
       "</div>"
      ],
      "text/plain": [
       "           Life     Death     Life_S  Death_S   Severity  Number of Lives  \\\n",
       "8001   1.771739  3.741935   7.434783      0.0   4.570100             92.0   \n",
       "9931   2.808989  2.900000  15.494382      0.0   4.167158             89.0   \n",
       "46636  2.011364  3.752809  10.772727      0.0   4.068479             88.0   \n",
       "13649  2.272727  3.494382  27.568182      0.0   5.890317             88.0   \n",
       "31103  2.825581  3.080460  18.895349      0.0   5.160857             86.0   \n",
       "11403  2.047059  3.918605  26.482353      0.0   8.925098             85.0   \n",
       "7303   2.235294  3.732558  15.764706      0.0   5.066471             85.0   \n",
       "20021  1.761905  4.270588  29.702381      0.0  14.297166             84.0   \n",
       "45753  2.385542  3.726190  16.000000      0.0   5.031928             83.0   \n",
       "34788  2.614458  3.542169  17.771084      0.0   4.174377             83.0   \n",
       "\n",
       "       Number of Deaths  Reciprocal Mean Duration  \n",
       "8001               93.0                  0.181367  \n",
       "9931               90.0                  0.175162  \n",
       "46636              89.0                  0.173485  \n",
       "13649              89.0                  0.173397  \n",
       "31103              87.0                  0.169318  \n",
       "11403              86.0                  0.167626  \n",
       "7303               86.0                  0.167564  \n",
       "20021              85.0                  0.165769  \n",
       "45753              84.0                  0.163620  \n",
       "34788              83.0                  0.162427  "
      ]
     },
     "execution_count": 23,
     "metadata": {},
     "output_type": "execute_result"
    }
   ],
   "source": [
    "temp = week_l_d_s_r['Labelled'].transpose()\n",
    "temp.sort_values('Reciprocal Mean Duration', ascending=False).head(10)"
   ]
  },
  {
   "cell_type": "markdown",
   "metadata": {},
   "source": [
    "## Highest Severity (reports per week)"
   ]
  },
  {
   "cell_type": "code",
   "execution_count": 18,
   "metadata": {
    "scrolled": true
   },
   "outputs": [
    {
     "data": {
      "text/html": [
       "<div>\n",
       "<style scoped>\n",
       "    .dataframe tbody tr th:only-of-type {\n",
       "        vertical-align: middle;\n",
       "    }\n",
       "\n",
       "    .dataframe tbody tr th {\n",
       "        vertical-align: top;\n",
       "    }\n",
       "\n",
       "    .dataframe thead th {\n",
       "        text-align: right;\n",
       "    }\n",
       "</style>\n",
       "<table border=\"1\" class=\"dataframe\">\n",
       "  <thead>\n",
       "    <tr style=\"text-align: right;\">\n",
       "      <th></th>\n",
       "      <th>Life</th>\n",
       "      <th>Death</th>\n",
       "      <th>Life_S</th>\n",
       "      <th>Death_S</th>\n",
       "      <th>Severity</th>\n",
       "      <th>Number of Lives</th>\n",
       "      <th>Number of Deaths</th>\n",
       "      <th>Reciprocal Mean Duration</th>\n",
       "    </tr>\n",
       "  </thead>\n",
       "  <tbody>\n",
       "    <tr>\n",
       "      <th>7276</th>\n",
       "      <td>2.142857</td>\n",
       "      <td>62.000000</td>\n",
       "      <td>8540.714286</td>\n",
       "      <td>0.0</td>\n",
       "      <td>2205.514286</td>\n",
       "      <td>7.0</td>\n",
       "      <td>8.0</td>\n",
       "      <td>0.015590</td>\n",
       "    </tr>\n",
       "    <tr>\n",
       "      <th>6762</th>\n",
       "      <td>1.888889</td>\n",
       "      <td>25.105263</td>\n",
       "      <td>6238.055556</td>\n",
       "      <td>0.0</td>\n",
       "      <td>2153.195370</td>\n",
       "      <td>18.0</td>\n",
       "      <td>19.0</td>\n",
       "      <td>0.037045</td>\n",
       "    </tr>\n",
       "    <tr>\n",
       "      <th>16509</th>\n",
       "      <td>6.433333</td>\n",
       "      <td>2.083333</td>\n",
       "      <td>429667.833333</td>\n",
       "      <td>0.0</td>\n",
       "      <td>1816.671340</td>\n",
       "      <td>60.0</td>\n",
       "      <td>60.0</td>\n",
       "      <td>0.117417</td>\n",
       "    </tr>\n",
       "    <tr>\n",
       "      <th>35994</th>\n",
       "      <td>21.300000</td>\n",
       "      <td>27.090909</td>\n",
       "      <td>166678.200000</td>\n",
       "      <td>0.0</td>\n",
       "      <td>1707.235979</td>\n",
       "      <td>10.0</td>\n",
       "      <td>11.0</td>\n",
       "      <td>0.020665</td>\n",
       "    </tr>\n",
       "    <tr>\n",
       "      <th>53684</th>\n",
       "      <td>8.666667</td>\n",
       "      <td>121.250000</td>\n",
       "      <td>3076.333333</td>\n",
       "      <td>0.0</td>\n",
       "      <td>1606.724638</td>\n",
       "      <td>3.0</td>\n",
       "      <td>4.0</td>\n",
       "      <td>0.007697</td>\n",
       "    </tr>\n",
       "    <tr>\n",
       "      <th>134418</th>\n",
       "      <td>1.888889</td>\n",
       "      <td>25.105263</td>\n",
       "      <td>1575.388889</td>\n",
       "      <td>0.0</td>\n",
       "      <td>1557.978704</td>\n",
       "      <td>18.0</td>\n",
       "      <td>19.0</td>\n",
       "      <td>0.037045</td>\n",
       "    </tr>\n",
       "    <tr>\n",
       "      <th>5511</th>\n",
       "      <td>2.736842</td>\n",
       "      <td>10.435897</td>\n",
       "      <td>5066.894737</td>\n",
       "      <td>0.0</td>\n",
       "      <td>958.831240</td>\n",
       "      <td>38.0</td>\n",
       "      <td>39.0</td>\n",
       "      <td>0.075914</td>\n",
       "    </tr>\n",
       "    <tr>\n",
       "      <th>2637</th>\n",
       "      <td>1.523810</td>\n",
       "      <td>21.772727</td>\n",
       "      <td>1027.380952</td>\n",
       "      <td>0.0</td>\n",
       "      <td>774.968254</td>\n",
       "      <td>21.0</td>\n",
       "      <td>22.0</td>\n",
       "      <td>0.042925</td>\n",
       "    </tr>\n",
       "    <tr>\n",
       "      <th>7415</th>\n",
       "      <td>1.137931</td>\n",
       "      <td>15.933333</td>\n",
       "      <td>1238.931034</td>\n",
       "      <td>0.0</td>\n",
       "      <td>771.000000</td>\n",
       "      <td>29.0</td>\n",
       "      <td>30.0</td>\n",
       "      <td>0.058578</td>\n",
       "    </tr>\n",
       "    <tr>\n",
       "      <th>20721</th>\n",
       "      <td>1.000000</td>\n",
       "      <td>255.000000</td>\n",
       "      <td>648.000000</td>\n",
       "      <td>0.0</td>\n",
       "      <td>648.000000</td>\n",
       "      <td>1.0</td>\n",
       "      <td>2.0</td>\n",
       "      <td>0.003906</td>\n",
       "    </tr>\n",
       "  </tbody>\n",
       "</table>\n",
       "</div>"
      ],
      "text/plain": [
       "             Life       Death         Life_S  Death_S     Severity  \\\n",
       "7276     2.142857   62.000000    8540.714286      0.0  2205.514286   \n",
       "6762     1.888889   25.105263    6238.055556      0.0  2153.195370   \n",
       "16509    6.433333    2.083333  429667.833333      0.0  1816.671340   \n",
       "35994   21.300000   27.090909  166678.200000      0.0  1707.235979   \n",
       "53684    8.666667  121.250000    3076.333333      0.0  1606.724638   \n",
       "134418   1.888889   25.105263    1575.388889      0.0  1557.978704   \n",
       "5511     2.736842   10.435897    5066.894737      0.0   958.831240   \n",
       "2637     1.523810   21.772727    1027.380952      0.0   774.968254   \n",
       "7415     1.137931   15.933333    1238.931034      0.0   771.000000   \n",
       "20721    1.000000  255.000000     648.000000      0.0   648.000000   \n",
       "\n",
       "        Number of Lives  Number of Deaths  Reciprocal Mean Duration  \n",
       "7276                7.0               8.0                  0.015590  \n",
       "6762               18.0              19.0                  0.037045  \n",
       "16509              60.0              60.0                  0.117417  \n",
       "35994              10.0              11.0                  0.020665  \n",
       "53684               3.0               4.0                  0.007697  \n",
       "134418             18.0              19.0                  0.037045  \n",
       "5511               38.0              39.0                  0.075914  \n",
       "2637               21.0              22.0                  0.042925  \n",
       "7415               29.0              30.0                  0.058578  \n",
       "20721               1.0               2.0                  0.003906  "
      ]
     },
     "execution_count": 18,
     "metadata": {},
     "output_type": "execute_result"
    }
   ],
   "source": [
    "temp = week_l_d_s_r['Labelled'].transpose()\n",
    "temp.sort_values('Severity', ascending=False).head(10)"
   ]
  },
  {
   "cell_type": "markdown",
   "metadata": {},
   "source": [
    "# Additional Analysis"
   ]
  },
  {
   "cell_type": "markdown",
   "metadata": {},
   "source": [
    "## Average Severity between types of mal-activity"
   ]
  },
  {
   "cell_type": "code",
   "execution_count": 24,
   "metadata": {},
   "outputs": [
    {
     "name": "stdout",
     "output_type": "stream",
     "text": [
      "Spammers\n",
      "1.9272943468\n",
      "Malware\n",
      "7.41372654721\n",
      "Exploits\n",
      "2.4861656092\n",
      "Phishing\n",
      "5.37770462092\n",
      "Fraudlent Services\n",
      "6.26642420191\n",
      "Unwanted Programs\n",
      "2.63710178686\n",
      "Labelled\n",
      "6.53123532393\n"
     ]
    }
   ],
   "source": [
    "for attack in week_l_d_s_r:\n",
    "    print(attack)\n",
    "    print(week_l_d_s_r[attack].transpose()['Severity'].mean())"
   ]
  },
  {
   "cell_type": "markdown",
   "metadata": {},
   "source": [
    "## Proportion of (average) 1 Week offenders"
   ]
  },
  {
   "cell_type": "code",
   "execution_count": 25,
   "metadata": {},
   "outputs": [
    {
     "name": "stdout",
     "output_type": "stream",
     "text": [
      "0.565173745174\n"
     ]
    }
   ],
   "source": [
    "temp = week_l_d_s_r['Labelled'].transpose()['Life']\n",
    "\n",
    "onewk = len(temp[temp==1])\n",
    "all_hosts = len(temp)\n",
    "\n",
    "print(1.0*onewk/all_hosts)"
   ]
  },
  {
   "cell_type": "code",
   "execution_count": 35,
   "metadata": {},
   "outputs": [
    {
     "name": "stdout",
     "output_type": "stream",
     "text": [
      "Life                           2.142857\n",
      "Death                         62.000000\n",
      "Life_S                      8540.714286\n",
      "Death_S                        0.000000\n",
      "Severity                    2205.514286\n",
      "Number of Lives                7.000000\n",
      "Number of Deaths               8.000000\n",
      "Reciprocal Mean Duration       0.015590\n",
      "Name: 7276, dtype: float64\n"
     ]
    }
   ],
   "source": [
    "# Check Uni of Houston AS\n",
    "print(week_l_d_s_r['Labelled']['7276'])"
   ]
  },
  {
   "cell_type": "code",
   "execution_count": 33,
   "metadata": {},
   "outputs": [
    {
     "name": "stdout",
     "output_type": "stream",
     "text": [
      "0.273976833977\n"
     ]
    }
   ],
   "source": [
    "# Proportion with 1 severity (one report per week)\n",
    "temp = week_l_d_s_r['Labelled'].transpose()['Severity']\n",
    "\n",
    "onewk = len(temp[temp==1])\n",
    "all_hosts = len(temp)\n",
    "\n",
    "print(1.0*onewk/all_hosts)"
   ]
  },
  {
   "cell_type": "code",
   "execution_count": 34,
   "metadata": {},
   "outputs": [
    {
     "name": "stdout",
     "output_type": "stream",
     "text": [
      "0\n",
      "12950\n",
      "0.0\n"
     ]
    }
   ],
   "source": [
    "# Number of hosts with >10K severity (reports per week)\n",
    "temp = week_l_d_s_r['Labelled'].transpose()['Severity']\n",
    "\n",
    "found_hosts = len(temp[temp > 10000])\n",
    "all_hosts = len(temp)\n",
    "\n",
    "print(found_hosts)\n",
    "print(all_hosts)\n",
    "print(1.0*found_hosts/all_hosts)"
   ]
  },
  {
   "cell_type": "code",
   "execution_count": null,
   "metadata": {},
   "outputs": [],
   "source": []
  }
 ],
 "metadata": {
  "kernelspec": {
   "display_name": "Python [default]",
   "language": "python",
   "name": "python2"
  },
  "language_info": {
   "codemirror_mode": {
    "name": "ipython",
    "version": 2
   },
   "file_extension": ".py",
   "mimetype": "text/x-python",
   "name": "python",
   "nbconvert_exporter": "python",
   "pygments_lexer": "ipython2",
   "version": "2.7.14"
  }
 },
 "nbformat": 4,
 "nbformat_minor": 1
}
