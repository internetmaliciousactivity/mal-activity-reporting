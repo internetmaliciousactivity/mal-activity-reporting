{
 "cells": [
  {
   "cell_type": "markdown",
   "metadata": {},
   "source": [
    "# Raw Extraction of required data "
   ]
  },
  {
   "cell_type": "markdown",
   "metadata": {},
   "source": [
    "Note that the raw extraction of required data takes a very long time, the import of pre-computed values is avaliable at the Plotting Code section."
   ]
  },
  {
   "cell_type": "code",
   "execution_count": 1,
   "metadata": {},
   "outputs": [],
   "source": [
    "import pandas as pd\n",
    "import numpy as np\n",
    "import tqdm\n",
    "import csv\n",
    "from datetime import datetime"
   ]
  },
  {
   "cell_type": "code",
   "execution_count": 7,
   "metadata": {},
   "outputs": [],
   "source": [
    "# Defining the list indexes\n",
    "indexes = {\n",
    "    'Malware':0,\n",
    "    'Phishing':1,\n",
    "    'Exploits':2,\n",
    "    'Fraudlent Services':3,\n",
    "    'Unwanted Programs':4,\n",
    "    'Spammers':5,\n",
    "    'Unlabelled':6,\n",
    "}\n",
    "\n",
    "attack_map = ['Malware', 'Phishing', 'Exploits', 'Fraudlent Services',\n",
    "            'Unwanted Programs', 'Spammers', 'Unlabelled']"
   ]
  },
  {
   "cell_type": "code",
   "execution_count": 3,
   "metadata": {},
   "outputs": [],
   "source": [
    "# Convert date fields back into a python date object\n",
    "date_calculation_cache = {}\n",
    "def make_date(day, month, year, iso=True):\n",
    "    date = '%s-%s-%s' % (day, month, year)\n",
    "    # Check cache before recomputation\n",
    "    if date not in date_calculation_cache:\n",
    "        if iso:\n",
    "            cal = datetime.strptime(date, \"%d-%m-%Y\").isocalendar()\n",
    "        else:\n",
    "            cal = datetime.strptime(date, \"%d-%m-%Y\")\n",
    "        date_calculation_cache[date] = cal\n",
    "    else:\n",
    "        cal = date_calculation_cache[date]\n",
    "    return cal"
   ]
  },
  {
   "cell_type": "code",
   "execution_count": 5,
   "metadata": {
    "scrolled": false
   },
   "outputs": [
    {
     "name": "stderr",
     "output_type": "stream",
     "text": [
      "6918it [00:00, 54496.85it/s]\n",
      "0it [00:00, ?it/s]"
     ]
    },
    {
     "name": "stdout",
     "output_type": "stream",
     "text": [
      "Spammers\n",
      "./../../Datastore/Spammers_reports.csv\n",
      "Malware\n",
      "./../../Datastore/Malware_reports.csv\n"
     ]
    },
    {
     "name": "stderr",
     "output_type": "stream",
     "text": [
      "3190529it [00:25, 125700.69it/s]\n",
      "14364it [00:00, 143588.44it/s]"
     ]
    },
    {
     "name": "stdout",
     "output_type": "stream",
     "text": [
      "Exploits\n",
      "./../../Datastore/Exploits_reports.csv\n"
     ]
    },
    {
     "name": "stderr",
     "output_type": "stream",
     "text": [
      "201108it [00:01, 136564.50it/s]\n",
      "10636it [00:00, 106302.57it/s]"
     ]
    },
    {
     "name": "stdout",
     "output_type": "stream",
     "text": [
      "Phishing\n",
      "./../../Datastore/Phishing_reports.csv\n"
     ]
    },
    {
     "name": "stderr",
     "output_type": "stream",
     "text": [
      "2382889it [00:18, 127925.35it/s]\n",
      "9710it [00:00, 97066.07it/s]"
     ]
    },
    {
     "name": "stdout",
     "output_type": "stream",
     "text": [
      "Fraudlent Services\n",
      "./../../Datastore/Fraudlent Services_reports.csv\n"
     ]
    },
    {
     "name": "stderr",
     "output_type": "stream",
     "text": [
      "829301it [00:06, 130674.79it/s]\n",
      "12804it [00:00, 128007.77it/s]"
     ]
    },
    {
     "name": "stdout",
     "output_type": "stream",
     "text": [
      "Unwanted Programs\n",
      "./../../Datastore/Unwanted Programs_reports.csv\n"
     ]
    },
    {
     "name": "stderr",
     "output_type": "stream",
     "text": [
      "698700it [00:05, 127892.22it/s]\n"
     ]
    },
    {
     "name": "stdout",
     "output_type": "stream",
     "text": [
      "Unlabelled\n",
      "./../../Datastore/Unlabelled_reports_0.csv\n"
     ]
    },
    {
     "name": "stderr",
     "output_type": "stream",
     "text": [
      "/Users/zha197/.local/lib/python2.7/site-packages/numpy/lib/arraysetops.py:522: FutureWarning: elementwise comparison failed; returning scalar instead, but in the future will perform elementwise comparison\n",
      "  mask |= (ar1 == a)\n",
      "2000138it [00:15, 127164.33it/s]\n"
     ]
    },
    {
     "name": "stdout",
     "output_type": "stream",
     "text": [
      "./../../Datastore/Unlabelled_reports_1.csv\n"
     ]
    },
    {
     "name": "stderr",
     "output_type": "stream",
     "text": [
      "2000007it [00:16, 122930.56it/s]\n"
     ]
    },
    {
     "name": "stdout",
     "output_type": "stream",
     "text": [
      "./../../Datastore/Unlabelled_reports_2.csv\n"
     ]
    },
    {
     "name": "stderr",
     "output_type": "stream",
     "text": [
      "2000047it [00:15, 130351.55it/s]\n"
     ]
    },
    {
     "name": "stdout",
     "output_type": "stream",
     "text": [
      "./../../Datastore/Unlabelled_reports_3.csv\n"
     ]
    },
    {
     "name": "stderr",
     "output_type": "stream",
     "text": [
      "2000022it [00:14, 141643.99it/s]\n"
     ]
    },
    {
     "name": "stdout",
     "output_type": "stream",
     "text": [
      "./../../Datastore/Unlabelled_reports_4.csv\n"
     ]
    },
    {
     "name": "stderr",
     "output_type": "stream",
     "text": [
      "2000471it [00:14, 136970.74it/s]\n"
     ]
    },
    {
     "name": "stdout",
     "output_type": "stream",
     "text": [
      "./../../Datastore/Unlabelled_reports_5.csv\n"
     ]
    },
    {
     "name": "stderr",
     "output_type": "stream",
     "text": [
      "2000567it [00:15, 125979.82it/s]\n"
     ]
    },
    {
     "name": "stdout",
     "output_type": "stream",
     "text": [
      "./../../Datastore/Unlabelled_reports_6.csv\n"
     ]
    },
    {
     "name": "stderr",
     "output_type": "stream",
     "text": [
      "2000130it [00:16, 121163.99it/s]\n"
     ]
    },
    {
     "name": "stdout",
     "output_type": "stream",
     "text": [
      "./../../Datastore/Unlabelled_reports_7.csv\n"
     ]
    },
    {
     "name": "stderr",
     "output_type": "stream",
     "text": [
      "2000541it [00:16, 123114.75it/s]\n"
     ]
    },
    {
     "name": "stdout",
     "output_type": "stream",
     "text": [
      "./../../Datastore/Unlabelled_reports_8.csv\n"
     ]
    },
    {
     "name": "stderr",
     "output_type": "stream",
     "text": [
      "2000282it [00:15, 133273.21it/s]\n"
     ]
    },
    {
     "name": "stdout",
     "output_type": "stream",
     "text": [
      "./../../Datastore/Unlabelled_reports_9.csv\n"
     ]
    },
    {
     "name": "stderr",
     "output_type": "stream",
     "text": [
      "2000016it [00:14, 135956.04it/s]\n"
     ]
    },
    {
     "name": "stdout",
     "output_type": "stream",
     "text": [
      "./../../Datastore/Unlabelled_reports_10.csv\n"
     ]
    },
    {
     "name": "stderr",
     "output_type": "stream",
     "text": [
      "2000165it [00:13, 144198.87it/s]\n"
     ]
    },
    {
     "name": "stdout",
     "output_type": "stream",
     "text": [
      "./../../Datastore/Unlabelled_reports_11.csv\n"
     ]
    },
    {
     "name": "stderr",
     "output_type": "stream",
     "text": [
      "2000021it [00:13, 149769.72it/s]\n"
     ]
    },
    {
     "name": "stdout",
     "output_type": "stream",
     "text": [
      "./../../Datastore/Unlabelled_reports_12.csv\n"
     ]
    },
    {
     "name": "stderr",
     "output_type": "stream",
     "text": [
      "2000114it [00:13, 147473.96it/s]\n"
     ]
    },
    {
     "name": "stdout",
     "output_type": "stream",
     "text": [
      "./../../Datastore/Unlabelled_reports_13.csv\n"
     ]
    },
    {
     "name": "stderr",
     "output_type": "stream",
     "text": [
      "2000038it [00:14, 133425.42it/s]\n"
     ]
    },
    {
     "name": "stdout",
     "output_type": "stream",
     "text": [
      "./../../Datastore/Unlabelled_reports_14.csv\n"
     ]
    },
    {
     "name": "stderr",
     "output_type": "stream",
     "text": [
      "2000304it [00:14, 139695.52it/s]\n"
     ]
    },
    {
     "name": "stdout",
     "output_type": "stream",
     "text": [
      "./../../Datastore/Unlabelled_reports_15.csv\n"
     ]
    },
    {
     "name": "stderr",
     "output_type": "stream",
     "text": [
      "2000019it [00:14, 140262.39it/s]\n"
     ]
    },
    {
     "name": "stdout",
     "output_type": "stream",
     "text": [
      "./../../Datastore/Unlabelled_reports_16.csv\n"
     ]
    },
    {
     "name": "stderr",
     "output_type": "stream",
     "text": [
      "2000455it [00:18, 108458.38it/s]\n"
     ]
    },
    {
     "name": "stdout",
     "output_type": "stream",
     "text": [
      "./../../Datastore/Unlabelled_reports_17.csv\n"
     ]
    },
    {
     "name": "stderr",
     "output_type": "stream",
     "text": [
      "2000040it [00:17, 113285.87it/s]\n"
     ]
    },
    {
     "name": "stdout",
     "output_type": "stream",
     "text": [
      "./../../Datastore/Unlabelled_reports_18.csv\n"
     ]
    },
    {
     "name": "stderr",
     "output_type": "stream",
     "text": [
      "2000023it [00:14, 136017.92it/s]\n"
     ]
    },
    {
     "name": "stdout",
     "output_type": "stream",
     "text": [
      "./../../Datastore/Unlabelled_reports_19.csv\n"
     ]
    },
    {
     "name": "stderr",
     "output_type": "stream",
     "text": [
      "2000058it [00:14, 140980.14it/s]\n"
     ]
    },
    {
     "name": "stdout",
     "output_type": "stream",
     "text": [
      "./../../Datastore/Unlabelled_reports_20.csv\n"
     ]
    },
    {
     "name": "stderr",
     "output_type": "stream",
     "text": [
      "2000016it [00:15, 131413.99it/s]\n"
     ]
    },
    {
     "name": "stdout",
     "output_type": "stream",
     "text": [
      "./../../Datastore/Unlabelled_reports_21.csv\n"
     ]
    },
    {
     "name": "stderr",
     "output_type": "stream",
     "text": [
      "2000294it [00:14, 137491.36it/s]\n",
      "0it [00:00, ?it/s]"
     ]
    },
    {
     "name": "stdout",
     "output_type": "stream",
     "text": [
      "./../../Datastore/Unlabelled_reports_22.csv\n"
     ]
    },
    {
     "name": "stderr",
     "output_type": "stream",
     "text": [
      "332782it [00:02, 138260.57it/s]"
     ]
    },
    {
     "name": "stdout",
     "output_type": "stream",
     "text": [
      "Finished\n"
     ]
    },
    {
     "name": "stderr",
     "output_type": "stream",
     "text": [
      "\n"
     ]
    }
   ],
   "source": [
    "# Initialise a dictionary to hold all our data.\n",
    "# We will later convert this into a pandas dataframe for easy processing\n",
    "ip_attacks = {}\n",
    "for attk in indexes:\n",
    "    ip_attacks[attk] = {}\n",
    "ip_total_set = set([])\n",
    "\n",
    "for attack in indexes:\n",
    "    print(attack)\n",
    "    files = []\n",
    "    if attack == 'Unlabelled':\n",
    "        # There are 23 files containing Unlabelled reports\n",
    "        for i in range(23):\n",
    "            files.append(('./../../Datastore/%s_reports_%s.csv'%(attack,i), attack, i))\n",
    "    else:\n",
    "        #continue\n",
    "        files.append(('./../../Datastore/%s_reports.csv'%attack, attack, None))\n",
    "    #########################\n",
    "    \n",
    "    # Process the files\n",
    "    for file_name, a, file_num in files:\n",
    "        print(file_name)\n",
    "        with open(file_name) as data_file:\n",
    "            filereader = csv.reader(data_file)\n",
    "            if attack == 'Unlabelled':\n",
    "                activity_relabel = pd.read_csv('./../../Unlabelled_predictions/%s_predictions_%s.csv'%(a, file_num),\n",
    "                                               index_col=[0], header=None)\n",
    "                activity_relabel = activity_relabel.transpose().values[0]\n",
    "            for n, report in enumerate(tqdm.tqdm(filereader)):\n",
    "                try:\n",
    "                    # Unpack Row information\n",
    "                    splits = report[0:9]\n",
    "\n",
    "                    day = splits[5]\n",
    "                    month = splits[6]\n",
    "                    year = splits[7]\n",
    "                    datasource = splits[8]        \n",
    "                    org = splits[3]\n",
    "                    asn = splits[2]\n",
    "                    cc = splits[1]\n",
    "                    ip = splits[0]\n",
    "                    \n",
    "                    # Compute week bins\n",
    "                    cal = make_date(day, month, year, iso=False)\n",
    "                    year_num, week_num, weekday_num = cal.isocalendar()\n",
    "\n",
    "                    # Invalid Timestamp, likely 0.\n",
    "                    if year_num == 1970:\n",
    "                        continue\n",
    "                    week = (year_num-1970)*52 + week_num\n",
    "\n",
    "                except Exception, e: \n",
    "                    print(str(e))\n",
    "\n",
    "                if ip is None or ip == '':\n",
    "                    print(\"Skipping invalid IP: %s\" % ip)\n",
    "                    continue\n",
    "\n",
    "                # Relabelling unlabelled reports\n",
    "                if (attack == 'Unlabelled'):\n",
    "                    attack_label = attack_map[activity_relabel[n]]\n",
    "                else:\n",
    "                    attack_label = attack\n",
    "\n",
    "                # Initialise the ip holder\n",
    "                if ip not in ip_attacks[attack_label]:\n",
    "                    ip_attacks[attack_label][ip] = 0\n",
    "\n",
    "                # Modify the ip,year value\n",
    "                ip_attacks[attack_label][ip] += 1\n",
    "                ######\n",
    "\n",
    "                ip_total_set.add(ip)\n",
    "\n",
    "print('Finished')"
   ]
  },
  {
   "cell_type": "code",
   "execution_count": 7,
   "metadata": {},
   "outputs": [],
   "source": [
    "# Turn into a pandas array\n",
    "ip_attack_frame = pd.DataFrame.from_dict(ip_attacks, orient='index')\n",
    "ip_attack_frame = ip_attack_frame.transpose()\n",
    "ip_attack_frame = ip_attack_frame.fillna(0)"
   ]
  },
  {
   "cell_type": "code",
   "execution_count": 8,
   "metadata": {},
   "outputs": [],
   "source": [
    "# Save the DataFrame\n",
    "ip_attack_frame.to_csv('ip_attack_frame.csv')"
   ]
  },
  {
   "cell_type": "markdown",
   "metadata": {},
   "source": [
    "# Plotting code"
   ]
  },
  {
   "cell_type": "markdown",
   "metadata": {},
   "source": [
    "## Import precomputed data"
   ]
  },
  {
   "cell_type": "code",
   "execution_count": 1,
   "metadata": {},
   "outputs": [],
   "source": [
    "import pandas as pd\n",
    "ip_attack_frame = pd.read_csv('ip_attack_frame.csv', index_col=0)"
   ]
  },
  {
   "cell_type": "markdown",
   "metadata": {},
   "source": [
    "## Top offending IPs"
   ]
  },
  {
   "cell_type": "code",
   "execution_count": 3,
   "metadata": {},
   "outputs": [
    {
     "data": {
      "text/html": [
       "<div>\n",
       "<style scoped>\n",
       "    .dataframe tbody tr th:only-of-type {\n",
       "        vertical-align: middle;\n",
       "    }\n",
       "\n",
       "    .dataframe tbody tr th {\n",
       "        vertical-align: top;\n",
       "    }\n",
       "\n",
       "    .dataframe thead th {\n",
       "        text-align: right;\n",
       "    }\n",
       "</style>\n",
       "<table border=\"1\" class=\"dataframe\">\n",
       "  <thead>\n",
       "    <tr style=\"text-align: right;\">\n",
       "      <th></th>\n",
       "      <th>Totals</th>\n",
       "      <th>Malware</th>\n",
       "      <th>Phishing</th>\n",
       "      <th>Spammers</th>\n",
       "      <th>Unwanted Programs</th>\n",
       "      <th>Exploits</th>\n",
       "      <th>Fraudlent Services</th>\n",
       "    </tr>\n",
       "  </thead>\n",
       "  <tbody>\n",
       "    <tr>\n",
       "      <th>54.72.9.51</th>\n",
       "      <td>43753.0</td>\n",
       "      <td>37753.0</td>\n",
       "      <td>561.0</td>\n",
       "      <td>7.0</td>\n",
       "      <td>505.0</td>\n",
       "      <td>437.0</td>\n",
       "      <td>4490.0</td>\n",
       "    </tr>\n",
       "    <tr>\n",
       "      <th>52.85.131.141</th>\n",
       "      <td>36710.0</td>\n",
       "      <td>36033.0</td>\n",
       "      <td>0.0</td>\n",
       "      <td>0.0</td>\n",
       "      <td>336.0</td>\n",
       "      <td>0.0</td>\n",
       "      <td>341.0</td>\n",
       "    </tr>\n",
       "    <tr>\n",
       "      <th>69.172.216.56</th>\n",
       "      <td>35886.0</td>\n",
       "      <td>0.0</td>\n",
       "      <td>1.0</td>\n",
       "      <td>0.0</td>\n",
       "      <td>35885.0</td>\n",
       "      <td>0.0</td>\n",
       "      <td>0.0</td>\n",
       "    </tr>\n",
       "    <tr>\n",
       "      <th>52.84.0.64</th>\n",
       "      <td>35777.0</td>\n",
       "      <td>35520.0</td>\n",
       "      <td>183.0</td>\n",
       "      <td>0.0</td>\n",
       "      <td>51.0</td>\n",
       "      <td>10.0</td>\n",
       "      <td>13.0</td>\n",
       "    </tr>\n",
       "    <tr>\n",
       "      <th>52.84.0.252</th>\n",
       "      <td>35711.0</td>\n",
       "      <td>35441.0</td>\n",
       "      <td>203.0</td>\n",
       "      <td>0.0</td>\n",
       "      <td>40.0</td>\n",
       "      <td>21.0</td>\n",
       "      <td>6.0</td>\n",
       "    </tr>\n",
       "    <tr>\n",
       "      <th>52.84.0.35</th>\n",
       "      <td>35705.0</td>\n",
       "      <td>35529.0</td>\n",
       "      <td>83.0</td>\n",
       "      <td>0.0</td>\n",
       "      <td>55.0</td>\n",
       "      <td>31.0</td>\n",
       "      <td>7.0</td>\n",
       "    </tr>\n",
       "    <tr>\n",
       "      <th>54.230.6.60</th>\n",
       "      <td>35691.0</td>\n",
       "      <td>35661.0</td>\n",
       "      <td>18.0</td>\n",
       "      <td>0.0</td>\n",
       "      <td>11.0</td>\n",
       "      <td>1.0</td>\n",
       "      <td>0.0</td>\n",
       "    </tr>\n",
       "    <tr>\n",
       "      <th>52.84.0.188</th>\n",
       "      <td>35618.0</td>\n",
       "      <td>35400.0</td>\n",
       "      <td>164.0</td>\n",
       "      <td>0.0</td>\n",
       "      <td>50.0</td>\n",
       "      <td>0.0</td>\n",
       "      <td>4.0</td>\n",
       "    </tr>\n",
       "    <tr>\n",
       "      <th>52.85.131.53</th>\n",
       "      <td>35588.0</td>\n",
       "      <td>35587.0</td>\n",
       "      <td>0.0</td>\n",
       "      <td>0.0</td>\n",
       "      <td>0.0</td>\n",
       "      <td>0.0</td>\n",
       "      <td>1.0</td>\n",
       "    </tr>\n",
       "    <tr>\n",
       "      <th>52.84.0.62</th>\n",
       "      <td>35570.0</td>\n",
       "      <td>35217.0</td>\n",
       "      <td>291.0</td>\n",
       "      <td>0.0</td>\n",
       "      <td>52.0</td>\n",
       "      <td>6.0</td>\n",
       "      <td>4.0</td>\n",
       "    </tr>\n",
       "  </tbody>\n",
       "</table>\n",
       "</div>"
      ],
      "text/plain": [
       "                Totals  Malware  Phishing  Spammers  Unwanted Programs  \\\n",
       "54.72.9.51     43753.0  37753.0     561.0       7.0              505.0   \n",
       "52.85.131.141  36710.0  36033.0       0.0       0.0              336.0   \n",
       "69.172.216.56  35886.0      0.0       1.0       0.0            35885.0   \n",
       "52.84.0.64     35777.0  35520.0     183.0       0.0               51.0   \n",
       "52.84.0.252    35711.0  35441.0     203.0       0.0               40.0   \n",
       "52.84.0.35     35705.0  35529.0      83.0       0.0               55.0   \n",
       "54.230.6.60    35691.0  35661.0      18.0       0.0               11.0   \n",
       "52.84.0.188    35618.0  35400.0     164.0       0.0               50.0   \n",
       "52.85.131.53   35588.0  35587.0       0.0       0.0                0.0   \n",
       "52.84.0.62     35570.0  35217.0     291.0       0.0               52.0   \n",
       "\n",
       "               Exploits  Fraudlent Services  \n",
       "54.72.9.51        437.0              4490.0  \n",
       "52.85.131.141       0.0               341.0  \n",
       "69.172.216.56       0.0                 0.0  \n",
       "52.84.0.64         10.0                13.0  \n",
       "52.84.0.252        21.0                 6.0  \n",
       "52.84.0.35         31.0                 7.0  \n",
       "54.230.6.60         1.0                 0.0  \n",
       "52.84.0.188         0.0                 4.0  \n",
       "52.85.131.53        0.0                 1.0  \n",
       "52.84.0.62          6.0                 4.0  "
      ]
     },
     "execution_count": 3,
     "metadata": {},
     "output_type": "execute_result"
    }
   ],
   "source": [
    "if 'Totals' in ip_attack_frame:\n",
    "    ip_attack_frame.drop('Totals', axis=1,inplace=True)\n",
    "\n",
    "ip_attack_frame['Totals'] = ip_attack_frame.transpose().sum()\n",
    "\n",
    "ip_attack_frame[['Totals','Malware','Phishing','Spammers',\n",
    "                 'Unwanted Programs','Exploits','Fraudlent Services']\n",
    "               ].sort_values('Totals', ascending=False).head(10)"
   ]
  },
  {
   "cell_type": "markdown",
   "metadata": {},
   "source": [
    "## Unique IP Summary"
   ]
  },
  {
   "cell_type": "code",
   "execution_count": 8,
   "metadata": {},
   "outputs": [
    {
     "name": "stdout",
     "output_type": "stream",
     "text": [
      "              Attack:    Unique:   Ratio:      %\n",
      "            Spammers:      2209: 0.00333:   0.33\n",
      "             Malware:    427745: 0.64574:  64.57\n",
      "            Exploits:     39854: 0.06017:   6.02\n",
      "            Phishing:    133072: 0.20089:  20.09\n",
      "  Fraudlent Services:     87508: 0.13211:  13.21\n",
      "   Unwanted Programs:    165465: 0.24979:  24.98\n",
      "            Labelled:    662409: 1.00000: 100.00\n",
      "              Totals:    662409: 1.00000: 100.00\n"
     ]
    }
   ],
   "source": [
    "a = ip_attack_frame.drop('Totals',axis=1)\n",
    "a = a.transpose().sum()\n",
    "a = a[a > 0]\n",
    "labelled_len = len(a)\n",
    "full_len = len(ip_attack_frame)\n",
    "\n",
    "print '%20s:%10s: %7s: %6s'%('Attack','Unique','Ratio','%')\n",
    "\n",
    "# Attack Label\n",
    "for attk in indexes:\n",
    "    if attk == 'Unlabelled':\n",
    "        continue\n",
    "    attk_len = len(ip_attack_frame[attk][ip_attack_frame[attk]>0])\n",
    "    ratio = 1.0*attk_len/labelled_len\n",
    "    percent = ratio*100.0\n",
    "    print '%20s:%10s: %0.5f: %6.2f'%(attk,attk_len,ratio,percent)\n",
    "\n",
    "# Labelled\n",
    "ratio = 1.0*labelled_len/full_len\n",
    "percent = ratio*100.0\n",
    "print '%20s:%10s: %0.5f:% 6.2f'%('Labelled',labelled_len,ratio,percent)\n",
    "    \n",
    "print '%20s:%10s: %0.5f:% 6.2f'%('Totals',full_len,1.0,100.0)"
   ]
  },
  {
   "cell_type": "markdown",
   "metadata": {},
   "source": [
    "## Graph Plotting Parameters"
   ]
  },
  {
   "cell_type": "code",
   "execution_count": 9,
   "metadata": {},
   "outputs": [],
   "source": [
    "import matplotlib.pyplot as plt\n",
    "import matplotlib.dates as mdates\n",
    "import dateutil.relativedelta\n",
    "\n",
    "plot_properties_indexes = {\n",
    "    'Unwanted Programs':{'color':'b', 'linestyle':'-', 'label':'PUP',\n",
    "                         'marker':'s', 'hatch':'//'},\n",
    "\n",
    "    'Fraudlent Services':{'color':'y', 'linestyle':'-', 'label':'Fraud. Serv.',\n",
    "                          'marker':'*','hatch':'\\\\'},\n",
    "\n",
    "    'Malware':{'color':'r', 'linestyle':'-', 'label':'Malware',\n",
    "               'marker':'x', 'hatch':'x'},\n",
    "\n",
    "    'Exploits':{'color':'m', 'linestyle':'-', 'label':'Exploits',\n",
    "                'marker':'+', 'hatch':'+'},\n",
    "\n",
    "    'Phishing':{'color':'g', 'linestyle':'-', 'label':'Phishing',\n",
    "                'marker':'^', 'hatch':'|'},\n",
    "\n",
    "    'Spammers':{'color':'c', 'linestyle':'-', 'label':'Spammers',\n",
    "                'marker':'D', 'hatch':'\\\\\\\\'},\n",
    "\n",
    "    'Unlabelled':{'color':'w', 'linestyle':'-', 'label':'Unlabelled',\n",
    "                  'marker':'T', 'hatch':'///'},\n",
    "\n",
    "    'Totals':{'color':'k', 'linestyle':'-', 'label':'Total',\n",
    "              'marker':'o', 'hatch':''}\n",
    "}"
   ]
  },
  {
   "cell_type": "code",
   "execution_count": 10,
   "metadata": {},
   "outputs": [],
   "source": [
    "import matplotlib.pyplot as plt\n",
    "import numpy as np\n",
    "import pandas as pd\n",
    "import cPickle\n",
    "\n",
    "def cdf(data, m,n,s,lstring):\n",
    "\n",
    "    data_size=len(data)\n",
    "\n",
    "    # Set bins edges\n",
    "    data_set=sorted(set(data))\n",
    "    bins=np.append(data_set, data_set[-1]+1)\n",
    "    #new_bins = [bins[i] for i in range(len(bins)) if (i/5)%5==0]\n",
    "    #print len(bins)\n",
    "    #print len(new_bins)\n",
    "    \n",
    "\n",
    "    # Use the histogram function to bin the data\n",
    "    counts, bin_edges = np.histogram(data, bins=bins, density=False)\n",
    "    #print counts\n",
    "    #print bin_edges\n",
    "    counts=counts.astype(float)/data_size\n",
    "\n",
    "    markers_on = bins[0]\n",
    "    # Find the cdf\n",
    "    cdf = np.cumsum(counts)\n",
    "    \n",
    "    # Plot the cdf\n",
    "    plt.plot(bin_edges[0:-1], cdf,linestyle='%s'%n, color='%s'%m,marker='%s'%s,markevery=0.1, label=lstring)    \n",
    "    plt.ylim((0,1))"
   ]
  },
  {
   "cell_type": "markdown",
   "metadata": {},
   "source": [
    "## CDF of IP Reports"
   ]
  },
  {
   "cell_type": "code",
   "execution_count": 11,
   "metadata": {},
   "outputs": [
    {
     "data": {
      "text/plain": [
       "<matplotlib.figure.Figure at 0x10ef0ab90>"
      ]
     },
     "metadata": {},
     "output_type": "display_data"
    },
    {
     "data": {
      "image/png": "[encoded data removed]",
      "text/plain": [
       "<matplotlib.figure.Figure at 0x10eea1690>"
      ]
     },
     "metadata": {},
     "output_type": "display_data"
    }
   ],
   "source": [
    "a = ip_attack_frame.drop('Totals',axis=1)\n",
    "if 'Totals' in a:\n",
    "    a.drop('Totals', axis=1,inplace=True)\n",
    "\n",
    "a['Totals'] = a.transpose().sum()\n",
    "a = a[a['Totals']>0]\n",
    "final_df = a\n",
    "    \n",
    "plt.figure(figsize=(4,2.6))\n",
    "\n",
    "for attk in ['Totals', 'Malware', 'Phishing', 'Fraudlent Services', 'Unwanted Programs', \n",
    "             'Exploits', 'Spammers']:\n",
    "    a = final_df[attk][final_df[attk]!=0]\n",
    "    linestyle = plot_properties_indexes[attk]['linestyle']\n",
    "    color = plot_properties_indexes[attk]['color']\n",
    "    label = plot_properties_indexes[attk]['label']\n",
    "    marker = plot_properties_indexes[attk]['marker']\n",
    "    \n",
    "    cdf(a, color, linestyle, marker, label)\n",
    "\n",
    "plt.ylabel(\"CDF\",fontsize=14)\n",
    "plt.xlabel(\"Volume\",fontsize=14)\n",
    "\n",
    "plt.xscale('log')\n",
    "plt.xlim(1, 10000)\n",
    "plt.ylim(0)\n",
    "plt.legend(loc='lower right', frameon=False)\n",
    "\n",
    "import matplotlib.pyplot as plt\n",
    "from matplotlib import rcParams\n",
    "rcParams.update({'figure.autolayout': True})\n",
    "\n",
    "plt.savefig(\"./figures/ip_attack_cdf.pdf\",bbox_inches='tight')\n",
    "plt.show()"
   ]
  },
  {
   "cell_type": "markdown",
   "metadata": {},
   "source": [
    "# Additional Analysis"
   ]
  },
  {
   "cell_type": "code",
   "execution_count": 59,
   "metadata": {},
   "outputs": [
    {
     "data": {
      "text/html": [
       "<div>\n",
       "<style scoped>\n",
       "    .dataframe tbody tr th:only-of-type {\n",
       "        vertical-align: middle;\n",
       "    }\n",
       "\n",
       "    .dataframe tbody tr th {\n",
       "        vertical-align: top;\n",
       "    }\n",
       "\n",
       "    .dataframe thead th {\n",
       "        text-align: right;\n",
       "    }\n",
       "</style>\n",
       "<table border=\"1\" class=\"dataframe\">\n",
       "  <thead>\n",
       "    <tr style=\"text-align: right;\">\n",
       "      <th></th>\n",
       "      <th>Totals</th>\n",
       "      <th>Malware</th>\n",
       "      <th>Phishing</th>\n",
       "      <th>Spammers</th>\n",
       "      <th>Unwanted Programs</th>\n",
       "      <th>Exploits</th>\n",
       "      <th>Fraudlent Services</th>\n",
       "    </tr>\n",
       "  </thead>\n",
       "  <tbody>\n",
       "    <tr>\n",
       "      <th>54.72.9.51</th>\n",
       "      <td>43753.0</td>\n",
       "      <td>37753.0</td>\n",
       "      <td>561.0</td>\n",
       "      <td>7.0</td>\n",
       "      <td>505.0</td>\n",
       "      <td>437.0</td>\n",
       "      <td>4490.0</td>\n",
       "    </tr>\n",
       "    <tr>\n",
       "      <th>52.85.131.141</th>\n",
       "      <td>36710.0</td>\n",
       "      <td>36033.0</td>\n",
       "      <td>0.0</td>\n",
       "      <td>0.0</td>\n",
       "      <td>336.0</td>\n",
       "      <td>0.0</td>\n",
       "      <td>341.0</td>\n",
       "    </tr>\n",
       "    <tr>\n",
       "      <th>69.172.216.56</th>\n",
       "      <td>35886.0</td>\n",
       "      <td>0.0</td>\n",
       "      <td>1.0</td>\n",
       "      <td>0.0</td>\n",
       "      <td>35885.0</td>\n",
       "      <td>0.0</td>\n",
       "      <td>0.0</td>\n",
       "    </tr>\n",
       "    <tr>\n",
       "      <th>52.84.0.64</th>\n",
       "      <td>35777.0</td>\n",
       "      <td>35520.0</td>\n",
       "      <td>183.0</td>\n",
       "      <td>0.0</td>\n",
       "      <td>51.0</td>\n",
       "      <td>10.0</td>\n",
       "      <td>13.0</td>\n",
       "    </tr>\n",
       "    <tr>\n",
       "      <th>52.84.0.252</th>\n",
       "      <td>35711.0</td>\n",
       "      <td>35441.0</td>\n",
       "      <td>203.0</td>\n",
       "      <td>0.0</td>\n",
       "      <td>40.0</td>\n",
       "      <td>21.0</td>\n",
       "      <td>6.0</td>\n",
       "    </tr>\n",
       "    <tr>\n",
       "      <th>52.84.0.35</th>\n",
       "      <td>35705.0</td>\n",
       "      <td>35529.0</td>\n",
       "      <td>83.0</td>\n",
       "      <td>0.0</td>\n",
       "      <td>55.0</td>\n",
       "      <td>31.0</td>\n",
       "      <td>7.0</td>\n",
       "    </tr>\n",
       "    <tr>\n",
       "      <th>54.230.6.60</th>\n",
       "      <td>35691.0</td>\n",
       "      <td>35661.0</td>\n",
       "      <td>18.0</td>\n",
       "      <td>0.0</td>\n",
       "      <td>11.0</td>\n",
       "      <td>1.0</td>\n",
       "      <td>0.0</td>\n",
       "    </tr>\n",
       "    <tr>\n",
       "      <th>52.84.0.188</th>\n",
       "      <td>35618.0</td>\n",
       "      <td>35400.0</td>\n",
       "      <td>164.0</td>\n",
       "      <td>0.0</td>\n",
       "      <td>50.0</td>\n",
       "      <td>0.0</td>\n",
       "      <td>4.0</td>\n",
       "    </tr>\n",
       "    <tr>\n",
       "      <th>52.85.131.53</th>\n",
       "      <td>35588.0</td>\n",
       "      <td>35587.0</td>\n",
       "      <td>0.0</td>\n",
       "      <td>0.0</td>\n",
       "      <td>0.0</td>\n",
       "      <td>0.0</td>\n",
       "      <td>1.0</td>\n",
       "    </tr>\n",
       "    <tr>\n",
       "      <th>52.84.0.62</th>\n",
       "      <td>35570.0</td>\n",
       "      <td>35217.0</td>\n",
       "      <td>291.0</td>\n",
       "      <td>0.0</td>\n",
       "      <td>52.0</td>\n",
       "      <td>6.0</td>\n",
       "      <td>4.0</td>\n",
       "    </tr>\n",
       "  </tbody>\n",
       "</table>\n",
       "</div>"
      ],
      "text/plain": [
       "                Totals  Malware  Phishing  Spammers  Unwanted Programs  \\\n",
       "54.72.9.51     43753.0  37753.0     561.0       7.0              505.0   \n",
       "52.85.131.141  36710.0  36033.0       0.0       0.0              336.0   \n",
       "69.172.216.56  35886.0      0.0       1.0       0.0            35885.0   \n",
       "52.84.0.64     35777.0  35520.0     183.0       0.0               51.0   \n",
       "52.84.0.252    35711.0  35441.0     203.0       0.0               40.0   \n",
       "52.84.0.35     35705.0  35529.0      83.0       0.0               55.0   \n",
       "54.230.6.60    35691.0  35661.0      18.0       0.0               11.0   \n",
       "52.84.0.188    35618.0  35400.0     164.0       0.0               50.0   \n",
       "52.85.131.53   35588.0  35587.0       0.0       0.0                0.0   \n",
       "52.84.0.62     35570.0  35217.0     291.0       0.0               52.0   \n",
       "\n",
       "               Exploits  Fraudlent Services  \n",
       "54.72.9.51        437.0              4490.0  \n",
       "52.85.131.141       0.0               341.0  \n",
       "69.172.216.56       0.0                 0.0  \n",
       "52.84.0.64         10.0                13.0  \n",
       "52.84.0.252        21.0                 6.0  \n",
       "52.84.0.35         31.0                 7.0  \n",
       "54.230.6.60         1.0                 0.0  \n",
       "52.84.0.188         0.0                 4.0  \n",
       "52.85.131.53        0.0                 1.0  \n",
       "52.84.0.62          6.0                 4.0  "
      ]
     },
     "execution_count": 59,
     "metadata": {},
     "output_type": "execute_result"
    }
   ],
   "source": [
    "# Top 10 IPs with total number of reports\n",
    "final_df[['Totals','Malware','Phishing','Spammers','Unwanted Programs','Exploits','Fraudlent Services']].sort_values('Totals', ascending=False).head(10)"
   ]
  },
  {
   "cell_type": "code",
   "execution_count": 27,
   "metadata": {
    "scrolled": false
   },
   "outputs": [
    {
     "name": "stdout",
     "output_type": "stream",
     "text": [
      "\n",
      "Spammers\n",
      "805\n",
      "2209\n",
      "0.364418288818\n",
      "\n",
      "Malware\n",
      "278093\n",
      "427745\n",
      "0.650137348186\n",
      "\n",
      "Exploits\n",
      "17660\n",
      "39854\n",
      "0.443117378431\n",
      "\n",
      "Phishing\n",
      "90411\n",
      "133072\n",
      "0.679414151737\n",
      "\n",
      "Fraudlent Services\n",
      "71394\n",
      "87508\n",
      "0.815856835946\n",
      "\n",
      "Unwanted Programs\n",
      "72537\n",
      "165465\n",
      "0.438382739552\n"
     ]
    }
   ],
   "source": [
    "# Proportion of IPs with more than one report\n",
    "for attk in indexes:\n",
    "    if attk == 'Unlabelled':\n",
    "        continue\n",
    "    print('\\n' + attk)\n",
    "    over_1 = len(final_df[final_df[attk] > 1])\n",
    "    total = len(final_df[final_df[attk] != 0])\n",
    "    print(over_1)\n",
    "    print(total)\n",
    "    print(1.0*over_1/total)"
   ]
  },
  {
   "cell_type": "code",
   "execution_count": 31,
   "metadata": {},
   "outputs": [
    {
     "name": "stdout",
     "output_type": "stream",
     "text": [
      "\n",
      "Totals\n",
      "117935\n",
      "662409\n",
      "0.178039549583\n",
      "Mean reports per IP\n",
      "77.9669282875\n"
     ]
    }
   ],
   "source": [
    "# Proportion of IPs with more than 10 reports\n",
    "attk = 'Totals'\n",
    "print('\\n' + attk)\n",
    "over_1 = len(final_df[final_df[attk] > 9])\n",
    "total = len(final_df[final_df[attk] != 0])\n",
    "print(over_1)\n",
    "print(total)\n",
    "print(1.0*over_1/total)\n",
    "\n",
    "print \"Mean reports per IP\"\n",
    "print(final_df[attk].mean())"
   ]
  },
  {
   "cell_type": "code",
   "execution_count": 34,
   "metadata": {},
   "outputs": [
    {
     "data": {
      "text/plain": [
       "Exploits                437.0\n",
       "Fraudlent Services     4490.0\n",
       "Malware               37753.0\n",
       "Phishing                561.0\n",
       "Spammers                  7.0\n",
       "Unwanted Programs       505.0\n",
       "Totals                43753.0\n",
       "Name: 54.72.9.51, dtype: float64"
      ]
     },
     "execution_count": 34,
     "metadata": {},
     "output_type": "execute_result"
    }
   ],
   "source": [
    "# Check details of Most offensive IP\n",
    "final_df.loc['54.72.9.51']"
   ]
  },
  {
   "cell_type": "code",
   "execution_count": 37,
   "metadata": {},
   "outputs": [
    {
     "data": {
      "text/plain": [
       "Exploits                  0.0\n",
       "Fraudlent Services        0.0\n",
       "Malware                   0.0\n",
       "Phishing                  1.0\n",
       "Spammers                  0.0\n",
       "Unwanted Programs     35885.0\n",
       "Totals                35886.0\n",
       "Name: 69.172.216.56, dtype: float64"
      ]
     },
     "execution_count": 37,
     "metadata": {},
     "output_type": "execute_result"
    }
   ],
   "source": [
    "# Check details of Third offensive IP\n",
    "final_df.loc['69.172.216.56']"
   ]
  },
  {
   "cell_type": "code",
   "execution_count": 58,
   "metadata": {},
   "outputs": [
    {
     "name": "stdout",
     "output_type": "stream",
     "text": [
      "136941\n",
      "662409\n",
      "0.206731792593\n"
     ]
    }
   ],
   "source": [
    "# IPs participating in more than one class\n",
    "a = (final_df.drop('Totals', axis=1) != 0).sum(axis=1)\n",
    "more_than_1_class = len(a[a > 1])\n",
    "total = len(a)\n",
    "\n",
    "print(more_than_1_class)\n",
    "print(total)\n",
    "print(1.0*more_than_1_class/total)"
   ]
  },
  {
   "cell_type": "code",
   "execution_count": null,
   "metadata": {},
   "outputs": [],
   "source": []
  }
 ],
 "metadata": {
  "kernelspec": {
   "display_name": "Python [default]",
   "language": "python",
   "name": "python2"
  },
  "language_info": {
   "codemirror_mode": {
    "name": "ipython",
    "version": 2
   },
   "file_extension": ".py",
   "mimetype": "text/x-python",
   "name": "python",
   "nbconvert_exporter": "python",
   "pygments_lexer": "ipython2",
   "version": "2.7.14"
  }
 },
 "nbformat": 4,
 "nbformat_minor": 1
}
