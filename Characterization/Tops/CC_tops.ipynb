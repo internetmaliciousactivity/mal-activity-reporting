{
 "cells": [
  {
   "cell_type": "markdown",
   "metadata": {},
   "source": [
    "# Raw Extraction of required data "
   ]
  },
  {
   "cell_type": "markdown",
   "metadata": {},
   "source": [
    "Note that the raw extraction of required data takes a very long time, the import of pre-computed values is avaliable at the Plotting Code section."
   ]
  },
  {
   "cell_type": "code",
   "execution_count": 46,
   "metadata": {},
   "outputs": [],
   "source": [
    "import pandas as pd\n",
    "import numpy as np\n",
    "import tqdm\n",
    "import csv\n",
    "from datetime import datetime"
   ]
  },
  {
   "cell_type": "code",
   "execution_count": 47,
   "metadata": {},
   "outputs": [],
   "source": [
    "# Defining the list indexes\n",
    "indexes = {\n",
    "    'Malware':0,\n",
    "    'Phishing':1,\n",
    "    'Exploits':2,\n",
    "    'Fraudlent Services':3,\n",
    "    'Unwanted Programs':4,\n",
    "    'Spammers':5,\n",
    "    'Unlabelled':6,\n",
    "}\n",
    "\n",
    "attack_map = ['Malware', 'Phishing', 'Exploits', 'Fraudlent Services',\n",
    "            'Unwanted Programs', 'Spammers', 'Unlabelled']"
   ]
  },
  {
   "cell_type": "code",
   "execution_count": 48,
   "metadata": {},
   "outputs": [],
   "source": [
    "# Convert date fields back into a python date object\n",
    "date_calculation_cache = {}\n",
    "def make_date(day, month, year, iso=True):\n",
    "    date = '%s-%s-%s' % (day, month, year)\n",
    "    # Check cache before recomputation\n",
    "    if date not in date_calculation_cache:\n",
    "        if iso:\n",
    "            cal = datetime.strptime(date, \"%d-%m-%Y\").isocalendar()\n",
    "        else:\n",
    "            cal = datetime.strptime(date, \"%d-%m-%Y\")\n",
    "        date_calculation_cache[date] = cal\n",
    "    else:\n",
    "        cal = date_calculation_cache[date]\n",
    "    return cal"
   ]
  },
  {
   "cell_type": "code",
   "execution_count": 60,
   "metadata": {},
   "outputs": [],
   "source": [
    "# Track inter-host relationships\n",
    "ip_in_cc = {}\n",
    "asn_in_cc = {}\n",
    "for attk in indexes:\n",
    "    ip_in_cc[attk] = {}\n",
    "    asn_in_cc[attk] = {}"
   ]
  },
  {
   "cell_type": "code",
   "execution_count": 61,
   "metadata": {
    "scrolled": false
   },
   "outputs": [
    {
     "name": "stderr",
     "output_type": "stream",
     "text": [
      "6918it [00:00, 58453.25it/s]\n",
      "0it [00:00, ?it/s]"
     ]
    },
    {
     "name": "stdout",
     "output_type": "stream",
     "text": [
      "Spammers\n",
      "./../../Datastore/Spammers_reports.csv\n",
      "Malware\n",
      "./../../Datastore/Malware_reports.csv\n"
     ]
    },
    {
     "name": "stderr",
     "output_type": "stream",
     "text": [
      "3190529it [01:09, 46200.87it/s]\n",
      "5458it [00:00, 54557.03it/s]"
     ]
    },
    {
     "name": "stdout",
     "output_type": "stream",
     "text": [
      "Exploits\n",
      "./../../Datastore/Exploits_reports.csv\n"
     ]
    },
    {
     "name": "stderr",
     "output_type": "stream",
     "text": [
      "201108it [00:05, 35627.54it/s]\n",
      "5629it [00:00, 56264.70it/s]"
     ]
    },
    {
     "name": "stdout",
     "output_type": "stream",
     "text": [
      "Phishing\n",
      "./../../Datastore/Phishing_reports.csv\n"
     ]
    },
    {
     "name": "stderr",
     "output_type": "stream",
     "text": [
      "2382889it [00:41, 56957.64it/s]\n",
      "5129it [00:00, 51266.83it/s]"
     ]
    },
    {
     "name": "stdout",
     "output_type": "stream",
     "text": [
      "Fraudlent Services\n",
      "./../../Datastore/Fraudlent Services_reports.csv\n"
     ]
    },
    {
     "name": "stderr",
     "output_type": "stream",
     "text": [
      "829301it [00:12, 66149.59it/s]\n",
      "2764it [00:00, 27614.02it/s]"
     ]
    },
    {
     "name": "stdout",
     "output_type": "stream",
     "text": [
      "Unwanted Programs\n",
      "./../../Datastore/Unwanted Programs_reports.csv\n"
     ]
    },
    {
     "name": "stderr",
     "output_type": "stream",
     "text": [
      "698700it [00:08, 81143.09it/s]\n"
     ]
    },
    {
     "name": "stdout",
     "output_type": "stream",
     "text": [
      "Unlabelled\n",
      "./../../Datastore/Unlabelled_reports_0.csv\n"
     ]
    },
    {
     "name": "stderr",
     "output_type": "stream",
     "text": [
      "2000138it [00:29, 68433.31it/s]\n"
     ]
    },
    {
     "name": "stdout",
     "output_type": "stream",
     "text": [
      "./../../Datastore/Unlabelled_reports_1.csv\n"
     ]
    },
    {
     "name": "stderr",
     "output_type": "stream",
     "text": [
      "2000007it [00:25, 78459.76it/s]\n"
     ]
    },
    {
     "name": "stdout",
     "output_type": "stream",
     "text": [
      "./../../Datastore/Unlabelled_reports_2.csv\n"
     ]
    },
    {
     "name": "stderr",
     "output_type": "stream",
     "text": [
      "2000047it [00:25, 79097.54it/s]\n"
     ]
    },
    {
     "name": "stdout",
     "output_type": "stream",
     "text": [
      "./../../Datastore/Unlabelled_reports_3.csv\n"
     ]
    },
    {
     "name": "stderr",
     "output_type": "stream",
     "text": [
      "2000022it [00:29, 67441.45it/s]\n"
     ]
    },
    {
     "name": "stdout",
     "output_type": "stream",
     "text": [
      "./../../Datastore/Unlabelled_reports_4.csv\n"
     ]
    },
    {
     "name": "stderr",
     "output_type": "stream",
     "text": [
      "2000471it [00:23, 83487.92it/s]\n"
     ]
    },
    {
     "name": "stdout",
     "output_type": "stream",
     "text": [
      "./../../Datastore/Unlabelled_reports_5.csv\n"
     ]
    },
    {
     "name": "stderr",
     "output_type": "stream",
     "text": [
      "2000567it [00:25, 77584.08it/s]\n"
     ]
    },
    {
     "name": "stdout",
     "output_type": "stream",
     "text": [
      "./../../Datastore/Unlabelled_reports_6.csv\n"
     ]
    },
    {
     "name": "stderr",
     "output_type": "stream",
     "text": [
      "2000130it [00:26, 75025.69it/s]\n"
     ]
    },
    {
     "name": "stdout",
     "output_type": "stream",
     "text": [
      "./../../Datastore/Unlabelled_reports_7.csv\n"
     ]
    },
    {
     "name": "stderr",
     "output_type": "stream",
     "text": [
      "2000541it [00:33, 59929.02it/s]\n"
     ]
    },
    {
     "name": "stdout",
     "output_type": "stream",
     "text": [
      "./../../Datastore/Unlabelled_reports_8.csv\n"
     ]
    },
    {
     "name": "stderr",
     "output_type": "stream",
     "text": [
      "2000282it [00:28, 69674.57it/s]\n"
     ]
    },
    {
     "name": "stdout",
     "output_type": "stream",
     "text": [
      "./../../Datastore/Unlabelled_reports_9.csv\n"
     ]
    },
    {
     "name": "stderr",
     "output_type": "stream",
     "text": [
      "2000016it [00:34, 58066.87it/s]\n"
     ]
    },
    {
     "name": "stdout",
     "output_type": "stream",
     "text": [
      "./../../Datastore/Unlabelled_reports_10.csv\n"
     ]
    },
    {
     "name": "stderr",
     "output_type": "stream",
     "text": [
      "2000165it [00:42, 46970.21it/s]\n"
     ]
    },
    {
     "name": "stdout",
     "output_type": "stream",
     "text": [
      "./../../Datastore/Unlabelled_reports_11.csv\n"
     ]
    },
    {
     "name": "stderr",
     "output_type": "stream",
     "text": [
      "2000021it [00:34, 58089.67it/s]\n"
     ]
    },
    {
     "name": "stdout",
     "output_type": "stream",
     "text": [
      "./../../Datastore/Unlabelled_reports_12.csv\n"
     ]
    },
    {
     "name": "stderr",
     "output_type": "stream",
     "text": [
      "2000114it [00:32, 61895.43it/s]\n"
     ]
    },
    {
     "name": "stdout",
     "output_type": "stream",
     "text": [
      "./../../Datastore/Unlabelled_reports_13.csv\n"
     ]
    },
    {
     "name": "stderr",
     "output_type": "stream",
     "text": [
      "2000038it [00:40, 49886.95it/s]\n"
     ]
    },
    {
     "name": "stdout",
     "output_type": "stream",
     "text": [
      "./../../Datastore/Unlabelled_reports_14.csv\n"
     ]
    },
    {
     "name": "stderr",
     "output_type": "stream",
     "text": [
      "2000304it [00:38, 52041.81it/s]\n"
     ]
    },
    {
     "name": "stdout",
     "output_type": "stream",
     "text": [
      "./../../Datastore/Unlabelled_reports_15.csv\n"
     ]
    },
    {
     "name": "stderr",
     "output_type": "stream",
     "text": [
      "2000019it [00:39, 51163.64it/s]\n"
     ]
    },
    {
     "name": "stdout",
     "output_type": "stream",
     "text": [
      "./../../Datastore/Unlabelled_reports_16.csv\n"
     ]
    },
    {
     "name": "stderr",
     "output_type": "stream",
     "text": [
      "2000455it [00:45, 44034.82it/s]\n"
     ]
    },
    {
     "name": "stdout",
     "output_type": "stream",
     "text": [
      "./../../Datastore/Unlabelled_reports_17.csv\n"
     ]
    },
    {
     "name": "stderr",
     "output_type": "stream",
     "text": [
      "2000040it [00:41, 48262.75it/s]\n"
     ]
    },
    {
     "name": "stdout",
     "output_type": "stream",
     "text": [
      "./../../Datastore/Unlabelled_reports_18.csv\n"
     ]
    },
    {
     "name": "stderr",
     "output_type": "stream",
     "text": [
      "2000023it [00:31, 62914.54it/s]\n"
     ]
    },
    {
     "name": "stdout",
     "output_type": "stream",
     "text": [
      "./../../Datastore/Unlabelled_reports_19.csv\n"
     ]
    },
    {
     "name": "stderr",
     "output_type": "stream",
     "text": [
      "2000058it [00:44, 45333.10it/s]\n"
     ]
    },
    {
     "name": "stdout",
     "output_type": "stream",
     "text": [
      "./../../Datastore/Unlabelled_reports_20.csv\n"
     ]
    },
    {
     "name": "stderr",
     "output_type": "stream",
     "text": [
      "2000016it [00:35, 56950.42it/s]\n"
     ]
    },
    {
     "name": "stdout",
     "output_type": "stream",
     "text": [
      "./../../Datastore/Unlabelled_reports_21.csv\n"
     ]
    },
    {
     "name": "stderr",
     "output_type": "stream",
     "text": [
      "2000294it [00:36, 55427.07it/s]\n"
     ]
    },
    {
     "name": "stdout",
     "output_type": "stream",
     "text": [
      "./../../Datastore/Unlabelled_reports_22.csv\n"
     ]
    },
    {
     "name": "stderr",
     "output_type": "stream",
     "text": [
      "332782it [00:05, 65549.03it/s]"
     ]
    },
    {
     "name": "stdout",
     "output_type": "stream",
     "text": [
      "Finished\n"
     ]
    },
    {
     "name": "stderr",
     "output_type": "stream",
     "text": [
      "\n"
     ]
    }
   ],
   "source": [
    "# Initialise a dictionary to hold all our data.\n",
    "# We will later convert this into a pandas dataframe for easy processing\n",
    "ip_attacks = {}\n",
    "\n",
    "for attack in indexes:\n",
    "    print(attack)\n",
    "    files = []\n",
    "    if attack == 'Unlabelled':\n",
    "        # There are 23 files containing Unlabelled reports\n",
    "        for i in range(23):\n",
    "            files.append(('./../../Datastore/%s_reports_%s.csv'%(attack,i), attack, i))\n",
    "    else:\n",
    "        #continue\n",
    "        files.append(('./../../Datastore/%s_reports.csv'%attack, attack, None))\n",
    "    #########################\n",
    "    \n",
    "    # Process the files\n",
    "    for file_name, a, file_num in files:\n",
    "        print(file_name)\n",
    "        with open(file_name) as data_file:\n",
    "            filereader = csv.reader(data_file)\n",
    "            if attack == 'Unlabelled':\n",
    "                activity_relabel = pd.read_csv('./../../Unlabelled_predictions/%s_predictions_%s.csv'%(a, file_num),\n",
    "                                               index_col=[0], header=None)\n",
    "                activity_relabel = activity_relabel.transpose().values[0]\n",
    "            for n, report in enumerate(tqdm.tqdm(filereader)):\n",
    "                try:\n",
    "                    # Unpack Row information\n",
    "                    splits = report[0:9]\n",
    "\n",
    "                    day = splits[5]\n",
    "                    month = splits[6]\n",
    "                    year = splits[7]\n",
    "                    datasource = splits[8]        \n",
    "                    org = splits[3]\n",
    "                    asn = splits[2]\n",
    "                    cc = splits[1]\n",
    "                    ip = splits[0]\n",
    "                    \n",
    "                    # Compute week bins\n",
    "                    cal = make_date(day, month, year, iso=False)\n",
    "                    year_num, week_num, weekday_num = cal.isocalendar()\n",
    "\n",
    "                    # Invalid Timestamp, likely 0.\n",
    "                    if year_num == 1970:\n",
    "                        continue\n",
    "                    week = (year_num-1970)*52 + week_num\n",
    "\n",
    "                except Exception, e: \n",
    "                    print(str(e))\n",
    "\n",
    "                if ip is None or ip == '':\n",
    "                    print(\"Skipping invalid IP: %s\" % ip)\n",
    "                    continue\n",
    "                \n",
    "                # Relabelling unlabelled reports\n",
    "                if (attack == 'Unlabelled'):\n",
    "                    attack_label = attack_map[activity_relabel[n]]\n",
    "                else:\n",
    "                    attack_label = attack\n",
    "\n",
    "                # Initialise the holder\n",
    "                key = cc\n",
    "                if key not in ip_attacks:\n",
    "                    ip_attacks[key] = [0] * 7\n",
    "\n",
    "                # Increment the relevant list position\n",
    "                i = indexes[attack_label]\n",
    "                ip_attacks[key][i] += 1\n",
    "                \n",
    "                if cc not in ip_in_cc[attack_label]:\n",
    "                    ip_in_cc[attack_label][cc] = set([])\n",
    "                ip_in_cc[attack_label][cc].add(ip)\n",
    "                if cc not in asn_in_cc[attack_label]:\n",
    "                    asn_in_cc[attack_label][cc] = set([])\n",
    "                asn_in_cc[attack_label][cc].add(asn)\n",
    "\n",
    "print('Finished')"
   ]
  },
  {
   "cell_type": "code",
   "execution_count": 62,
   "metadata": {},
   "outputs": [],
   "source": [
    "# save inter-host relationships\n",
    "import cPickle\n",
    "cPickle.dump(ip_in_cc, open('ip_in_cc.pickle', 'wb'))\n",
    "cPickle.dump(asn_in_cc, open('asn_in_cc.pickle', 'wb'))"
   ]
  },
  {
   "cell_type": "markdown",
   "metadata": {},
   "source": [
    "# Generate DataFrame"
   ]
  },
  {
   "cell_type": "code",
   "execution_count": 10,
   "metadata": {},
   "outputs": [],
   "source": [
    "################################\n",
    "# CC Filter\n",
    "import pandas as pd\n",
    "# Turn into a pandas array\n",
    "ip_attack_frame = pd.DataFrame.from_dict(ip_attacks, orient='index')\n",
    "# relabel the colum names\n",
    "ip_attack_frame.columns = attack_map\n",
    "# Drop invalid CCs\n",
    "ip_attack_frame.drop('--',inplace=True)\n",
    "ip_attack_frame.drop('xx',inplace=True)\n",
    "ip_attack_frame.drop('A1',inplace=True)\n",
    "ip_attack_frame.drop('unknown',inplace=True)"
   ]
  },
  {
   "cell_type": "code",
   "execution_count": 11,
   "metadata": {},
   "outputs": [],
   "source": [
    "# Save the DataFrame\n",
    "ip_attack_frame.to_csv('cc_attack_frame.csv')"
   ]
  },
  {
   "cell_type": "markdown",
   "metadata": {},
   "source": [
    "# Plotting code"
   ]
  },
  {
   "cell_type": "markdown",
   "metadata": {},
   "source": [
    "## Import precomputed data"
   ]
  },
  {
   "cell_type": "code",
   "execution_count": 13,
   "metadata": {},
   "outputs": [],
   "source": [
    "import pandas as pd\n",
    "ip_attack_frame = pd.read_csv('cc_attack_frame.csv', index_col=0)"
   ]
  },
  {
   "cell_type": "markdown",
   "metadata": {},
   "source": [
    "## Top offending CCs"
   ]
  },
  {
   "cell_type": "code",
   "execution_count": 14,
   "metadata": {},
   "outputs": [
    {
     "data": {
      "text/html": [
       "<div>\n",
       "<style scoped>\n",
       "    .dataframe tbody tr th:only-of-type {\n",
       "        vertical-align: middle;\n",
       "    }\n",
       "\n",
       "    .dataframe tbody tr th {\n",
       "        vertical-align: top;\n",
       "    }\n",
       "\n",
       "    .dataframe thead th {\n",
       "        text-align: right;\n",
       "    }\n",
       "</style>\n",
       "<table border=\"1\" class=\"dataframe\">\n",
       "  <thead>\n",
       "    <tr style=\"text-align: right;\">\n",
       "      <th></th>\n",
       "      <th>Totals</th>\n",
       "      <th>Malware</th>\n",
       "      <th>Phishing</th>\n",
       "      <th>Spammers</th>\n",
       "      <th>Unwanted Programs</th>\n",
       "      <th>Exploits</th>\n",
       "      <th>Fraudlent Services</th>\n",
       "    </tr>\n",
       "  </thead>\n",
       "  <tbody>\n",
       "    <tr>\n",
       "      <th>US</th>\n",
       "      <td>42187267</td>\n",
       "      <td>38908052</td>\n",
       "      <td>1656115</td>\n",
       "      <td>2629</td>\n",
       "      <td>797875</td>\n",
       "      <td>100311</td>\n",
       "      <td>722285</td>\n",
       "    </tr>\n",
       "    <tr>\n",
       "      <th>DE</th>\n",
       "      <td>1473335</td>\n",
       "      <td>1295458</td>\n",
       "      <td>105387</td>\n",
       "      <td>364</td>\n",
       "      <td>13848</td>\n",
       "      <td>9021</td>\n",
       "      <td>49257</td>\n",
       "    </tr>\n",
       "    <tr>\n",
       "      <th>CN</th>\n",
       "      <td>1316934</td>\n",
       "      <td>984788</td>\n",
       "      <td>315861</td>\n",
       "      <td>249</td>\n",
       "      <td>3038</td>\n",
       "      <td>4670</td>\n",
       "      <td>8328</td>\n",
       "    </tr>\n",
       "    <tr>\n",
       "      <th>FR</th>\n",
       "      <td>1274328</td>\n",
       "      <td>1185669</td>\n",
       "      <td>35474</td>\n",
       "      <td>121</td>\n",
       "      <td>7658</td>\n",
       "      <td>18792</td>\n",
       "      <td>26614</td>\n",
       "    </tr>\n",
       "    <tr>\n",
       "      <th>NL</th>\n",
       "      <td>405318</td>\n",
       "      <td>343823</td>\n",
       "      <td>23138</td>\n",
       "      <td>271</td>\n",
       "      <td>7208</td>\n",
       "      <td>7501</td>\n",
       "      <td>23377</td>\n",
       "    </tr>\n",
       "    <tr>\n",
       "      <th>RU</th>\n",
       "      <td>333726</td>\n",
       "      <td>235166</td>\n",
       "      <td>17826</td>\n",
       "      <td>1656</td>\n",
       "      <td>2169</td>\n",
       "      <td>10874</td>\n",
       "      <td>66035</td>\n",
       "    </tr>\n",
       "    <tr>\n",
       "      <th>UA</th>\n",
       "      <td>242539</td>\n",
       "      <td>215401</td>\n",
       "      <td>12350</td>\n",
       "      <td>385</td>\n",
       "      <td>443</td>\n",
       "      <td>6111</td>\n",
       "      <td>7849</td>\n",
       "    </tr>\n",
       "    <tr>\n",
       "      <th>VG</th>\n",
       "      <td>207125</td>\n",
       "      <td>165974</td>\n",
       "      <td>9176</td>\n",
       "      <td>642</td>\n",
       "      <td>1169</td>\n",
       "      <td>10212</td>\n",
       "      <td>19952</td>\n",
       "    </tr>\n",
       "    <tr>\n",
       "      <th>IT</th>\n",
       "      <td>164775</td>\n",
       "      <td>140413</td>\n",
       "      <td>16987</td>\n",
       "      <td>40</td>\n",
       "      <td>954</td>\n",
       "      <td>1358</td>\n",
       "      <td>5023</td>\n",
       "    </tr>\n",
       "    <tr>\n",
       "      <th>SE</th>\n",
       "      <td>157317</td>\n",
       "      <td>139948</td>\n",
       "      <td>12658</td>\n",
       "      <td>3</td>\n",
       "      <td>1016</td>\n",
       "      <td>468</td>\n",
       "      <td>3224</td>\n",
       "    </tr>\n",
       "  </tbody>\n",
       "</table>\n",
       "</div>"
      ],
      "text/plain": [
       "      Totals   Malware  Phishing  Spammers  Unwanted Programs  Exploits  \\\n",
       "US  42187267  38908052   1656115      2629             797875    100311   \n",
       "DE   1473335   1295458    105387       364              13848      9021   \n",
       "CN   1316934    984788    315861       249               3038      4670   \n",
       "FR   1274328   1185669     35474       121               7658     18792   \n",
       "NL    405318    343823     23138       271               7208      7501   \n",
       "RU    333726    235166     17826      1656               2169     10874   \n",
       "UA    242539    215401     12350       385                443      6111   \n",
       "VG    207125    165974      9176       642               1169     10212   \n",
       "IT    164775    140413     16987        40                954      1358   \n",
       "SE    157317    139948     12658         3               1016       468   \n",
       "\n",
       "    Fraudlent Services  \n",
       "US              722285  \n",
       "DE               49257  \n",
       "CN                8328  \n",
       "FR               26614  \n",
       "NL               23377  \n",
       "RU               66035  \n",
       "UA                7849  \n",
       "VG               19952  \n",
       "IT                5023  \n",
       "SE                3224  "
      ]
     },
     "execution_count": 14,
     "metadata": {},
     "output_type": "execute_result"
    }
   ],
   "source": [
    "if 'Totals' in ip_attack_frame:\n",
    "    ip_attack_frame.drop('Totals', axis=1,inplace=True)\n",
    "\n",
    "ip_attack_frame['Totals'] = ip_attack_frame.transpose().sum()\n",
    "\n",
    "ip_attack_frame[['Totals','Malware','Phishing','Spammers',\n",
    "                 'Unwanted Programs','Exploits','Fraudlent Services']\n",
    "               ].sort_values('Totals', ascending=False).head(10)"
   ]
  },
  {
   "cell_type": "markdown",
   "metadata": {},
   "source": [
    "## Unique CC Summary"
   ]
  },
  {
   "cell_type": "code",
   "execution_count": 15,
   "metadata": {},
   "outputs": [
    {
     "name": "stdout",
     "output_type": "stream",
     "text": [
      "              Attack:    Unique:   Ratio:      %\n",
      "            Spammers:        60: 0.30303:  30.30\n",
      "             Malware:       196: 0.98990:  98.99\n",
      "            Exploits:       112: 0.56566:  56.57\n",
      "            Phishing:       139: 0.70202:  70.20\n",
      "  Fraudlent Services:       118: 0.59596:  59.60\n",
      "   Unwanted Programs:        81: 0.40909:  40.91\n",
      "            Labelled:       198: 1.00000: 100.00\n",
      "              Totals:       198: 1.00000: 100.00\n"
     ]
    }
   ],
   "source": [
    "a = ip_attack_frame.drop('Totals',axis=1)\n",
    "a = a.transpose().sum()\n",
    "a = a[a > 0]\n",
    "labelled_len = len(a)\n",
    "full_len = len(ip_attack_frame)\n",
    "\n",
    "print '%20s:%10s: %7s: %6s'%('Attack','Unique','Ratio','%')\n",
    "\n",
    "# Attack Label\n",
    "for attk in indexes:\n",
    "    if attk == 'Unlabelled':\n",
    "        continue\n",
    "    attk_len = len(ip_attack_frame[attk][ip_attack_frame[attk]>0])\n",
    "    ratio = 1.0*attk_len/labelled_len\n",
    "    percent = ratio*100.0\n",
    "    print '%20s:%10s: %0.5f: %6.2f'%(attk,attk_len,ratio,percent)\n",
    "\n",
    "# Labelled\n",
    "ratio = 1.0*labelled_len/full_len\n",
    "percent = ratio*100.0\n",
    "print '%20s:%10s: %0.5f:% 6.2f'%('Labelled',labelled_len,ratio,percent)\n",
    "    \n",
    "print '%20s:%10s: %0.5f:% 6.2f'%('Totals',full_len,1.0,100.0)"
   ]
  },
  {
   "cell_type": "markdown",
   "metadata": {},
   "source": [
    "## Graph Plotting Parameters"
   ]
  },
  {
   "cell_type": "code",
   "execution_count": 16,
   "metadata": {},
   "outputs": [],
   "source": [
    "import matplotlib.pyplot as plt\n",
    "import matplotlib.dates as mdates\n",
    "import dateutil.relativedelta\n",
    "\n",
    "plot_properties_indexes = {\n",
    "    'Unwanted Programs':{'color':'b', 'linestyle':'-', 'label':'PUP',\n",
    "                         'marker':'s', 'hatch':'//'},\n",
    "\n",
    "    'Fraudlent Services':{'color':'y', 'linestyle':'-', 'label':'Fraud. Serv.',\n",
    "                          'marker':'*','hatch':'\\\\'},\n",
    "\n",
    "    'Malware':{'color':'r', 'linestyle':'-', 'label':'Malware',\n",
    "               'marker':'x', 'hatch':'x'},\n",
    "\n",
    "    'Exploits':{'color':'m', 'linestyle':'-', 'label':'Exploits',\n",
    "                'marker':'+', 'hatch':'+'},\n",
    "\n",
    "    'Phishing':{'color':'g', 'linestyle':'-', 'label':'Phishing',\n",
    "                'marker':'^', 'hatch':'|'},\n",
    "\n",
    "    'Spammers':{'color':'c', 'linestyle':'-', 'label':'Spammers',\n",
    "                'marker':'D', 'hatch':'\\\\\\\\'},\n",
    "\n",
    "    'Unlabelled':{'color':'w', 'linestyle':'-', 'label':'Unlabelled',\n",
    "                  'marker':'T', 'hatch':'///'},\n",
    "\n",
    "    'Totals':{'color':'k', 'linestyle':'-', 'label':'Total',\n",
    "              'marker':'o', 'hatch':''}\n",
    "}"
   ]
  },
  {
   "cell_type": "code",
   "execution_count": 17,
   "metadata": {},
   "outputs": [],
   "source": [
    "import matplotlib.pyplot as plt\n",
    "import numpy as np\n",
    "import pandas as pd\n",
    "import cPickle\n",
    "\n",
    "def cdf(data, m,n,s,lstring):\n",
    "\n",
    "    data_size=len(data)\n",
    "\n",
    "    # Set bins edges\n",
    "    data_set=sorted(set(data))\n",
    "    bins=np.append(data_set, data_set[-1]+1)\n",
    "\n",
    "    # Use the histogram function to bin the data\n",
    "    counts, bin_edges = np.histogram(data, bins=bins, density=False)\n",
    "    #print counts\n",
    "    #print bin_edges\n",
    "    counts=counts.astype(float)/data_size\n",
    "\n",
    "    markers_on = bins[0]\n",
    "    # Find the cdf\n",
    "    cdf = np.cumsum(counts)\n",
    "    \n",
    "    # Plot the cdf\n",
    "    plt.plot(bin_edges[0:-1], cdf,linestyle='%s'%n, color='%s'%m,marker='%s'%s,markevery=0.1, label=lstring)    \n",
    "    plt.ylim((0,1))"
   ]
  },
  {
   "cell_type": "markdown",
   "metadata": {},
   "source": [
    "## CDF of CC Reports"
   ]
  },
  {
   "cell_type": "code",
   "execution_count": 64,
   "metadata": {},
   "outputs": [
    {
     "data": {
      "image/png": "[encoded data removed]",
      "text/plain": [
       "<matplotlib.figure.Figure at 0x10eebb190>"
      ]
     },
     "metadata": {},
     "output_type": "display_data"
    }
   ],
   "source": [
    "a = ip_attack_frame.drop('Totals',axis=1)\n",
    "if 'Totals' in a:\n",
    "    a.drop('Totals', axis=1,inplace=True)\n",
    "\n",
    "a['Totals'] = a.transpose().sum()\n",
    "a = a[a['Totals']>0]\n",
    "final_df = a\n",
    "    \n",
    "plt.figure(figsize=(4,2.6))\n",
    "\n",
    "for attk in ['Totals', 'Malware', 'Phishing', 'Fraudlent Services', 'Unwanted Programs', \n",
    "             'Exploits', 'Spammers']:\n",
    "    a = final_df[attk][final_df[attk]!=0]\n",
    "    linestyle = plot_properties_indexes[attk]['linestyle']\n",
    "    color = plot_properties_indexes[attk]['color']\n",
    "    label = plot_properties_indexes[attk]['label']\n",
    "    marker = plot_properties_indexes[attk]['marker']\n",
    "    \n",
    "    cdf(a, color, linestyle, marker, label)\n",
    "\n",
    "plt.ylabel(\"CDF\",fontsize=14)\n",
    "plt.xlabel(\"Volume\",fontsize=14)\n",
    "\n",
    "plt.xscale('log')\n",
    "plt.xlim(1, 10000)\n",
    "plt.ylim(0)\n",
    "#plt.legend(loc='lower right', frameon=False)\n",
    "\n",
    "import matplotlib.pyplot as plt\n",
    "from matplotlib import rcParams\n",
    "rcParams.update({'figure.autolayout': True})\n",
    "\n",
    "plt.savefig(\"./figures/cc_attack_cdf.pdf\",bbox_inches='tight')\n",
    "plt.show()"
   ]
  },
  {
   "cell_type": "markdown",
   "metadata": {},
   "source": [
    "# Additional Analysis"
   ]
  },
  {
   "cell_type": "code",
   "execution_count": 65,
   "metadata": {},
   "outputs": [
    {
     "data": {
      "text/html": [
       "<div>\n",
       "<style scoped>\n",
       "    .dataframe tbody tr th:only-of-type {\n",
       "        vertical-align: middle;\n",
       "    }\n",
       "\n",
       "    .dataframe tbody tr th {\n",
       "        vertical-align: top;\n",
       "    }\n",
       "\n",
       "    .dataframe thead th {\n",
       "        text-align: right;\n",
       "    }\n",
       "</style>\n",
       "<table border=\"1\" class=\"dataframe\">\n",
       "  <thead>\n",
       "    <tr style=\"text-align: right;\">\n",
       "      <th></th>\n",
       "      <th>Totals</th>\n",
       "      <th>Malware</th>\n",
       "      <th>Phishing</th>\n",
       "      <th>Spammers</th>\n",
       "      <th>Unwanted Programs</th>\n",
       "      <th>Exploits</th>\n",
       "      <th>Fraudlent Services</th>\n",
       "    </tr>\n",
       "  </thead>\n",
       "  <tbody>\n",
       "    <tr>\n",
       "      <th>US</th>\n",
       "      <td>42187267</td>\n",
       "      <td>38908052</td>\n",
       "      <td>1656115</td>\n",
       "      <td>2629</td>\n",
       "      <td>797875</td>\n",
       "      <td>100311</td>\n",
       "      <td>722285</td>\n",
       "    </tr>\n",
       "    <tr>\n",
       "      <th>DE</th>\n",
       "      <td>1473335</td>\n",
       "      <td>1295458</td>\n",
       "      <td>105387</td>\n",
       "      <td>364</td>\n",
       "      <td>13848</td>\n",
       "      <td>9021</td>\n",
       "      <td>49257</td>\n",
       "    </tr>\n",
       "    <tr>\n",
       "      <th>CN</th>\n",
       "      <td>1316934</td>\n",
       "      <td>984788</td>\n",
       "      <td>315861</td>\n",
       "      <td>249</td>\n",
       "      <td>3038</td>\n",
       "      <td>4670</td>\n",
       "      <td>8328</td>\n",
       "    </tr>\n",
       "    <tr>\n",
       "      <th>FR</th>\n",
       "      <td>1274328</td>\n",
       "      <td>1185669</td>\n",
       "      <td>35474</td>\n",
       "      <td>121</td>\n",
       "      <td>7658</td>\n",
       "      <td>18792</td>\n",
       "      <td>26614</td>\n",
       "    </tr>\n",
       "    <tr>\n",
       "      <th>NL</th>\n",
       "      <td>405318</td>\n",
       "      <td>343823</td>\n",
       "      <td>23138</td>\n",
       "      <td>271</td>\n",
       "      <td>7208</td>\n",
       "      <td>7501</td>\n",
       "      <td>23377</td>\n",
       "    </tr>\n",
       "    <tr>\n",
       "      <th>RU</th>\n",
       "      <td>333726</td>\n",
       "      <td>235166</td>\n",
       "      <td>17826</td>\n",
       "      <td>1656</td>\n",
       "      <td>2169</td>\n",
       "      <td>10874</td>\n",
       "      <td>66035</td>\n",
       "    </tr>\n",
       "    <tr>\n",
       "      <th>UA</th>\n",
       "      <td>242539</td>\n",
       "      <td>215401</td>\n",
       "      <td>12350</td>\n",
       "      <td>385</td>\n",
       "      <td>443</td>\n",
       "      <td>6111</td>\n",
       "      <td>7849</td>\n",
       "    </tr>\n",
       "    <tr>\n",
       "      <th>VG</th>\n",
       "      <td>207125</td>\n",
       "      <td>165974</td>\n",
       "      <td>9176</td>\n",
       "      <td>642</td>\n",
       "      <td>1169</td>\n",
       "      <td>10212</td>\n",
       "      <td>19952</td>\n",
       "    </tr>\n",
       "    <tr>\n",
       "      <th>IT</th>\n",
       "      <td>164775</td>\n",
       "      <td>140413</td>\n",
       "      <td>16987</td>\n",
       "      <td>40</td>\n",
       "      <td>954</td>\n",
       "      <td>1358</td>\n",
       "      <td>5023</td>\n",
       "    </tr>\n",
       "    <tr>\n",
       "      <th>SE</th>\n",
       "      <td>157317</td>\n",
       "      <td>139948</td>\n",
       "      <td>12658</td>\n",
       "      <td>3</td>\n",
       "      <td>1016</td>\n",
       "      <td>468</td>\n",
       "      <td>3224</td>\n",
       "    </tr>\n",
       "  </tbody>\n",
       "</table>\n",
       "</div>"
      ],
      "text/plain": [
       "      Totals   Malware  Phishing  Spammers  Unwanted Programs  Exploits  \\\n",
       "US  42187267  38908052   1656115      2629             797875    100311   \n",
       "DE   1473335   1295458    105387       364              13848      9021   \n",
       "CN   1316934    984788    315861       249               3038      4670   \n",
       "FR   1274328   1185669     35474       121               7658     18792   \n",
       "NL    405318    343823     23138       271               7208      7501   \n",
       "RU    333726    235166     17826      1656               2169     10874   \n",
       "UA    242539    215401     12350       385                443      6111   \n",
       "VG    207125    165974      9176       642               1169     10212   \n",
       "IT    164775    140413     16987        40                954      1358   \n",
       "SE    157317    139948     12658         3               1016       468   \n",
       "\n",
       "    Fraudlent Services  \n",
       "US              722285  \n",
       "DE               49257  \n",
       "CN                8328  \n",
       "FR               26614  \n",
       "NL               23377  \n",
       "RU               66035  \n",
       "UA                7849  \n",
       "VG               19952  \n",
       "IT                5023  \n",
       "SE                3224  "
      ]
     },
     "execution_count": 65,
     "metadata": {},
     "output_type": "execute_result"
    }
   ],
   "source": [
    "# Top CCs but total number of reports\n",
    "final_df[['Totals','Malware','Phishing','Spammers','Unwanted Programs','Exploits','Fraudlent Services']].sort_values('Totals', ascending=False).head(10)"
   ]
  },
  {
   "cell_type": "code",
   "execution_count": 66,
   "metadata": {},
   "outputs": [
    {
     "name": "stdout",
     "output_type": "stream",
     "text": [
      "\n",
      "Totals\n",
      "188\n",
      "198\n",
      "0.949494949495\n",
      "Mean reports per CC\n",
      "247909.111111\n"
     ]
    }
   ],
   "source": [
    "# Proportion of CCs with more than 1 reports\n",
    "attk = 'Totals'\n",
    "print('\\n' + attk)\n",
    "over_1 = len(final_df[final_df[attk] > 1])\n",
    "total = len(final_df[final_df[attk] != 0])\n",
    "print(over_1)\n",
    "print(total)\n",
    "print(1.0*over_1/total)\n",
    "\n",
    "print \"Mean reports per CC\"\n",
    "print(final_df[attk].mean())"
   ]
  },
  {
   "cell_type": "code",
   "execution_count": 67,
   "metadata": {},
   "outputs": [
    {
     "name": "stdout",
     "output_type": "stream",
     "text": [
      "\n",
      "Spammers\n",
      "51\n",
      "60\n",
      "0.85\n",
      "\n",
      "Malware\n",
      "186\n",
      "196\n",
      "0.948979591837\n",
      "\n",
      "Exploits\n",
      "106\n",
      "112\n",
      "0.946428571429\n",
      "\n",
      "Phishing\n",
      "133\n",
      "139\n",
      "0.956834532374\n",
      "\n",
      "Fraudlent Services\n",
      "114\n",
      "118\n",
      "0.966101694915\n",
      "\n",
      "Unwanted Programs\n",
      "80\n",
      "81\n",
      "0.987654320988\n"
     ]
    }
   ],
   "source": [
    "# Proportion of CCs with more than one report\n",
    "for attk in indexes:\n",
    "    if attk == 'Unlabelled':\n",
    "        continue\n",
    "    print('\\n' + attk)\n",
    "    over_1 = len(final_df[final_df[attk] > 1])\n",
    "    total = len(final_df[final_df[attk] != 0])\n",
    "    print(over_1)\n",
    "    print(total)\n",
    "    print(1.0*over_1/total)"
   ]
  },
  {
   "cell_type": "code",
   "execution_count": 69,
   "metadata": {},
   "outputs": [
    {
     "name": "stdout",
     "output_type": "stream",
     "text": [
      "\n",
      "Totals\n",
      "164\n",
      "198\n",
      "0.828282828283\n",
      "Mean reports per CC\n",
      "247909.111111\n"
     ]
    }
   ],
   "source": [
    "# Proportion of CCs with 10 or more reports\n",
    "attk = 'Totals'\n",
    "print('\\n' + attk)\n",
    "over_1 = len(final_df[final_df[attk] > 9])\n",
    "total = len(final_df[final_df[attk] != 0])\n",
    "print(over_1)\n",
    "print(total)\n",
    "print(1.0*over_1/total)\n",
    "\n",
    "print \"Mean reports per CC\"\n",
    "print(final_df[attk].mean())"
   ]
  },
  {
   "cell_type": "code",
   "execution_count": 34,
   "metadata": {},
   "outputs": [
    {
     "name": "stdout",
     "output_type": "stream",
     "text": [
      "\n",
      "Totals\n",
      "40\n",
      "198\n",
      "0.20202020202\n",
      "Mean reports per CC\n",
      "247909.111111\n"
     ]
    }
   ],
   "source": [
    "# Proportion of CCs with more than 10K reports\n",
    "attk = 'Totals'\n",
    "print('\\n' + attk)\n",
    "over_1 = len(final_df[final_df[attk] > 10000])\n",
    "total = len(final_df[final_df[attk] != 0])\n",
    "print(over_1)\n",
    "print(total)\n",
    "print(1.0*over_1/total)\n",
    "\n",
    "print \"Mean reports per CC\"\n",
    "print(final_df[attk].mean())"
   ]
  },
  {
   "cell_type": "code",
   "execution_count": 80,
   "metadata": {},
   "outputs": [
    {
     "name": "stdout",
     "output_type": "stream",
     "text": [
      "\n",
      "Spammers\n",
      "51\n",
      "60\n",
      "0.85\n",
      "Mean reports per CC\n",
      "37.4595959596\n",
      "\n",
      "Spammer contrbution by country\n",
      "US    0.354456\n",
      "RU    0.223271\n",
      "VG    0.086558\n",
      "UA    0.051908\n",
      "DE    0.049076\n",
      "NL    0.036538\n",
      "CN    0.033572\n",
      "GB    0.024269\n",
      "HK    0.023325\n",
      "FR    0.016314\n",
      "Name: Spammers, dtype: float64\n"
     ]
    }
   ],
   "source": [
    "# Proportion of CCs with the most spamming reports\n",
    "attk = 'Spammers'\n",
    "print('\\n' + attk)\n",
    "over_1 = len(final_df[final_df[attk] > 1])\n",
    "total = len(final_df[final_df[attk] != 0])\n",
    "print(over_1)\n",
    "print(total)\n",
    "print(1.0*over_1/total)\n",
    "\n",
    "print \"Mean reports per CC\"\n",
    "print(final_df[attk].mean())\n",
    "\n",
    "total_reports = sum(final_df[attk].values)\n",
    "\n",
    "print \"\\nSpammer contrbution by country\"\n",
    "print(final_df[attk].sort_values(ascending=False).head(10)/total_reports)"
   ]
  },
  {
   "cell_type": "code",
   "execution_count": 70,
   "metadata": {},
   "outputs": [
    {
     "name": "stdout",
     "output_type": "stream",
     "text": [
      "Malware               165974\n",
      "Phishing                9176\n",
      "Exploits               10212\n",
      "Fraudlent Services     19952\n",
      "Unwanted Programs       1169\n",
      "Spammers                 642\n",
      "Unlabelled                 0\n",
      "Totals                207125\n",
      "Name: VG, dtype: int64\n",
      "Malware               0.801323\n",
      "Phishing              0.044302\n",
      "Exploits              0.049304\n",
      "Fraudlent Services    0.096328\n",
      "Unwanted Programs     0.005644\n",
      "Spammers              0.003100\n",
      "Unlabelled            0.000000\n",
      "Totals                1.000000\n",
      "Name: VG, dtype: float64\n"
     ]
    }
   ],
   "source": [
    "# Breakdown of Virgin islands Contributions\n",
    "print(final_df.loc['VG'])\n",
    "print(final_df.loc['VG']/final_df.loc['VG'].drop('Totals').sum()) "
   ]
  },
  {
   "cell_type": "code",
   "execution_count": 71,
   "metadata": {},
   "outputs": [
    {
     "name": "stdout",
     "output_type": "stream",
     "text": [
      "797875\n",
      "847223\n",
      "0.9417532338\n"
     ]
    }
   ],
   "source": [
    "# US contirbution of PUPs\n",
    "attk = 'Unwanted Programs'\n",
    "cc_contrib = final_df.loc['US'][attk]\n",
    "total_attk = final_df[attk].sum()\n",
    "print(cc_contrib)\n",
    "print(total_attk)\n",
    "print(1.0*cc_contrib/total_attk)"
   ]
  },
  {
   "cell_type": "code",
   "execution_count": 72,
   "metadata": {},
   "outputs": [
    {
     "name": "stdout",
     "output_type": "stream",
     "text": [
      "2629\n",
      "7417\n",
      "0.354455979507\n"
     ]
    }
   ],
   "source": [
    "# US contirbution of PUPs\n",
    "attk = 'Spammers'\n",
    "cc_contrib = final_df.loc['US'][attk]\n",
    "total_attk = final_df[attk].sum()\n",
    "print(cc_contrib)\n",
    "print(total_attk)\n",
    "print(1.0*cc_contrib/total_attk)"
   ]
  },
  {
   "cell_type": "code",
   "execution_count": null,
   "metadata": {},
   "outputs": [],
   "source": []
  }
 ],
 "metadata": {
  "kernelspec": {
   "display_name": "Python [default]",
   "language": "python",
   "name": "python2"
  },
  "language_info": {
   "codemirror_mode": {
    "name": "ipython",
    "version": 2
   },
   "file_extension": ".py",
   "mimetype": "text/x-python",
   "name": "python",
   "nbconvert_exporter": "python",
   "pygments_lexer": "ipython2",
   "version": "2.7.14"
  }
 },
 "nbformat": 4,
 "nbformat_minor": 1
}
