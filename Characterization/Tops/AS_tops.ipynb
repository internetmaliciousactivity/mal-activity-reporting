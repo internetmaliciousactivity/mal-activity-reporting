{
 "cells": [
  {
   "cell_type": "markdown",
   "metadata": {},
   "source": [
    "# Raw Extraction of required data "
   ]
  },
  {
   "cell_type": "markdown",
   "metadata": {},
   "source": [
    "Note that the raw extraction of required data takes a very long time, the import of pre-computed values is avaliable at the Plotting Code section."
   ]
  },
  {
   "cell_type": "code",
   "execution_count": 64,
   "metadata": {},
   "outputs": [],
   "source": [
    "import pandas as pd\n",
    "import numpy as np\n",
    "import tqdm\n",
    "import csv\n",
    "from datetime import datetime"
   ]
  },
  {
   "cell_type": "code",
   "execution_count": 65,
   "metadata": {},
   "outputs": [],
   "source": [
    "# Defining the list indexes\n",
    "indexes = {\n",
    "    'Malware':0,\n",
    "    'Phishing':1,\n",
    "    'Exploits':2,\n",
    "    'Fraudlent Services':3,\n",
    "    'Unwanted Programs':4,\n",
    "    'Spammers':5,\n",
    "    'Unlabelled':6,\n",
    "}\n",
    "\n",
    "attack_map = ['Malware', 'Phishing', 'Exploits', 'Fraudlent Services',\n",
    "            'Unwanted Programs', 'Spammers', 'Unlabelled']"
   ]
  },
  {
   "cell_type": "code",
   "execution_count": 66,
   "metadata": {},
   "outputs": [],
   "source": [
    "# Convert date fields back into a python date object\n",
    "date_calculation_cache = {}\n",
    "def make_date(day, month, year, iso=True):\n",
    "    date = '%s-%s-%s' % (day, month, year)\n",
    "    # Check cache before recomputation\n",
    "    if date not in date_calculation_cache:\n",
    "        if iso:\n",
    "            cal = datetime.strptime(date, \"%d-%m-%Y\").isocalendar()\n",
    "        else:\n",
    "            cal = datetime.strptime(date, \"%d-%m-%Y\")\n",
    "        date_calculation_cache[date] = cal\n",
    "    else:\n",
    "        cal = date_calculation_cache[date]\n",
    "    return cal"
   ]
  },
  {
   "cell_type": "code",
   "execution_count": 75,
   "metadata": {},
   "outputs": [],
   "source": [
    "# Track inter-host relationships\n",
    "ip_in_asn = {}\n",
    "for attk in indexes:\n",
    "    ip_in_asn[attk] = {}"
   ]
  },
  {
   "cell_type": "code",
   "execution_count": null,
   "metadata": {
    "scrolled": true
   },
   "outputs": [],
   "source": [
    "# Initialise a dictionary to hold all our data.\n",
    "# We will later convert this into a pandas dataframe for easy processing\n",
    "ip_attacks = {}\n",
    "\n",
    "for attack in indexes:\n",
    "    print(attack)\n",
    "    files = []\n",
    "    if attack == 'Unlabelled':\n",
    "        # There are 23 files containing Unlabelled reports\n",
    "        for i in range(23):\n",
    "            files.append(('./../../Datastore/%s_reports_%s.csv'%(attack,i), attack, i))\n",
    "    else:\n",
    "        #continue\n",
    "        files.append(('./../../Datastore/%s_reports.csv'%attack, attack, None))\n",
    "    #########################\n",
    "    \n",
    "    # Process the files\n",
    "    for file_name, a, file_num in files:\n",
    "        print(file_name)\n",
    "        with open(file_name) as data_file:\n",
    "            filereader = csv.reader(data_file)\n",
    "            if attack == 'Unlabelled':\n",
    "                activity_relabel = pd.read_csv('./../../Unlabelled_predictions/%s_predictions_%s.csv'%(a, file_num),\n",
    "                                               index_col=[0], header=None)\n",
    "                activity_relabel = activity_relabel.transpose().values[0]\n",
    "            for n, report in enumerate(tqdm.tqdm(filereader)):\n",
    "                try:\n",
    "                    # Unpack Row information\n",
    "                    splits = report[0:9]\n",
    "\n",
    "                    day = splits[5]\n",
    "                    month = splits[6]\n",
    "                    year = splits[7]\n",
    "                    datasource = splits[8]        \n",
    "                    org = splits[3]\n",
    "                    asn = splits[2]\n",
    "                    cc = splits[1]\n",
    "                    ip = splits[0]\n",
    "                    \n",
    "                    # Compute week bins\n",
    "                    cal = make_date(day, month, year, iso=False)\n",
    "                    year_num, week_num, weekday_num = cal.isocalendar()\n",
    "\n",
    "                    # Invalid Timestamp, likely 0.\n",
    "                    if year_num == 1970:\n",
    "                        continue\n",
    "                    week = (year_num-1970)*52 + week_num\n",
    "\n",
    "                except Exception, e: \n",
    "                    print(str(e))\n",
    "\n",
    "                if ip is None or ip == '':\n",
    "                    print(\"Skipping invalid IP: %s\" % ip)\n",
    "                    continue\n",
    "\n",
    "                # Relabelling unlabelled reports\n",
    "                if (attack == 'Unlabelled'):\n",
    "                    attack_label = attack_map[activity_relabel[n]]\n",
    "                else:\n",
    "                    attack_label = attack\n",
    "\n",
    "                # Initialise the holder\n",
    "                key = asn\n",
    "                if key not in ip_attacks:\n",
    "                    ip_attacks[key] = [0] * 7\n",
    "\n",
    "                # Increment the relevant list position\n",
    "                i = indexes[attack_label]\n",
    "                ip_attacks[key][i] += 1\n",
    "\n",
    "                if asn not in ip_in_asn[attack_label]:\n",
    "                    ip_in_asn[attack_label][asn] = set([])\n",
    "                ip_in_asn[attack_label][asn].add(ip)\n",
    "                \n",
    "print('Finished')"
   ]
  },
  {
   "cell_type": "code",
   "execution_count": 77,
   "metadata": {},
   "outputs": [],
   "source": [
    "# save inter-host relationships\n",
    "import cPickle\n",
    "cPickle.dump(ip_in_asn, open('ip_in_asn.pickle', 'wb'))"
   ]
  },
  {
   "cell_type": "markdown",
   "metadata": {},
   "source": [
    "# Generate DataFrame"
   ]
  },
  {
   "cell_type": "code",
   "execution_count": 10,
   "metadata": {},
   "outputs": [],
   "source": [
    "################################\n",
    "# ASN Filter\n",
    "import pandas as pd\n",
    "# Turn into a pandas array\n",
    "ip_attack_frame = pd.DataFrame.from_dict(ip_attacks, orient='index')\n",
    "# relabel the colum names\n",
    "ip_attack_frame.columns = attack_map\n",
    "# Drop invalid ASs\n",
    "ip_attack_frame.drop('-1',inplace=True)"
   ]
  },
  {
   "cell_type": "code",
   "execution_count": 11,
   "metadata": {},
   "outputs": [],
   "source": [
    "# Save the DataFrame\n",
    "ip_attack_frame.to_csv('asn_attack_frame.csv')"
   ]
  },
  {
   "cell_type": "markdown",
   "metadata": {},
   "source": [
    "# Plotting code"
   ]
  },
  {
   "cell_type": "markdown",
   "metadata": {},
   "source": [
    "## Import precomputed data"
   ]
  },
  {
   "cell_type": "code",
   "execution_count": 13,
   "metadata": {},
   "outputs": [],
   "source": [
    "import pandas as pd\n",
    "ip_attack_frame = pd.read_csv('asn_attack_frame.csv', index_col=0)"
   ]
  },
  {
   "cell_type": "markdown",
   "metadata": {},
   "source": [
    "## Top offending ASs"
   ]
  },
  {
   "cell_type": "code",
   "execution_count": 14,
   "metadata": {},
   "outputs": [
    {
     "data": {
      "text/html": [
       "<div>\n",
       "<style scoped>\n",
       "    .dataframe tbody tr th:only-of-type {\n",
       "        vertical-align: middle;\n",
       "    }\n",
       "\n",
       "    .dataframe tbody tr th {\n",
       "        vertical-align: top;\n",
       "    }\n",
       "\n",
       "    .dataframe thead th {\n",
       "        text-align: right;\n",
       "    }\n",
       "</style>\n",
       "<table border=\"1\" class=\"dataframe\">\n",
       "  <thead>\n",
       "    <tr style=\"text-align: right;\">\n",
       "      <th></th>\n",
       "      <th>Totals</th>\n",
       "      <th>Malware</th>\n",
       "      <th>Phishing</th>\n",
       "      <th>Spammers</th>\n",
       "      <th>Unwanted Programs</th>\n",
       "      <th>Exploits</th>\n",
       "      <th>Fraudlent Services</th>\n",
       "    </tr>\n",
       "  </thead>\n",
       "  <tbody>\n",
       "    <tr>\n",
       "      <th>16509</th>\n",
       "      <td>25780070</td>\n",
       "      <td>24730443</td>\n",
       "      <td>463396</td>\n",
       "      <td>45</td>\n",
       "      <td>323347</td>\n",
       "      <td>20106</td>\n",
       "      <td>242733</td>\n",
       "    </tr>\n",
       "    <tr>\n",
       "      <th>20940</th>\n",
       "      <td>4540203</td>\n",
       "      <td>4083724</td>\n",
       "      <td>272612</td>\n",
       "      <td>0</td>\n",
       "      <td>152676</td>\n",
       "      <td>1076</td>\n",
       "      <td>30115</td>\n",
       "    </tr>\n",
       "    <tr>\n",
       "      <th>2914</th>\n",
       "      <td>2179430</td>\n",
       "      <td>2074612</td>\n",
       "      <td>87713</td>\n",
       "      <td>0</td>\n",
       "      <td>16533</td>\n",
       "      <td>406</td>\n",
       "      <td>166</td>\n",
       "    </tr>\n",
       "    <tr>\n",
       "      <th>35994</th>\n",
       "      <td>1666782</td>\n",
       "      <td>1567854</td>\n",
       "      <td>81695</td>\n",
       "      <td>0</td>\n",
       "      <td>15555</td>\n",
       "      <td>319</td>\n",
       "      <td>1359</td>\n",
       "    </tr>\n",
       "    <tr>\n",
       "      <th>209</th>\n",
       "      <td>1426533</td>\n",
       "      <td>1300545</td>\n",
       "      <td>114922</td>\n",
       "      <td>54</td>\n",
       "      <td>10032</td>\n",
       "      <td>518</td>\n",
       "      <td>462</td>\n",
       "    </tr>\n",
       "    <tr>\n",
       "      <th>3257</th>\n",
       "      <td>1138253</td>\n",
       "      <td>1045529</td>\n",
       "      <td>84834</td>\n",
       "      <td>0</td>\n",
       "      <td>7621</td>\n",
       "      <td>193</td>\n",
       "      <td>76</td>\n",
       "    </tr>\n",
       "    <tr>\n",
       "      <th>14618</th>\n",
       "      <td>1053876</td>\n",
       "      <td>824285</td>\n",
       "      <td>66336</td>\n",
       "      <td>107</td>\n",
       "      <td>104836</td>\n",
       "      <td>30114</td>\n",
       "      <td>28198</td>\n",
       "    </tr>\n",
       "    <tr>\n",
       "      <th>16276</th>\n",
       "      <td>1041795</td>\n",
       "      <td>980549</td>\n",
       "      <td>18289</td>\n",
       "      <td>104</td>\n",
       "      <td>4851</td>\n",
       "      <td>18366</td>\n",
       "      <td>19636</td>\n",
       "    </tr>\n",
       "    <tr>\n",
       "      <th>701</th>\n",
       "      <td>639313</td>\n",
       "      <td>613051</td>\n",
       "      <td>23407</td>\n",
       "      <td>0</td>\n",
       "      <td>2490</td>\n",
       "      <td>81</td>\n",
       "      <td>284</td>\n",
       "    </tr>\n",
       "    <tr>\n",
       "      <th>4134</th>\n",
       "      <td>625087</td>\n",
       "      <td>478846</td>\n",
       "      <td>141866</td>\n",
       "      <td>31</td>\n",
       "      <td>489</td>\n",
       "      <td>1427</td>\n",
       "      <td>2428</td>\n",
       "    </tr>\n",
       "  </tbody>\n",
       "</table>\n",
       "</div>"
      ],
      "text/plain": [
       "         Totals   Malware  Phishing  Spammers  Unwanted Programs  Exploits  \\\n",
       "16509  25780070  24730443    463396        45             323347     20106   \n",
       "20940   4540203   4083724    272612         0             152676      1076   \n",
       "2914    2179430   2074612     87713         0              16533       406   \n",
       "35994   1666782   1567854     81695         0              15555       319   \n",
       "209     1426533   1300545    114922        54              10032       518   \n",
       "3257    1138253   1045529     84834         0               7621       193   \n",
       "14618   1053876    824285     66336       107             104836     30114   \n",
       "16276   1041795    980549     18289       104               4851     18366   \n",
       "701      639313    613051     23407         0               2490        81   \n",
       "4134     625087    478846    141866        31                489      1427   \n",
       "\n",
       "       Fraudlent Services  \n",
       "16509              242733  \n",
       "20940               30115  \n",
       "2914                  166  \n",
       "35994                1359  \n",
       "209                   462  \n",
       "3257                   76  \n",
       "14618               28198  \n",
       "16276               19636  \n",
       "701                   284  \n",
       "4134                 2428  "
      ]
     },
     "execution_count": 14,
     "metadata": {},
     "output_type": "execute_result"
    }
   ],
   "source": [
    "if 'Totals' in ip_attack_frame:\n",
    "    ip_attack_frame.drop('Totals', axis=1,inplace=True)\n",
    "\n",
    "ip_attack_frame['Totals'] = ip_attack_frame.transpose().sum()\n",
    "\n",
    "ip_attack_frame[['Totals','Malware','Phishing','Spammers',\n",
    "                 'Unwanted Programs','Exploits','Fraudlent Services']\n",
    "               ].sort_values('Totals', ascending=False).head(10)"
   ]
  },
  {
   "cell_type": "markdown",
   "metadata": {},
   "source": [
    "## Unique AS Summary"
   ]
  },
  {
   "cell_type": "code",
   "execution_count": 15,
   "metadata": {},
   "outputs": [
    {
     "name": "stdout",
     "output_type": "stream",
     "text": [
      "              Attack:    Unique:   Ratio:      %\n",
      "            Spammers:       561: 0.04332:   4.33\n",
      "             Malware:     11435: 0.88301:  88.30\n",
      "            Exploits:      2966: 0.22903:  22.90\n",
      "            Phishing:      4402: 0.33992:  33.99\n",
      "  Fraudlent Services:      3264: 0.25205:  25.20\n",
      "   Unwanted Programs:      2200: 0.16988:  16.99\n",
      "            Labelled:     12950: 1.00000: 100.00\n",
      "              Totals:     12950: 1.00000: 100.00\n"
     ]
    }
   ],
   "source": [
    "a = ip_attack_frame.drop('Totals',axis=1)\n",
    "a = a.transpose().sum()\n",
    "a = a[a > 0]\n",
    "labelled_len = len(a)\n",
    "full_len = len(ip_attack_frame)\n",
    "\n",
    "print '%20s:%10s: %7s: %6s'%('Attack','Unique','Ratio','%')\n",
    "\n",
    "# Attack Label\n",
    "for attk in indexes:\n",
    "    if attk == 'Unlabelled':\n",
    "        continue\n",
    "    attk_len = len(ip_attack_frame[attk][ip_attack_frame[attk]>0])\n",
    "    ratio = 1.0*attk_len/labelled_len\n",
    "    percent = ratio*100.0\n",
    "    print '%20s:%10s: %0.5f: %6.2f'%(attk,attk_len,ratio,percent)\n",
    "\n",
    "# Labelled\n",
    "ratio = 1.0*labelled_len/full_len\n",
    "percent = ratio*100.0\n",
    "print '%20s:%10s: %0.5f:% 6.2f'%('Labelled',labelled_len,ratio,percent)\n",
    "    \n",
    "print '%20s:%10s: %0.5f:% 6.2f'%('Totals',full_len,1.0,100.0)"
   ]
  },
  {
   "cell_type": "markdown",
   "metadata": {},
   "source": [
    "## Graph Plotting Parameters"
   ]
  },
  {
   "cell_type": "code",
   "execution_count": 16,
   "metadata": {},
   "outputs": [],
   "source": [
    "import matplotlib.pyplot as plt\n",
    "import matplotlib.dates as mdates\n",
    "import dateutil.relativedelta\n",
    "\n",
    "plot_properties_indexes = {\n",
    "    'Unwanted Programs':{'color':'b', 'linestyle':'-', 'label':'PUP',\n",
    "                         'marker':'s', 'hatch':'//'},\n",
    "\n",
    "    'Fraudlent Services':{'color':'y', 'linestyle':'-', 'label':'Fraud. Serv.',\n",
    "                          'marker':'*','hatch':'\\\\'},\n",
    "\n",
    "    'Malware':{'color':'r', 'linestyle':'-', 'label':'Malware',\n",
    "               'marker':'x', 'hatch':'x'},\n",
    "\n",
    "    'Exploits':{'color':'m', 'linestyle':'-', 'label':'Exploits',\n",
    "                'marker':'+', 'hatch':'+'},\n",
    "\n",
    "    'Phishing':{'color':'g', 'linestyle':'-', 'label':'Phishing',\n",
    "                'marker':'^', 'hatch':'|'},\n",
    "\n",
    "    'Spammers':{'color':'c', 'linestyle':'-', 'label':'Spammers',\n",
    "                'marker':'D', 'hatch':'\\\\\\\\'},\n",
    "\n",
    "    'Unlabelled':{'color':'w', 'linestyle':'-', 'label':'Unlabelled',\n",
    "                  'marker':'T', 'hatch':'///'},\n",
    "\n",
    "    'Totals':{'color':'k', 'linestyle':'-', 'label':'Total',\n",
    "              'marker':'o', 'hatch':''}\n",
    "}"
   ]
  },
  {
   "cell_type": "code",
   "execution_count": 17,
   "metadata": {},
   "outputs": [],
   "source": [
    "import matplotlib.pyplot as plt\n",
    "import numpy as np\n",
    "import pandas as pd\n",
    "import cPickle\n",
    "\n",
    "def cdf(data, m,n,s,lstring):\n",
    "\n",
    "    data_size=len(data)\n",
    "\n",
    "    # Set bins edges\n",
    "    data_set=sorted(set(data))\n",
    "    bins=np.append(data_set, data_set[-1]+1)\n",
    "    #new_bins = [bins[i] for i in range(len(bins)) if (i/5)%5==0]\n",
    "    #print len(bins)\n",
    "    #print len(new_bins)\n",
    "    \n",
    "\n",
    "    # Use the histogram function to bin the data\n",
    "    counts, bin_edges = np.histogram(data, bins=bins, density=False)\n",
    "    #print counts\n",
    "    #print bin_edges\n",
    "    counts=counts.astype(float)/data_size\n",
    "\n",
    "    markers_on = bins[0]\n",
    "    # Find the cdf\n",
    "    cdf = np.cumsum(counts)\n",
    "    \n",
    "    # Plot the cdf\n",
    "    plt.plot(bin_edges[0:-1], cdf,linestyle='%s'%n, color='%s'%m,marker='%s'%s,markevery=0.1, label=lstring)    \n",
    "    plt.ylim((0,1))"
   ]
  },
  {
   "cell_type": "markdown",
   "metadata": {},
   "source": [
    "## CDF of AS Reports"
   ]
  },
  {
   "cell_type": "code",
   "execution_count": 18,
   "metadata": {},
   "outputs": [
    {
     "data": {
      "image/png": "[encoded data removed]",
      "text/plain": [
       "<matplotlib.figure.Figure at 0x114904b50>"
      ]
     },
     "metadata": {},
     "output_type": "display_data"
    }
   ],
   "source": [
    "a = ip_attack_frame.drop('Totals',axis=1)\n",
    "if 'Totals' in a:\n",
    "    a.drop('Totals', axis=1,inplace=True)\n",
    "\n",
    "a['Totals'] = a.transpose().sum()\n",
    "a = a[a['Totals']>0]\n",
    "final_df = a\n",
    "    \n",
    "plt.figure(figsize=(4,2.6))\n",
    "\n",
    "for attk in ['Totals', 'Malware', 'Phishing', 'Fraudlent Services', 'Unwanted Programs', \n",
    "             'Exploits', 'Spammers']:\n",
    "    a = final_df[attk][final_df[attk]!=0]\n",
    "    linestyle = plot_properties_indexes[attk]['linestyle']\n",
    "    color = plot_properties_indexes[attk]['color']\n",
    "    label = plot_properties_indexes[attk]['label']\n",
    "    marker = plot_properties_indexes[attk]['marker']\n",
    "    \n",
    "    cdf(a, color, linestyle, marker, label)\n",
    "\n",
    "plt.ylabel(\"CDF\",fontsize=14)\n",
    "plt.xlabel(\"Volume\",fontsize=14)\n",
    "\n",
    "plt.xscale('log')\n",
    "plt.xlim(1, 10000)\n",
    "plt.ylim(0)\n",
    "plt.legend(loc='lower right', frameon=False)\n",
    "\n",
    "import matplotlib.pyplot as plt\n",
    "from matplotlib import rcParams\n",
    "rcParams.update({'figure.autolayout': True})\n",
    "\n",
    "plt.savefig(\"./figures/asn_attack_cdf.pdf\",bbox_inches='tight')\n",
    "plt.show()"
   ]
  },
  {
   "cell_type": "markdown",
   "metadata": {},
   "source": [
    "# Additional Analysis"
   ]
  },
  {
   "cell_type": "code",
   "execution_count": 20,
   "metadata": {
    "scrolled": true
   },
   "outputs": [
    {
     "data": {
      "text/html": [
       "<div>\n",
       "<style scoped>\n",
       "    .dataframe tbody tr th:only-of-type {\n",
       "        vertical-align: middle;\n",
       "    }\n",
       "\n",
       "    .dataframe tbody tr th {\n",
       "        vertical-align: top;\n",
       "    }\n",
       "\n",
       "    .dataframe thead th {\n",
       "        text-align: right;\n",
       "    }\n",
       "</style>\n",
       "<table border=\"1\" class=\"dataframe\">\n",
       "  <thead>\n",
       "    <tr style=\"text-align: right;\">\n",
       "      <th></th>\n",
       "      <th>Totals</th>\n",
       "      <th>Malware</th>\n",
       "      <th>Phishing</th>\n",
       "      <th>Spammers</th>\n",
       "      <th>Unwanted Programs</th>\n",
       "      <th>Exploits</th>\n",
       "      <th>Fraudlent Services</th>\n",
       "    </tr>\n",
       "  </thead>\n",
       "  <tbody>\n",
       "    <tr>\n",
       "      <th>16509</th>\n",
       "      <td>25780070</td>\n",
       "      <td>24730443</td>\n",
       "      <td>463396</td>\n",
       "      <td>45</td>\n",
       "      <td>323347</td>\n",
       "      <td>20106</td>\n",
       "      <td>242733</td>\n",
       "    </tr>\n",
       "    <tr>\n",
       "      <th>20940</th>\n",
       "      <td>4540203</td>\n",
       "      <td>4083724</td>\n",
       "      <td>272612</td>\n",
       "      <td>0</td>\n",
       "      <td>152676</td>\n",
       "      <td>1076</td>\n",
       "      <td>30115</td>\n",
       "    </tr>\n",
       "    <tr>\n",
       "      <th>2914</th>\n",
       "      <td>2179430</td>\n",
       "      <td>2074612</td>\n",
       "      <td>87713</td>\n",
       "      <td>0</td>\n",
       "      <td>16533</td>\n",
       "      <td>406</td>\n",
       "      <td>166</td>\n",
       "    </tr>\n",
       "    <tr>\n",
       "      <th>35994</th>\n",
       "      <td>1666782</td>\n",
       "      <td>1567854</td>\n",
       "      <td>81695</td>\n",
       "      <td>0</td>\n",
       "      <td>15555</td>\n",
       "      <td>319</td>\n",
       "      <td>1359</td>\n",
       "    </tr>\n",
       "    <tr>\n",
       "      <th>209</th>\n",
       "      <td>1426533</td>\n",
       "      <td>1300545</td>\n",
       "      <td>114922</td>\n",
       "      <td>54</td>\n",
       "      <td>10032</td>\n",
       "      <td>518</td>\n",
       "      <td>462</td>\n",
       "    </tr>\n",
       "    <tr>\n",
       "      <th>3257</th>\n",
       "      <td>1138253</td>\n",
       "      <td>1045529</td>\n",
       "      <td>84834</td>\n",
       "      <td>0</td>\n",
       "      <td>7621</td>\n",
       "      <td>193</td>\n",
       "      <td>76</td>\n",
       "    </tr>\n",
       "    <tr>\n",
       "      <th>14618</th>\n",
       "      <td>1053876</td>\n",
       "      <td>824285</td>\n",
       "      <td>66336</td>\n",
       "      <td>107</td>\n",
       "      <td>104836</td>\n",
       "      <td>30114</td>\n",
       "      <td>28198</td>\n",
       "    </tr>\n",
       "    <tr>\n",
       "      <th>16276</th>\n",
       "      <td>1041795</td>\n",
       "      <td>980549</td>\n",
       "      <td>18289</td>\n",
       "      <td>104</td>\n",
       "      <td>4851</td>\n",
       "      <td>18366</td>\n",
       "      <td>19636</td>\n",
       "    </tr>\n",
       "    <tr>\n",
       "      <th>701</th>\n",
       "      <td>639313</td>\n",
       "      <td>613051</td>\n",
       "      <td>23407</td>\n",
       "      <td>0</td>\n",
       "      <td>2490</td>\n",
       "      <td>81</td>\n",
       "      <td>284</td>\n",
       "    </tr>\n",
       "    <tr>\n",
       "      <th>4134</th>\n",
       "      <td>625087</td>\n",
       "      <td>478846</td>\n",
       "      <td>141866</td>\n",
       "      <td>31</td>\n",
       "      <td>489</td>\n",
       "      <td>1427</td>\n",
       "      <td>2428</td>\n",
       "    </tr>\n",
       "  </tbody>\n",
       "</table>\n",
       "</div>"
      ],
      "text/plain": [
       "         Totals   Malware  Phishing  Spammers  Unwanted Programs  Exploits  \\\n",
       "16509  25780070  24730443    463396        45             323347     20106   \n",
       "20940   4540203   4083724    272612         0             152676      1076   \n",
       "2914    2179430   2074612     87713         0              16533       406   \n",
       "35994   1666782   1567854     81695         0              15555       319   \n",
       "209     1426533   1300545    114922        54              10032       518   \n",
       "3257    1138253   1045529     84834         0               7621       193   \n",
       "14618   1053876    824285     66336       107             104836     30114   \n",
       "16276   1041795    980549     18289       104               4851     18366   \n",
       "701      639313    613051     23407         0               2490        81   \n",
       "4134     625087    478846    141866        31                489      1427   \n",
       "\n",
       "       Fraudlent Services  \n",
       "16509              242733  \n",
       "20940               30115  \n",
       "2914                  166  \n",
       "35994                1359  \n",
       "209                   462  \n",
       "3257                   76  \n",
       "14618               28198  \n",
       "16276               19636  \n",
       "701                   284  \n",
       "4134                 2428  "
      ]
     },
     "execution_count": 20,
     "metadata": {},
     "output_type": "execute_result"
    }
   ],
   "source": [
    "# Top 10 ASs with total number of reports\n",
    "final_df[['Totals','Malware','Phishing','Spammers','Unwanted Programs','Exploits','Fraudlent Services']].sort_values('Totals', ascending=False).head(10)"
   ]
  },
  {
   "cell_type": "code",
   "execution_count": 106,
   "metadata": {},
   "outputs": [
    {
     "name": "stdout",
     "output_type": "stream",
     "text": [
      "\n",
      "Totals\n",
      "10677\n",
      "12950\n",
      "0.824478764479\n",
      "Mean reports per AS\n",
      "3830.7596139\n"
     ]
    }
   ],
   "source": [
    "# Proportion of ASs with more than 1 reports\n",
    "attk = 'Totals'\n",
    "print('\\n' + attk)\n",
    "over_1 = len(final_df[final_df[attk] > 1])\n",
    "total = len(final_df[final_df[attk] != 0])\n",
    "print(over_1)\n",
    "print(total)\n",
    "print(1.0*over_1/total)\n",
    "\n",
    "print \"Mean reports per AS\"\n",
    "print(final_df[attk].mean())"
   ]
  },
  {
   "cell_type": "code",
   "execution_count": 107,
   "metadata": {},
   "outputs": [
    {
     "name": "stdout",
     "output_type": "stream",
     "text": [
      "\n",
      "Totals\n",
      "7671\n",
      "12950\n",
      "0.592355212355\n",
      "Mean reports per AS\n",
      "3830.7596139\n"
     ]
    }
   ],
   "source": [
    "# Proportion of IPs with more than 5 reports\n",
    "attk = 'Totals'\n",
    "print('\\n' + attk)\n",
    "over_1 = len(final_df[final_df[attk] >= 5])\n",
    "total = len(final_df[final_df[attk] != 0])\n",
    "print(over_1)\n",
    "print(total)\n",
    "print(1.0*over_1/total)\n",
    "\n",
    "print \"Mean reports per AS\"\n",
    "print(final_df[attk].mean())"
   ]
  },
  {
   "cell_type": "code",
   "execution_count": 108,
   "metadata": {},
   "outputs": [
    {
     "name": "stdout",
     "output_type": "stream",
     "text": [
      "\n",
      "Spammers\n",
      "356\n",
      "561\n",
      "0.634581105169\n",
      "13.3832442068\n",
      "\n",
      "Malware\n",
      "9248\n",
      "11435\n",
      "0.808745080892\n",
      "3933.75461303\n",
      "\n",
      "Exploits\n",
      "2082\n",
      "2966\n",
      "0.701955495617\n",
      "70.0967633176\n",
      "\n",
      "Phishing\n",
      "3785\n",
      "4402\n",
      "0.859836437983\n",
      "551.740572467\n",
      "\n",
      "Fraudlent Services\n",
      "2995\n",
      "3264\n",
      "0.917585784314\n",
      "345.682904412\n",
      "\n",
      "Unwanted Programs\n",
      "1877\n",
      "2200\n",
      "0.853181818182\n",
      "387.894090909\n"
     ]
    }
   ],
   "source": [
    "# Proportion of ASs with more than one report\n",
    "for attk in indexes:\n",
    "    if attk == 'Unlabelled':\n",
    "        continue\n",
    "    print('\\n' + attk)\n",
    "    over_1 = len(final_df[final_df[attk] > 1])\n",
    "    total = len(final_df[final_df[attk] != 0])\n",
    "    print(over_1)\n",
    "    print(total)\n",
    "    print(1.0*over_1/total)\n",
    "    print(final_df[final_df[attk] != 0][attk].mean())"
   ]
  },
  {
   "cell_type": "code",
   "execution_count": 112,
   "metadata": {},
   "outputs": [
    {
     "name": "stdout",
     "output_type": "stream",
     "text": [
      "\n",
      "Totals\n",
      "141\n",
      "12950\n",
      "0.010888030888\n",
      "Mean reports per AS\n",
      "3830.7596139\n"
     ]
    },
    {
     "data": {
      "text/plain": [
       "16509    25780070\n",
       "20940     4540203\n",
       "2914      2179430\n",
       "35994     1666782\n",
       "209       1426533\n",
       "3257      1138253\n",
       "14618     1053876\n",
       "16276     1041795\n",
       "701        639313\n",
       "4134       625087\n",
       "Name: Totals, dtype: int64"
      ]
     },
     "execution_count": 112,
     "metadata": {},
     "output_type": "execute_result"
    }
   ],
   "source": [
    "# Proportion of ASs with over 10K reports\n",
    "attk = 'Totals'\n",
    "print('\\n' + attk)\n",
    "over_1 = len(final_df[final_df[attk] > 10000])\n",
    "total = len(final_df[final_df[attk] != 0])\n",
    "print(over_1)\n",
    "print(total)\n",
    "print(1.0*over_1/total)\n",
    "\n",
    "print \"Mean reports per AS\"\n",
    "print(final_df[attk].mean())\n",
    "\n",
    "total_reports = sum(final_df[attk].values)\n",
    "\n",
    "final_df[attk].sort_values(ascending=False).head(10)"
   ]
  },
  {
   "cell_type": "code",
   "execution_count": 113,
   "metadata": {},
   "outputs": [
    {
     "name": "stdout",
     "output_type": "stream",
     "text": [
      "Malware               24730443\n",
      "Phishing                463396\n",
      "Exploits                 20106\n",
      "Fraudlent Services      242733\n",
      "Unwanted Programs       323347\n",
      "Spammers                    45\n",
      "Unlabelled                   0\n",
      "Totals                25780070\n",
      "Name: 16509, dtype: int64\n",
      "0.519672126885\n"
     ]
    }
   ],
   "source": [
    "# Investigate highest contributing AS\n",
    "print(ip_attack_frame.loc[16509])\n",
    "\n",
    "total_all = ip_attack_frame.drop('Totals', axis=1).sum().sum()\n",
    "print(1.0*ip_attack_frame.loc[16509]['Totals'] / total_all)"
   ]
  },
  {
   "cell_type": "code",
   "execution_count": 114,
   "metadata": {},
   "outputs": [
    {
     "name": "stdout",
     "output_type": "stream",
     "text": [
      "Malware               163803\n",
      "Phishing                9144\n",
      "Exploits               10200\n",
      "Fraudlent Services     19941\n",
      "Unwanted Programs       1168\n",
      "Spammers                 642\n",
      "Unlabelled                 0\n",
      "Totals                204898\n",
      "Name: 40034, dtype: int64\n"
     ]
    }
   ],
   "source": [
    "# Investigate highest contributing AS of Virgin Islands\n",
    "print(ip_attack_frame.loc[40034])"
   ]
  },
  {
   "cell_type": "code",
   "execution_count": 116,
   "metadata": {},
   "outputs": [
    {
     "name": "stdout",
     "output_type": "stream",
     "text": [
      "Malware               2324\n",
      "Phishing                54\n",
      "Exploits                19\n",
      "Fraudlent Services      11\n",
      "Unwanted Programs        1\n",
      "Spammers                 0\n",
      "Unlabelled               0\n",
      "Totals                2409\n",
      "Name: 44571, dtype: int64\n",
      "0.519672126885\n"
     ]
    }
   ],
   "source": [
    "# Investigate AS\n",
    "print(ip_attack_frame.loc[44571])\n",
    "\n",
    "total_all = ip_attack_frame.drop('Totals', axis=1).sum().sum()\n",
    "print(1.0*ip_attack_frame.loc[16509]['Totals'] / total_all)"
   ]
  },
  {
   "cell_type": "code",
   "execution_count": 117,
   "metadata": {},
   "outputs": [
    {
     "data": {
      "text/plain": [
       "Malware                9548\n",
       "Phishing                459\n",
       "Exploits                660\n",
       "Fraudlent Services     1565\n",
       "Unwanted Programs        15\n",
       "Spammers                  6\n",
       "Unlabelled                0\n",
       "Totals                12253\n",
       "Name: 31624, dtype: int64"
      ]
     },
     "execution_count": 117,
     "metadata": {},
     "output_type": "execute_result"
    }
   ],
   "source": [
    "# Check reports for AS 31624\n",
    "ip_attack_frame.loc[31624]"
   ]
  },
  {
   "cell_type": "code",
   "execution_count": 118,
   "metadata": {},
   "outputs": [
    {
     "name": "stdout",
     "output_type": "stream",
     "text": [
      "\n",
      "Spammers\n",
      "3759\n",
      "7508\n",
      "0.500665956313\n",
      "\n",
      "Malware\n",
      "37699438\n",
      "44982484\n",
      "0.838091511354\n",
      "\n",
      "Exploits\n",
      "107506\n",
      "207907\n",
      "0.517086966769\n",
      "\n",
      "Phishing\n",
      "1550371\n",
      "2428762\n",
      "0.638337968068\n",
      "\n",
      "Fraudlent Services\n",
      "574529\n",
      "1128309\n",
      "0.509194733003\n",
      "\n",
      "Unwanted Programs\n",
      "719177\n",
      "853367\n",
      "0.842752297663\n"
     ]
    }
   ],
   "source": [
    "# Report proportion of 10 ASs with the most reports\n",
    "for attk in indexes:\n",
    "    if attk == 'Unlabelled':\n",
    "        continue\n",
    "    print('\\n' + attk)\n",
    "    top_10_reports = final_df[attk].sort_values(ascending=False).head(10).sum()\n",
    "    total_reports = sum(final_df[attk].values)\n",
    "    print(top_10_reports)\n",
    "    print(total_reports)\n",
    "    print(1.0*top_10_reports/total_reports)"
   ]
  },
  {
   "cell_type": "code",
   "execution_count": 55,
   "metadata": {},
   "outputs": [
    {
     "name": "stdout",
     "output_type": "stream",
     "text": [
      "\n",
      "Totals\n",
      "40091342\n",
      "49608337\n",
      "0.808157346617\n"
     ]
    }
   ],
   "source": [
    "# Report proportion of 10 ASs with the most reports\n",
    "attk = 'Totals'\n",
    "print('\\n' + attk)\n",
    "top_10_reports = final_df[attk].sort_values(ascending=False).head(10).sum()\n",
    "total_reports = sum(final_df[attk].values)\n",
    "print(top_10_reports)\n",
    "print(total_reports)\n",
    "print(1.0*top_10_reports/total_reports)"
   ]
  },
  {
   "cell_type": "code",
   "execution_count": 119,
   "metadata": {},
   "outputs": [
    {
     "data": {
      "text/plain": [
       "Malware               56711\n",
       "Phishing               2744\n",
       "Exploits                  7\n",
       "Fraudlent Services        3\n",
       "Unwanted Programs       320\n",
       "Spammers                  0\n",
       "Unlabelled                0\n",
       "Totals                59785\n",
       "Name: 7276, dtype: int64"
      ]
     },
     "execution_count": 119,
     "metadata": {},
     "output_type": "execute_result"
    }
   ],
   "source": [
    "# Check uni of houston AS7276\n",
    "final_df.loc[7276]"
   ]
  },
  {
   "cell_type": "code",
   "execution_count": 120,
   "metadata": {},
   "outputs": [
    {
     "name": "stdout",
     "output_type": "stream",
     "text": [
      "3.991103202846975\n"
     ]
    }
   ],
   "source": [
    "# Average number of IPs in Spammer ASes\n",
    "number = []\n",
    "for asn, data in ip_in_asn['Spammers'].items():\n",
    "    number.append(len(data))\n",
    "print(np.mean(number))"
   ]
  },
  {
   "cell_type": "code",
   "execution_count": 121,
   "metadata": {},
   "outputs": [
    {
     "name": "stdout",
     "output_type": "stream",
     "text": [
      "30.56052691346809\n"
     ]
    }
   ],
   "source": [
    "# Average number of IPs in Phishing ASes\n",
    "number = []\n",
    "for asn, data in ip_in_asn['Phishing'].items():\n",
    "    number.append(len(data))\n",
    "print(np.mean(number))"
   ]
  },
  {
   "cell_type": "code",
   "execution_count": 122,
   "metadata": {},
   "outputs": [
    {
     "name": "stdout",
     "output_type": "stream",
     "text": [
      "561\n",
      "2200\n"
     ]
    }
   ],
   "source": [
    "# Number of ASes in Spammers\n",
    "print(len(final_df[final_df['Spammers'] > 0]))\n",
    "# Number of ASes in PUP\n",
    "print(len(final_df[final_df['Unwanted Programs'] > 0]))\n"
   ]
  },
  {
   "cell_type": "code",
   "execution_count": 123,
   "metadata": {},
   "outputs": [
    {
     "name": "stdout",
     "output_type": "stream",
     "text": [
      "\n",
      "Spammers\n",
      "561\n",
      "12950\n",
      "4.33204633205\n",
      "\n",
      "Malware\n",
      "11435\n",
      "12950\n",
      "88.3011583012\n",
      "\n",
      "Exploits\n",
      "2966\n",
      "12950\n",
      "22.9034749035\n",
      "\n",
      "Phishing\n",
      "4402\n",
      "12950\n",
      "33.9922779923\n",
      "\n",
      "Fraudlent Services\n",
      "3264\n",
      "12950\n",
      "25.2046332046\n",
      "\n",
      "Unwanted Programs\n",
      "2200\n",
      "12950\n",
      "16.9884169884\n"
     ]
    }
   ],
   "source": [
    "# Proportion of unique malicious ASs \n",
    "for attk in indexes:\n",
    "    if attk == 'Unlabelled':\n",
    "        continue\n",
    "    print('\\n' + attk)\n",
    "    mal_ASes = len(final_df[final_df[attk] > 0])\n",
    "    total_ASes = len(final_df['Totals'])\n",
    "    print(mal_ASes)\n",
    "    print(total_ASes)\n",
    "    print(100.0*mal_ASes/total_ASes)\n",
    "    "
   ]
  },
  {
   "cell_type": "code",
   "execution_count": null,
   "metadata": {},
   "outputs": [],
   "source": []
  },
  {
   "cell_type": "code",
   "execution_count": null,
   "metadata": {},
   "outputs": [],
   "source": []
  }
 ],
 "metadata": {
  "kernelspec": {
   "display_name": "Python [default]",
   "language": "python",
   "name": "python2"
  },
  "language_info": {
   "codemirror_mode": {
    "name": "ipython",
    "version": 2
   },
   "file_extension": ".py",
   "mimetype": "text/x-python",
   "name": "python",
   "nbconvert_exporter": "python",
   "pygments_lexer": "ipython2",
   "version": "2.7.14"
  }
 },
 "nbformat": 4,
 "nbformat_minor": 1
}
