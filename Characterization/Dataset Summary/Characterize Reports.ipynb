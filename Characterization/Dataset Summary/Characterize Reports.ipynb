{
 "cells": [
  {
   "cell_type": "markdown",
   "metadata": {},
   "source": [
    "# Raw Extraction of required data "
   ]
  },
  {
   "cell_type": "markdown",
   "metadata": {},
   "source": [
    "Note that the raw extraction of required data takes a very long time, the import of pre-computed values is avaliable at the Plotting Code section."
   ]
  },
  {
   "cell_type": "code",
   "execution_count": 10,
   "metadata": {},
   "outputs": [],
   "source": [
    "import pandas as pd\n",
    "import numpy as np\n",
    "import tqdm\n",
    "import csv\n",
    "from datetime import datetime"
   ]
  },
  {
   "cell_type": "code",
   "execution_count": 2,
   "metadata": {},
   "outputs": [],
   "source": [
    "# Defining the list indexes\n",
    "indexes = {\n",
    "    'Malware':0,\n",
    "    'Phishing':1,\n",
    "    'Exploits':2,\n",
    "    'Fraudlent Services':3,\n",
    "    'Unwanted Programs':4,\n",
    "    'Spammers':5,\n",
    "    'Unlabelled':6,\n",
    "}\n",
    "\n",
    "attack_map = ['Malware', 'Phishing', 'Exploits', 'Fraudlent Services',\n",
    "            'Unwanted Programs', 'Spammers', 'Unlabelled']\n",
    "\n",
    "# Unlabelled report, IP relabel mapping.\n",
    "# with open(\"./../../IP_activity_relabel.csv\") as f:\n",
    "#     ip_activity_relabel = dict(filter(None, csv.reader(f)))\n",
    "    \n",
    "# Unlabelled report, RNDF predictions"
   ]
  },
  {
   "cell_type": "code",
   "execution_count": 3,
   "metadata": {},
   "outputs": [],
   "source": [
    "# Convert date fields back into a python date object\n",
    "date_calculation_cache = {}\n",
    "def make_date(day, month, year, iso=True):\n",
    "    date = '%s-%s-%s' % (day, month, year)\n",
    "    # Check cache before recomputation\n",
    "    if date not in date_calculation_cache:\n",
    "        if iso:\n",
    "            cal = datetime.strptime(date, \"%d-%m-%Y\").isocalendar()\n",
    "        else:\n",
    "            cal = datetime.strptime(date, \"%d-%m-%Y\")\n",
    "        date_calculation_cache[date] = cal\n",
    "    else:\n",
    "        cal = date_calculation_cache[date]\n",
    "    return cal"
   ]
  },
  {
   "cell_type": "code",
   "execution_count": 7,
   "metadata": {
    "scrolled": false
   },
   "outputs": [
    {
     "name": "stderr",
     "output_type": "stream",
     "text": [
      "6918it [00:00, 89668.52it/s]\n",
      "17198it [00:00, 171937.12it/s]"
     ]
    },
    {
     "name": "stdout",
     "output_type": "stream",
     "text": [
      "Spammers\n",
      "./../../Datastore/Spammers_reports.csv\n",
      "Malware\n",
      "./../../Datastore/Malware_reports.csv\n"
     ]
    },
    {
     "name": "stderr",
     "output_type": "stream",
     "text": [
      "3190529it [00:18, 174524.46it/s]\n",
      "15646it [00:00, 156383.34it/s]"
     ]
    },
    {
     "name": "stdout",
     "output_type": "stream",
     "text": [
      "Exploits\n",
      "./../../Datastore/Exploits_reports.csv\n"
     ]
    },
    {
     "name": "stderr",
     "output_type": "stream",
     "text": [
      "201108it [00:01, 163388.61it/s]\n",
      "15191it [00:00, 151875.02it/s]"
     ]
    },
    {
     "name": "stdout",
     "output_type": "stream",
     "text": [
      "Phishing\n",
      "./../../Datastore/Phishing_reports.csv\n"
     ]
    },
    {
     "name": "stderr",
     "output_type": "stream",
     "text": [
      "2382889it [00:14, 166919.93it/s]\n",
      "15327it [00:00, 153228.86it/s]"
     ]
    },
    {
     "name": "stdout",
     "output_type": "stream",
     "text": [
      "Fraudlent Services\n",
      "./../../Datastore/Fraudlent Services_reports.csv\n"
     ]
    },
    {
     "name": "stderr",
     "output_type": "stream",
     "text": [
      "829301it [00:04, 169606.67it/s]\n",
      "17340it [00:00, 173354.70it/s]"
     ]
    },
    {
     "name": "stdout",
     "output_type": "stream",
     "text": [
      "Unwanted Programs\n",
      "./../../Datastore/Unwanted Programs_reports.csv\n"
     ]
    },
    {
     "name": "stderr",
     "output_type": "stream",
     "text": [
      "698700it [00:04, 164005.58it/s]\n"
     ]
    },
    {
     "name": "stdout",
     "output_type": "stream",
     "text": [
      "Unlabelled\n",
      "./../../Datastore/Unlabelled_reports_0.csv\n"
     ]
    },
    {
     "name": "stderr",
     "output_type": "stream",
     "text": [
      "/Users/zha197/.local/lib/python2.7/site-packages/numpy/lib/arraysetops.py:522: FutureWarning: elementwise comparison failed; returning scalar instead, but in the future will perform elementwise comparison\n",
      "  mask |= (ar1 == a)\n",
      "2000138it [00:12, 159175.94it/s]\n"
     ]
    },
    {
     "name": "stdout",
     "output_type": "stream",
     "text": [
      "./../../Datastore/Unlabelled_reports_1.csv\n"
     ]
    },
    {
     "name": "stderr",
     "output_type": "stream",
     "text": [
      "2000007it [00:15, 128568.01it/s]\n"
     ]
    },
    {
     "name": "stdout",
     "output_type": "stream",
     "text": [
      "./../../Datastore/Unlabelled_reports_2.csv\n"
     ]
    },
    {
     "name": "stderr",
     "output_type": "stream",
     "text": [
      "2000047it [00:13, 144365.77it/s]\n"
     ]
    },
    {
     "name": "stdout",
     "output_type": "stream",
     "text": [
      "./../../Datastore/Unlabelled_reports_3.csv\n"
     ]
    },
    {
     "name": "stderr",
     "output_type": "stream",
     "text": [
      "2000022it [00:13, 152307.74it/s]\n"
     ]
    },
    {
     "name": "stdout",
     "output_type": "stream",
     "text": [
      "./../../Datastore/Unlabelled_reports_4.csv\n"
     ]
    },
    {
     "name": "stderr",
     "output_type": "stream",
     "text": [
      "2000471it [00:14, 135491.55it/s]\n"
     ]
    },
    {
     "name": "stdout",
     "output_type": "stream",
     "text": [
      "./../../Datastore/Unlabelled_reports_5.csv\n"
     ]
    },
    {
     "name": "stderr",
     "output_type": "stream",
     "text": [
      "2000567it [00:15, 132348.33it/s]\n"
     ]
    },
    {
     "name": "stdout",
     "output_type": "stream",
     "text": [
      "./../../Datastore/Unlabelled_reports_6.csv\n"
     ]
    },
    {
     "name": "stderr",
     "output_type": "stream",
     "text": [
      "2000130it [00:13, 150596.30it/s]\n"
     ]
    },
    {
     "name": "stdout",
     "output_type": "stream",
     "text": [
      "./../../Datastore/Unlabelled_reports_7.csv\n"
     ]
    },
    {
     "name": "stderr",
     "output_type": "stream",
     "text": [
      "2000541it [00:12, 156654.87it/s]\n"
     ]
    },
    {
     "name": "stdout",
     "output_type": "stream",
     "text": [
      "./../../Datastore/Unlabelled_reports_8.csv\n"
     ]
    },
    {
     "name": "stderr",
     "output_type": "stream",
     "text": [
      "2000282it [00:12, 154137.15it/s]\n"
     ]
    },
    {
     "name": "stdout",
     "output_type": "stream",
     "text": [
      "./../../Datastore/Unlabelled_reports_9.csv\n"
     ]
    },
    {
     "name": "stderr",
     "output_type": "stream",
     "text": [
      "2000016it [00:13, 145525.58it/s]\n"
     ]
    },
    {
     "name": "stdout",
     "output_type": "stream",
     "text": [
      "./../../Datastore/Unlabelled_reports_10.csv\n"
     ]
    },
    {
     "name": "stderr",
     "output_type": "stream",
     "text": [
      "2000165it [00:12, 157130.45it/s]\n"
     ]
    },
    {
     "name": "stdout",
     "output_type": "stream",
     "text": [
      "./../../Datastore/Unlabelled_reports_11.csv\n"
     ]
    },
    {
     "name": "stderr",
     "output_type": "stream",
     "text": [
      "2000021it [00:12, 154206.45it/s]\n"
     ]
    },
    {
     "name": "stdout",
     "output_type": "stream",
     "text": [
      "./../../Datastore/Unlabelled_reports_12.csv\n"
     ]
    },
    {
     "name": "stderr",
     "output_type": "stream",
     "text": [
      "2000114it [00:12, 158090.88it/s]\n"
     ]
    },
    {
     "name": "stdout",
     "output_type": "stream",
     "text": [
      "./../../Datastore/Unlabelled_reports_13.csv\n"
     ]
    },
    {
     "name": "stderr",
     "output_type": "stream",
     "text": [
      "2000038it [00:13, 145216.44it/s]\n"
     ]
    },
    {
     "name": "stdout",
     "output_type": "stream",
     "text": [
      "./../../Datastore/Unlabelled_reports_14.csv\n"
     ]
    },
    {
     "name": "stderr",
     "output_type": "stream",
     "text": [
      "2000304it [00:13, 145622.27it/s]\n"
     ]
    },
    {
     "name": "stdout",
     "output_type": "stream",
     "text": [
      "./../../Datastore/Unlabelled_reports_15.csv\n"
     ]
    },
    {
     "name": "stderr",
     "output_type": "stream",
     "text": [
      "2000019it [00:13, 145011.06it/s]\n"
     ]
    },
    {
     "name": "stdout",
     "output_type": "stream",
     "text": [
      "./../../Datastore/Unlabelled_reports_16.csv\n"
     ]
    },
    {
     "name": "stderr",
     "output_type": "stream",
     "text": [
      "2000455it [00:13, 148764.49it/s]\n"
     ]
    },
    {
     "name": "stdout",
     "output_type": "stream",
     "text": [
      "./../../Datastore/Unlabelled_reports_17.csv\n"
     ]
    },
    {
     "name": "stderr",
     "output_type": "stream",
     "text": [
      "2000040it [00:13, 152419.70it/s]\n"
     ]
    },
    {
     "name": "stdout",
     "output_type": "stream",
     "text": [
      "./../../Datastore/Unlabelled_reports_18.csv\n"
     ]
    },
    {
     "name": "stderr",
     "output_type": "stream",
     "text": [
      "2000023it [00:12, 156293.33it/s]\n"
     ]
    },
    {
     "name": "stdout",
     "output_type": "stream",
     "text": [
      "./../../Datastore/Unlabelled_reports_19.csv\n"
     ]
    },
    {
     "name": "stderr",
     "output_type": "stream",
     "text": [
      "2000058it [00:14, 140262.15it/s]\n"
     ]
    },
    {
     "name": "stdout",
     "output_type": "stream",
     "text": [
      "./../../Datastore/Unlabelled_reports_20.csv\n"
     ]
    },
    {
     "name": "stderr",
     "output_type": "stream",
     "text": [
      "2000016it [00:13, 153388.43it/s]\n"
     ]
    },
    {
     "name": "stdout",
     "output_type": "stream",
     "text": [
      "./../../Datastore/Unlabelled_reports_21.csv\n"
     ]
    },
    {
     "name": "stderr",
     "output_type": "stream",
     "text": [
      "2000294it [00:12, 160950.09it/s]\n",
      "0it [00:00, ?it/s]"
     ]
    },
    {
     "name": "stdout",
     "output_type": "stream",
     "text": [
      "./../../Datastore/Unlabelled_reports_22.csv\n"
     ]
    },
    {
     "name": "stderr",
     "output_type": "stream",
     "text": [
      "332782it [00:02, 159353.40it/s]"
     ]
    },
    {
     "name": "stdout",
     "output_type": "stream",
     "text": [
      "Finished\n"
     ]
    },
    {
     "name": "stderr",
     "output_type": "stream",
     "text": [
      "\n"
     ]
    }
   ],
   "source": [
    "host_attacks = {attk: {} for attk in indexes}\n",
    "\n",
    "for attack in indexes:\n",
    "    print(attack)\n",
    "    files = []\n",
    "    if attack == 'Unlabelled':\n",
    "        # There are 23 files containing Unlabelled reports\n",
    "        for i in range(23):\n",
    "            files.append(('./../../Datastore/%s_reports_%s.csv'%(attack,i), attack, i))\n",
    "    else:\n",
    "        #continue\n",
    "        files.append(('./../../Datastore/%s_reports.csv'%attack, attack, None))\n",
    "    #########################\n",
    "    \n",
    "    # Process the files\n",
    "    for file_name, a, file_num in files:\n",
    "        print(file_name)\n",
    "        with open(file_name) as data_file:\n",
    "            filereader = csv.reader(data_file)\n",
    "            if attack == 'Unlabelled':\n",
    "                activity_relabel = pd.read_csv('./../../Unlabelled_predictions/%s_predictions_%s.csv'%(a, file_num),\n",
    "                                               index_col=[0], header=None)\n",
    "                activity_relabel = activity_relabel.transpose().values[0]\n",
    "            for n, report in enumerate(tqdm.tqdm(filereader)):\n",
    "                try:\n",
    "                    # Unpack Row information\n",
    "                    splits = report[0:9]\n",
    "\n",
    "                    day = splits[5]\n",
    "                    month = splits[6]\n",
    "                    year = splits[7]\n",
    "                    datasource = splits[8]        \n",
    "                    org = splits[3]\n",
    "                    asn = splits[2]\n",
    "                    cc = splits[1]\n",
    "                    ip = splits[0]\n",
    "                    \n",
    "                    # Compute week bins\n",
    "                    cal = make_date(day, month, year, iso=False)\n",
    "                    year_num, week_num, weekday_num = cal.isocalendar()\n",
    "\n",
    "                    # Invalid Timestamp, likely 0.\n",
    "                    if year_num == 1970:\n",
    "                        continue\n",
    "                    week = (year_num-1970)*52 + week_num\n",
    "\n",
    "                except Exception, e: \n",
    "                    print(str(e))\n",
    "\n",
    "                if ip is None or ip == '':\n",
    "                    print(\"Skipping invalid IP: %s\" % ip)\n",
    "                    continue\n",
    "\n",
    "                # Relabelling unlabelled reports, if relabel exists\n",
    "#                 if (attack == 'Unlabelled') and (ip in ip_activity_relabel):\n",
    "#                     attack_label = ip_activity_relabel[ip]\n",
    "#                 else:\n",
    "#                     attack_label = attack\n",
    "                if (attack == 'Unlabelled'):\n",
    "                    attack_label = attack_map[activity_relabel[n]]\n",
    "                else:\n",
    "                    attack_label = attack\n",
    "\n",
    "                # Select daily record, host independent\n",
    "                key = cal\n",
    "                # Initialise the holder\n",
    "                if key not in host_attacks[attack_label]:\n",
    "                    host_attacks[attack_label][key] = 0\n",
    "\n",
    "                # Modify the value\n",
    "                host_attacks[attack_label][key] += 1\n",
    "\n",
    "print('Finished')"
   ]
  },
  {
   "cell_type": "code",
   "execution_count": 8,
   "metadata": {},
   "outputs": [
    {
     "name": "stdout",
     "output_type": "stream",
     "text": [
      "('Malware', 46932466)\n",
      "('Phishing', 2450247)\n",
      "('Exploits', 218791)\n",
      "('Fraudlent Services', 1141377)\n",
      "('Unwanted Programs', 895494)\n",
      "('Spammers', 7620)\n",
      "('Unlabelled', 0)\n"
     ]
    }
   ],
   "source": [
    "for attk in attack_map:\n",
    "    print(attk, sum(host_attacks[attk].values()))"
   ]
  },
  {
   "cell_type": "code",
   "execution_count": 9,
   "metadata": {},
   "outputs": [
    {
     "name": "stdout",
     "output_type": "stream",
     "text": [
      "51645995\n",
      "('Malware', 0.9087338911758792)\n",
      "('Phishing', 0.04744311732206921)\n",
      "('Exploits', 0.004236359469887259)\n",
      "('Fraudlent Services', 0.02210000988459996)\n",
      "('Unwanted Programs', 0.017339079245157346)\n",
      "('Spammers', 0.00014754290240705014)\n",
      "('Unlabelled', 0.0)\n"
     ]
    }
   ],
   "source": [
    "total_sum = sum([sum(host_attacks[attk].values()) for attk in host_attacks])\n",
    "print total_sum\n",
    "for attk in attack_map:\n",
    "    print(attk, 1.0*sum(host_attacks[attk].values())/total_sum)"
   ]
  },
  {
   "cell_type": "code",
   "execution_count": 10,
   "metadata": {},
   "outputs": [],
   "source": [
    "# Turn into a pandas array\n",
    "df = pd.DataFrame(host_attacks)\n",
    "df.fillna(0, inplace=True)\n",
    "df.sort_index(ascending=True)\n",
    "df['Totals'] = df.transpose().sum()"
   ]
  },
  {
   "cell_type": "code",
   "execution_count": 11,
   "metadata": {},
   "outputs": [],
   "source": [
    "# Save the DataFrame\n",
    "df.to_csv('ip_daily_1.csv')"
   ]
  },
  {
   "cell_type": "markdown",
   "metadata": {},
   "source": [
    "# Plotting code"
   ]
  },
  {
   "cell_type": "markdown",
   "metadata": {},
   "source": [
    "## Import precomputed data"
   ]
  },
  {
   "cell_type": "code",
   "execution_count": 23,
   "metadata": {},
   "outputs": [],
   "source": [
    "import pandas as pd\n",
    "df = pd.read_csv('ip_daily_1.csv', index_col=0)\n",
    "df.index = pd.to_datetime(df.index).to_pydatetime()"
   ]
  },
  {
   "cell_type": "code",
   "execution_count": 24,
   "metadata": {},
   "outputs": [],
   "source": [
    "import matplotlib.pyplot as plt\n",
    "import matplotlib.dates as mdates\n",
    "import dateutil.relativedelta\n",
    "\n",
    "plot_properties_indexes = {\n",
    "    'Unwanted Programs':{'color':'b', 'linestyle':'-', 'label':'PUP',\n",
    "                         'marker':'s', 'hatch':'//'},\n",
    "\n",
    "    'Fraudlent Services':{'color':'y', 'linestyle':'-', 'label':'Fraud. Serv.',\n",
    "                          'marker':'*','hatch':'\\\\'},\n",
    "\n",
    "    'Malware':{'color':'r', 'linestyle':'-', 'label':'Malware',\n",
    "               'marker':'x', 'hatch':'x'},\n",
    "\n",
    "    'Exploits':{'color':'m', 'linestyle':'-', 'label':'Exploits',\n",
    "                'marker':'+', 'hatch':'+'},\n",
    "\n",
    "    'Phishing':{'color':'g', 'linestyle':'-', 'label':'Phishing',\n",
    "                'marker':'^', 'hatch':'|'},\n",
    "\n",
    "    'Spammers':{'color':'c', 'linestyle':'-', 'label':'Spammers',\n",
    "                'marker':'D', 'hatch':'\\\\\\\\'},\n",
    "\n",
    "    'Unlabelled':{'color':'w', 'linestyle':'-', 'label':'Unlabelled',\n",
    "                  'marker':'T', 'hatch':'///'},\n",
    "\n",
    "    'Totals':{'color':'k', 'linestyle':'-', 'label':'Total',\n",
    "              'marker':'o', 'hatch':''}\n",
    "}"
   ]
  },
  {
   "cell_type": "markdown",
   "metadata": {},
   "source": [
    "## Plot reports, daily scale"
   ]
  },
  {
   "cell_type": "code",
   "execution_count": 39,
   "metadata": {},
   "outputs": [
    {
     "data": {
      "image/png": "[encoded data removed]",
      "text/plain": [
       "<matplotlib.figure.Figure at 0x115ec6c90>"
      ]
     },
     "metadata": {},
     "output_type": "display_data"
    }
   ],
   "source": [
    "fig = plt.figure(figsize=(6,3.1))\n",
    "\n",
    "# Setup tick formatters\n",
    "years = mdates.YearLocator()  # every year\n",
    "months = mdates.MonthLocator()  # every month\n",
    "yearsFmt = mdates.DateFormatter('%Y')\n",
    "\n",
    "# Plot the daily background lines\n",
    "plt.vlines(pd.to_datetime(df.index).to_pydatetime(),\n",
    "           0, df['Totals'].values, label='Daily',\n",
    "           alpha=0.8, linewidth=0.1)\n",
    "\n",
    "for attk in ['Malware', 'Fraudlent Services', 'Phishing',\n",
    "             'Exploits', 'Spammers', 'Unwanted Programs', 'Totals']:\n",
    "    linestyle = plot_properties_indexes[attk]['linestyle']\n",
    "    color = plot_properties_indexes[attk]['color']\n",
    "    label = plot_properties_indexes[attk]['label']\n",
    "    marker = plot_properties_indexes[attk]['marker']\n",
    "    \n",
    "    plt.plot(pd.to_datetime(df.index).to_pydatetime(),\n",
    "             df[attk].cumsum(), label=label,\n",
    "             linestyle=linestyle,color=color,\n",
    "             marker=marker,markevery=0.1)\n",
    "    \n",
    "plt.yscale('symlog')\n",
    "plt.xlabel('Time', fontsize=14)\n",
    "plt.ylabel('# of Mal-Activity (log)', fontsize=14)\n",
    "plt.ylim(0, 1E8)\n",
    "x_min = (pd.to_datetime(df.index).to_pydatetime()[0] -\n",
    "            dateutil.relativedelta.relativedelta(days=50))\n",
    "x_max = (pd.to_datetime(df.index).to_pydatetime()[-1] +\n",
    "            dateutil.relativedelta.relativedelta(days=0))\n",
    "plt.xlim(x_min, x_max)\n",
    "plt.xticks(rotation=45, fontsize=11)\n",
    "\n",
    "\n",
    "# Split Legend Code\n",
    "ax = plt.gca()\n",
    "handles, labels = ax.get_legend_handles_labels()\n",
    "offset_split = -4\n",
    "final_split = -2\n",
    "l1 = ax.legend(handles[:offset_split], labels[:offset_split],\n",
    "               loc='upper left',frameon=False)\n",
    "l2 = ax.legend(handles[offset_split:final_split], labels[offset_split:final_split],\n",
    "               loc='upper center',frameon=False)\n",
    "l3 = ax.legend(handles[final_split:], labels[final_split:],\n",
    "               loc='lower right',frameon=True)\n",
    "ax.add_artist(l2)\n",
    "ax.add_artist(l1)\n",
    "\n",
    "ax.xaxis.set_major_locator(years)\n",
    "\n",
    "import matplotlib.pyplot as plt\n",
    "from matplotlib import rcParams\n",
    "rcParams.update({'figure.autolayout': True})\n",
    "\n",
    "plt.savefig('./figures/all_attacks_evolution.pdf',bbox_inches='tight')\n",
    "plt.show()"
   ]
  },
  {
   "cell_type": "markdown",
   "metadata": {},
   "source": [
    "# Plot yearly, attack proportions"
   ]
  },
  {
   "cell_type": "markdown",
   "metadata": {},
   "source": [
    "We do not consider unlabelled reports as part of this plot"
   ]
  },
  {
   "cell_type": "code",
   "execution_count": 40,
   "metadata": {},
   "outputs": [
    {
     "data": {
      "image/png": "[encoded data removed]",
      "text/plain": [
       "<matplotlib.figure.Figure at 0x115e53d10>"
      ]
     },
     "metadata": {},
     "output_type": "display_data"
    }
   ],
   "source": [
    "years = list(xrange(2007,2018))\n",
    "x = years\n",
    "\n",
    "year_totals = {year: df.loc[str(year)]['Totals'].sum() - df.loc[str(year)]['Unlabelled'].sum() for year in years}\n",
    "\n",
    "y1 = [100.0*df.loc[str(year)]['Malware'].sum()/year_totals[year] for year in years]\n",
    "y2 = [100.0*df.loc[str(year)]['Phishing'].sum()/year_totals[year]  for year in years]\n",
    "y3 = [100.0*df.loc[str(year)]['Exploits'].sum()/year_totals[year]  for year in years]\n",
    "y4 = [100.0*df.loc[str(year)]['Fraudlent Services'].sum()/year_totals[year]  for year in years]\n",
    "y5 = [100.0*df.loc[str(year)]['Unwanted Programs'].sum()/year_totals[year]  for year in years]\n",
    "y6 = [100.0*df.loc[str(year)]['Spammers'].sum()/year_totals[year]  for year in years]\n",
    "\n",
    "labels = ['Malware', 'Phishing', 'Exploits', 'Fraudlent Services',\n",
    "          'Unwanted Programs', 'Spammers']\n",
    "plot_labels = [plot_properties_indexes[l]['label'] for l in labels]\n",
    "colors = [plot_properties_indexes[l]['color'] for l in labels]\n",
    "hatchs = [plot_properties_indexes[l]['hatch'] for l in labels]\n",
    "1\n",
    "fig, ax = plt.subplots(figsize=(6, 3.1))\n",
    "stacks = ax.stackplot(x, y1, y2, y3, y4, y5, y6, labels=plot_labels, colors=colors)\n",
    "for stack, hatch in zip(stacks, hatchs):\n",
    "    stack.set_hatch(hatch)\n",
    "\n",
    "plt.ylim(0,100)\n",
    "plt.xlim(2007,2017)\n",
    "plt.legend(loc=3, ncol=2)\n",
    "plt.xticks(np.arange(2007, 2017+1, 1.0), rotation=45, fontsize=11)\n",
    "\n",
    "plt.xlabel('Time',fontsize=14)\n",
    "plt.ylabel('% of Mal-Activity',fontsize=14)\n",
    "\n",
    "import matplotlib.pyplot as plt\n",
    "from matplotlib import rcParams\n",
    "rcParams.update({'figure.autolayout': True})\n",
    "\n",
    "plt.savefig('./figures/percentages_years_labelled.pdf')\n",
    "plt.show()\n"
   ]
  },
  {
   "cell_type": "markdown",
   "metadata": {},
   "source": [
    "# Additional Analysis"
   ]
  },
  {
   "cell_type": "code",
   "execution_count": 41,
   "metadata": {},
   "outputs": [
    {
     "name": "stdout",
     "output_type": "stream",
     "text": [
      "1237970.0\n",
      "603564.0\n",
      "0.4875433168816692\n"
     ]
    }
   ],
   "source": [
    "# Comparison of Phishing and Malware proportions in 2017\n",
    "year = 2017\n",
    "\n",
    "malware_in = df.loc[str(year)]['Malware'].sum()\n",
    "phishing_in = df.loc[str(year)]['Phishing'].sum()\n",
    "\n",
    "print(malware_in)\n",
    "print(phishing_in)\n",
    "\n",
    "print(phishing_in/malware_in)"
   ]
  },
  {
   "cell_type": "code",
   "execution_count": 42,
   "metadata": {},
   "outputs": [
    {
     "data": {
      "text/plain": [
       "Exploits                1.825440\n",
       "Fraudlent Services      8.360955\n",
       "Malware                59.142631\n",
       "Phishing               28.834594\n",
       "Spammers                0.017437\n",
       "Unlabelled              0.000000\n",
       "Unwanted Programs       1.818943\n",
       "Totals                100.000000\n",
       "dtype: float64"
      ]
     },
     "execution_count": 42,
     "metadata": {},
     "output_type": "execute_result"
    }
   ],
   "source": [
    "# Comparison of Proportions for all classes in 2017\n",
    "year = 2017\n",
    "100* df.loc[str(year)].sum() / df.loc[str(year)].sum()['Totals']"
   ]
  },
  {
   "cell_type": "code",
   "execution_count": null,
   "metadata": {},
   "outputs": [],
   "source": []
  },
  {
   "cell_type": "code",
   "execution_count": null,
   "metadata": {},
   "outputs": [],
   "source": []
  }
 ],
 "metadata": {
  "kernelspec": {
   "display_name": "Python [default]",
   "language": "python",
   "name": "python2"
  },
  "language_info": {
   "codemirror_mode": {
    "name": "ipython",
    "version": 2
   },
   "file_extension": ".py",
   "mimetype": "text/x-python",
   "name": "python",
   "nbconvert_exporter": "python",
   "pygments_lexer": "ipython2",
   "version": "2.7.14"
  }
 },
 "nbformat": 4,
 "nbformat_minor": 1
}
