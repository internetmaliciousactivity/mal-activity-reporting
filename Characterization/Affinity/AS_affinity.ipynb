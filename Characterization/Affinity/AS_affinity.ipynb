{
 "cells": [
  {
   "cell_type": "markdown",
   "metadata": {},
   "source": [
    "# Import Data"
   ]
  },
  {
   "cell_type": "markdown",
   "metadata": {},
   "source": [
    "Tops code needs to be run before affinity"
   ]
  },
  {
   "cell_type": "code",
   "execution_count": 1,
   "metadata": {},
   "outputs": [],
   "source": [
    "import pandas as pd\n",
    "ip_attack_frame = pd.read_csv('./../Tops/asn_attack_frame.csv', index_col=0)\n",
    "if 'Unlabelled' in ip_attack_frame:\n",
    "    ip_attack_frame.drop('Unlabelled', axis=1, inplace=True)"
   ]
  },
  {
   "cell_type": "code",
   "execution_count": 2,
   "metadata": {},
   "outputs": [],
   "source": [
    "a = ip_attack_frame\n",
    "if 'Totals' in a:\n",
    "    a.drop('Totals', axis=1,inplace=True)\n",
    "\n",
    "a['Totals'] = a.transpose().sum()\n",
    "a = a[a['Totals']>0]\n",
    "\n",
    "ip_attack_frame = a.transpose()\n"
   ]
  },
  {
   "cell_type": "markdown",
   "metadata": {},
   "source": [
    "# Entropy Functions"
   ]
  },
  {
   "cell_type": "code",
   "execution_count": 3,
   "metadata": {},
   "outputs": [],
   "source": [
    "# Compute the entropy for all attacks ip_attack_frame\n",
    "import math\n",
    "def shannon_entropy(arr):\n",
    "    total = sum(arr)\n",
    "    Pn = [float(c)/total for c in arr]    \n",
    "    e_arr = []\n",
    "    for P in Pn:\n",
    "        if P == 0.0:\n",
    "            e_arr.append(0)\n",
    "        else:\n",
    "            e_arr.append(P*math.log(P,2))\n",
    "                \n",
    "    shannon_e = sum(e_arr)\n",
    "    \n",
    "    return -1*shannon_e\n",
    "\n",
    "def entropy(arr):\n",
    "    total = sum(arr)\n",
    "    Pn = [float(c)/total for c in arr]    \n",
    "    e_arr = []\n",
    "    for P in Pn:\n",
    "        if P == 0.0:\n",
    "            e_arr.append(0)\n",
    "        else:\n",
    "            e_arr.append(math.log(P,2))\n",
    "                \n",
    "    shannon_e = sum(e_arr)\n",
    "    \n",
    "    return -1*shannon_e\n",
    "\n"
   ]
  },
  {
   "cell_type": "markdown",
   "metadata": {},
   "source": [
    "## Compute Entropies"
   ]
  },
  {
   "cell_type": "code",
   "execution_count": 4,
   "metadata": {},
   "outputs": [
    {
     "data": {
      "text/plain": [
       "{'Exploits': (6.620407895962796, 45721.036828662705),\n",
       " 'Fraudlent Services': (6.485196744328909, 52784.33927746453),\n",
       " 'Malware': (3.501404937429761, 249777.75502544476),\n",
       " 'Phishing': (5.542281122706732, 79346.59303172752),\n",
       " 'Spammers': (6.292377462388463, 6291.895634672727),\n",
       " 'Totals': (3.8176462002447416, 283435.16875220067),\n",
       " 'Unwanted Programs': (3.7933270977735103, 37308.72012111427)}"
      ]
     },
     "execution_count": 4,
     "metadata": {},
     "output_type": "execute_result"
    }
   ],
   "source": [
    "# We do not use the pandas frame for the time being.\n",
    "attack_entropies = {}\n",
    "for index, row in ip_attack_frame.iterrows():\n",
    "    attack_entropies[index] = (shannon_entropy(list(row)), entropy(list(row)))\n",
    "\n",
    "    \n",
    "attack_entropies"
   ]
  },
  {
   "cell_type": "code",
   "execution_count": 5,
   "metadata": {},
   "outputs": [
    {
     "data": {
      "text/plain": [
       "'Totals'"
      ]
     },
     "execution_count": 5,
     "metadata": {},
     "output_type": "execute_result"
    }
   ],
   "source": [
    "index"
   ]
  },
  {
   "cell_type": "code",
   "execution_count": 6,
   "metadata": {},
   "outputs": [
    {
     "name": "stdout",
     "output_type": "stream",
     "text": [
      "                     Shannon        Regular\n",
      "Spammers            6.292377    6291.895635\n",
      "Malware             3.501405  249777.755025\n",
      "Exploits            6.620408   45721.036829\n",
      "Phishing            5.542281   79346.593032\n",
      "Totals              3.817646  283435.168752\n",
      "Fraudlent Services  6.485197   52784.339277\n",
      "Unwanted Programs   3.793327   37308.720121\n",
      "                    Normalised Shannon\n",
      "Spammers                      0.689058\n",
      "Malware                       0.259726\n",
      "Exploits                      0.573976\n",
      "Phishing                      0.457891\n",
      "Totals                        0.279463\n",
      "Fraudlent Services            0.555600\n",
      "Unwanted Programs             0.341640\n"
     ]
    },
    {
     "data": {
      "text/html": [
       "<div>\n",
       "<style scoped>\n",
       "    .dataframe tbody tr th:only-of-type {\n",
       "        vertical-align: middle;\n",
       "    }\n",
       "\n",
       "    .dataframe tbody tr th {\n",
       "        vertical-align: top;\n",
       "    }\n",
       "\n",
       "    .dataframe thead th {\n",
       "        text-align: right;\n",
       "    }\n",
       "</style>\n",
       "<table border=\"1\" class=\"dataframe\">\n",
       "  <thead>\n",
       "    <tr style=\"text-align: right;\">\n",
       "      <th></th>\n",
       "      <th>Totals</th>\n",
       "      <th>Unwanted Programs</th>\n",
       "      <th>Fraudlent Services</th>\n",
       "      <th>Malware</th>\n",
       "      <th>Exploits</th>\n",
       "      <th>Phishing</th>\n",
       "      <th>Spammers</th>\n",
       "    </tr>\n",
       "  </thead>\n",
       "  <tbody>\n",
       "    <tr>\n",
       "      <th>Normalised Shannon</th>\n",
       "      <td>0.279463</td>\n",
       "      <td>0.34164</td>\n",
       "      <td>0.5556</td>\n",
       "      <td>0.259726</td>\n",
       "      <td>0.573976</td>\n",
       "      <td>0.457891</td>\n",
       "      <td>0.689058</td>\n",
       "    </tr>\n",
       "  </tbody>\n",
       "</table>\n",
       "</div>"
      ],
      "text/plain": [
       "                      Totals  Unwanted Programs  Fraudlent Services   Malware  \\\n",
       "Normalised Shannon  0.279463            0.34164              0.5556  0.259726   \n",
       "\n",
       "                    Exploits  Phishing  Spammers  \n",
       "Normalised Shannon  0.573976  0.457891  0.689058  "
      ]
     },
     "execution_count": 6,
     "metadata": {},
     "output_type": "execute_result"
    }
   ],
   "source": [
    "import pandas as pd\n",
    "unique_ips = (ip_attack_frame > 0).astype(int).sum(axis=1)\n",
    "# Normalising the Shannon Entropies\n",
    "# we divide the entropy amount by the maximum entropy log(n,2)\n",
    "\n",
    "norm_attack_entropies = {}\n",
    "\n",
    "for types in attack_entropies:\n",
    "    n = unique_ips[types]\n",
    "    norm_attack_entropies[types] = attack_entropies[types][0]/math.log(n,2)\n",
    "\n",
    "    \n",
    "# Output the results\n",
    "temp = pd.DataFrame.from_dict(attack_entropies, orient='index')\n",
    "temp.columns = ['Shannon', 'Regular']\n",
    "print temp\n",
    "    \n",
    "# Output the results\n",
    "temp = pd.DataFrame.from_dict(norm_attack_entropies, orient='index')\n",
    "temp.columns = ['Normalised Shannon']\n",
    "print temp\n",
    "\n",
    "\n",
    "a = temp.transpose()\n",
    "a[['Totals','Unwanted Programs','Fraudlent Services',\n",
    "                      'Malware', 'Exploits', 'Phishing', 'Spammers']]\n",
    "\n",
    "\n",
    "\n"
   ]
  },
  {
   "cell_type": "code",
   "execution_count": null,
   "metadata": {},
   "outputs": [],
   "source": []
  },
  {
   "cell_type": "code",
   "execution_count": null,
   "metadata": {},
   "outputs": [],
   "source": []
  }
 ],
 "metadata": {
  "kernelspec": {
   "display_name": "Python [default]",
   "language": "python",
   "name": "python2"
  },
  "language_info": {
   "codemirror_mode": {
    "name": "ipython",
    "version": 2
   },
   "file_extension": ".py",
   "mimetype": "text/x-python",
   "name": "python",
   "nbconvert_exporter": "python",
   "pygments_lexer": "ipython2",
   "version": "2.7.14"
  }
 },
 "nbformat": 4,
 "nbformat_minor": 2
}
