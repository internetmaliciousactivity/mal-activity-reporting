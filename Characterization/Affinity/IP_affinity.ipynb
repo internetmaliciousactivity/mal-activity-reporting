{
 "cells": [
  {
   "cell_type": "markdown",
   "metadata": {},
   "source": [
    "# Import Data"
   ]
  },
  {
   "cell_type": "markdown",
   "metadata": {},
   "source": [
    "Tops code needs to be run before affinity"
   ]
  },
  {
   "cell_type": "code",
   "execution_count": 1,
   "metadata": {},
   "outputs": [],
   "source": [
    "import pandas as pd\n",
    "ip_attack_frame = pd.read_csv('./../Tops/ip_attack_frame.csv', index_col=0)\n",
    "if 'Unlabelled' in ip_attack_frame:\n",
    "    ip_attack_frame.drop('Unlabelled', axis=1, inplace=True)"
   ]
  },
  {
   "cell_type": "code",
   "execution_count": 2,
   "metadata": {},
   "outputs": [],
   "source": [
    "a = ip_attack_frame\n",
    "if 'Totals' in a:\n",
    "    a.drop('Totals', axis=1,inplace=True)\n",
    "\n",
    "a['Totals'] = a.transpose().sum()\n",
    "a = a[a['Totals']>0]\n",
    "\n",
    "ip_attack_frame = a.transpose()\n"
   ]
  },
  {
   "cell_type": "markdown",
   "metadata": {},
   "source": [
    "# Entropy Functions"
   ]
  },
  {
   "cell_type": "code",
   "execution_count": 3,
   "metadata": {},
   "outputs": [],
   "source": [
    "# Compute the entropy for all attacks ip_attack_frame\n",
    "import math\n",
    "def shannon_entropy(arr):\n",
    "    total = sum(arr)\n",
    "    Pn = [float(c)/total for c in arr]    \n",
    "    e_arr = []\n",
    "    for P in Pn:\n",
    "        if P == 0.0:\n",
    "            e_arr.append(0)\n",
    "        else:\n",
    "            e_arr.append(P*math.log(P,2))\n",
    "                \n",
    "    shannon_e = sum(e_arr)\n",
    "    \n",
    "    return -1*shannon_e\n",
    "\n",
    "def entropy(arr):\n",
    "    total = sum(arr)\n",
    "    Pn = [float(c)/total for c in arr]    \n",
    "    e_arr = []\n",
    "    for P in Pn:\n",
    "        if P == 0.0:\n",
    "            e_arr.append(0)\n",
    "        else:\n",
    "            e_arr.append(math.log(P,2))\n",
    "                \n",
    "    shannon_e = sum(e_arr)\n",
    "    \n",
    "    return -1*shannon_e\n",
    "\n"
   ]
  },
  {
   "cell_type": "markdown",
   "metadata": {},
   "source": [
    "## Compute Entropies"
   ]
  },
  {
   "cell_type": "code",
   "execution_count": 4,
   "metadata": {},
   "outputs": [
    {
     "data": {
      "text/plain": [
       "{'Exploits': (12.140363797764435, 671745.7407229651),\n",
       " 'Fraudlent Services': (12.697937775907219, 1602965.434789153),\n",
       " 'Malware': (12.93407883367768, 10065211.04361223),\n",
       " 'Phishing': (13.623986890409421, 2592791.143290712),\n",
       " 'Spammers': (9.110716702714713, 26931.427112378722),\n",
       " 'Totals': (13.382985314365328, 15799926.266624918),\n",
       " 'Unwanted Programs': (14.136077577143388, 3122609.641601912)}"
      ]
     },
     "execution_count": 4,
     "metadata": {},
     "output_type": "execute_result"
    }
   ],
   "source": [
    "# We do not use the pandas frame for the time being.\n",
    "attack_entropies = {}\n",
    "for index, row in ip_attack_frame.iterrows():\n",
    "    attack_entropies[index] = (shannon_entropy(list(row)), entropy(list(row)))\n",
    "\n",
    "    \n",
    "attack_entropies"
   ]
  },
  {
   "cell_type": "code",
   "execution_count": 5,
   "metadata": {},
   "outputs": [
    {
     "name": "stdout",
     "output_type": "stream",
     "text": [
      "                      Shannon       Regular\n",
      "Spammers             9.110717  2.693143e+04\n",
      "Malware             12.934079  1.006521e+07\n",
      "Exploits            12.140364  6.717457e+05\n",
      "Phishing            13.623987  2.592791e+06\n",
      "Totals              13.382985  1.579993e+07\n",
      "Fraudlent Services  12.697938  1.602965e+06\n",
      "Unwanted Programs   14.136078  3.122610e+06\n",
      "                    Normalised Shannon\n",
      "Spammers                      0.820107\n",
      "Malware                       0.691426\n",
      "Exploits                      0.794400\n",
      "Phishing                      0.800382\n",
      "Totals                        0.692079\n",
      "Fraudlent Services            0.773457\n",
      "Unwanted Programs             0.815410\n"
     ]
    },
    {
     "data": {
      "text/html": [
       "<div>\n",
       "<style scoped>\n",
       "    .dataframe tbody tr th:only-of-type {\n",
       "        vertical-align: middle;\n",
       "    }\n",
       "\n",
       "    .dataframe tbody tr th {\n",
       "        vertical-align: top;\n",
       "    }\n",
       "\n",
       "    .dataframe thead th {\n",
       "        text-align: right;\n",
       "    }\n",
       "</style>\n",
       "<table border=\"1\" class=\"dataframe\">\n",
       "  <thead>\n",
       "    <tr style=\"text-align: right;\">\n",
       "      <th></th>\n",
       "      <th>Totals</th>\n",
       "      <th>Unwanted Programs</th>\n",
       "      <th>Fraudlent Services</th>\n",
       "      <th>Malware</th>\n",
       "      <th>Exploits</th>\n",
       "      <th>Phishing</th>\n",
       "      <th>Spammers</th>\n",
       "    </tr>\n",
       "  </thead>\n",
       "  <tbody>\n",
       "    <tr>\n",
       "      <th>Normalised Shannon</th>\n",
       "      <td>0.692079</td>\n",
       "      <td>0.81541</td>\n",
       "      <td>0.773457</td>\n",
       "      <td>0.691426</td>\n",
       "      <td>0.7944</td>\n",
       "      <td>0.800382</td>\n",
       "      <td>0.820107</td>\n",
       "    </tr>\n",
       "  </tbody>\n",
       "</table>\n",
       "</div>"
      ],
      "text/plain": [
       "                      Totals  Unwanted Programs  Fraudlent Services   Malware  \\\n",
       "Normalised Shannon  0.692079            0.81541            0.773457  0.691426   \n",
       "\n",
       "                    Exploits  Phishing  Spammers  \n",
       "Normalised Shannon    0.7944  0.800382  0.820107  "
      ]
     },
     "execution_count": 5,
     "metadata": {},
     "output_type": "execute_result"
    }
   ],
   "source": [
    "import pandas as pd\n",
    "unique_ips = (ip_attack_frame > 0).astype(int).sum(axis=1)\n",
    "# Normalising the Shannon Entropies\n",
    "# we divide the entropy amount by the maximum entropy log(n,2)\n",
    "\n",
    "norm_attack_entropies = {}\n",
    "\n",
    "for types in attack_entropies:\n",
    "    n = unique_ips[types]\n",
    "    norm_attack_entropies[types] = attack_entropies[types][0]/math.log(n,2)\n",
    "\n",
    "    \n",
    "# Output the results\n",
    "temp = pd.DataFrame.from_dict(attack_entropies, orient='index')\n",
    "temp.columns = ['Shannon', 'Regular']\n",
    "print temp\n",
    "    \n",
    "# Output the results\n",
    "temp = pd.DataFrame.from_dict(norm_attack_entropies, orient='index')\n",
    "temp.columns = ['Normalised Shannon']\n",
    "print temp\n",
    "\n",
    "\n",
    "a = temp.transpose()\n",
    "a[['Totals','Unwanted Programs','Fraudlent Services',\n",
    "                      'Malware', 'Exploits', 'Phishing', 'Spammers']]\n",
    "\n",
    "\n",
    "\n"
   ]
  },
  {
   "cell_type": "code",
   "execution_count": null,
   "metadata": {},
   "outputs": [],
   "source": []
  },
  {
   "cell_type": "code",
   "execution_count": null,
   "metadata": {},
   "outputs": [],
   "source": []
  }
 ],
 "metadata": {
  "kernelspec": {
   "display_name": "Python [default]",
   "language": "python",
   "name": "python2"
  },
  "language_info": {
   "codemirror_mode": {
    "name": "ipython",
    "version": 2
   },
   "file_extension": ".py",
   "mimetype": "text/x-python",
   "name": "python",
   "nbconvert_exporter": "python",
   "pygments_lexer": "ipython2",
   "version": "2.7.14"
  }
 },
 "nbformat": 4,
 "nbformat_minor": 2
}
