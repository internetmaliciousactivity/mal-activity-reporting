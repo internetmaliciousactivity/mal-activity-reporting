{
 "cells": [
  {
   "cell_type": "code",
   "execution_count": 1,
   "metadata": {},
   "outputs": [],
   "source": [
    "import os\n",
    "import csv \n",
    "\n",
    "#'ip_per_country_20120625043506'\n",
    "\n",
    "directory = 'Country_Block/'\n",
    "\n",
    "country_block_sizes = {}\n",
    "\n",
    "for filename in os.listdir(directory):\n",
    "    if filename.startswith(\"ip_per_country_\"): \n",
    "        with open(directory+filename) as input_file:\n",
    "            file_contents = csv.reader(input_file, delimiter='\\t')\n",
    "            for cc_line in file_contents:\n",
    "                cc = cc_line[0]\n",
    "                # Skip if header line\n",
    "                if \"ISO\" in cc:\n",
    "                    continue\n",
    "                cc_name = cc_line[1]\n",
    "                size = int(cc_line[2].replace(',',''))\n",
    "                \n",
    "                # Normal CC\n",
    "                if cc in country_block_sizes:\n",
    "                    old_size = country_block_sizes[cc]\n",
    "                    new_size = max(size, old_size)\n",
    "                else:\n",
    "                    new_size = size\n",
    "                country_block_sizes[cc] = new_size\n",
    "    else:\n",
    "        continue\n",
    "        \n"
   ]
  },
  {
   "cell_type": "code",
   "execution_count": 13,
   "metadata": {},
   "outputs": [],
   "source": [
    "import pandas as pd\n",
    "\n",
    "pd.DataFrame.from_dict(country_block_sizes, orient='index').to_csv(\"country_block_sizes.csv\")\n"
   ]
  },
  {
   "cell_type": "code",
   "execution_count": null,
   "metadata": {
    "collapsed": true
   },
   "outputs": [],
   "source": []
  }
 ],
 "metadata": {
  "kernelspec": {
   "display_name": "Python [default]",
   "language": "python",
   "name": "python2"
  },
  "language_info": {
   "codemirror_mode": {
    "name": "ipython",
    "version": 2
   },
   "file_extension": ".py",
   "mimetype": "text/x-python",
   "name": "python",
   "nbconvert_exporter": "python",
   "pygments_lexer": "ipython2",
   "version": "2.7.14"
  }
 },
 "nbformat": 4,
 "nbformat_minor": 2
}
