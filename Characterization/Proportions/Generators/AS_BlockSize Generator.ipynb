{
 "cells": [
  {
   "cell_type": "code",
   "execution_count": 1,
   "metadata": {},
   "outputs": [
    {
     "name": "stdout",
     "output_type": "stream",
     "text": [
      "asn_ranking_2013_11_01.csv\n",
      "asn_ranking_2014_03_01.csv\n",
      "asn_ranking_2014_09_01.csv\n",
      "asn_ranking_2014_12_01.csv\n",
      "asn_ranking_2015_01_01.csv\n",
      "asn_ranking_2015_02_01.csv\n",
      "asn_ranking_2015_07_01.csv\n",
      "asn_ranking_2016_06_01.csv\n"
     ]
    }
   ],
   "source": [
    "import os\n",
    "import pandas as pd\n",
    "\n",
    "#'asn_ranking_2013_11_01.csv'\n",
    "\n",
    "directory = 'asn_block/'\n",
    "\n",
    "as_block_sizes = {}\n",
    "\n",
    "for filename in os.listdir(directory):\n",
    "    if filename.startswith(\"asn_ranking_\"): \n",
    "        with open(directory+filename) as input_file:\n",
    "            print filename\n",
    "            as_df = pd.read_csv(input_file, delimiter=',')\n",
    "            as_df = as_df.set_index('as_number')\n",
    "            for asn in as_df.index:\n",
    "                asn_size = as_df['no_ip4_addresses'][asn]\n",
    "                asn_size = int(asn_size.replace(',',''))\n",
    "                # Normal CC\n",
    "                if asn in as_block_sizes:\n",
    "                    old_size = as_block_sizes[asn]\n",
    "                    new_size = max(asn_size, old_size)\n",
    "                else:\n",
    "                    new_size = asn_size\n",
    "                as_block_sizes[asn] = new_size\n",
    "    else:\n",
    "        continue\n",
    "        "
   ]
  },
  {
   "cell_type": "code",
   "execution_count": 2,
   "metadata": {},
   "outputs": [],
   "source": [
    "import pandas as pd\n",
    "\n",
    "pd.DataFrame.from_dict(as_block_sizes, orient='index').to_csv(\"asn_block_sizes.csv\")\n",
    "\n"
   ]
  },
  {
   "cell_type": "code",
   "execution_count": null,
   "metadata": {},
   "outputs": [],
   "source": []
  }
 ],
 "metadata": {
  "kernelspec": {
   "display_name": "Python [default]",
   "language": "python",
   "name": "python2"
  },
  "language_info": {
   "codemirror_mode": {
    "name": "ipython",
    "version": 2
   },
   "file_extension": ".py",
   "mimetype": "text/x-python",
   "name": "python",
   "nbconvert_exporter": "python",
   "pygments_lexer": "ipython2",
   "version": "2.7.14"
  }
 },
 "nbformat": 4,
 "nbformat_minor": 2
}
