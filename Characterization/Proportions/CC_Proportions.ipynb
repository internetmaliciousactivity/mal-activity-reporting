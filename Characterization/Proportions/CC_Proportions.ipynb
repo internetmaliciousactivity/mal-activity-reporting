{
 "cells": [
  {
   "cell_type": "markdown",
   "metadata": {
    "collapsed": true
   },
   "source": [
    "# Raw Extraction of required data"
   ]
  },
  {
   "cell_type": "markdown",
   "metadata": {},
   "source": [
    "Note that the raw extraction of required data takes a very long time, the import of pre-computed values is avaliable at the Plotting Code section."
   ]
  },
  {
   "cell_type": "code",
   "execution_count": 4,
   "metadata": {},
   "outputs": [],
   "source": [
    "import pandas as pd\n",
    "import numpy as np\n",
    "import tqdm\n",
    "import csv\n",
    "from datetime import datetime"
   ]
  },
  {
   "cell_type": "code",
   "execution_count": 5,
   "metadata": {},
   "outputs": [],
   "source": [
    "# Defining the list indexes\n",
    "indexes = {\n",
    "    'Malware':0,\n",
    "    'Phishing':1,\n",
    "    'Exploits':2,\n",
    "    'Fraudlent Services':3,\n",
    "    'Unwanted Programs':4,\n",
    "    'Spammers':5,\n",
    "    'Unlabelled':6,\n",
    "}\n",
    "\n",
    "attack_map = ['Malware', 'Phishing', 'Exploits', 'Fraudlent Services',\n",
    "            'Unwanted Programs', 'Spammers', 'Unlabelled']"
   ]
  },
  {
   "cell_type": "code",
   "execution_count": 3,
   "metadata": {},
   "outputs": [],
   "source": [
    "# Convert date fields back into a python date object\n",
    "date_calculation_cache = {}\n",
    "def make_date(day, month, year, iso=True):\n",
    "    date = '%s-%s-%s' % (day, month, year)\n",
    "    # Check cache before recomputation\n",
    "    if date not in date_calculation_cache:\n",
    "        if iso:\n",
    "            cal = datetime.strptime(date, \"%d-%m-%Y\").isocalendar()\n",
    "        else:\n",
    "            cal = datetime.strptime(date, \"%d-%m-%Y\")\n",
    "        date_calculation_cache[date] = cal\n",
    "    else:\n",
    "        cal = date_calculation_cache[date]\n",
    "    return cal"
   ]
  },
  {
   "cell_type": "code",
   "execution_count": 7,
   "metadata": {
    "scrolled": false
   },
   "outputs": [
    {
     "name": "stderr",
     "output_type": "stream",
     "text": [
      "6918it [00:00, 66180.09it/s]\n",
      "0it [00:00, ?it/s]"
     ]
    },
    {
     "name": "stdout",
     "output_type": "stream",
     "text": [
      "Spammers\n",
      "./../../Datastore/Spammers_reports.csv\n",
      "Malware\n",
      "./../../Datastore/Malware_reports.csv\n"
     ]
    },
    {
     "name": "stderr",
     "output_type": "stream",
     "text": [
      "3190529it [00:21, 149157.64it/s]\n",
      "12764it [00:00, 127600.27it/s]"
     ]
    },
    {
     "name": "stdout",
     "output_type": "stream",
     "text": [
      "Exploits\n",
      "./../../Datastore/Exploits_reports.csv\n"
     ]
    },
    {
     "name": "stderr",
     "output_type": "stream",
     "text": [
      "201108it [00:01, 137425.92it/s]\n",
      "14057it [00:00, 140529.26it/s]"
     ]
    },
    {
     "name": "stdout",
     "output_type": "stream",
     "text": [
      "Phishing\n",
      "./../../Datastore/Phishing_reports.csv\n"
     ]
    },
    {
     "name": "stderr",
     "output_type": "stream",
     "text": [
      "2382889it [00:16, 142281.42it/s]\n",
      "14875it [00:00, 148716.10it/s]"
     ]
    },
    {
     "name": "stdout",
     "output_type": "stream",
     "text": [
      "Fraudlent Services\n",
      "./../../Datastore/Fraudlent Services_reports.csv\n"
     ]
    },
    {
     "name": "stderr",
     "output_type": "stream",
     "text": [
      "829301it [00:05, 146258.23it/s]\n",
      "13423it [00:00, 134149.53it/s]"
     ]
    },
    {
     "name": "stdout",
     "output_type": "stream",
     "text": [
      "Unwanted Programs\n",
      "./../../Datastore/Unwanted Programs_reports.csv\n"
     ]
    },
    {
     "name": "stderr",
     "output_type": "stream",
     "text": [
      "698700it [00:04, 149699.41it/s]\n"
     ]
    },
    {
     "name": "stdout",
     "output_type": "stream",
     "text": [
      "Unlabelled\n",
      "./../../Datastore/Unlabelled_reports_0.csv\n"
     ]
    },
    {
     "name": "stderr",
     "output_type": "stream",
     "text": [
      "/Users/zha197/.local/lib/python2.7/site-packages/numpy/lib/arraysetops.py:522: FutureWarning: elementwise comparison failed; returning scalar instead, but in the future will perform elementwise comparison\n",
      "  mask |= (ar1 == a)\n",
      "2000138it [00:13, 145277.45it/s]\n"
     ]
    },
    {
     "name": "stdout",
     "output_type": "stream",
     "text": [
      "./../../Datastore/Unlabelled_reports_1.csv\n"
     ]
    },
    {
     "name": "stderr",
     "output_type": "stream",
     "text": [
      "2000007it [00:15, 132163.51it/s]\n"
     ]
    },
    {
     "name": "stdout",
     "output_type": "stream",
     "text": [
      "./../../Datastore/Unlabelled_reports_2.csv\n"
     ]
    },
    {
     "name": "stderr",
     "output_type": "stream",
     "text": [
      "2000047it [00:15, 133165.94it/s]\n"
     ]
    },
    {
     "name": "stdout",
     "output_type": "stream",
     "text": [
      "./../../Datastore/Unlabelled_reports_3.csv\n"
     ]
    },
    {
     "name": "stderr",
     "output_type": "stream",
     "text": [
      "2000022it [00:17, 112398.72it/s]\n"
     ]
    },
    {
     "name": "stdout",
     "output_type": "stream",
     "text": [
      "./../../Datastore/Unlabelled_reports_4.csv\n"
     ]
    },
    {
     "name": "stderr",
     "output_type": "stream",
     "text": [
      "2000471it [00:15, 129790.62it/s]\n"
     ]
    },
    {
     "name": "stdout",
     "output_type": "stream",
     "text": [
      "./../../Datastore/Unlabelled_reports_5.csv\n"
     ]
    },
    {
     "name": "stderr",
     "output_type": "stream",
     "text": [
      "2000567it [00:15, 131855.05it/s]\n"
     ]
    },
    {
     "name": "stdout",
     "output_type": "stream",
     "text": [
      "./../../Datastore/Unlabelled_reports_6.csv\n"
     ]
    },
    {
     "name": "stderr",
     "output_type": "stream",
     "text": [
      "2000130it [00:13, 145562.93it/s]\n"
     ]
    },
    {
     "name": "stdout",
     "output_type": "stream",
     "text": [
      "./../../Datastore/Unlabelled_reports_7.csv\n"
     ]
    },
    {
     "name": "stderr",
     "output_type": "stream",
     "text": [
      "2000541it [00:13, 153393.04it/s]\n"
     ]
    },
    {
     "name": "stdout",
     "output_type": "stream",
     "text": [
      "./../../Datastore/Unlabelled_reports_8.csv\n"
     ]
    },
    {
     "name": "stderr",
     "output_type": "stream",
     "text": [
      "2000282it [00:13, 151900.65it/s]\n"
     ]
    },
    {
     "name": "stdout",
     "output_type": "stream",
     "text": [
      "./../../Datastore/Unlabelled_reports_9.csv\n"
     ]
    },
    {
     "name": "stderr",
     "output_type": "stream",
     "text": [
      "2000016it [00:14, 139553.00it/s]\n"
     ]
    },
    {
     "name": "stdout",
     "output_type": "stream",
     "text": [
      "./../../Datastore/Unlabelled_reports_10.csv\n"
     ]
    },
    {
     "name": "stderr",
     "output_type": "stream",
     "text": [
      "2000165it [00:17, 115928.76it/s]\n"
     ]
    },
    {
     "name": "stdout",
     "output_type": "stream",
     "text": [
      "./../../Datastore/Unlabelled_reports_11.csv\n"
     ]
    },
    {
     "name": "stderr",
     "output_type": "stream",
     "text": [
      "2000021it [00:13, 145817.38it/s]\n"
     ]
    },
    {
     "name": "stdout",
     "output_type": "stream",
     "text": [
      "./../../Datastore/Unlabelled_reports_12.csv\n"
     ]
    },
    {
     "name": "stderr",
     "output_type": "stream",
     "text": [
      "2000114it [00:15, 130180.35it/s]\n"
     ]
    },
    {
     "name": "stdout",
     "output_type": "stream",
     "text": [
      "./../../Datastore/Unlabelled_reports_13.csv\n"
     ]
    },
    {
     "name": "stderr",
     "output_type": "stream",
     "text": [
      "2000038it [00:19, 100647.51it/s]\n"
     ]
    },
    {
     "name": "stdout",
     "output_type": "stream",
     "text": [
      "./../../Datastore/Unlabelled_reports_14.csv\n"
     ]
    },
    {
     "name": "stderr",
     "output_type": "stream",
     "text": [
      "2000304it [00:17, 113206.55it/s]\n"
     ]
    },
    {
     "name": "stdout",
     "output_type": "stream",
     "text": [
      "./../../Datastore/Unlabelled_reports_15.csv\n"
     ]
    },
    {
     "name": "stderr",
     "output_type": "stream",
     "text": [
      "2000019it [00:14, 136483.41it/s]\n"
     ]
    },
    {
     "name": "stdout",
     "output_type": "stream",
     "text": [
      "./../../Datastore/Unlabelled_reports_16.csv\n"
     ]
    },
    {
     "name": "stderr",
     "output_type": "stream",
     "text": [
      "2000455it [00:15, 131389.44it/s]\n"
     ]
    },
    {
     "name": "stdout",
     "output_type": "stream",
     "text": [
      "./../../Datastore/Unlabelled_reports_17.csv\n"
     ]
    },
    {
     "name": "stderr",
     "output_type": "stream",
     "text": [
      "2000040it [00:13, 149315.42it/s]\n"
     ]
    },
    {
     "name": "stdout",
     "output_type": "stream",
     "text": [
      "./../../Datastore/Unlabelled_reports_18.csv\n"
     ]
    },
    {
     "name": "stderr",
     "output_type": "stream",
     "text": [
      "2000023it [00:13, 152335.11it/s]\n"
     ]
    },
    {
     "name": "stdout",
     "output_type": "stream",
     "text": [
      "./../../Datastore/Unlabelled_reports_19.csv\n"
     ]
    },
    {
     "name": "stderr",
     "output_type": "stream",
     "text": [
      "2000058it [00:15, 132412.66it/s]\n"
     ]
    },
    {
     "name": "stdout",
     "output_type": "stream",
     "text": [
      "./../../Datastore/Unlabelled_reports_20.csv\n"
     ]
    },
    {
     "name": "stderr",
     "output_type": "stream",
     "text": [
      "2000016it [00:15, 128058.33it/s]\n"
     ]
    },
    {
     "name": "stdout",
     "output_type": "stream",
     "text": [
      "./../../Datastore/Unlabelled_reports_21.csv\n"
     ]
    },
    {
     "name": "stderr",
     "output_type": "stream",
     "text": [
      "2000294it [00:15, 128338.55it/s]\n",
      "0it [00:00, ?it/s]"
     ]
    },
    {
     "name": "stdout",
     "output_type": "stream",
     "text": [
      "./../../Datastore/Unlabelled_reports_22.csv\n"
     ]
    },
    {
     "name": "stderr",
     "output_type": "stream",
     "text": [
      "332782it [00:02, 124686.20it/s]"
     ]
    },
    {
     "name": "stdout",
     "output_type": "stream",
     "text": [
      "Finished\n"
     ]
    },
    {
     "name": "stderr",
     "output_type": "stream",
     "text": [
      "\n"
     ]
    }
   ],
   "source": [
    "# Initialise a dictionary to hold all our data.\n",
    "# We will later convert this into a pandas dataframe for easy processing\n",
    "ip_in_cc = {}\n",
    "\n",
    "for attack in indexes:\n",
    "    print(attack)\n",
    "    files = []\n",
    "    if attack == 'Unlabelled':\n",
    "        # There are 23 files containing Unlabelled reports\n",
    "        for i in range(23):\n",
    "            files.append(('./../../Datastore/%s_reports_%s.csv'%(attack,i), attack, i))\n",
    "    else:\n",
    "        #continue\n",
    "        files.append(('./../../Datastore/%s_reports.csv'%attack, attack, None))\n",
    "    #########################\n",
    "    \n",
    "    # Process the files\n",
    "    for file_name, a, file_num in files:\n",
    "        print(file_name)\n",
    "        with open(file_name) as data_file:\n",
    "            filereader = csv.reader(data_file)\n",
    "            if attack == 'Unlabelled':\n",
    "                activity_relabel = pd.read_csv('./../../Unlabelled_predictions/%s_predictions_%s.csv'%(a, file_num),\n",
    "                                               index_col=[0], header=None)\n",
    "                activity_relabel = activity_relabel.transpose().values[0]\n",
    "            for n, report in enumerate(tqdm.tqdm(filereader)):\n",
    "                try:\n",
    "                    # Unpack Row information\n",
    "                    splits = report[0:9]\n",
    "\n",
    "                    day = splits[5]\n",
    "                    month = splits[6]\n",
    "                    year = splits[7]\n",
    "                    datasource = splits[8]        \n",
    "                    org = splits[3]\n",
    "                    asn = splits[2]\n",
    "                    cc = splits[1]\n",
    "                    ip = splits[0]\n",
    "                    \n",
    "                    # Compute week bins\n",
    "                    cal = make_date(day, month, year, iso=False)\n",
    "                    year_num, week_num, weekday_num = cal.isocalendar()\n",
    "\n",
    "                    # Invalid Timestamp, likely 0.\n",
    "                    if year_num == 1970:\n",
    "                        continue\n",
    "                    week = (year_num-1970)*52 + week_num\n",
    "\n",
    "                except Exception, e: \n",
    "                    print(str(e))\n",
    "\n",
    "                if ip is None or ip == '':\n",
    "                    print(\"Skipping invalid IP: %s\" % ip)\n",
    "                    continue\n",
    "\n",
    "                if (attack == 'Unlabelled'):\n",
    "                    attack_label = attack_map[activity_relabel[n]]\n",
    "                else:\n",
    "                    attack_label = attack\n",
    "\n",
    "                # Initialise the holders\n",
    "                key = cc\n",
    "                if key not in ip_in_cc:\n",
    "                    ip_in_cc[key] = {}\n",
    "\n",
    "                if attack_label not in ip_in_cc[key]:\n",
    "                    ip_in_cc[key][attack_label] = set([])\n",
    "                    \n",
    "                # Add IP to country set\n",
    "                ip_in_cc[key][attack_label].add(ip)\n",
    "\n",
    "print('Finished')"
   ]
  },
  {
   "cell_type": "markdown",
   "metadata": {},
   "source": [
    "## Compute Unique IPs"
   ]
  },
  {
   "cell_type": "code",
   "execution_count": 32,
   "metadata": {},
   "outputs": [],
   "source": [
    "cc_uniq_ips = {}\n",
    "cc_exceptions = ['--', 'xx', 'A1', 'unknown', 'nan']\n",
    "\n",
    "for cc in ip_in_cc:\n",
    "    if cc in cc_exceptions:\n",
    "        continue\n",
    "        \n",
    "    for attack in ip_in_cc[cc]:\n",
    "        if cc not in cc_uniq_ips:\n",
    "            cc_uniq_ips[cc] = {}\n",
    "            cc_uniq_ips[cc]['Totals'] = 0\n",
    "        cc_uniq_ips[cc][attack] = len(ip_in_cc[cc][attack])\n",
    "        cc_uniq_ips[cc]['Totals'] = cc_uniq_ips[cc]['Totals'] + cc_uniq_ips[cc][attack]\n"
   ]
  },
  {
   "cell_type": "code",
   "execution_count": null,
   "metadata": {},
   "outputs": [],
   "source": [
    "import pandas as pd\n",
    "cc_ip_unique_df = pd.DataFrame(cc_uniq_ips)\n",
    "cc_ip_unique_df = cc_ip_unique_df.fillna(0)\n",
    "\n",
    "cc_ip_unique_df.to_csv(\"cc_ip_unique.csv\")\n",
    "\n",
    "cc_ip_unique_df"
   ]
  },
  {
   "cell_type": "markdown",
   "metadata": {},
   "source": [
    "## Compute Proportions"
   ]
  },
  {
   "cell_type": "code",
   "execution_count": 33,
   "metadata": {},
   "outputs": [],
   "source": [
    "# Import the cc block sizes from the other generator script\n",
    "import pandas as pd\n",
    "cc_block_size = pd.read_csv('./Generators/country_block_sizes.csv', index_col=[0])\n",
    "cc_block_size = cc_block_size.to_dict()['0']"
   ]
  },
  {
   "cell_type": "code",
   "execution_count": 34,
   "metadata": {
    "scrolled": true
   },
   "outputs": [
    {
     "name": "stdout",
     "output_type": "stream",
     "text": [
      "ZZ\n",
      "UK\n",
      "NA\n",
      "XK\n"
     ]
    }
   ],
   "source": [
    "# Compute the porportions\n",
    "cc_ip_porportion = {}\n",
    "for cc in cc_uniq_ips:\n",
    "    # See if we have a block size for this cc\n",
    "    if cc not in cc_block_size:\n",
    "        print cc\n",
    "        continue\n",
    "        \n",
    "    # Retrieve the block size for cc\n",
    "    cc_total = cc_block_size[cc]\n",
    "    \n",
    "    # For all recorded attacks, compute a porportion\n",
    "    for attack in cc_uniq_ips[cc]:\n",
    "        if cc not in cc_ip_porportion:\n",
    "            cc_ip_porportion[cc] = {}\n",
    "        cc_ip_porportion[cc][attack] = 100 * float(cc_uniq_ips[cc][attack])/cc_total"
   ]
  },
  {
   "cell_type": "code",
   "execution_count": 35,
   "metadata": {},
   "outputs": [
    {
     "data": {
      "text/html": [
       "<div>\n",
       "<style scoped>\n",
       "    .dataframe tbody tr th:only-of-type {\n",
       "        vertical-align: middle;\n",
       "    }\n",
       "\n",
       "    .dataframe tbody tr th {\n",
       "        vertical-align: top;\n",
       "    }\n",
       "\n",
       "    .dataframe thead th {\n",
       "        text-align: right;\n",
       "    }\n",
       "</style>\n",
       "<table border=\"1\" class=\"dataframe\">\n",
       "  <thead>\n",
       "    <tr style=\"text-align: right;\">\n",
       "      <th></th>\n",
       "      <th>AD</th>\n",
       "      <th>AE</th>\n",
       "      <th>AF</th>\n",
       "      <th>AG</th>\n",
       "      <th>AI</th>\n",
       "      <th>AL</th>\n",
       "      <th>AM</th>\n",
       "      <th>AN</th>\n",
       "      <th>AO</th>\n",
       "      <th>AR</th>\n",
       "      <th>...</th>\n",
       "      <th>UZ</th>\n",
       "      <th>VC</th>\n",
       "      <th>VE</th>\n",
       "      <th>VG</th>\n",
       "      <th>VN</th>\n",
       "      <th>VU</th>\n",
       "      <th>YE</th>\n",
       "      <th>ZA</th>\n",
       "      <th>ZM</th>\n",
       "      <th>ZW</th>\n",
       "    </tr>\n",
       "  </thead>\n",
       "  <tbody>\n",
       "    <tr>\n",
       "      <th>Exploits</th>\n",
       "      <td>0.001948</td>\n",
       "      <td>0.002320</td>\n",
       "      <td>0.000000</td>\n",
       "      <td>0.000000</td>\n",
       "      <td>0.087719</td>\n",
       "      <td>0.000000</td>\n",
       "      <td>0.000160</td>\n",
       "      <td>0.000000</td>\n",
       "      <td>0.000000</td>\n",
       "      <td>0.000349</td>\n",
       "      <td>...</td>\n",
       "      <td>0.001594</td>\n",
       "      <td>0.00000</td>\n",
       "      <td>0.000059</td>\n",
       "      <td>0.178479</td>\n",
       "      <td>0.000409</td>\n",
       "      <td>0.000000</td>\n",
       "      <td>0.002856</td>\n",
       "      <td>0.000149</td>\n",
       "      <td>0.000000</td>\n",
       "      <td>0.000000</td>\n",
       "    </tr>\n",
       "    <tr>\n",
       "      <th>Fraudlent Services</th>\n",
       "      <td>0.000000</td>\n",
       "      <td>0.001008</td>\n",
       "      <td>0.000000</td>\n",
       "      <td>0.000000</td>\n",
       "      <td>0.009747</td>\n",
       "      <td>0.000530</td>\n",
       "      <td>0.000000</td>\n",
       "      <td>0.000000</td>\n",
       "      <td>0.000079</td>\n",
       "      <td>0.000318</td>\n",
       "      <td>...</td>\n",
       "      <td>0.001993</td>\n",
       "      <td>0.00000</td>\n",
       "      <td>0.000029</td>\n",
       "      <td>0.206621</td>\n",
       "      <td>0.000471</td>\n",
       "      <td>0.000000</td>\n",
       "      <td>0.000000</td>\n",
       "      <td>0.000302</td>\n",
       "      <td>0.000000</td>\n",
       "      <td>0.000000</td>\n",
       "    </tr>\n",
       "    <tr>\n",
       "      <th>Malware</th>\n",
       "      <td>0.019481</td>\n",
       "      <td>0.006051</td>\n",
       "      <td>0.016481</td>\n",
       "      <td>0.006923</td>\n",
       "      <td>0.477583</td>\n",
       "      <td>0.047187</td>\n",
       "      <td>0.045411</td>\n",
       "      <td>0.000323</td>\n",
       "      <td>0.000158</td>\n",
       "      <td>0.009494</td>\n",
       "      <td>...</td>\n",
       "      <td>0.014349</td>\n",
       "      <td>0.00331</td>\n",
       "      <td>0.008061</td>\n",
       "      <td>0.331038</td>\n",
       "      <td>0.094218</td>\n",
       "      <td>0.004706</td>\n",
       "      <td>0.012853</td>\n",
       "      <td>0.003202</td>\n",
       "      <td>0.000271</td>\n",
       "      <td>0.007448</td>\n",
       "    </tr>\n",
       "    <tr>\n",
       "      <th>Phishing</th>\n",
       "      <td>0.000000</td>\n",
       "      <td>0.001261</td>\n",
       "      <td>0.000000</td>\n",
       "      <td>0.000000</td>\n",
       "      <td>0.282651</td>\n",
       "      <td>0.000530</td>\n",
       "      <td>0.000481</td>\n",
       "      <td>0.000000</td>\n",
       "      <td>0.000000</td>\n",
       "      <td>0.001324</td>\n",
       "      <td>...</td>\n",
       "      <td>0.004384</td>\n",
       "      <td>0.00000</td>\n",
       "      <td>0.000206</td>\n",
       "      <td>0.171073</td>\n",
       "      <td>0.002068</td>\n",
       "      <td>0.000000</td>\n",
       "      <td>0.000000</td>\n",
       "      <td>0.000909</td>\n",
       "      <td>0.000181</td>\n",
       "      <td>0.000828</td>\n",
       "    </tr>\n",
       "    <tr>\n",
       "      <th>Spammers</th>\n",
       "      <td>0.000000</td>\n",
       "      <td>0.000000</td>\n",
       "      <td>0.000000</td>\n",
       "      <td>0.000000</td>\n",
       "      <td>0.000000</td>\n",
       "      <td>0.000000</td>\n",
       "      <td>0.000000</td>\n",
       "      <td>0.000000</td>\n",
       "      <td>0.000000</td>\n",
       "      <td>0.000005</td>\n",
       "      <td>...</td>\n",
       "      <td>0.000000</td>\n",
       "      <td>0.00000</td>\n",
       "      <td>0.000000</td>\n",
       "      <td>0.075539</td>\n",
       "      <td>0.000019</td>\n",
       "      <td>0.000000</td>\n",
       "      <td>0.000000</td>\n",
       "      <td>0.000000</td>\n",
       "      <td>0.000000</td>\n",
       "      <td>0.000000</td>\n",
       "    </tr>\n",
       "    <tr>\n",
       "      <th>Total</th>\n",
       "      <td>0.021429</td>\n",
       "      <td>0.010715</td>\n",
       "      <td>0.016481</td>\n",
       "      <td>0.006923</td>\n",
       "      <td>0.886940</td>\n",
       "      <td>0.048247</td>\n",
       "      <td>0.046053</td>\n",
       "      <td>0.000323</td>\n",
       "      <td>0.000237</td>\n",
       "      <td>0.011589</td>\n",
       "      <td>...</td>\n",
       "      <td>0.022320</td>\n",
       "      <td>0.00331</td>\n",
       "      <td>0.008354</td>\n",
       "      <td>1.068651</td>\n",
       "      <td>0.097242</td>\n",
       "      <td>0.004706</td>\n",
       "      <td>0.015710</td>\n",
       "      <td>0.004707</td>\n",
       "      <td>0.000452</td>\n",
       "      <td>0.008276</td>\n",
       "    </tr>\n",
       "    <tr>\n",
       "      <th>Unwanted Programs</th>\n",
       "      <td>0.000000</td>\n",
       "      <td>0.000076</td>\n",
       "      <td>0.000000</td>\n",
       "      <td>0.000000</td>\n",
       "      <td>0.029240</td>\n",
       "      <td>0.000000</td>\n",
       "      <td>0.000000</td>\n",
       "      <td>0.000000</td>\n",
       "      <td>0.000000</td>\n",
       "      <td>0.000099</td>\n",
       "      <td>...</td>\n",
       "      <td>0.000000</td>\n",
       "      <td>0.00000</td>\n",
       "      <td>0.000000</td>\n",
       "      <td>0.105902</td>\n",
       "      <td>0.000057</td>\n",
       "      <td>0.000000</td>\n",
       "      <td>0.000000</td>\n",
       "      <td>0.000146</td>\n",
       "      <td>0.000000</td>\n",
       "      <td>0.000000</td>\n",
       "    </tr>\n",
       "  </tbody>\n",
       "</table>\n",
       "<p>7 rows × 194 columns</p>\n",
       "</div>"
      ],
      "text/plain": [
       "                          AD        AE        AF        AG        AI  \\\n",
       "Exploits            0.001948  0.002320  0.000000  0.000000  0.087719   \n",
       "Fraudlent Services  0.000000  0.001008  0.000000  0.000000  0.009747   \n",
       "Malware             0.019481  0.006051  0.016481  0.006923  0.477583   \n",
       "Phishing            0.000000  0.001261  0.000000  0.000000  0.282651   \n",
       "Spammers            0.000000  0.000000  0.000000  0.000000  0.000000   \n",
       "Total               0.021429  0.010715  0.016481  0.006923  0.886940   \n",
       "Unwanted Programs   0.000000  0.000076  0.000000  0.000000  0.029240   \n",
       "\n",
       "                          AL        AM        AN        AO        AR  \\\n",
       "Exploits            0.000000  0.000160  0.000000  0.000000  0.000349   \n",
       "Fraudlent Services  0.000530  0.000000  0.000000  0.000079  0.000318   \n",
       "Malware             0.047187  0.045411  0.000323  0.000158  0.009494   \n",
       "Phishing            0.000530  0.000481  0.000000  0.000000  0.001324   \n",
       "Spammers            0.000000  0.000000  0.000000  0.000000  0.000005   \n",
       "Total               0.048247  0.046053  0.000323  0.000237  0.011589   \n",
       "Unwanted Programs   0.000000  0.000000  0.000000  0.000000  0.000099   \n",
       "\n",
       "                      ...           UZ       VC        VE        VG        VN  \\\n",
       "Exploits              ...     0.001594  0.00000  0.000059  0.178479  0.000409   \n",
       "Fraudlent Services    ...     0.001993  0.00000  0.000029  0.206621  0.000471   \n",
       "Malware               ...     0.014349  0.00331  0.008061  0.331038  0.094218   \n",
       "Phishing              ...     0.004384  0.00000  0.000206  0.171073  0.002068   \n",
       "Spammers              ...     0.000000  0.00000  0.000000  0.075539  0.000019   \n",
       "Total                 ...     0.022320  0.00331  0.008354  1.068651  0.097242   \n",
       "Unwanted Programs     ...     0.000000  0.00000  0.000000  0.105902  0.000057   \n",
       "\n",
       "                          VU        YE        ZA        ZM        ZW  \n",
       "Exploits            0.000000  0.002856  0.000149  0.000000  0.000000  \n",
       "Fraudlent Services  0.000000  0.000000  0.000302  0.000000  0.000000  \n",
       "Malware             0.004706  0.012853  0.003202  0.000271  0.007448  \n",
       "Phishing            0.000000  0.000000  0.000909  0.000181  0.000828  \n",
       "Spammers            0.000000  0.000000  0.000000  0.000000  0.000000  \n",
       "Total               0.004706  0.015710  0.004707  0.000452  0.008276  \n",
       "Unwanted Programs   0.000000  0.000000  0.000146  0.000000  0.000000  \n",
       "\n",
       "[7 rows x 194 columns]"
      ]
     },
     "execution_count": 35,
     "metadata": {},
     "output_type": "execute_result"
    }
   ],
   "source": [
    "import pandas as pd\n",
    "cc_ip_porportion_df = pd.DataFrame(cc_ip_porportion)\n",
    "cc_ip_porportion_df = cc_ip_porportion_df.fillna(0)\n",
    "\n",
    "cc_ip_porportion_df.to_csv(\"cc_attack_proportions.csv\")\n",
    "\n",
    "cc_ip_porportion_df"
   ]
  },
  {
   "cell_type": "markdown",
   "metadata": {},
   "source": [
    "# Plotting Code"
   ]
  },
  {
   "cell_type": "markdown",
   "metadata": {},
   "source": [
    "## Load Existing Data"
   ]
  },
  {
   "cell_type": "code",
   "execution_count": 7,
   "metadata": {},
   "outputs": [],
   "source": [
    "import pandas as pd\n",
    "cc_block_size = pd.read_csv('./Generators/country_block_sizes.csv', index_col=[0])\n",
    "cc_block_size = cc_block_size.to_dict()['0']\n",
    "\n",
    "cc_ip_porportion_df = pd.read_csv('cc_attack_proportions.csv', index_col=[0], header=[0])\n",
    "cc_ip_unique_df = pd.read_csv('cc_ip_unique.csv', index_col=[0], header=[0])\n"
   ]
  },
  {
   "cell_type": "markdown",
   "metadata": {},
   "source": [
    "## Highest Proportion CCs"
   ]
  },
  {
   "cell_type": "code",
   "execution_count": 8,
   "metadata": {},
   "outputs": [
    {
     "data": {
      "text/html": [
       "<div>\n",
       "<style scoped>\n",
       "    .dataframe tbody tr th:only-of-type {\n",
       "        vertical-align: middle;\n",
       "    }\n",
       "\n",
       "    .dataframe tbody tr th {\n",
       "        vertical-align: top;\n",
       "    }\n",
       "\n",
       "    .dataframe thead th {\n",
       "        text-align: right;\n",
       "    }\n",
       "</style>\n",
       "<table border=\"1\" class=\"dataframe\">\n",
       "  <thead>\n",
       "    <tr style=\"text-align: right;\">\n",
       "      <th></th>\n",
       "      <th>Proportion</th>\n",
       "      <th>Unique Malicious IPs</th>\n",
       "      <th>Total Block Size</th>\n",
       "    </tr>\n",
       "    <tr>\n",
       "      <th>Country</th>\n",
       "      <th></th>\n",
       "      <th></th>\n",
       "      <th></th>\n",
       "    </tr>\n",
       "  </thead>\n",
       "  <tbody>\n",
       "    <tr>\n",
       "      <th>VG</th>\n",
       "      <td>1.068651</td>\n",
       "      <td>1443.0</td>\n",
       "      <td>135030</td>\n",
       "    </tr>\n",
       "    <tr>\n",
       "      <th>AI</th>\n",
       "      <td>0.886940</td>\n",
       "      <td>91.0</td>\n",
       "      <td>10260</td>\n",
       "    </tr>\n",
       "    <tr>\n",
       "      <th>LT</th>\n",
       "      <td>0.183151</td>\n",
       "      <td>4928.0</td>\n",
       "      <td>2690680</td>\n",
       "    </tr>\n",
       "    <tr>\n",
       "      <th>BZ</th>\n",
       "      <td>0.180981</td>\n",
       "      <td>323.0</td>\n",
       "      <td>178472</td>\n",
       "    </tr>\n",
       "    <tr>\n",
       "      <th>MH</th>\n",
       "      <td>0.165720</td>\n",
       "      <td>14.0</td>\n",
       "      <td>8448</td>\n",
       "    </tr>\n",
       "    <tr>\n",
       "      <th>LU</th>\n",
       "      <td>0.158554</td>\n",
       "      <td>2318.0</td>\n",
       "      <td>1461964</td>\n",
       "    </tr>\n",
       "    <tr>\n",
       "      <th>UA</th>\n",
       "      <td>0.138821</td>\n",
       "      <td>17658.0</td>\n",
       "      <td>12719936</td>\n",
       "    </tr>\n",
       "    <tr>\n",
       "      <th>DM</th>\n",
       "      <td>0.109810</td>\n",
       "      <td>18.0</td>\n",
       "      <td>16392</td>\n",
       "    </tr>\n",
       "    <tr>\n",
       "      <th>FJ</th>\n",
       "      <td>0.103079</td>\n",
       "      <td>152.0</td>\n",
       "      <td>147460</td>\n",
       "    </tr>\n",
       "    <tr>\n",
       "      <th>VN</th>\n",
       "      <td>0.097242</td>\n",
       "      <td>15468.0</td>\n",
       "      <td>15906730</td>\n",
       "    </tr>\n",
       "  </tbody>\n",
       "</table>\n",
       "</div>"
      ],
      "text/plain": [
       "         Proportion  Unique Malicious IPs  Total Block Size\n",
       "Country                                                    \n",
       "VG         1.068651                1443.0            135030\n",
       "AI         0.886940                  91.0             10260\n",
       "LT         0.183151                4928.0           2690680\n",
       "BZ         0.180981                 323.0            178472\n",
       "MH         0.165720                  14.0              8448\n",
       "LU         0.158554                2318.0           1461964\n",
       "UA         0.138821               17658.0          12719936\n",
       "DM         0.109810                  18.0             16392\n",
       "FJ         0.103079                 152.0            147460\n",
       "VN         0.097242               15468.0          15906730"
      ]
     },
     "execution_count": 8,
     "metadata": {},
     "output_type": "execute_result"
    }
   ],
   "source": [
    "import pandas as pd\n",
    "ip_df = pd.DataFrame(cc_ip_porportion_df)\n",
    "ip_df = ip_df.fillna(0)\n",
    "\n",
    "top10 = ip_df.transpose()['Totals'].sort_values(ascending=False).head(10).index\n",
    "\n",
    "names = ['Country','Proportion','Unique Malicious IPs','Total Block Size']\n",
    "\n",
    "top_list = []\n",
    "for one in top10:\n",
    "    top_list.append((one, ip_df.transpose()['Totals'][one],\n",
    "                     cc_ip_unique_df[one]['Totals'], cc_block_size[one]))\n",
    "\n",
    "a = pd.DataFrame(top_list)\n",
    "a.columns = names\n",
    "\n",
    "a.set_index('Country')"
   ]
  },
  {
   "cell_type": "markdown",
   "metadata": {},
   "source": [
    "## Plotting Parameters"
   ]
  },
  {
   "cell_type": "code",
   "execution_count": 9,
   "metadata": {},
   "outputs": [],
   "source": [
    "import matplotlib.pyplot as plt\n",
    "import matplotlib.dates as mdates\n",
    "import dateutil.relativedelta\n",
    "\n",
    "plot_properties_indexes = {\n",
    "    'Unwanted Programs':{'color':'b', 'linestyle':'-', 'label':'PUP',\n",
    "                         'marker':'s', 'hatch':'//'},\n",
    "\n",
    "    'Fraudlent Services':{'color':'y', 'linestyle':'-', 'label':'Fraud. Serv.',\n",
    "                          'marker':'*','hatch':'\\\\'},\n",
    "\n",
    "    'Malware':{'color':'r', 'linestyle':'-', 'label':'Malware',\n",
    "               'marker':'x', 'hatch':'x'},\n",
    "\n",
    "    'Exploits':{'color':'m', 'linestyle':'-', 'label':'Exploits',\n",
    "                'marker':'+', 'hatch':'+'},\n",
    "\n",
    "    'Phishing':{'color':'g', 'linestyle':'-', 'label':'Phishing',\n",
    "                'marker':'^', 'hatch':'|'},\n",
    "\n",
    "    'Spammers':{'color':'c', 'linestyle':'-', 'label':'Spammers',\n",
    "                'marker':'D', 'hatch':'\\\\\\\\'},\n",
    "\n",
    "    'Unlabelled':{'color':'w', 'linestyle':'-', 'label':'Unlabelled',\n",
    "                  'marker':'T', 'hatch':'///'},\n",
    "\n",
    "    'Totals':{'color':'k', 'linestyle':'-', 'label':'Total',\n",
    "              'marker':'o', 'hatch':''}\n",
    "}"
   ]
  },
  {
   "cell_type": "code",
   "execution_count": 10,
   "metadata": {},
   "outputs": [],
   "source": [
    "import matplotlib.pyplot as plt\n",
    "import numpy as np\n",
    "\n",
    "def cdf(data, m,n,s,lstring):\n",
    "    data_size=len(data)\n",
    "\n",
    "    # Set bins edges\n",
    "    data_set=sorted(set(data))\n",
    "    bins=np.append(data_set, data_set[-1]+1)\n",
    "\n",
    "    # Use the histogram function to bin the data\n",
    "    counts, bin_edges = np.histogram(data, bins=bins, density=False)\n",
    "    #print counts\n",
    "    #print bin_edges\n",
    "    counts=counts.astype(float)/data_size\n",
    "\n",
    "    # Find the cdf\n",
    "    cdf = np.cumsum(counts)\n",
    "    \n",
    "    # Plot the cdf\n",
    "    plt.plot(bin_edges[0:-1], cdf,linestyle='%s'%n, color='%s'%m,marker='%s'%s,markevery=0.1, label=lstring)    \n",
    "    plt.ylim((0,1))"
   ]
  },
  {
   "cell_type": "markdown",
   "metadata": {},
   "source": [
    "# CDF of CC Proportions"
   ]
  },
  {
   "cell_type": "code",
   "execution_count": 20,
   "metadata": {},
   "outputs": [
    {
     "data": {
      "image/png": "[encoded data removed]",
      "text/plain": [
       "<matplotlib.figure.Figure at 0x10ebf0250>"
      ]
     },
     "metadata": {},
     "output_type": "display_data"
    }
   ],
   "source": [
    "plt.figure(figsize=(6,2.6))\n",
    "\n",
    "for attk in ['Totals', 'Malware', 'Phishing', 'Fraudlent Services', 'Unwanted Programs', \n",
    "             'Exploits', 'Spammers']:\n",
    "    a = cc_ip_porportion_df.transpose()[attk][cc_ip_porportion_df.transpose()[attk]!=0]\n",
    "    linestyle = plot_properties_indexes[attk]['linestyle']\n",
    "    color = plot_properties_indexes[attk]['color']\n",
    "    label = plot_properties_indexes[attk]['label']\n",
    "    marker = plot_properties_indexes[attk]['marker']\n",
    "    \n",
    "    cdf(a, color, linestyle, marker, label)\n",
    "\n",
    "plt.ylabel(\"CDF\",fontsize=14)\n",
    "plt.xlabel(\"CC Percentage of Malicious IPs\",fontsize=14)\n",
    "\n",
    "plt.xscale('log')\n",
    "\n",
    "import matplotlib.pyplot as plt\n",
    "from matplotlib import rcParams\n",
    "rcParams.update({'figure.autolayout': True})\n",
    "\n",
    "# New Legend Code\n",
    "ax = plt.gca()\n",
    "handles, labels = ax.get_legend_handles_labels()\n",
    "offset_split = 4\n",
    "l1 = ax.legend(handles[:offset_split], labels[:offset_split], loc='upper left',frameon=False)\n",
    "l2 = ax.legend(handles[offset_split:], labels[offset_split:], loc='lower right',frameon=False) # this removes l1 from the axes.\n",
    "ax.add_artist(l1)\n",
    "\n",
    "\n",
    "plt.savefig(\"figures/cc_proportion_big.pdf\",bbox_inches='tight')\n",
    "plt.show()"
   ]
  },
  {
   "cell_type": "code",
   "execution_count": 24,
   "metadata": {},
   "outputs": [
    {
     "name": "stdout",
     "output_type": "stream",
     "text": [
      "1615708342\n",
      "Exploits               22090\n",
      "Fraudlent Services     55318\n",
      "Malware               187648\n",
      "Phishing               77902\n",
      "Spammers                 968\n",
      "Totals                485778\n",
      "Unwanted Programs     141852\n",
      "Name: US, dtype: int64\n"
     ]
    }
   ],
   "source": [
    "print cc_block_size['US']\n",
    "print cc_ip_unique_df['US']"
   ]
  },
  {
   "cell_type": "markdown",
   "metadata": {},
   "source": [
    "# Top 10s"
   ]
  },
  {
   "cell_type": "code",
   "execution_count": 14,
   "metadata": {},
   "outputs": [
    {
     "data": {
      "text/plain": [
       "0.01644055509527755"
      ]
     },
     "execution_count": 14,
     "metadata": {},
     "output_type": "execute_result"
    }
   ],
   "source": [
    "7620/463488.0\n"
   ]
  },
  {
   "cell_type": "code",
   "execution_count": 18,
   "metadata": {},
   "outputs": [
    {
     "data": {
      "text/plain": [
       "[u'NA', 'VG', 'AI', 'LT', u'BZ', u'MH', u'LU', u'UA', u'DM', u'FJ']"
      ]
     },
     "execution_count": 18,
     "metadata": {},
     "output_type": "execute_result"
    }
   ],
   "source": [
    "list(a.head(10)['Country'])"
   ]
  },
  {
   "cell_type": "code",
   "execution_count": 5,
   "metadata": {},
   "outputs": [
    {
     "data": {
      "text/plain": [
       "4170.227272727273"
      ]
     },
     "execution_count": 5,
     "metadata": {},
     "output_type": "execute_result"
    }
   ],
   "source": [
    "cc_ip_unique_df.loc['Totals'].mean()"
   ]
  },
  {
   "cell_type": "code",
   "execution_count": null,
   "metadata": {},
   "outputs": [],
   "source": []
  }
 ],
 "metadata": {
  "kernelspec": {
   "display_name": "Python [default]",
   "language": "python",
   "name": "python2"
  },
  "language_info": {
   "codemirror_mode": {
    "name": "ipython",
    "version": 2
   },
   "file_extension": ".py",
   "mimetype": "text/x-python",
   "name": "python",
   "nbconvert_exporter": "python",
   "pygments_lexer": "ipython2",
   "version": "2.7.14"
  }
 },
 "nbformat": 4,
 "nbformat_minor": 2
}
