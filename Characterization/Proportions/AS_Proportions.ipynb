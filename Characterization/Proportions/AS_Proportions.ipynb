{
 "cells": [
  {
   "cell_type": "markdown",
   "metadata": {
    "collapsed": true
   },
   "source": [
    "# Raw Extraction of required data"
   ]
  },
  {
   "cell_type": "markdown",
   "metadata": {},
   "source": [
    "Note that the raw extraction of required data takes a very long time, the import of pre-computed values is avaliable at the Plotting Code section."
   ]
  },
  {
   "cell_type": "code",
   "execution_count": 1,
   "metadata": {},
   "outputs": [],
   "source": [
    "import pandas as pd\n",
    "import numpy as np\n",
    "import tqdm\n",
    "import csv\n",
    "from datetime import datetime"
   ]
  },
  {
   "cell_type": "code",
   "execution_count": 2,
   "metadata": {},
   "outputs": [],
   "source": [
    "# Defining the list indexes\n",
    "indexes = {\n",
    "    'Malware':0,\n",
    "    'Phishing':1,\n",
    "    'Exploits':2,\n",
    "    'Fraudlent Services':3,\n",
    "    'Unwanted Programs':4,\n",
    "    'Spammers':5,\n",
    "    'Unlabelled':6,\n",
    "}\n",
    "\n",
    "attack_map = ['Malware', 'Phishing', 'Exploits', 'Fraudlent Services',\n",
    "            'Unwanted Programs', 'Spammers', 'Unlabelled']"
   ]
  },
  {
   "cell_type": "code",
   "execution_count": 3,
   "metadata": {},
   "outputs": [],
   "source": [
    "# Convert date fields back into a python date object\n",
    "date_calculation_cache = {}\n",
    "def make_date(day, month, year, iso=True):\n",
    "    date = '%s-%s-%s' % (day, month, year)\n",
    "    # Check cache before recomputation\n",
    "    if date not in date_calculation_cache:\n",
    "        if iso:\n",
    "            cal = datetime.strptime(date, \"%d-%m-%Y\").isocalendar()\n",
    "        else:\n",
    "            cal = datetime.strptime(date, \"%d-%m-%Y\")\n",
    "        date_calculation_cache[date] = cal\n",
    "    else:\n",
    "        cal = date_calculation_cache[date]\n",
    "    return cal"
   ]
  },
  {
   "cell_type": "code",
   "execution_count": 4,
   "metadata": {
    "scrolled": false
   },
   "outputs": [
    {
     "name": "stderr",
     "output_type": "stream",
     "text": [
      "6918it [00:00, 51672.35it/s]\n",
      "0it [00:00, ?it/s]"
     ]
    },
    {
     "name": "stdout",
     "output_type": "stream",
     "text": [
      "Spammers\n",
      "./../../Datastore/Spammers_reports.csv\n",
      "Malware\n",
      "./../../Datastore/Malware_reports.csv\n"
     ]
    },
    {
     "name": "stderr",
     "output_type": "stream",
     "text": [
      "3190529it [00:24, 128386.21it/s]\n",
      "11446it [00:00, 114429.01it/s]"
     ]
    },
    {
     "name": "stdout",
     "output_type": "stream",
     "text": [
      "Exploits\n",
      "./../../Datastore/Exploits_reports.csv\n"
     ]
    },
    {
     "name": "stderr",
     "output_type": "stream",
     "text": [
      "201108it [00:01, 105799.87it/s]\n",
      "11497it [00:00, 114467.41it/s]"
     ]
    },
    {
     "name": "stdout",
     "output_type": "stream",
     "text": [
      "Phishing\n",
      "./../../Datastore/Phishing_reports.csv\n"
     ]
    },
    {
     "name": "stderr",
     "output_type": "stream",
     "text": [
      "2382889it [00:15, 149719.02it/s]\n",
      "14166it [00:00, 141624.34it/s]"
     ]
    },
    {
     "name": "stdout",
     "output_type": "stream",
     "text": [
      "Fraudlent Services\n",
      "./../../Datastore/Fraudlent Services_reports.csv\n"
     ]
    },
    {
     "name": "stderr",
     "output_type": "stream",
     "text": [
      "829301it [00:05, 157876.00it/s]\n",
      "13003it [00:00, 129992.00it/s]"
     ]
    },
    {
     "name": "stdout",
     "output_type": "stream",
     "text": [
      "Unwanted Programs\n",
      "./../../Datastore/Unwanted Programs_reports.csv\n"
     ]
    },
    {
     "name": "stderr",
     "output_type": "stream",
     "text": [
      "698700it [00:04, 154646.15it/s]\n"
     ]
    },
    {
     "name": "stdout",
     "output_type": "stream",
     "text": [
      "Unlabelled\n",
      "./../../Datastore/Unlabelled_reports_0.csv\n"
     ]
    },
    {
     "name": "stderr",
     "output_type": "stream",
     "text": [
      "/Users/zha197/.local/lib/python2.7/site-packages/numpy/lib/arraysetops.py:522: FutureWarning: elementwise comparison failed; returning scalar instead, but in the future will perform elementwise comparison\n",
      "  mask |= (ar1 == a)\n",
      "2000138it [00:14, 133747.05it/s]\n"
     ]
    },
    {
     "name": "stdout",
     "output_type": "stream",
     "text": [
      "./../../Datastore/Unlabelled_reports_1.csv\n"
     ]
    },
    {
     "name": "stderr",
     "output_type": "stream",
     "text": [
      "2000007it [00:14, 135045.64it/s]\n"
     ]
    },
    {
     "name": "stdout",
     "output_type": "stream",
     "text": [
      "./../../Datastore/Unlabelled_reports_2.csv\n"
     ]
    },
    {
     "name": "stderr",
     "output_type": "stream",
     "text": [
      "2000047it [00:14, 133340.48it/s]\n"
     ]
    },
    {
     "name": "stdout",
     "output_type": "stream",
     "text": [
      "./../../Datastore/Unlabelled_reports_3.csv\n"
     ]
    },
    {
     "name": "stderr",
     "output_type": "stream",
     "text": [
      "2000022it [00:14, 138609.94it/s]\n"
     ]
    },
    {
     "name": "stdout",
     "output_type": "stream",
     "text": [
      "./../../Datastore/Unlabelled_reports_4.csv\n"
     ]
    },
    {
     "name": "stderr",
     "output_type": "stream",
     "text": [
      "2000471it [00:15, 129505.12it/s]\n"
     ]
    },
    {
     "name": "stdout",
     "output_type": "stream",
     "text": [
      "./../../Datastore/Unlabelled_reports_5.csv\n"
     ]
    },
    {
     "name": "stderr",
     "output_type": "stream",
     "text": [
      "2000567it [00:14, 134494.13it/s]\n"
     ]
    },
    {
     "name": "stdout",
     "output_type": "stream",
     "text": [
      "./../../Datastore/Unlabelled_reports_6.csv\n"
     ]
    },
    {
     "name": "stderr",
     "output_type": "stream",
     "text": [
      "2000130it [00:15, 126418.49it/s]\n"
     ]
    },
    {
     "name": "stdout",
     "output_type": "stream",
     "text": [
      "./../../Datastore/Unlabelled_reports_7.csv\n"
     ]
    },
    {
     "name": "stderr",
     "output_type": "stream",
     "text": [
      "2000541it [00:14, 135803.00it/s]\n"
     ]
    },
    {
     "name": "stdout",
     "output_type": "stream",
     "text": [
      "./../../Datastore/Unlabelled_reports_8.csv\n"
     ]
    },
    {
     "name": "stderr",
     "output_type": "stream",
     "text": [
      "2000282it [00:14, 141186.11it/s]\n"
     ]
    },
    {
     "name": "stdout",
     "output_type": "stream",
     "text": [
      "./../../Datastore/Unlabelled_reports_9.csv\n"
     ]
    },
    {
     "name": "stderr",
     "output_type": "stream",
     "text": [
      "2000016it [00:13, 145544.98it/s]\n"
     ]
    },
    {
     "name": "stdout",
     "output_type": "stream",
     "text": [
      "./../../Datastore/Unlabelled_reports_10.csv\n"
     ]
    },
    {
     "name": "stderr",
     "output_type": "stream",
     "text": [
      "2000165it [00:14, 134491.83it/s]\n"
     ]
    },
    {
     "name": "stdout",
     "output_type": "stream",
     "text": [
      "./../../Datastore/Unlabelled_reports_11.csv\n"
     ]
    },
    {
     "name": "stderr",
     "output_type": "stream",
     "text": [
      "2000021it [00:14, 139789.47it/s]\n"
     ]
    },
    {
     "name": "stdout",
     "output_type": "stream",
     "text": [
      "./../../Datastore/Unlabelled_reports_12.csv\n"
     ]
    },
    {
     "name": "stderr",
     "output_type": "stream",
     "text": [
      "2000114it [00:14, 135087.46it/s]\n"
     ]
    },
    {
     "name": "stdout",
     "output_type": "stream",
     "text": [
      "./../../Datastore/Unlabelled_reports_13.csv\n"
     ]
    },
    {
     "name": "stderr",
     "output_type": "stream",
     "text": [
      "2000038it [00:14, 141860.08it/s]\n"
     ]
    },
    {
     "name": "stdout",
     "output_type": "stream",
     "text": [
      "./../../Datastore/Unlabelled_reports_14.csv\n"
     ]
    },
    {
     "name": "stderr",
     "output_type": "stream",
     "text": [
      "2000304it [00:13, 151260.96it/s]\n"
     ]
    },
    {
     "name": "stdout",
     "output_type": "stream",
     "text": [
      "./../../Datastore/Unlabelled_reports_15.csv\n"
     ]
    },
    {
     "name": "stderr",
     "output_type": "stream",
     "text": [
      "2000019it [00:14, 133378.04it/s]\n"
     ]
    },
    {
     "name": "stdout",
     "output_type": "stream",
     "text": [
      "./../../Datastore/Unlabelled_reports_16.csv\n"
     ]
    },
    {
     "name": "stderr",
     "output_type": "stream",
     "text": [
      "2000455it [00:14, 133676.92it/s]\n"
     ]
    },
    {
     "name": "stdout",
     "output_type": "stream",
     "text": [
      "./../../Datastore/Unlabelled_reports_17.csv\n"
     ]
    },
    {
     "name": "stderr",
     "output_type": "stream",
     "text": [
      "2000040it [00:15, 126344.81it/s]\n"
     ]
    },
    {
     "name": "stdout",
     "output_type": "stream",
     "text": [
      "./../../Datastore/Unlabelled_reports_18.csv\n"
     ]
    },
    {
     "name": "stderr",
     "output_type": "stream",
     "text": [
      "2000023it [00:14, 140059.44it/s]\n"
     ]
    },
    {
     "name": "stdout",
     "output_type": "stream",
     "text": [
      "./../../Datastore/Unlabelled_reports_19.csv\n"
     ]
    },
    {
     "name": "stderr",
     "output_type": "stream",
     "text": [
      "2000058it [00:13, 145268.07it/s]\n"
     ]
    },
    {
     "name": "stdout",
     "output_type": "stream",
     "text": [
      "./../../Datastore/Unlabelled_reports_20.csv\n"
     ]
    },
    {
     "name": "stderr",
     "output_type": "stream",
     "text": [
      "2000016it [00:13, 148890.81it/s]\n"
     ]
    },
    {
     "name": "stdout",
     "output_type": "stream",
     "text": [
      "./../../Datastore/Unlabelled_reports_21.csv\n"
     ]
    },
    {
     "name": "stderr",
     "output_type": "stream",
     "text": [
      "2000294it [00:13, 145683.26it/s]\n",
      "0it [00:00, ?it/s]"
     ]
    },
    {
     "name": "stdout",
     "output_type": "stream",
     "text": [
      "./../../Datastore/Unlabelled_reports_22.csv\n"
     ]
    },
    {
     "name": "stderr",
     "output_type": "stream",
     "text": [
      "332782it [00:02, 154123.32it/s]"
     ]
    },
    {
     "name": "stdout",
     "output_type": "stream",
     "text": [
      "Finished\n"
     ]
    },
    {
     "name": "stderr",
     "output_type": "stream",
     "text": [
      "\n"
     ]
    }
   ],
   "source": [
    "# Initialise a dictionary to hold all our data.\n",
    "# We will later convert this into a pandas dataframe for easy processing\n",
    "ip_in_asn = {}\n",
    "\n",
    "for attack in indexes:\n",
    "    print(attack)\n",
    "    files = []\n",
    "    if attack == 'Unlabelled':\n",
    "        # There are 23 files containing Unlabelled reports\n",
    "        for i in range(23):\n",
    "            files.append(('./../../Datastore/%s_reports_%s.csv'%(attack,i), attack, i))\n",
    "    else:\n",
    "        #continue\n",
    "        files.append(('./../../Datastore/%s_reports.csv'%attack, attack, None))\n",
    "    #########################\n",
    "    \n",
    "    # Process the files\n",
    "    for file_name, a, file_num in files:\n",
    "        print(file_name)\n",
    "        with open(file_name) as data_file:\n",
    "            filereader = csv.reader(data_file)\n",
    "            if attack == 'Unlabelled':\n",
    "                activity_relabel = pd.read_csv('./../../Unlabelled_predictions/%s_predictions_%s.csv'%(a, file_num),\n",
    "                                               index_col=[0], header=None)\n",
    "                activity_relabel = activity_relabel.transpose().values[0]\n",
    "            for n, report in enumerate(tqdm.tqdm(filereader)):\n",
    "                try:\n",
    "                    # Unpack Row information\n",
    "                    splits = report[0:9]\n",
    "\n",
    "                    day = splits[5]\n",
    "                    month = splits[6]\n",
    "                    year = splits[7]\n",
    "                    datasource = splits[8]        \n",
    "                    org = splits[3]\n",
    "                    asn = splits[2]\n",
    "                    cc = splits[1]\n",
    "                    ip = splits[0]\n",
    "                    \n",
    "                    # Compute week bins\n",
    "                    cal = make_date(day, month, year, iso=False)\n",
    "                    year_num, week_num, weekday_num = cal.isocalendar()\n",
    "\n",
    "                    # Invalid Timestamp, likely 0.\n",
    "                    if year_num == 1970:\n",
    "                        continue\n",
    "                    week = (year_num-1970)*52 + week_num\n",
    "\n",
    "                except Exception, e: \n",
    "                    print(str(e))\n",
    "\n",
    "                if ip is None or ip == '':\n",
    "                    print(\"Skipping invalid IP: %s\" % ip)\n",
    "                    continue\n",
    "\n",
    "                if (attack == 'Unlabelled'):\n",
    "                    attack_label = attack_map[activity_relabel[n]]\n",
    "                else:\n",
    "                    attack_label = attack\n",
    "\n",
    "                # Initialise the holders\n",
    "                key = asn\n",
    "                if key not in ip_in_asn:\n",
    "                    ip_in_asn[key] = {}\n",
    "\n",
    "                if attack_label not in ip_in_asn[key]:\n",
    "                    ip_in_asn[key][attack_label] = set([])\n",
    "                    \n",
    "                # Add IP to country set\n",
    "                ip_in_asn[key][attack_label].add(ip)\n",
    "\n",
    "print('Finished')"
   ]
  },
  {
   "cell_type": "markdown",
   "metadata": {},
   "source": [
    "## Compute Unique IPs"
   ]
  },
  {
   "cell_type": "code",
   "execution_count": 5,
   "metadata": {},
   "outputs": [],
   "source": [
    "asn_uniq_ips = {}\n",
    "asn_exceptions = ['--', 'xx', 'A1', 'unknown', 'nan', '-1']\n",
    "\n",
    "for asn in ip_in_asn:\n",
    "    if asn in asn_exceptions:\n",
    "        continue\n",
    "        \n",
    "    for attack in ip_in_asn[asn]:\n",
    "        if asn not in asn_uniq_ips:\n",
    "            asn_uniq_ips[asn] = {}\n",
    "            asn_uniq_ips[asn]['Totals'] = 0\n",
    "        asn_uniq_ips[asn][attack] = len(ip_in_asn[asn][attack])\n",
    "        asn_uniq_ips[asn]['Totals'] = asn_uniq_ips[asn]['Totals'] + asn_uniq_ips[asn][attack]\n",
    "    "
   ]
  },
  {
   "cell_type": "code",
   "execution_count": 6,
   "metadata": {},
   "outputs": [
    {
     "data": {
      "text/html": [
       "<div>\n",
       "<style scoped>\n",
       "    .dataframe tbody tr th:only-of-type {\n",
       "        vertical-align: middle;\n",
       "    }\n",
       "\n",
       "    .dataframe tbody tr th {\n",
       "        vertical-align: top;\n",
       "    }\n",
       "\n",
       "    .dataframe thead th {\n",
       "        text-align: right;\n",
       "    }\n",
       "</style>\n",
       "<table border=\"1\" class=\"dataframe\">\n",
       "  <thead>\n",
       "    <tr style=\"text-align: right;\">\n",
       "      <th></th>\n",
       "      <th>-42473</th>\n",
       "      <th>0</th>\n",
       "      <th>100</th>\n",
       "      <th>10000</th>\n",
       "      <th>10001</th>\n",
       "      <th>10002</th>\n",
       "      <th>10006</th>\n",
       "      <th>10010</th>\n",
       "      <th>10013</th>\n",
       "      <th>10015</th>\n",
       "      <th>...</th>\n",
       "      <th>9946</th>\n",
       "      <th>9950</th>\n",
       "      <th>9954</th>\n",
       "      <th>9971</th>\n",
       "      <th>9976</th>\n",
       "      <th>9980</th>\n",
       "      <th>9981</th>\n",
       "      <th>9982</th>\n",
       "      <th>9988</th>\n",
       "      <th>9993</th>\n",
       "    </tr>\n",
       "  </thead>\n",
       "  <tbody>\n",
       "    <tr>\n",
       "      <th>Exploits</th>\n",
       "      <td>0.0</td>\n",
       "      <td>0.0</td>\n",
       "      <td>0.0</td>\n",
       "      <td>1.0</td>\n",
       "      <td>0.0</td>\n",
       "      <td>0.0</td>\n",
       "      <td>1.0</td>\n",
       "      <td>3.0</td>\n",
       "      <td>1.0</td>\n",
       "      <td>0.0</td>\n",
       "      <td>...</td>\n",
       "      <td>0.0</td>\n",
       "      <td>0.0</td>\n",
       "      <td>0.0</td>\n",
       "      <td>0.0</td>\n",
       "      <td>0.0</td>\n",
       "      <td>0.0</td>\n",
       "      <td>0.0</td>\n",
       "      <td>0.0</td>\n",
       "      <td>0.0</td>\n",
       "      <td>0.0</td>\n",
       "    </tr>\n",
       "    <tr>\n",
       "      <th>Fraudlent Services</th>\n",
       "      <td>1.0</td>\n",
       "      <td>2.0</td>\n",
       "      <td>0.0</td>\n",
       "      <td>0.0</td>\n",
       "      <td>0.0</td>\n",
       "      <td>0.0</td>\n",
       "      <td>0.0</td>\n",
       "      <td>22.0</td>\n",
       "      <td>6.0</td>\n",
       "      <td>11.0</td>\n",
       "      <td>...</td>\n",
       "      <td>0.0</td>\n",
       "      <td>0.0</td>\n",
       "      <td>0.0</td>\n",
       "      <td>0.0</td>\n",
       "      <td>0.0</td>\n",
       "      <td>0.0</td>\n",
       "      <td>0.0</td>\n",
       "      <td>0.0</td>\n",
       "      <td>0.0</td>\n",
       "      <td>0.0</td>\n",
       "    </tr>\n",
       "    <tr>\n",
       "      <th>Malware</th>\n",
       "      <td>0.0</td>\n",
       "      <td>6.0</td>\n",
       "      <td>1.0</td>\n",
       "      <td>3.0</td>\n",
       "      <td>1.0</td>\n",
       "      <td>1.0</td>\n",
       "      <td>7.0</td>\n",
       "      <td>43.0</td>\n",
       "      <td>31.0</td>\n",
       "      <td>1.0</td>\n",
       "      <td>...</td>\n",
       "      <td>13.0</td>\n",
       "      <td>1.0</td>\n",
       "      <td>1.0</td>\n",
       "      <td>1.0</td>\n",
       "      <td>42.0</td>\n",
       "      <td>3.0</td>\n",
       "      <td>13.0</td>\n",
       "      <td>1.0</td>\n",
       "      <td>1.0</td>\n",
       "      <td>2.0</td>\n",
       "    </tr>\n",
       "    <tr>\n",
       "      <th>Phishing</th>\n",
       "      <td>0.0</td>\n",
       "      <td>0.0</td>\n",
       "      <td>0.0</td>\n",
       "      <td>0.0</td>\n",
       "      <td>0.0</td>\n",
       "      <td>0.0</td>\n",
       "      <td>0.0</td>\n",
       "      <td>1.0</td>\n",
       "      <td>1.0</td>\n",
       "      <td>0.0</td>\n",
       "      <td>...</td>\n",
       "      <td>0.0</td>\n",
       "      <td>0.0</td>\n",
       "      <td>0.0</td>\n",
       "      <td>0.0</td>\n",
       "      <td>0.0</td>\n",
       "      <td>0.0</td>\n",
       "      <td>0.0</td>\n",
       "      <td>0.0</td>\n",
       "      <td>2.0</td>\n",
       "      <td>0.0</td>\n",
       "    </tr>\n",
       "    <tr>\n",
       "      <th>Spammers</th>\n",
       "      <td>0.0</td>\n",
       "      <td>0.0</td>\n",
       "      <td>0.0</td>\n",
       "      <td>0.0</td>\n",
       "      <td>0.0</td>\n",
       "      <td>0.0</td>\n",
       "      <td>0.0</td>\n",
       "      <td>0.0</td>\n",
       "      <td>0.0</td>\n",
       "      <td>0.0</td>\n",
       "      <td>...</td>\n",
       "      <td>0.0</td>\n",
       "      <td>0.0</td>\n",
       "      <td>0.0</td>\n",
       "      <td>0.0</td>\n",
       "      <td>0.0</td>\n",
       "      <td>0.0</td>\n",
       "      <td>0.0</td>\n",
       "      <td>0.0</td>\n",
       "      <td>0.0</td>\n",
       "      <td>0.0</td>\n",
       "    </tr>\n",
       "    <tr>\n",
       "      <th>Totals</th>\n",
       "      <td>1.0</td>\n",
       "      <td>8.0</td>\n",
       "      <td>2.0</td>\n",
       "      <td>4.0</td>\n",
       "      <td>1.0</td>\n",
       "      <td>1.0</td>\n",
       "      <td>8.0</td>\n",
       "      <td>72.0</td>\n",
       "      <td>39.0</td>\n",
       "      <td>13.0</td>\n",
       "      <td>...</td>\n",
       "      <td>13.0</td>\n",
       "      <td>1.0</td>\n",
       "      <td>1.0</td>\n",
       "      <td>1.0</td>\n",
       "      <td>42.0</td>\n",
       "      <td>3.0</td>\n",
       "      <td>13.0</td>\n",
       "      <td>1.0</td>\n",
       "      <td>3.0</td>\n",
       "      <td>5.0</td>\n",
       "    </tr>\n",
       "    <tr>\n",
       "      <th>Unwanted Programs</th>\n",
       "      <td>0.0</td>\n",
       "      <td>0.0</td>\n",
       "      <td>1.0</td>\n",
       "      <td>0.0</td>\n",
       "      <td>0.0</td>\n",
       "      <td>0.0</td>\n",
       "      <td>0.0</td>\n",
       "      <td>3.0</td>\n",
       "      <td>0.0</td>\n",
       "      <td>1.0</td>\n",
       "      <td>...</td>\n",
       "      <td>0.0</td>\n",
       "      <td>0.0</td>\n",
       "      <td>0.0</td>\n",
       "      <td>0.0</td>\n",
       "      <td>0.0</td>\n",
       "      <td>0.0</td>\n",
       "      <td>0.0</td>\n",
       "      <td>0.0</td>\n",
       "      <td>0.0</td>\n",
       "      <td>3.0</td>\n",
       "    </tr>\n",
       "  </tbody>\n",
       "</table>\n",
       "<p>7 rows × 12950 columns</p>\n",
       "</div>"
      ],
      "text/plain": [
       "                    -42473    0  100  10000  10001  10002  10006  10010  \\\n",
       "Exploits               0.0  0.0  0.0    1.0    0.0    0.0    1.0    3.0   \n",
       "Fraudlent Services     1.0  2.0  0.0    0.0    0.0    0.0    0.0   22.0   \n",
       "Malware                0.0  6.0  1.0    3.0    1.0    1.0    7.0   43.0   \n",
       "Phishing               0.0  0.0  0.0    0.0    0.0    0.0    0.0    1.0   \n",
       "Spammers               0.0  0.0  0.0    0.0    0.0    0.0    0.0    0.0   \n",
       "Totals                 1.0  8.0  2.0    4.0    1.0    1.0    8.0   72.0   \n",
       "Unwanted Programs      0.0  0.0  1.0    0.0    0.0    0.0    0.0    3.0   \n",
       "\n",
       "                    10013  10015  ...   9946  9950  9954  9971  9976  9980  \\\n",
       "Exploits              1.0    0.0  ...    0.0   0.0   0.0   0.0   0.0   0.0   \n",
       "Fraudlent Services    6.0   11.0  ...    0.0   0.0   0.0   0.0   0.0   0.0   \n",
       "Malware              31.0    1.0  ...   13.0   1.0   1.0   1.0  42.0   3.0   \n",
       "Phishing              1.0    0.0  ...    0.0   0.0   0.0   0.0   0.0   0.0   \n",
       "Spammers              0.0    0.0  ...    0.0   0.0   0.0   0.0   0.0   0.0   \n",
       "Totals               39.0   13.0  ...   13.0   1.0   1.0   1.0  42.0   3.0   \n",
       "Unwanted Programs     0.0    1.0  ...    0.0   0.0   0.0   0.0   0.0   0.0   \n",
       "\n",
       "                    9981  9982  9988  9993  \n",
       "Exploits             0.0   0.0   0.0   0.0  \n",
       "Fraudlent Services   0.0   0.0   0.0   0.0  \n",
       "Malware             13.0   1.0   1.0   2.0  \n",
       "Phishing             0.0   0.0   2.0   0.0  \n",
       "Spammers             0.0   0.0   0.0   0.0  \n",
       "Totals              13.0   1.0   3.0   5.0  \n",
       "Unwanted Programs    0.0   0.0   0.0   3.0  \n",
       "\n",
       "[7 rows x 12950 columns]"
      ]
     },
     "execution_count": 6,
     "metadata": {},
     "output_type": "execute_result"
    }
   ],
   "source": [
    "import pandas as pd\n",
    "asn_ip_unique_df = pd.DataFrame(asn_uniq_ips)\n",
    "asn_ip_unique_df = asn_ip_unique_df.fillna(0)\n",
    "\n",
    "asn_ip_unique_df.to_csv(\"asn_ip_unique.csv\")\n",
    "\n",
    "asn_ip_unique_df"
   ]
  },
  {
   "cell_type": "markdown",
   "metadata": {},
   "source": [
    "## Compute Proportions"
   ]
  },
  {
   "cell_type": "code",
   "execution_count": 38,
   "metadata": {},
   "outputs": [],
   "source": [
    "# Import the AS block sizes from the other generator script\n",
    "import pandas as pd\n",
    "as_block_size = pd.read_csv('./Generators/asn_block_sizes.csv', index_col=[0])\n",
    "as_block_size.index = as_block_size.index.astype(str)\n",
    "as_block_size = as_block_size.to_dict()['0']\n"
   ]
  },
  {
   "cell_type": "code",
   "execution_count": 40,
   "metadata": {},
   "outputs": [
    {
     "name": "stdout",
     "output_type": "stream",
     "text": [
      "Missing ASN\n",
      "537\n",
      "Zero ASN\n",
      "11\n",
      "Porportioned ASN\n",
      "12402\n"
     ]
    }
   ],
   "source": [
    "missing_counter = set([])\n",
    "zero_counter = set([])\n",
    "# Compute the porportions\n",
    "asn_ip_porportion = {}\n",
    "for asn in asn_uniq_ips:\n",
    "    # See if we have a block size for this cc\n",
    "    if asn not in as_block_size:\n",
    "        missing_counter.add(asn)\n",
    "        continue\n",
    "        \n",
    "    # Retrieve the block size for cc\n",
    "    asn_total = as_block_size[asn]\n",
    "    \n",
    "    if asn_total == 0:\n",
    "        zero_counter.add(asn)\n",
    "        continue\n",
    "        \n",
    "    \n",
    "    # For all recorded attacks, compute a porportion\n",
    "    for attack in asn_uniq_ips[asn]:\n",
    "        if asn not in asn_ip_porportion:\n",
    "            asn_ip_porportion[asn] = {}\n",
    "        asn_ip_porportion[asn][attack] = 100 * float(asn_uniq_ips[asn][attack])/asn_total\n",
    "\n",
    "#asn_ip_porportion\n",
    "print 'Missing ASN'\n",
    "print len(missing_counter)\n",
    "print 'Zero ASN'\n",
    "print len(zero_counter)\n",
    "print 'Porportioned ASN'\n",
    "print len(asn_ip_porportion)"
   ]
  },
  {
   "cell_type": "code",
   "execution_count": 44,
   "metadata": {},
   "outputs": [
    {
     "data": {
      "text/html": [
       "<div>\n",
       "<style scoped>\n",
       "    .dataframe tbody tr th:only-of-type {\n",
       "        vertical-align: middle;\n",
       "    }\n",
       "\n",
       "    .dataframe tbody tr th {\n",
       "        vertical-align: top;\n",
       "    }\n",
       "\n",
       "    .dataframe thead th {\n",
       "        text-align: right;\n",
       "    }\n",
       "</style>\n",
       "<table border=\"1\" class=\"dataframe\">\n",
       "  <thead>\n",
       "    <tr style=\"text-align: right;\">\n",
       "      <th></th>\n",
       "      <th>100</th>\n",
       "      <th>10000</th>\n",
       "      <th>10001</th>\n",
       "      <th>10002</th>\n",
       "      <th>10006</th>\n",
       "      <th>10010</th>\n",
       "      <th>10013</th>\n",
       "      <th>10015</th>\n",
       "      <th>10019</th>\n",
       "      <th>10021</th>\n",
       "      <th>...</th>\n",
       "      <th>9946</th>\n",
       "      <th>9950</th>\n",
       "      <th>9954</th>\n",
       "      <th>9971</th>\n",
       "      <th>9976</th>\n",
       "      <th>9980</th>\n",
       "      <th>9981</th>\n",
       "      <th>9982</th>\n",
       "      <th>9988</th>\n",
       "      <th>9993</th>\n",
       "    </tr>\n",
       "  </thead>\n",
       "  <tbody>\n",
       "    <tr>\n",
       "      <th>Exploits</th>\n",
       "      <td>0.000000</td>\n",
       "      <td>0.001480</td>\n",
       "      <td>0.000000</td>\n",
       "      <td>0.000000</td>\n",
       "      <td>0.00152</td>\n",
       "      <td>0.000085</td>\n",
       "      <td>0.000039</td>\n",
       "      <td>0.000000</td>\n",
       "      <td>0.000000</td>\n",
       "      <td>0.000000</td>\n",
       "      <td>...</td>\n",
       "      <td>0.000000</td>\n",
       "      <td>0.000000</td>\n",
       "      <td>0.000000</td>\n",
       "      <td>0.000000</td>\n",
       "      <td>0.00000</td>\n",
       "      <td>0.000000</td>\n",
       "      <td>0.000000</td>\n",
       "      <td>0.000000</td>\n",
       "      <td>0.000000</td>\n",
       "      <td>0.000000</td>\n",
       "    </tr>\n",
       "    <tr>\n",
       "      <th>Fraudlent Services</th>\n",
       "      <td>0.000000</td>\n",
       "      <td>0.000000</td>\n",
       "      <td>0.000000</td>\n",
       "      <td>0.000000</td>\n",
       "      <td>0.00000</td>\n",
       "      <td>0.000620</td>\n",
       "      <td>0.000233</td>\n",
       "      <td>0.003997</td>\n",
       "      <td>0.000000</td>\n",
       "      <td>0.000000</td>\n",
       "      <td>...</td>\n",
       "      <td>0.000000</td>\n",
       "      <td>0.000000</td>\n",
       "      <td>0.000000</td>\n",
       "      <td>0.000000</td>\n",
       "      <td>0.00000</td>\n",
       "      <td>0.000000</td>\n",
       "      <td>0.000000</td>\n",
       "      <td>0.000000</td>\n",
       "      <td>0.000000</td>\n",
       "      <td>0.000000</td>\n",
       "    </tr>\n",
       "    <tr>\n",
       "      <th>Malware</th>\n",
       "      <td>0.004542</td>\n",
       "      <td>0.004439</td>\n",
       "      <td>0.002713</td>\n",
       "      <td>0.000822</td>\n",
       "      <td>0.01064</td>\n",
       "      <td>0.001212</td>\n",
       "      <td>0.001206</td>\n",
       "      <td>0.000363</td>\n",
       "      <td>0.002111</td>\n",
       "      <td>0.000508</td>\n",
       "      <td>...</td>\n",
       "      <td>0.011335</td>\n",
       "      <td>0.001322</td>\n",
       "      <td>0.009527</td>\n",
       "      <td>0.001742</td>\n",
       "      <td>0.03155</td>\n",
       "      <td>0.017491</td>\n",
       "      <td>0.009545</td>\n",
       "      <td>0.007972</td>\n",
       "      <td>0.008311</td>\n",
       "      <td>0.002123</td>\n",
       "    </tr>\n",
       "    <tr>\n",
       "      <th>Phishing</th>\n",
       "      <td>0.000000</td>\n",
       "      <td>0.000000</td>\n",
       "      <td>0.000000</td>\n",
       "      <td>0.000000</td>\n",
       "      <td>0.00000</td>\n",
       "      <td>0.000028</td>\n",
       "      <td>0.000039</td>\n",
       "      <td>0.000000</td>\n",
       "      <td>0.000000</td>\n",
       "      <td>0.000000</td>\n",
       "      <td>...</td>\n",
       "      <td>0.000000</td>\n",
       "      <td>0.000000</td>\n",
       "      <td>0.000000</td>\n",
       "      <td>0.000000</td>\n",
       "      <td>0.00000</td>\n",
       "      <td>0.000000</td>\n",
       "      <td>0.000000</td>\n",
       "      <td>0.000000</td>\n",
       "      <td>0.016622</td>\n",
       "      <td>0.000000</td>\n",
       "    </tr>\n",
       "    <tr>\n",
       "      <th>Spammers</th>\n",
       "      <td>0.000000</td>\n",
       "      <td>0.000000</td>\n",
       "      <td>0.000000</td>\n",
       "      <td>0.000000</td>\n",
       "      <td>0.00000</td>\n",
       "      <td>0.000000</td>\n",
       "      <td>0.000000</td>\n",
       "      <td>0.000000</td>\n",
       "      <td>0.000000</td>\n",
       "      <td>0.000000</td>\n",
       "      <td>...</td>\n",
       "      <td>0.000000</td>\n",
       "      <td>0.000000</td>\n",
       "      <td>0.000000</td>\n",
       "      <td>0.000000</td>\n",
       "      <td>0.00000</td>\n",
       "      <td>0.000000</td>\n",
       "      <td>0.000000</td>\n",
       "      <td>0.000000</td>\n",
       "      <td>0.000000</td>\n",
       "      <td>0.000000</td>\n",
       "    </tr>\n",
       "    <tr>\n",
       "      <th>Totals</th>\n",
       "      <td>0.009084</td>\n",
       "      <td>0.005919</td>\n",
       "      <td>0.002713</td>\n",
       "      <td>0.000822</td>\n",
       "      <td>0.01216</td>\n",
       "      <td>0.002029</td>\n",
       "      <td>0.001518</td>\n",
       "      <td>0.004724</td>\n",
       "      <td>0.002111</td>\n",
       "      <td>0.001270</td>\n",
       "      <td>...</td>\n",
       "      <td>0.011335</td>\n",
       "      <td>0.001322</td>\n",
       "      <td>0.009527</td>\n",
       "      <td>0.001742</td>\n",
       "      <td>0.03155</td>\n",
       "      <td>0.017491</td>\n",
       "      <td>0.009545</td>\n",
       "      <td>0.007972</td>\n",
       "      <td>0.024934</td>\n",
       "      <td>0.005307</td>\n",
       "    </tr>\n",
       "    <tr>\n",
       "      <th>Unwanted Programs</th>\n",
       "      <td>0.004542</td>\n",
       "      <td>0.000000</td>\n",
       "      <td>0.000000</td>\n",
       "      <td>0.000000</td>\n",
       "      <td>0.00000</td>\n",
       "      <td>0.000085</td>\n",
       "      <td>0.000000</td>\n",
       "      <td>0.000363</td>\n",
       "      <td>0.000000</td>\n",
       "      <td>0.000762</td>\n",
       "      <td>...</td>\n",
       "      <td>0.000000</td>\n",
       "      <td>0.000000</td>\n",
       "      <td>0.000000</td>\n",
       "      <td>0.000000</td>\n",
       "      <td>0.00000</td>\n",
       "      <td>0.000000</td>\n",
       "      <td>0.000000</td>\n",
       "      <td>0.000000</td>\n",
       "      <td>0.000000</td>\n",
       "      <td>0.003184</td>\n",
       "    </tr>\n",
       "  </tbody>\n",
       "</table>\n",
       "<p>7 rows × 12402 columns</p>\n",
       "</div>"
      ],
      "text/plain": [
       "                         100     10000     10001     10002    10006     10010  \\\n",
       "Exploits            0.000000  0.001480  0.000000  0.000000  0.00152  0.000085   \n",
       "Fraudlent Services  0.000000  0.000000  0.000000  0.000000  0.00000  0.000620   \n",
       "Malware             0.004542  0.004439  0.002713  0.000822  0.01064  0.001212   \n",
       "Phishing            0.000000  0.000000  0.000000  0.000000  0.00000  0.000028   \n",
       "Spammers            0.000000  0.000000  0.000000  0.000000  0.00000  0.000000   \n",
       "Totals              0.009084  0.005919  0.002713  0.000822  0.01216  0.002029   \n",
       "Unwanted Programs   0.004542  0.000000  0.000000  0.000000  0.00000  0.000085   \n",
       "\n",
       "                       10013     10015     10019     10021    ...     \\\n",
       "Exploits            0.000039  0.000000  0.000000  0.000000    ...      \n",
       "Fraudlent Services  0.000233  0.003997  0.000000  0.000000    ...      \n",
       "Malware             0.001206  0.000363  0.002111  0.000508    ...      \n",
       "Phishing            0.000039  0.000000  0.000000  0.000000    ...      \n",
       "Spammers            0.000000  0.000000  0.000000  0.000000    ...      \n",
       "Totals              0.001518  0.004724  0.002111  0.001270    ...      \n",
       "Unwanted Programs   0.000000  0.000363  0.000000  0.000762    ...      \n",
       "\n",
       "                        9946      9950      9954      9971     9976      9980  \\\n",
       "Exploits            0.000000  0.000000  0.000000  0.000000  0.00000  0.000000   \n",
       "Fraudlent Services  0.000000  0.000000  0.000000  0.000000  0.00000  0.000000   \n",
       "Malware             0.011335  0.001322  0.009527  0.001742  0.03155  0.017491   \n",
       "Phishing            0.000000  0.000000  0.000000  0.000000  0.00000  0.000000   \n",
       "Spammers            0.000000  0.000000  0.000000  0.000000  0.00000  0.000000   \n",
       "Totals              0.011335  0.001322  0.009527  0.001742  0.03155  0.017491   \n",
       "Unwanted Programs   0.000000  0.000000  0.000000  0.000000  0.00000  0.000000   \n",
       "\n",
       "                        9981      9982      9988      9993  \n",
       "Exploits            0.000000  0.000000  0.000000  0.000000  \n",
       "Fraudlent Services  0.000000  0.000000  0.000000  0.000000  \n",
       "Malware             0.009545  0.007972  0.008311  0.002123  \n",
       "Phishing            0.000000  0.000000  0.016622  0.000000  \n",
       "Spammers            0.000000  0.000000  0.000000  0.000000  \n",
       "Totals              0.009545  0.007972  0.024934  0.005307  \n",
       "Unwanted Programs   0.000000  0.000000  0.000000  0.003184  \n",
       "\n",
       "[7 rows x 12402 columns]"
      ]
     },
     "execution_count": 44,
     "metadata": {},
     "output_type": "execute_result"
    }
   ],
   "source": [
    "import cPickle\n",
    "import pandas as pd\n",
    "asn_ip_porportion_df = pd.DataFrame(asn_ip_porportion)\n",
    "asn_ip_porportion_df = asn_ip_porportion_df.fillna(0)\n",
    "\n",
    "asn_ip_porportion_df.to_csv(\"asn_attack_proportions.csv\")\n",
    "\n",
    "asn_ip_porportion_df"
   ]
  },
  {
   "cell_type": "markdown",
   "metadata": {},
   "source": [
    "# Plotting Code"
   ]
  },
  {
   "cell_type": "markdown",
   "metadata": {},
   "source": [
    "## Load Existing Data"
   ]
  },
  {
   "cell_type": "code",
   "execution_count": 46,
   "metadata": {},
   "outputs": [],
   "source": [
    "import pandas as pd\n",
    "as_block_size = pd.read_csv('./Generators/asn_block_sizes.csv', index_col=[0])\n",
    "as_block_size.index = as_block_size.index.astype(str)\n",
    "as_block_size = as_block_size.to_dict()['0']\n",
    "\n",
    "asn_ip_porportion_df = pd.read_csv('asn_attack_proportions.csv', index_col=[0], header=[0])\n",
    "asn_ip_unique_df = pd.read_csv('asn_ip_unique.csv', index_col=[0], header=[0])\n"
   ]
  },
  {
   "cell_type": "markdown",
   "metadata": {},
   "source": [
    "## Highest Proportion ASs"
   ]
  },
  {
   "cell_type": "code",
   "execution_count": 47,
   "metadata": {},
   "outputs": [
    {
     "name": "stdout",
     "output_type": "stream",
     "text": [
      "Totals\n",
      "        Proportion  Unique Malicious IPs  Total Block Size\n",
      "AS                                                        \n",
      "31624    57.582721                2506.0              4352\n",
      "44901    44.531250                 114.0               256\n",
      "54761    33.671875                 431.0              1280\n",
      "133618   27.050781                 277.0              1024\n",
      "49087    26.562500                  68.0               256\n",
      "45020    25.390625                  65.0               256\n",
      "61969    23.242188                 238.0              1024\n",
      "47583    20.133464                3711.0             18432\n",
      "22612    19.764365                3137.0             15872\n",
      "51468    18.398438                 942.0              5120\n",
      "49236    18.359375                  94.0               512\n",
      "29004    17.578125                  90.0               512\n",
      "20068    16.992188                 174.0              1024\n",
      "49806    14.843750                  38.0               256\n",
      "56464    14.843750                  38.0               256\n",
      "47846    12.890625                 165.0              1280\n",
      "62082    12.304688                 126.0              1024\n",
      "34023    11.718750                  30.0               256\n",
      "53665    11.621094                 119.0              1024\n",
      "203049   11.523438                 118.0              1024\n"
     ]
    }
   ],
   "source": [
    "import pandas as pd\n",
    "ip_df = pd.DataFrame(asn_ip_porportion_df)\n",
    "ip_df = ip_df.fillna(0)\n",
    "\n",
    "for attk in ip_df.transpose():\n",
    "    \n",
    "    if attk != 'Totals':\n",
    "        continue\n",
    "\n",
    "    top10 = ip_df.transpose()[attk].sort_values(ascending=False).head(20).index\n",
    "\n",
    "    names = ['AS','Proportion','Unique Malicious IPs','Total Block Size']\n",
    "\n",
    "    top_list = []\n",
    "    for one in top10:\n",
    "        top_list.append((one, ip_df.transpose()[attk][one],\n",
    "                         asn_ip_unique_df[one][attk], as_block_size[one]))\n",
    "\n",
    "    a = pd.DataFrame(top_list)\n",
    "    a.columns = names\n",
    "    print attk\n",
    "    print a.set_index('AS')"
   ]
  },
  {
   "cell_type": "markdown",
   "metadata": {},
   "source": [
    "## Plotting Parameters"
   ]
  },
  {
   "cell_type": "code",
   "execution_count": 48,
   "metadata": {},
   "outputs": [],
   "source": [
    "import matplotlib.pyplot as plt\n",
    "import matplotlib.dates as mdates\n",
    "import dateutil.relativedelta\n",
    "\n",
    "plot_properties_indexes = {\n",
    "    'Unwanted Programs':{'color':'b', 'linestyle':'-', 'label':'PUP',\n",
    "                         'marker':'s', 'hatch':'//'},\n",
    "\n",
    "    'Fraudlent Services':{'color':'y', 'linestyle':'-', 'label':'Fraud. Serv.',\n",
    "                          'marker':'*','hatch':'\\\\'},\n",
    "\n",
    "    'Malware':{'color':'r', 'linestyle':'-', 'label':'Malware',\n",
    "               'marker':'x', 'hatch':'x'},\n",
    "\n",
    "    'Exploits':{'color':'m', 'linestyle':'-', 'label':'Exploits',\n",
    "                'marker':'+', 'hatch':'+'},\n",
    "\n",
    "    'Phishing':{'color':'g', 'linestyle':'-', 'label':'Phishing',\n",
    "                'marker':'^', 'hatch':'|'},\n",
    "\n",
    "    'Spammers':{'color':'c', 'linestyle':'-', 'label':'Spammers',\n",
    "                'marker':'D', 'hatch':'\\\\\\\\'},\n",
    "\n",
    "    'Unlabelled':{'color':'w', 'linestyle':'-', 'label':'Unlabelled',\n",
    "                  'marker':'T', 'hatch':'///'},\n",
    "\n",
    "    'Totals':{'color':'k', 'linestyle':'-', 'label':'Total',\n",
    "              'marker':'o', 'hatch':''}\n",
    "}"
   ]
  },
  {
   "cell_type": "code",
   "execution_count": 49,
   "metadata": {},
   "outputs": [],
   "source": [
    "import matplotlib.pyplot as plt\n",
    "import numpy as np\n",
    "\n",
    "def cdf(data, m,n,s,lstring):\n",
    "    data_size=len(data)\n",
    "\n",
    "    # Set bins edges\n",
    "    data_set=sorted(set(data))\n",
    "    bins=np.append(data_set, data_set[-1]+1)\n",
    "\n",
    "    # Use the histogram function to bin the data\n",
    "    counts, bin_edges = np.histogram(data, bins=bins, density=False)\n",
    "    #print counts\n",
    "    #print bin_edges\n",
    "    counts=counts.astype(float)/data_size\n",
    "\n",
    "    # Find the cdf\n",
    "    cdf = np.cumsum(counts)\n",
    "    \n",
    "    # Plot the cdf\n",
    "    plt.plot(bin_edges[0:-1], cdf,linestyle='%s'%n, color='%s'%m,marker='%s'%s,markevery=0.1, label=lstring)    \n",
    "    plt.ylim((0,1))"
   ]
  },
  {
   "cell_type": "markdown",
   "metadata": {},
   "source": [
    "# CDF of AS Proportions"
   ]
  },
  {
   "cell_type": "code",
   "execution_count": 57,
   "metadata": {},
   "outputs": [
    {
     "data": {
      "image/png": "[encoded data removed]",
      "text/plain": [
       "<matplotlib.figure.Figure at 0x11af6bfd0>"
      ]
     },
     "metadata": {},
     "output_type": "display_data"
    }
   ],
   "source": [
    "plt.figure(figsize=(6,2.6))\n",
    "\n",
    "for attk in ['Totals', 'Malware', 'Phishing', 'Fraudlent Services', 'Unwanted Programs', \n",
    "             'Exploits', 'Spammers']:\n",
    "    a = asn_ip_porportion_df.transpose()[attk][asn_ip_porportion_df.transpose()[attk]!=0]\n",
    "    linestyle = plot_properties_indexes[attk]['linestyle']\n",
    "    color = plot_properties_indexes[attk]['color']\n",
    "    label = plot_properties_indexes[attk]['label']\n",
    "    marker = plot_properties_indexes[attk]['marker']\n",
    "    \n",
    "    cdf(a, color, linestyle, marker, label)\n",
    "\n",
    "plt.ylabel(\"CDF\",fontsize=14)\n",
    "plt.xlabel(\"AS Percentage of Malicious IPs\",fontsize=14)\n",
    "\n",
    "plt.xscale('log')\n",
    "\n",
    "import matplotlib.pyplot as plt\n",
    "from matplotlib import rcParams\n",
    "rcParams.update({'figure.autolayout': True})\n",
    "\n",
    "# New Legend Code\n",
    "ax = plt.gca()\n",
    "handles, labels = ax.get_legend_handles_labels()\n",
    "offset_split = 4\n",
    "l1 = ax.legend(handles[:offset_split], labels[:offset_split], loc='upper left',frameon=False)\n",
    "l2 = ax.legend(handles[offset_split:], labels[offset_split:], loc='lower right',frameon=False) # this removes l1 from the axes.\n",
    "ax.add_artist(l1)\n",
    "\n",
    "\n",
    "plt.savefig(\"figures/asn_proportion_big.pdf\",bbox_inches='tight')\n",
    "plt.show()"
   ]
  },
  {
   "cell_type": "markdown",
   "metadata": {},
   "source": [
    "# Additional Analysis"
   ]
  },
  {
   "cell_type": "code",
   "execution_count": 32,
   "metadata": {},
   "outputs": [
    {
     "name": "stdout",
     "output_type": "stream",
     "text": [
      "Exploits               7.697610\n",
      "Fraudlent Services     7.306985\n",
      "Malware               38.258272\n",
      "Phishing               4.136029\n",
      "Spammers               0.068934\n",
      "Totals                57.582721\n",
      "Unwanted Programs      0.114890\n",
      "Name: 31624, dtype: float64\n",
      "4352\n"
     ]
    }
   ],
   "source": [
    "#Check ratios for AS31624\n",
    "check_as = '31624'\n",
    "print(asn_ip_porportion_df[check_as])\n",
    "print(as_block_size[check_as])"
   ]
  },
  {
   "cell_type": "code",
   "execution_count": 34,
   "metadata": {},
   "outputs": [
    {
     "name": "stdout",
     "output_type": "stream",
     "text": [
      "Exploits               2.343750\n",
      "Fraudlent Services    14.062500\n",
      "Malware               19.140625\n",
      "Phishing               8.203125\n",
      "Spammers               0.000000\n",
      "Totals                44.531250\n",
      "Unwanted Programs      0.781250\n",
      "Name: 44901, dtype: float64\n",
      "256\n"
     ]
    }
   ],
   "source": [
    "#Check ratios for AS44901\n",
    "check_as = '44901'\n",
    "print(asn_ip_porportion_df[check_as])\n",
    "print(as_block_size[check_as])"
   ]
  },
  {
   "cell_type": "code",
   "execution_count": 33,
   "metadata": {},
   "outputs": [
    {
     "name": "stdout",
     "output_type": "stream",
     "text": [
      "Exploits               2.656250\n",
      "Fraudlent Services     0.000000\n",
      "Malware               29.531250\n",
      "Phishing               0.703125\n",
      "Spammers               0.000000\n",
      "Totals                33.671875\n",
      "Unwanted Programs      0.781250\n",
      "Name: 54761, dtype: float64\n",
      "1280\n"
     ]
    }
   ],
   "source": [
    "#Check ratios for AS54761\n",
    "check_as = '54761'\n",
    "print(asn_ip_porportion_df[check_as])\n",
    "print(as_block_size[check_as])"
   ]
  },
  {
   "cell_type": "code",
   "execution_count": 43,
   "metadata": {},
   "outputs": [
    {
     "name": "stdout",
     "output_type": "stream",
     "text": [
      "616\n",
      "12402\n",
      "0.04966940816\n"
     ]
    }
   ],
   "source": [
    "a = asn_ip_porportion_df.loc['Totals']\n",
    "\n",
    "len_check = len(a[a > 1])\n",
    "total_len = len(a)\n",
    "\n",
    "print(len_check)\n",
    "print(total_len)\n",
    "print(1.0*len_check/total_len)"
   ]
  },
  {
   "cell_type": "code",
   "execution_count": 44,
   "metadata": {},
   "outputs": [
    {
     "name": "stdout",
     "output_type": "stream",
     "text": [
      "Exploits              0.013659\n",
      "Fraudlent Services    0.010825\n",
      "Malware               0.172790\n",
      "Phishing              0.065371\n",
      "Spammers              0.000000\n",
      "Totals                0.493412\n",
      "Unwanted Programs     0.230768\n",
      "Name: 20940, dtype: float64\n",
      "5505536\n"
     ]
    }
   ],
   "source": [
    "#Check ratios for AS20940\n",
    "check_as = '20940'\n",
    "print(asn_ip_porportion_df[check_as])\n",
    "print(as_block_size[check_as])"
   ]
  },
  {
   "cell_type": "code",
   "execution_count": 45,
   "metadata": {},
   "outputs": [
    {
     "name": "stdout",
     "output_type": "stream",
     "text": [
      "Exploits              0.044271\n",
      "Fraudlent Services    0.043670\n",
      "Malware               0.464695\n",
      "Phishing              0.143695\n",
      "Spammers              0.000886\n",
      "Totals                1.363890\n",
      "Unwanted Programs     0.666674\n",
      "Name: 14618, dtype: float64\n",
      "6322432\n"
     ]
    }
   ],
   "source": [
    "#Check ratios for AS14618\n",
    "check_as = '14618'\n",
    "print(asn_ip_porportion_df[check_as])\n",
    "print(as_block_size[check_as])"
   ]
  },
  {
   "cell_type": "code",
   "execution_count": null,
   "metadata": {},
   "outputs": [],
   "source": []
  }
 ],
 "metadata": {
  "kernelspec": {
   "display_name": "Python [default]",
   "language": "python",
   "name": "python2"
  },
  "language_info": {
   "codemirror_mode": {
    "name": "ipython",
    "version": 2
   },
   "file_extension": ".py",
   "mimetype": "text/x-python",
   "name": "python",
   "nbconvert_exporter": "python",
   "pygments_lexer": "ipython2",
   "version": "2.7.14"
  }
 },
 "nbformat": 4,
 "nbformat_minor": 2
}
